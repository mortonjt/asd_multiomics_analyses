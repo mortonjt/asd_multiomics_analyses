{
 "cells": [
  {
   "cell_type": "markdown",
   "id": "3432f817",
   "metadata": {
    "toc": true
   },
   "source": [
    "<h1>Table of Contents<span class=\"tocSkip\"></span></h1>\n",
    "<div class=\"toc\"><ul class=\"toc-item\"><li><span><a href=\"#Pathway-analysis\" data-toc-modified-id=\"Pathway-analysis-1\"><span class=\"toc-item-num\">1&nbsp;&nbsp;</span>Pathway analysis</a></span></li><li><span><a href=\"#Pathway-aggregation\" data-toc-modified-id=\"Pathway-aggregation-2\"><span class=\"toc-item-num\">2&nbsp;&nbsp;</span>Pathway aggregation</a></span></li><li><span><a href=\"#Pathway-class-level\" data-toc-modified-id=\"Pathway-class-level-3\"><span class=\"toc-item-num\">3&nbsp;&nbsp;</span>Pathway class level</a></span></li></ul></div>"
   ]
  },
  {
   "cell_type": "code",
   "execution_count": 1,
   "id": "4cbd6f01",
   "metadata": {},
   "outputs": [],
   "source": [
    "import pandas as pd\n",
    "import numpy as np\n",
    "import biom\n",
    "import arviz as az\n",
    "from collections import defaultdict\n",
    "import matplotlib.pyplot as plt\n",
    "import matplotlib\n",
    "from scipy.spatial.distance import euclidean\n",
    "from scipy.stats import ttest_1samp\n",
    "import seaborn as sns\n",
    "\n",
    "from util import ranking, read_kegg_dict\n",
    "\n",
    "%matplotlib inline"
   ]
  },
  {
   "cell_type": "code",
   "execution_count": 2,
   "id": "f210d4aa",
   "metadata": {},
   "outputs": [],
   "source": [
    "fname = '../sfari/data/recount3/age_sex_matched_posterior/differential_posterior.nc'\n",
    "posterior = az.from_netcdf(fname)\n",
    "\n",
    "name = 'RNAseq_combined'\n",
    "x = posterior['posterior']['diff'].to_dataframe().reset_index().pivot(\n",
    "    index='features', columns=['chain', 'draw'], values='diff')\n",
    "\n",
    "lr = ranking(x)"
   ]
  },
  {
   "cell_type": "code",
   "execution_count": 3,
   "id": "2d409bbc",
   "metadata": {},
   "outputs": [
    {
     "ename": "KeyError",
     "evalue": "'prob_lr'",
     "output_type": "error",
     "traceback": [
      "\u001b[0;31m---------------------------------------------------------------------------\u001b[0m",
      "\u001b[0;31mKeyError\u001b[0m                                  Traceback (most recent call last)",
      "\u001b[0;32m~/miniconda3/envs/qiime2-2021.4/lib/python3.8/site-packages/pandas/core/indexes/base.py\u001b[0m in \u001b[0;36mget_loc\u001b[0;34m(self, key, method, tolerance)\u001b[0m\n\u001b[1;32m   3079\u001b[0m             \u001b[0;32mtry\u001b[0m\u001b[0;34m:\u001b[0m\u001b[0;34m\u001b[0m\u001b[0;34m\u001b[0m\u001b[0m\n\u001b[0;32m-> 3080\u001b[0;31m                 \u001b[0;32mreturn\u001b[0m \u001b[0mself\u001b[0m\u001b[0;34m.\u001b[0m\u001b[0m_engine\u001b[0m\u001b[0;34m.\u001b[0m\u001b[0mget_loc\u001b[0m\u001b[0;34m(\u001b[0m\u001b[0mcasted_key\u001b[0m\u001b[0;34m)\u001b[0m\u001b[0;34m\u001b[0m\u001b[0;34m\u001b[0m\u001b[0m\n\u001b[0m\u001b[1;32m   3081\u001b[0m             \u001b[0;32mexcept\u001b[0m \u001b[0mKeyError\u001b[0m \u001b[0;32mas\u001b[0m \u001b[0merr\u001b[0m\u001b[0;34m:\u001b[0m\u001b[0;34m\u001b[0m\u001b[0;34m\u001b[0m\u001b[0m\n",
      "\u001b[0;32mpandas/_libs/index.pyx\u001b[0m in \u001b[0;36mpandas._libs.index.IndexEngine.get_loc\u001b[0;34m()\u001b[0m\n",
      "\u001b[0;32mpandas/_libs/index.pyx\u001b[0m in \u001b[0;36mpandas._libs.index.IndexEngine.get_loc\u001b[0;34m()\u001b[0m\n",
      "\u001b[0;32mpandas/_libs/hashtable_class_helper.pxi\u001b[0m in \u001b[0;36mpandas._libs.hashtable.PyObjectHashTable.get_item\u001b[0;34m()\u001b[0m\n",
      "\u001b[0;32mpandas/_libs/hashtable_class_helper.pxi\u001b[0m in \u001b[0;36mpandas._libs.hashtable.PyObjectHashTable.get_item\u001b[0;34m()\u001b[0m\n",
      "\u001b[0;31mKeyError\u001b[0m: 'prob_lr'",
      "\nThe above exception was the direct cause of the following exception:\n",
      "\u001b[0;31mKeyError\u001b[0m                                  Traceback (most recent call last)",
      "\u001b[0;32m<ipython-input-3-2acb07a06da8>\u001b[0m in \u001b[0;36m<module>\u001b[0;34m\u001b[0m\n\u001b[1;32m     11\u001b[0m \u001b[0;31m# norm = matplotlib.colors.Normalize(vmin=min(lr['prob_lr']), vmax=max(lr['prob_lr']))\u001b[0m\u001b[0;34m\u001b[0m\u001b[0;34m\u001b[0m\u001b[0;34m\u001b[0m\u001b[0m\n\u001b[1;32m     12\u001b[0m norm = matplotlib.colors.TwoSlopeNorm(\n\u001b[0;32m---> 13\u001b[0;31m     vmin=min(lr['prob_lr']), vcenter=0., vmax=max(lr['prob_lr']))\n\u001b[0m\u001b[1;32m     14\u001b[0m \u001b[0mlr\u001b[0m\u001b[0;34m[\u001b[0m\u001b[0;34m'index'\u001b[0m\u001b[0;34m]\u001b[0m \u001b[0;34m=\u001b[0m \u001b[0midx\u001b[0m\u001b[0;34m\u001b[0m\u001b[0;34m\u001b[0m\u001b[0m\n\u001b[1;32m     15\u001b[0m \u001b[0mplt\u001b[0m\u001b[0;34m.\u001b[0m\u001b[0mfill_between\u001b[0m\u001b[0;34m(\u001b[0m\u001b[0mlr\u001b[0m\u001b[0;34m[\u001b[0m\u001b[0;34m'index'\u001b[0m\u001b[0;34m]\u001b[0m\u001b[0;34m,\u001b[0m \u001b[0mlr\u001b[0m\u001b[0;34m[\u001b[0m\u001b[0;34m'5%'\u001b[0m\u001b[0;34m]\u001b[0m\u001b[0;34m,\u001b[0m \u001b[0mlr\u001b[0m\u001b[0;34m[\u001b[0m\u001b[0;34m'95%'\u001b[0m\u001b[0;34m]\u001b[0m\u001b[0;34m,\u001b[0m \u001b[0mfc\u001b[0m\u001b[0;34m=\u001b[0m\u001b[0;34m'b'\u001b[0m\u001b[0;34m)\u001b[0m\u001b[0;34m\u001b[0m\u001b[0;34m\u001b[0m\u001b[0m\n",
      "\u001b[0;32m~/miniconda3/envs/qiime2-2021.4/lib/python3.8/site-packages/pandas/core/frame.py\u001b[0m in \u001b[0;36m__getitem__\u001b[0;34m(self, key)\u001b[0m\n\u001b[1;32m   3022\u001b[0m             \u001b[0;32mif\u001b[0m \u001b[0mself\u001b[0m\u001b[0;34m.\u001b[0m\u001b[0mcolumns\u001b[0m\u001b[0;34m.\u001b[0m\u001b[0mnlevels\u001b[0m \u001b[0;34m>\u001b[0m \u001b[0;36m1\u001b[0m\u001b[0;34m:\u001b[0m\u001b[0;34m\u001b[0m\u001b[0;34m\u001b[0m\u001b[0m\n\u001b[1;32m   3023\u001b[0m                 \u001b[0;32mreturn\u001b[0m \u001b[0mself\u001b[0m\u001b[0;34m.\u001b[0m\u001b[0m_getitem_multilevel\u001b[0m\u001b[0;34m(\u001b[0m\u001b[0mkey\u001b[0m\u001b[0;34m)\u001b[0m\u001b[0;34m\u001b[0m\u001b[0;34m\u001b[0m\u001b[0m\n\u001b[0;32m-> 3024\u001b[0;31m             \u001b[0mindexer\u001b[0m \u001b[0;34m=\u001b[0m \u001b[0mself\u001b[0m\u001b[0;34m.\u001b[0m\u001b[0mcolumns\u001b[0m\u001b[0;34m.\u001b[0m\u001b[0mget_loc\u001b[0m\u001b[0;34m(\u001b[0m\u001b[0mkey\u001b[0m\u001b[0;34m)\u001b[0m\u001b[0;34m\u001b[0m\u001b[0;34m\u001b[0m\u001b[0m\n\u001b[0m\u001b[1;32m   3025\u001b[0m             \u001b[0;32mif\u001b[0m \u001b[0mis_integer\u001b[0m\u001b[0;34m(\u001b[0m\u001b[0mindexer\u001b[0m\u001b[0;34m)\u001b[0m\u001b[0;34m:\u001b[0m\u001b[0;34m\u001b[0m\u001b[0;34m\u001b[0m\u001b[0m\n\u001b[1;32m   3026\u001b[0m                 \u001b[0mindexer\u001b[0m \u001b[0;34m=\u001b[0m \u001b[0;34m[\u001b[0m\u001b[0mindexer\u001b[0m\u001b[0;34m]\u001b[0m\u001b[0;34m\u001b[0m\u001b[0;34m\u001b[0m\u001b[0m\n",
      "\u001b[0;32m~/miniconda3/envs/qiime2-2021.4/lib/python3.8/site-packages/pandas/core/indexes/base.py\u001b[0m in \u001b[0;36mget_loc\u001b[0;34m(self, key, method, tolerance)\u001b[0m\n\u001b[1;32m   3080\u001b[0m                 \u001b[0;32mreturn\u001b[0m \u001b[0mself\u001b[0m\u001b[0;34m.\u001b[0m\u001b[0m_engine\u001b[0m\u001b[0;34m.\u001b[0m\u001b[0mget_loc\u001b[0m\u001b[0;34m(\u001b[0m\u001b[0mcasted_key\u001b[0m\u001b[0;34m)\u001b[0m\u001b[0;34m\u001b[0m\u001b[0;34m\u001b[0m\u001b[0m\n\u001b[1;32m   3081\u001b[0m             \u001b[0;32mexcept\u001b[0m \u001b[0mKeyError\u001b[0m \u001b[0;32mas\u001b[0m \u001b[0merr\u001b[0m\u001b[0;34m:\u001b[0m\u001b[0;34m\u001b[0m\u001b[0;34m\u001b[0m\u001b[0m\n\u001b[0;32m-> 3082\u001b[0;31m                 \u001b[0;32mraise\u001b[0m \u001b[0mKeyError\u001b[0m\u001b[0;34m(\u001b[0m\u001b[0mkey\u001b[0m\u001b[0;34m)\u001b[0m \u001b[0;32mfrom\u001b[0m \u001b[0merr\u001b[0m\u001b[0;34m\u001b[0m\u001b[0;34m\u001b[0m\u001b[0m\n\u001b[0m\u001b[1;32m   3083\u001b[0m \u001b[0;34m\u001b[0m\u001b[0m\n\u001b[1;32m   3084\u001b[0m         \u001b[0;32mif\u001b[0m \u001b[0mtolerance\u001b[0m \u001b[0;32mis\u001b[0m \u001b[0;32mnot\u001b[0m \u001b[0;32mNone\u001b[0m\u001b[0;34m:\u001b[0m\u001b[0;34m\u001b[0m\u001b[0;34m\u001b[0m\u001b[0m\n",
      "\u001b[0;31mKeyError\u001b[0m: 'prob_lr'"
     ]
    }
   ],
   "source": [
    "genes = defaultdict()\n",
    "plt.style.use('dark_background')\n",
    "lr = lr.sort_values('effect_size')\n",
    "threshold = 1e-3 / len(lr)\n",
    "cond = np.logical_and(lr['pvalue'] < threshold, lr['effect_size'] > 0)\n",
    "genes[name] = lr.loc[cond]  # top ASD microbes\n",
    "genes[name] = genes[name].sort_values('effect_size')\n",
    "idx = np.arange(len(lr))\n",
    "lr = lr.sort_values('mean')\n",
    "cmap = matplotlib.cm.get_cmap('seismic')\n",
    "# norm = matplotlib.colors.Normalize(vmin=min(lr['prob_lr']), vmax=max(lr['prob_lr']))\n",
    "norm = matplotlib.colors.TwoSlopeNorm(\n",
    "    vmin=min(lr['prob_lr']), vcenter=0., vmax=max(lr['prob_lr']))\n",
    "lr['index'] = idx\n",
    "plt.fill_between(lr['index'], lr['5%'], lr['95%'], fc='b')\n",
    "idx = np.logical_and(lr['prob_lr'] > 0, lr['effect_size'] > 0)\n",
    "i = np.logical_and(lr['pvalue'] < threshold, idx)\n",
    "plt.fill_between(lr.loc[i, 'index'], lr.loc[i, '5%'], lr.loc[i, '95%'], fc='r')\n",
    "plt.plot(lr['index'], lr['mean'], c='c')\n",
    "plt.xlabel('Transcripts', fontsize=18)\n",
    "plt.xticks([])\n",
    "plt.title(name, fontsize=18)\n",
    "plt.ylabel('log(ASD/Control) + K', labelpad=90, rotation=0, fontsize=14)\n",
    "#plt.colorbar(cbar)\n",
    "plt.show()\n",
    "plt.tight_layout()"
   ]
  },
  {
   "cell_type": "code",
   "execution_count": null,
   "id": "42f8d8df",
   "metadata": {},
   "outputs": [],
   "source": [
    "from q2_matchmaker._stats import hotelling_ttest, spherical_test\n",
    "spherical_test(x.values.T)"
   ]
  },
  {
   "cell_type": "code",
   "execution_count": null,
   "id": "9e48fde3",
   "metadata": {},
   "outputs": [],
   "source": [
    "fname = '/mnt/home/jmorton/ceph/sfari/data/recount3/ensembl2kegg.txt'\n",
    "ensembl2ko = pd.read_table(fname, index_col=0)"
   ]
  },
  {
   "cell_type": "code",
   "execution_count": null,
   "id": "af39eb03",
   "metadata": {},
   "outputs": [],
   "source": [
    "open('../sfari/data/recount3/ensembl_ids.txt', 'w').write('\\n'.join(list(x.index)))"
   ]
  },
  {
   "cell_type": "markdown",
   "id": "1319f181",
   "metadata": {},
   "source": [
    "# Pathway analysis"
   ]
  },
  {
   "cell_type": "code",
   "execution_count": null,
   "id": "f200df1f",
   "metadata": {},
   "outputs": [],
   "source": [
    "idx1 = lr['pvalue'] < 0.001 / len(lr)\n",
    "idx2 = np.logical_and(lr['prob_lr'] > 0, lr['effect_size'] > 0)\n",
    "idx3 = np.logical_and(lr['prob_lr'] < 0, lr['effect_size'] < 0)\n",
    "\n",
    "rna_asd = lr.loc[np.logical_and(idx1, idx2)]\n",
    "rna_con = lr.loc[np.logical_and(idx1, idx3)]"
   ]
  },
  {
   "cell_type": "code",
   "execution_count": null,
   "id": "6b6a9384",
   "metadata": {},
   "outputs": [],
   "source": [
    "fname = '/mnt/home/jmorton/ceph/sfari/data/recount3/ensembl2kegg.txt'\n",
    "ensembl2ko = pd.read_table(fname, index_col=0)\n",
    "ensembl2ko = ensembl2ko.set_index('gene_stable_id')"
   ]
  },
  {
   "cell_type": "code",
   "execution_count": null,
   "id": "a7e68231",
   "metadata": {},
   "outputs": [],
   "source": [
    "idx = list(map(lambda x: x.split('.')[0], rna_asd.index))\n",
    "rna_asd = rna_asd.reset_index()\n",
    "rna_asd.index = idx"
   ]
  },
  {
   "cell_type": "code",
   "execution_count": null,
   "id": "88fbcc3c",
   "metadata": {},
   "outputs": [],
   "source": [
    "kegg_asd_RNA = pd.merge(ensembl2ko, rna_asd, left_index=True, right_index=True)\n",
    "kegg_asd_RNA = kegg_asd_RNA.rename(columns={'KO': 'KEGG'})\n",
    "kegg_asd_RNA['HSA'] = kegg_asd_RNA['KEGG'].apply(lambda x: x.split(':')[-1])\n",
    "kegg_asd_RNA['-log(pvalue)'] = -np.log(kegg_asd_RNA['pvalue'] + 1e-200)\n",
    "\n",
    "kegg_asd_RNA.to_csv('../results/RNA_KEGG.csv')\n",
    "kegg_asd_RNA['KEGG'].drop_duplicates().to_csv('../results/hsa_kegg.csv', index=None, header=None)"
   ]
  },
  {
   "cell_type": "markdown",
   "id": "90fca271",
   "metadata": {},
   "source": [
    "# Pathway aggregation"
   ]
  },
  {
   "cell_type": "code",
   "execution_count": null,
   "id": "3d1ad22f",
   "metadata": {},
   "outputs": [],
   "source": [
    "kegg_dir = '../results/hsa_kegg'\n",
    "\n",
    "pwy2kegg = read_kegg_dict(f'{kegg_dir}/ko-to-pathway.txt', \n",
    "                          ['HSA', 'Pathway'])\n",
    "\n",
    "pwy_name = pd.read_table(f'{kegg_dir}/pathway_name.txt', header=None)\n",
    "pwy_name.columns = ['Pathway', 'Name']\n",
    "pwy2kegg = pd.merge(pwy2kegg, pwy_name, left_on='Pathway', right_on='Pathway')\n",
    "lookup = {d: i for i, d in enumerate(pwy2kegg['Name'].value_counts().index)}\n",
    "pwy2kegg['ID'] = pwy2kegg['Name'].apply(lambda x: lookup[x])"
   ]
  },
  {
   "cell_type": "code",
   "execution_count": null,
   "id": "8ad037ab",
   "metadata": {},
   "outputs": [],
   "source": [
    "sig_RNA = kegg_asd_RNA\n",
    "sig_RNA = pd.merge(pwy2kegg, sig_RNA, left_on='HSA', right_on='HSA').drop_duplicates()\n",
    "pwy2kegg = pwy2kegg.set_index('Pathway')"
   ]
  },
  {
   "cell_type": "code",
   "execution_count": null,
   "id": "873ff9bd",
   "metadata": {},
   "outputs": [],
   "source": [
    "kegg_asd_RNA"
   ]
  },
  {
   "cell_type": "code",
   "execution_count": null,
   "id": "2b0aa582",
   "metadata": {},
   "outputs": [],
   "source": [
    "pwy2kegg"
   ]
  },
  {
   "cell_type": "code",
   "execution_count": null,
   "id": "60fb7e06",
   "metadata": {},
   "outputs": [],
   "source": [
    "sig_RNA['Name'].value_counts()"
   ]
  },
  {
   "cell_type": "code",
   "execution_count": null,
   "id": "c71eafa9",
   "metadata": {},
   "outputs": [],
   "source": [
    "sig_RNA"
   ]
  },
  {
   "cell_type": "raw",
   "id": "e9fb4d6d",
   "metadata": {},
   "source": [
    "from gneiss.sort import mean_niche_estimator\n",
    "n = 30\n",
    "\n",
    "sig_RNA_ = sig_RNA[['Pathway', 'HSA', '-log(pvalue)']].drop_duplicates(subset=['Pathway', 'HSA'])\n",
    "sig_RNA_ = pd.pivot(sig_RNA_, index='Pathway', columns='HSA', values='-log(pvalue)').fillna(0)\n",
    "\n",
    "# focus on most representative pathways\n",
    "p2k = pwy2kegg.loc[sig_RNA_.index]\n",
    "pnames = sig_RNA['Name'].value_counts().head(n).index\n",
    "pwys = sig_RNA['Pathway'].value_counts().head(n).index\n",
    "sig_RNA_ = sig_RNA_.loc[pwys]\n",
    "sig_RNA_.index = pnames\n",
    "# Filter one-off genes\n",
    "sig_RNA_ = sig_RNA_.loc[:, sig_RNA_.sum(axis=0) > 3]\n",
    "\n",
    "# Make it look more pretty\n",
    "pwy2name = sig_RNA[['Name', 'ID']].set_index('Name').drop_duplicates()\n",
    "kegg_order = mean_niche_estimator(sig_RNA_, pwy2name.loc[sig_RNA_.index, 'ID'])\n",
    "kegg_order = kegg_order.dropna()\n",
    "kegg_order = kegg_order.sort_values()\n",
    "sig_RNA_ = sig_RNA_.loc[:, kegg_order.index]\n",
    "\n",
    "fig, ax = plt.subplots(figsize=(10, 10))\n",
    "sns.heatmap(sig_RNA_, ax=ax)\n",
    "\n",
    "#_ = plt.yticks(np.arange(len(sig_RNA_.index)), pnames)\n",
    "plt.xticks([])\n",
    "plt.xlabel('KEGG IDs', fontsize=14)\n",
    "plt.title('RNA pathways', fontsize=18)"
   ]
  },
  {
   "cell_type": "markdown",
   "id": "bf9938eb",
   "metadata": {},
   "source": [
    "# Pathway class level"
   ]
  },
  {
   "cell_type": "code",
   "execution_count": null,
   "id": "b4274a3e",
   "metadata": {},
   "outputs": [],
   "source": [
    "pwy2compound = read_kegg_dict(f'{kegg_dir}/pathway-to-compound.txt', \n",
    "                              ['Pathway', 'Compound'])\n",
    "sig_RNA = pd.merge(sig_RNA, pwy2compound, left_on='Pathway', right_on='Pathway')\n",
    "sig_RNA.to_csv('../results/RNA_compounds.csv')"
   ]
  },
  {
   "cell_type": "code",
   "execution_count": null,
   "id": "4bd63def",
   "metadata": {},
   "outputs": [],
   "source": [
    "sig_RNA"
   ]
  },
  {
   "cell_type": "code",
   "execution_count": null,
   "id": "883ecc95",
   "metadata": {},
   "outputs": [],
   "source": []
  }
 ],
 "metadata": {
  "kernelspec": {
   "display_name": "Python 3",
   "language": "python",
   "name": "python3"
  },
  "language_info": {
   "codemirror_mode": {
    "name": "ipython",
    "version": 3
   },
   "file_extension": ".py",
   "mimetype": "text/x-python",
   "name": "python",
   "nbconvert_exporter": "python",
   "pygments_lexer": "ipython3",
   "version": "3.8.8"
  },
  "toc": {
   "base_numbering": 1,
   "nav_menu": {},
   "number_sections": true,
   "sideBar": true,
   "skip_h1_title": false,
   "title_cell": "Table of Contents",
   "title_sidebar": "Contents",
   "toc_cell": true,
   "toc_position": {},
   "toc_section_display": true,
   "toc_window_display": false
  }
 },
 "nbformat": 4,
 "nbformat_minor": 5
}
