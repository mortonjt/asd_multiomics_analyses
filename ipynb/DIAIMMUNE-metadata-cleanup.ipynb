{
 "cells": [
  {
   "cell_type": "markdown",
   "id": "b86542e1",
   "metadata": {
    "toc": true
   },
   "source": [
    "<h1>Table of Contents<span class=\"tocSkip\"></span></h1>\n",
    "<div class=\"toc\"><ul class=\"toc-item\"></ul></div>"
   ]
  },
  {
   "cell_type": "code",
   "execution_count": 1,
   "id": "722d5287",
   "metadata": {},
   "outputs": [],
   "source": [
    "import pandas as pd\n",
    "import biom\n",
    "import numpy as np\n",
    "from q2_matchmaker._matching import _matchmaker\n",
    "\n",
    "from scipy.spatial.distance import pdist, squareform\n",
    "from scipy.optimize import linear_sum_assignment\n",
    "import pandas as pd\n",
    "\n",
    "\n",
    "def _standardize(x):\n",
    "    return (x - x.min()) / (x.max() - x.min())\n",
    "\n",
    "\n",
    "def _matchmaker(metadata, status, match_columns, types):\n",
    "    \"\"\" Computes matching ids.\n",
    "    \n",
    "    Parameters\n",
    "    ----------\n",
    "    metadata : pd.DataFrame\n",
    "        Sample metadata\n",
    "    status : str\n",
    "        Column for specifying case-control status\n",
    "    match_columns : list of str\n",
    "        List of metadata categories\n",
    "    types : list of bool\n",
    "        Specifies if it is categorical or not.\n",
    "        True for categorical, False for continuous\n",
    "    Returns\n",
    "    -------\n",
    "    pd.Series : List of matching ids\n",
    "    \"\"\"\n",
    "    md = metadata.sort_values(by=status)\n",
    "    dummies = []\n",
    "    for col, cat in zip(match_columns, types):\n",
    "        if cat:\n",
    "            df = pd.get_dummies(md[col])\n",
    "            dummies.append(df)\n",
    "        else:\n",
    "            df = pd.DataFrame(_standardize(md[col]))\n",
    "            dummies.append(df)\n",
    "    dm = sum(map(lambda x: squareform(pdist(x)) ** 2, dummies))\n",
    "    i = (md[status].values == md[status].values[0]).sum()\n",
    "    x, y = linear_sum_assignment(dm[:i, i:])\n",
    "    y = y + i\n",
    "    md.loc[md.index[x], 'matching_id'] = x\n",
    "    md.loc[md.index[y], 'matching_id'] = x\n",
    "    return md['matching_id']"
   ]
  },
  {
   "cell_type": "code",
   "execution_count": 2,
   "id": "d38fefc1",
   "metadata": {},
   "outputs": [],
   "source": [
    "DIR='../sfari/data/diaimmune'\n",
    "md = pd.read_table(f'{DIR}/sample_information_from_prep_8810.tsv')"
   ]
  },
  {
   "cell_type": "code",
   "execution_count": 3,
   "id": "31e2fcdd",
   "metadata": {},
   "outputs": [
    {
     "data": {
      "text/plain": [
       "['aab_level',\n",
       " 'aab_positive',\n",
       " 'aab_post_fistpos',\n",
       " 'aab_post_lastneg',\n",
       " 'abxatcollection',\n",
       " 'abxexposureabsolute',\n",
       " 'abxprecollection',\n",
       " 'age_at_collection',\n",
       " 'age_at_collection_units',\n",
       " 'age_at_seroconversion_2_diff_aabs',\n",
       " 'age_at_t1d_onset',\n",
       " 'age_at_t1d_onset_units',\n",
       " 'agedays_haz_last',\n",
       " 'agedays_waz_last',\n",
       " 'agedays_zbmi_last',\n",
       " 'barley',\n",
       " 'bf',\n",
       " 'bf_exclusive_duration',\n",
       " 'bf_exclusive_positive',\n",
       " 'bf_long_term',\n",
       " 'breastfeeding_length',\n",
       " 'breastfeeding_length_exclusive',\n",
       " 'buckwheat_millet',\n",
       " 'case_control',\n",
       " 'cereal',\n",
       " 'cohort',\n",
       " 'collection_device',\n",
       " 'collection_location',\n",
       " 'collection_method',\n",
       " 'collection_timestamp',\n",
       " 'container_1',\n",
       " 'container_2',\n",
       " 'corn',\n",
       " 'country',\n",
       " 'csection',\n",
       " 'current_t1d',\n",
       " 'delivery_route',\n",
       " 'diabimmune_sample_id',\n",
       " 'dietary_compound_apple_start_age_month',\n",
       " 'dietary_compound_banana_start_age_month',\n",
       " 'dietary_compound_barley_start_age_month',\n",
       " 'dietary_compound_beef_start_age_month',\n",
       " 'dietary_compound_beetroot_start_age_month',\n",
       " 'dietary_compound_berries_start_age_month',\n",
       " 'dietary_compound_cabbs_start_age_month',\n",
       " 'dietary_compound_carrot_start_age_month',\n",
       " 'dietary_compound_corn_start_age_month',\n",
       " 'dietary_compound_cowsmilk_start_age_month',\n",
       " 'dietary_compound_egg_start_age_month',\n",
       " 'dietary_compound_fish_start_age_month',\n",
       " 'dietary_compound_icecream_start_age_month',\n",
       " 'dietary_compound_mango_start_age_month',\n",
       " 'dietary_compound_milkprod_start_age_month',\n",
       " 'dietary_compound_oat_start_age_month',\n",
       " 'dietary_compound_pear_start_age_month',\n",
       " 'dietary_compound_peas_start_age_month',\n",
       " 'dietary_compound_plum_start_age_month',\n",
       " 'dietary_compound_pork_start_age_month',\n",
       " 'dietary_compound_potato_start_age_month',\n",
       " 'dietary_compound_poultry_start_age_month',\n",
       " 'dietary_compound_rice_start_age_month',\n",
       " 'dietary_compound_rye_start_age_month',\n",
       " 'dietary_compound_soymilk_start_age_month',\n",
       " 'dietary_compound_spinach_start_age_month',\n",
       " 'dietary_compound_sweetpota_start_age_month',\n",
       " 'dietary_compound_tomato_start_age_month',\n",
       " 'dietary_compound_turnip_start_age_month',\n",
       " 'dietary_compound_wheat_start_age_month',\n",
       " 'dna_concentration',\n",
       " 'dna_extracted',\n",
       " 'dna_yield_class',\n",
       " 'eggs',\n",
       " 'elevation',\n",
       " 'elevation_units',\n",
       " 'empo_1',\n",
       " 'empo_2',\n",
       " 'empo_3',\n",
       " 'env_biome',\n",
       " 'env_feature',\n",
       " 'env_material',\n",
       " 'env_package',\n",
       " 'exclusive_bf',\n",
       " 'fish',\n",
       " 'flowcell',\n",
       " 'fruits_berries',\n",
       " 'gada',\n",
       " 'gada_level',\n",
       " 'gada_level_bin',\n",
       " 'gada_positive',\n",
       " 'gender',\n",
       " 'geo_loc_name',\n",
       " 'gid_16s',\n",
       " 'gid_wgs',\n",
       " 'haz_last',\n",
       " 'hla_risk_class',\n",
       " 'host_age',\n",
       " 'host_age_units',\n",
       " 'host_body_habitat',\n",
       " 'host_body_product',\n",
       " 'host_body_site',\n",
       " 'host_common_name',\n",
       " 'host_height',\n",
       " 'host_height_units',\n",
       " 'host_scientific_name',\n",
       " 'host_subject_id',\n",
       " 'host_taxid',\n",
       " 'host_weight',\n",
       " 'host_weight_units',\n",
       " 'household_location_at_birth',\n",
       " 'ia2a',\n",
       " 'ia2a_level',\n",
       " 'ia2a_level_bin',\n",
       " 'ia2a_positive',\n",
       " 'iaa',\n",
       " 'iaa_level',\n",
       " 'iaa_level_bin',\n",
       " 'iaa_positive',\n",
       " 'ica',\n",
       " 'ica_level',\n",
       " 'ica_level_bin',\n",
       " 'ica_positive',\n",
       " 'illnessatcollection',\n",
       " 'infant_formula',\n",
       " 'irb_institute',\n",
       " 'irb_protocol_id',\n",
       " 'latitude',\n",
       " 'latitude_units',\n",
       " 'length_growth_pace_during_three_years',\n",
       " 'length_growth_pace_during_three_years_units',\n",
       " 'length_growth_pace_during_year_one',\n",
       " 'length_growth_pace_during_year_one_units',\n",
       " 'life_stage',\n",
       " 'longitude',\n",
       " 'longitude_units',\n",
       " 'maternal_abx_while_pregnant',\n",
       " 'maternal_age_at_birth',\n",
       " 'maternal_age_at_birth_units',\n",
       " 'maternal_gestational_diabetes',\n",
       " 'meat',\n",
       " 'milk_first_three_days',\n",
       " 'milk_prod',\n",
       " 'oat',\n",
       " 'physical_specimen_location',\n",
       " 'physical_specimen_remaining',\n",
       " 'post_t1d_diag',\n",
       " 'postabxexposure',\n",
       " 'qiita_study_id',\n",
       " 'read_depth_class',\n",
       " 'rice',\n",
       " 'root_veg',\n",
       " 'rye',\n",
       " 'sample_id',\n",
       " 'sample_type',\n",
       " 'scientific_name',\n",
       " 'sex',\n",
       " 'solid_food',\n",
       " 'solid_start_approx_age_months',\n",
       " 'soy_prod',\n",
       " 'subject_id',\n",
       " 'subjectid',\n",
       " 't1d_diagnosed',\n",
       " 't1d_status',\n",
       " 'taxon_id',\n",
       " 'tech_rep_exists',\n",
       " 'time_point',\n",
       " 'title',\n",
       " 'total_reads',\n",
       " 'tube_id',\n",
       " 'veg',\n",
       " 'waz_last',\n",
       " 'weight_growth_pace_during_three_years',\n",
       " 'weight_growth_pace_during_three_years_units',\n",
       " 'weight_growth_pace_during_year_one',\n",
       " 'weight_growth_pace_during_year_one_units',\n",
       " 'wheat',\n",
       " 'zbmi_last',\n",
       " 'znt8a',\n",
       " 'znt8a_level',\n",
       " 'znt8a_level_bin',\n",
       " 'znt8a_positive']"
      ]
     },
     "execution_count": 3,
     "metadata": {},
     "output_type": "execute_result"
    }
   ],
   "source": [
    "cols = list(md.columns)\n",
    "cols.sort()\n",
    "cols"
   ]
  },
  {
   "cell_type": "code",
   "execution_count": 4,
   "id": "a1865824",
   "metadata": {},
   "outputs": [
    {
     "data": {
      "text/plain": [
       "0      control\n",
       "1         case\n",
       "2         case\n",
       "3         case\n",
       "4         case\n",
       "        ...   \n",
       "121    control\n",
       "122       case\n",
       "123       case\n",
       "124       case\n",
       "125       case\n",
       "Name: case_control, Length: 126, dtype: object"
      ]
     },
     "execution_count": 4,
     "metadata": {},
     "output_type": "execute_result"
    }
   ],
   "source": [
    "md['case_control']"
   ]
  },
  {
   "cell_type": "code",
   "execution_count": 5,
   "id": "596a7a8a",
   "metadata": {},
   "outputs": [
    {
     "data": {
      "text/plain": [
       "0        Male\n",
       "1      Female\n",
       "2      Female\n",
       "3      Female\n",
       "4        Male\n",
       "        ...  \n",
       "121    Female\n",
       "122    Female\n",
       "123    Female\n",
       "124    Female\n",
       "125    Female\n",
       "Name: sex, Length: 126, dtype: object"
      ]
     },
     "execution_count": 5,
     "metadata": {},
     "output_type": "execute_result"
    }
   ],
   "source": [
    "md['sex']"
   ]
  },
  {
   "cell_type": "code",
   "execution_count": 6,
   "id": "f1639239",
   "metadata": {},
   "outputs": [
    {
     "data": {
      "text/plain": [
       "0       303\n",
       "1       208\n",
       "2       249\n",
       "3       355\n",
       "4       208\n",
       "       ... \n",
       "121     736\n",
       "122     722\n",
       "123    1025\n",
       "124     629\n",
       "125     568\n",
       "Name: age_at_collection, Length: 126, dtype: int64"
      ]
     },
     "execution_count": 6,
     "metadata": {},
     "output_type": "execute_result"
    }
   ],
   "source": [
    "md['age_at_collection']"
   ]
  },
  {
   "cell_type": "code",
   "execution_count": 7,
   "id": "18772fec",
   "metadata": {},
   "outputs": [],
   "source": [
    "def diabetes_f(x):\n",
    "    if x == 'case':\n",
    "        return 'diabetes'\n",
    "    return x\n",
    "md['Status'] = md['case_control'].apply(diabetes_f)\n",
    "\n",
    "# no age information for the controls ...\n",
    "confounders = ['age_at_collection', 'sex']\n",
    "# dia\n",
    "dia_md = md.loc[md['case_control'] != 'CD']\n",
    "dia_md = dia_md.dropna(subset=confounders)\n",
    "dia_md = dia_md.groupby('host_subject_id').last()\n",
    "dia_md['Match_IDs'] = _matchmaker(dia_md, status='case_control', \n",
    "                                 match_columns=confounders, \n",
    "                                 types=[False, True])\n",
    "dia_md = dia_md.dropna(subset=['Match_IDs'])\n",
    "dia_md['Match_IDs'] = dia_md['Match_IDs'].apply(lambda x: f'Kostic_2016_{int(x)}')\n",
    "dia_md = dia_md.set_index('sample_id')\n",
    "dia_md['Cohort'] = 'Kostic_2016'"
   ]
  },
  {
   "cell_type": "code",
   "execution_count": 8,
   "id": "77d59d53",
   "metadata": {},
   "outputs": [],
   "source": [
    "dia_md.to_csv(f'{DIR}/sample_metadata.txt', sep='\\t')"
   ]
  },
  {
   "cell_type": "code",
   "execution_count": 9,
   "id": "55e81dc7",
   "metadata": {},
   "outputs": [
    {
     "name": "stdout",
     "output_type": "stream",
     "text": [
      "total 12M\r\n",
      "-rw-rw-r-- 1 jmorton jmorton 2.9M Dec 15  2020 74945_otu_table.biom\r\n",
      "-rw-rw-r-- 1 jmorton jmorton 3.1M Dec 15  2020 73074_otu_table.biom\r\n",
      "-rw-rw-r-- 1 jmorton jmorton 2.2M Dec 15  2020 12496_20190524-184432.txt\r\n",
      "drwxrwsr-x 2 jmorton jmorton  52M Dec 16  2020 formatted\r\n",
      "-rw-rw-r-- 1 jmorton jmorton 1.2M Sep 15 20:31 106363_free.biom\r\n",
      "-rw-rw-r-- 1 jmorton jmorton 163K Sep 15 20:32 sample_information_from_prep_8810.tsv\r\n",
      "-rw-rw-r-- 1 jmorton jmorton 1.4K Sep 15 22:18 diff_abs.sh~\r\n",
      "-rw-rw-r-- 1 jmorton jmorton 1.4K Sep 15 22:19 diff_abs.sh\r\n",
      "-rw-rw-r-- 1 jmorton jmorton 277K Sep 16 13:48 table.biom\r\n",
      "drwxrwsr-x 2 jmorton jmorton    0 Sep 16 13:50 age_sex_matched_posterior\r\n",
      "drwxrwsr-x 2 jmorton jmorton 297K Sep 16 13:52 intermediate\r\n",
      "-rw-rw-r-- 1 jmorton jmorton 1.9M Sep 16 14:05 106365_none.biom\r\n",
      "-rw-rw-r-- 1 jmorton jmorton  26K Sep 16 14:10 sample_metadata.txt\r\n"
     ]
    }
   ],
   "source": [
    "!ls -lhrt ../sfari/data/diaimmune/"
   ]
  },
  {
   "cell_type": "code",
   "execution_count": 10,
   "id": "128c68c8",
   "metadata": {},
   "outputs": [],
   "source": [
    "table = biom.load_table(f'{DIR}/106365_none.biom')"
   ]
  },
  {
   "cell_type": "code",
   "execution_count": 11,
   "id": "02431f1b",
   "metadata": {},
   "outputs": [],
   "source": [
    "def match_f(table, metadata):\n",
    "    filter_f = lambda v, i, m: i in set(metadata.index)\n",
    "    t = table.filter(filter_f, axis='sample', inplace=False)\n",
    "    filter_f = lambda v, i, m: np.sum(v>0) > 0\n",
    "    t = t.filter(filter_f, axis='observation', inplace=False)\n",
    "    md = metadata.loc[t.ids()]\n",
    "    return t, md\n",
    "table, metadata = match_f(table, dia_md)"
   ]
  },
  {
   "cell_type": "code",
   "execution_count": 12,
   "id": "412e110c",
   "metadata": {},
   "outputs": [],
   "source": [
    "from biom.util import biom_open\n",
    "metadata.to_csv(f'{DIR}/sample_metadata.txt', sep='\\t')\n",
    "with biom_open(f'{DIR}/table.biom', 'w') as f:\n",
    "    table.to_hdf5(f, 'matched')"
   ]
  },
  {
   "cell_type": "code",
   "execution_count": null,
   "id": "dfc3fe76",
   "metadata": {},
   "outputs": [],
   "source": []
  }
 ],
 "metadata": {
  "kernelspec": {
   "display_name": "Python 3",
   "language": "python",
   "name": "python3"
  },
  "language_info": {
   "codemirror_mode": {
    "name": "ipython",
    "version": 3
   },
   "file_extension": ".py",
   "mimetype": "text/x-python",
   "name": "python",
   "nbconvert_exporter": "python",
   "pygments_lexer": "ipython3",
   "version": "3.8.8"
  },
  "toc": {
   "base_numbering": 1,
   "nav_menu": {},
   "number_sections": true,
   "sideBar": true,
   "skip_h1_title": false,
   "title_cell": "Table of Contents",
   "title_sidebar": "Contents",
   "toc_cell": true,
   "toc_position": {},
   "toc_section_display": true,
   "toc_window_display": false
  }
 },
 "nbformat": 4,
 "nbformat_minor": 5
}
