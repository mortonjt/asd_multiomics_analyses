{
 "cells": [
  {
   "cell_type": "markdown",
   "id": "2a56a7b3",
   "metadata": {
    "toc": true
   },
   "source": [
    "<h1>Table of Contents<span class=\"tocSkip\"></span></h1>\n",
    "<div class=\"toc\"><ul class=\"toc-item\"></ul></div>"
   ]
  },
  {
   "cell_type": "markdown",
   "id": "c99f2806",
   "metadata": {},
   "source": [
    "This notebook looks at the age / sex differences within cohorts."
   ]
  },
  {
   "cell_type": "code",
   "execution_count": 1,
   "id": "54c89b31",
   "metadata": {},
   "outputs": [],
   "source": [
    "# This block is just for importing the necessary libraries.  \n",
    "import os\n",
    "import pickle\n",
    "from collections import defaultdict\n",
    "\n",
    "# Numerical libraries\n",
    "import pandas as pd\n",
    "import numpy as np\n",
    "import numpy.ma as ma\n",
    "\n",
    "import biom\n",
    "import arviz as az\n",
    "from scipy.spatial.distance import euclidean\n",
    "from gneiss.balances import sparse_balance_basis\n",
    "\n",
    "from statsmodels.discrete.conditional_models import ConditionalLogit\n",
    "from patsy import dmatrix\n",
    "from sklearn.preprocessing import LabelEncoder\n",
    "from sklearn.model_selection import KFold\n",
    "from sklearn.ensemble import RandomForestClassifier\n",
    "from sklearn.svm import SVC\n",
    "from sklearn.metrics import confusion_matrix\n",
    "from sklearn.metrics import classification_report\n",
    "\n",
    "# Plotting libraries\n",
    "import matplotlib.pyplot as plt\n",
    "import matplotlib\n",
    "import matplotlib.patches as mpatches\n",
    "import seaborn as sns\n",
    "from matplotlib_venn import venn2, venn3\n",
    "# custom utility and plotting functions\n",
    "from util import (extract_differentials, select_features, \n",
    "                  get_genomic_data, collapse_transcripts, \n",
    "                  aggregate_pathways,\n",
    "                  ranking, btest, log_pvalue, read_kegg_dict,\n",
    "                  ilr_transform_differentials,\n",
    "                  rename_clades, create_projection,\n",
    "                  match_all_differentials)\n",
    "from logit import conditional_logistic_regression, clogit_predict\n",
    "from plot import (rankplot, networkplot, vectorplot)\n",
    "import random\n",
    "import warnings\n",
    "\n",
    "from q2_matchmaker._matching import _matchmaker\n",
    "\n",
    "\n",
    "warnings.simplefilter('ignore')\n",
    "\n",
    "# directory paths\n",
    "amp_directory = '../sfari/data/sra/Combined'\n",
    "wgs_directory = '../sfari/data/sra_shotgun/Combined'\n",
    "rna_directory = '../sfari/data/recount3'\n",
    "kang_directory = '../sfari/data/sra/Kang2017'\n",
    "sepp_directory = '../sfari/data/sra/Kang2017/deblur/sepp'\n",
    "berding_directory = '../sfari/data/sra/Berding2020'\n",
    "\n",
    "results_dir = '../results'\n",
    "kegg_dir = f'{results_dir}/kegg'\n",
    "hsa_dir = f'{results_dir}/hsa_kegg'\n",
    "np.random.seed(0)\n",
    "random.seed(0)\n",
    "%matplotlib inline\n",
    "\n",
    "pd.options.display.max_rows = 100 "
   ]
  },
  {
   "cell_type": "code",
   "execution_count": 2,
   "id": "34a44fab",
   "metadata": {},
   "outputs": [],
   "source": [
    "david_md = pd.read_table('../sfari/data/sra/David2021/sample_metadata_JM-v2.txt', index_col=0)\n",
    "#age_sex_matching = _matchmaker(david_md, 'Treatment', ['age_month_ok', 'Gender'], [False, True])\n",
    "#age_sex_matching = age_sex_matching.astype(np.int64)\n",
    "#david_md['Match_IDs'] = age_sex_matching\n",
    "david_md['Age'] = david_md['age_month_ok'] / 12\n",
    "david_md['Match_IDs'] = david_md['Pair']\n",
    "david_md['Status'] = 'Treatment'"
   ]
  },
  {
   "cell_type": "code",
   "execution_count": 3,
   "id": "60db9133",
   "metadata": {},
   "outputs": [],
   "source": [
    "son_md = pd.read_table('../sfari/data/sra/Son2015/sample_metadata_JM-v2.txt', index_col=0)\n",
    "son_md = son_md.dropna(subset=['Age', 'Sex'])\n",
    "son_md = son_md.loc[son_md['Age'] > 0]\n",
    "#age_sex_matching = _matchmaker(son_md, 'Status', ['Age', 'Sex'], [False, True])\n",
    "#son_md['Match_IDs'] = age_sex_matching\n",
    "#son_md = son_md.dropna(subset=['Match_IDs'])\n",
    "#son_md['Match_IDs'] = son_md['Match_IDs'].astype(np.int64)\n",
    "son_md['Match_IDs'] = son_md['Household']\n",
    "son_md['Status'] = 'Diagnosis'"
   ]
  },
  {
   "cell_type": "code",
   "execution_count": 4,
   "id": "34b53473",
   "metadata": {},
   "outputs": [],
   "source": [
    "# load biom tables\n",
    "amp_biom = biom.load_table(f'{kang_directory}/age_sex_match_week0_ogu.biom')\n",
    "wgs_biom = biom.load_table(f'{wgs_directory}/ogus_table.biom')\n",
    "amp_table = amp_biom.to_dataframe().T\n",
    "wgs_table = wgs_biom.to_dataframe().T\n",
    "\n",
    "# load metadata tables\n",
    "amp_md_orig = pd.read_table(f'{kang_directory}/combined_sample_metadata_0.txt', index_col=0)\n",
    "wgs_md_orig = pd.read_table(f'{wgs_directory}/sample_metadata.txt', index_col=0)"
   ]
  },
  {
   "cell_type": "code",
   "execution_count": 5,
   "id": "6f6adaf7",
   "metadata": {},
   "outputs": [
    {
     "name": "stdout",
     "output_type": "stream",
     "text": [
      "Berding2020 \n",
      " 230B    3.0\n",
      "110B    7.0\n",
      "139B    4.0\n",
      "108B    5.0\n",
      "138B    4.0\n",
      "Name: Age, dtype: float64\n",
      "Chen2020 \n",
      " SRR12180466    4.0\n",
      "SRR12180519    3.4\n",
      "SRR12180512    4.7\n",
      "SRR12180427    4.4\n",
      "SRR12180597    4.6\n",
      "Name: Age, dtype: float64\n",
      "Dan2020 \n",
      " SRR9666980    3.0\n",
      "SRR9666916    3.0\n",
      "SRR9666817    6.0\n",
      "SRR9666820    5.0\n",
      "SRR9666768    8.0\n",
      "Name: Age, dtype: float64\n",
      "Fasano2020 \n",
      " SRR13306683    4.82\n",
      "SRR13306701    6.52\n",
      "SRR13306686    6.29\n",
      "SRR13306687    5.86\n",
      "SRR13306613    4.37\n",
      "Name: Age, dtype: float64\n",
      "Fouquier2021 \n",
      " ERR5263176    8.0\n",
      "ERR5263110    4.0\n",
      "ERR5263168    5.0\n",
      "ERR5263171    6.0\n",
      "ERR5263163    8.0\n",
      "Name: Age, dtype: float64\n",
      "Kang2017 \n",
      " SRR8798137     8.361111\n",
      "SRR8798492     8.361111\n",
      "SRR8798295    14.261111\n",
      "SRR8798301    14.261111\n",
      "SRR8798204    16.455556\n",
      "Name: Age, dtype: float64\n",
      "Zou2020 \n",
      " SRR10305381    4.0\n",
      "SRR10305395    4.0\n",
      "SRR10305374    6.0\n",
      "SRR10305334    4.0\n",
      "SRR10305409    4.0\n",
      "Name: Age, dtype: float64\n",
      "Zurita2019 \n",
      " P4.stool     12.0\n",
      "P19.stool     8.0\n",
      "P57.stool    10.0\n",
      "P11.stool    12.0\n",
      "P20.stool     8.0\n",
      "Name: Age, dtype: float64\n"
     ]
    }
   ],
   "source": [
    "for i, m in amp_md_orig.groupby('Cohort'):\n",
    "    print(i, '\\n', m.head()['Age'])"
   ]
  },
  {
   "cell_type": "markdown",
   "id": "dde7fbbe",
   "metadata": {},
   "source": [
    "Age differences"
   ]
  },
  {
   "cell_type": "code",
   "execution_count": 7,
   "id": "e23fbc1a",
   "metadata": {},
   "outputs": [
    {
     "data": {
      "text/plain": [
       "<matplotlib.legend.Legend at 0x1553e3186580>"
      ]
     },
     "execution_count": 7,
     "metadata": {},
     "output_type": "execute_result"
    },
    {
     "data": {
      "image/png": "[encoded data removed]",
      "text/plain": [
       "<Figure size 432x288 with 1 Axes>"
      ]
     },
     "metadata": {
      "needs_background": "light"
     },
     "output_type": "display_data"
    }
   ],
   "source": [
    "sns.distplot(david_md['Age'], label='David et al')\n",
    "sns.distplot(son_md['Age'], label='Son et al')\n",
    "plt.legend()"
   ]
  },
  {
   "cell_type": "code",
   "execution_count": null,
   "id": "5acbc1f8",
   "metadata": {},
   "outputs": [],
   "source": [
    "fig, ax = plt.subplots(1, 4, figsize=(12, 3))\n",
    "\n",
    "cols = ['Match_IDs', 'Age']\n",
    "\n",
    "titles = ['16S', 'SMS', 'David et al', 'Son et al']\n",
    "mds = [amp_md_orig, wgs_md_orig, david_md, son_md]\n",
    "for i, md in enumerate(mds):\n",
    "    md = md.sort_values(['Match_IDs', 'Status'])\n",
    "    age_diffs = md[cols].groupby('Match_IDs').diff()['Age']\n",
    "    age_diffs = age_diffs.dropna()\n",
    "    #print(titles[i], \n",
    "    #      np.round(np.mean(age_diffs), 3),\n",
    "    #      np.round(np.mean(age_diffs < 0), 3), \n",
    "    #      np.round(np.mean(age_diffs == 0), 3),\n",
    "    #      np.round(np.mean(age_diffs > 0), 3))\n",
    "    sns.histplot(age_diffs, ax=ax[i], binwidth=0.5)\n",
    "    ax[i].set_title(titles[i])\n",
    "    ax[i].set_xlim([-10, 10])\n",
    "plt.tight_layout()"
   ]
  },
  {
   "cell_type": "code",
   "execution_count": null,
   "id": "c934c1db",
   "metadata": {},
   "outputs": [],
   "source": [
    "submd = david_md[['Pair', 'Treatment', 'Age']]\n",
    "submd = submd.groupby(['Pair']).filter(lambda x: len(x) == 2)\n",
    "submd = submd.sort_values(['Pair', 'Treatment'])"
   ]
  },
  {
   "cell_type": "code",
   "execution_count": null,
   "id": "0511a0b5",
   "metadata": {},
   "outputs": [],
   "source": [
    "from scipy.stats import wilcoxon, ttest_rel\n",
    "wilcoxon(submd.loc[submd['Treatment'] == 'Aut', 'Age'], submd.loc[submd['Treatment'] == 'Control', 'Age'])"
   ]
  },
  {
   "cell_type": "code",
   "execution_count": null,
   "id": "50fbfb98",
   "metadata": {},
   "outputs": [],
   "source": [
    "ttest_rel(submd.loc[submd['Treatment'] == 'Aut', 'Age'], submd.loc[submd['Treatment'] == 'Control', 'Age'])"
   ]
  },
  {
   "cell_type": "markdown",
   "id": "0ec9166e",
   "metadata": {},
   "source": [
    "Sex differences"
   ]
  },
  {
   "cell_type": "code",
   "execution_count": null,
   "id": "cac8e930",
   "metadata": {},
   "outputs": [],
   "source": [
    "cols = ['Match_IDs', 'Sex']\n",
    "amp_md = amp_md_orig.sort_values(['Match_IDs', 'Sex'])\n",
    "f = lambda x: x.iloc[0]['Sex'] == x.iloc[1]['Sex']\n",
    "sex_diffs = amp_md[cols].groupby('Match_IDs').apply(f)\n",
    "sex_diffs.value_counts()"
   ]
  },
  {
   "cell_type": "code",
   "execution_count": null,
   "id": "da46edbf",
   "metadata": {},
   "outputs": [],
   "source": [
    "cols = ['Match_IDs', 'Sex']\n",
    "wgs_md = wgs_md_orig.sort_values(['Match_IDs', 'Sex'])\n",
    "f = lambda x: x.iloc[0]['Sex'] == x.iloc[1]['Sex']\n",
    "sex_diffs = wgs_md[cols].groupby('Match_IDs').apply(f)\n",
    "sex_diffs.value_counts()"
   ]
  },
  {
   "cell_type": "markdown",
   "id": "cff8b599",
   "metadata": {},
   "source": [
    "Sequencing depth differences"
   ]
  },
  {
   "cell_type": "code",
   "execution_count": null,
   "id": "a1d548bf",
   "metadata": {},
   "outputs": [],
   "source": [
    "amp_depths = pd.Series(amp_biom.sum(axis='sample'), \n",
    "                       index=amp_biom.ids(axis='sample'))\n",
    "amp_md_orig['depth'] = amp_depths\n",
    "amp_md_orig['log(depth)'] = np.log10(amp_depths)"
   ]
  },
  {
   "cell_type": "code",
   "execution_count": null,
   "id": "05a8a45e",
   "metadata": {},
   "outputs": [],
   "source": [
    "cols = ['Match_IDs', 'log(depth)']\n",
    "amp_md = amp_md_orig.sort_values(['Match_IDs', 'log(depth)'])\n",
    "depth_diffs = amp_md[cols].groupby('Match_IDs').diff()['log(depth)']\n",
    "depth_diffs = depth_diffs.dropna()\n",
    "sns.histplot(depth_diffs)"
   ]
  },
  {
   "cell_type": "code",
   "execution_count": null,
   "id": "94e4b030",
   "metadata": {},
   "outputs": [],
   "source": [
    "np.exp(depth_diffs).mean()"
   ]
  },
  {
   "cell_type": "code",
   "execution_count": null,
   "id": "1e0c7172",
   "metadata": {},
   "outputs": [],
   "source": [
    "sns.histplot(np.log10(amp_depths))"
   ]
  },
  {
   "cell_type": "code",
   "execution_count": null,
   "id": "438aedf1",
   "metadata": {},
   "outputs": [],
   "source": [
    "amp_depths.min()"
   ]
  },
  {
   "cell_type": "code",
   "execution_count": null,
   "id": "05160319",
   "metadata": {},
   "outputs": [],
   "source": [
    "np.median(amp_depths)"
   ]
  },
  {
   "cell_type": "code",
   "execution_count": null,
   "id": "fc158bd1",
   "metadata": {},
   "outputs": [],
   "source": [
    "sns.boxplot(data=amp_md, x='Status', y='log(depth)')"
   ]
  },
  {
   "cell_type": "code",
   "execution_count": null,
   "id": "f48818b5",
   "metadata": {},
   "outputs": [],
   "source": [
    "wgs_depths = pd.Series(wgs_biom.sum(axis='sample'), \n",
    "                       index=wgs_biom.ids(axis='sample'))\n",
    "wgs_md_orig['depth'] = wgs_depths\n",
    "wgs_md_orig['log(depth)'] = np.log10(wgs_depths)"
   ]
  },
  {
   "cell_type": "code",
   "execution_count": null,
   "id": "0eeaa619",
   "metadata": {},
   "outputs": [],
   "source": [
    "cols = ['Match_IDs', 'log(depth)']\n",
    "wgs_md = wgs_md_orig.sort_values(['Match_IDs', 'log(depth)'])\n",
    "depth_diffs = wgs_md[cols].groupby('Match_IDs').diff()['log(depth)']\n",
    "depth_diffs = depth_diffs.dropna()\n",
    "sns.histplot(depth_diffs)"
   ]
  },
  {
   "cell_type": "code",
   "execution_count": null,
   "id": "d6fe92ca",
   "metadata": {},
   "outputs": [],
   "source": [
    "wgs_depths.min()"
   ]
  },
  {
   "cell_type": "code",
   "execution_count": null,
   "id": "a0643b58",
   "metadata": {},
   "outputs": [],
   "source": [
    "np.mean(depth_diffs)"
   ]
  },
  {
   "cell_type": "code",
   "execution_count": null,
   "id": "42498665",
   "metadata": {},
   "outputs": [],
   "source": [
    "sns.histplot(wgs_depths)"
   ]
  },
  {
   "cell_type": "code",
   "execution_count": null,
   "id": "d71b9f6c",
   "metadata": {},
   "outputs": [],
   "source": [
    "sns.boxplot(data=wgs_md, x='Status', y='log(depth)')"
   ]
  },
  {
   "cell_type": "code",
   "execution_count": null,
   "id": "64765e6e",
   "metadata": {},
   "outputs": [],
   "source": []
  }
 ],
 "metadata": {
  "kernelspec": {
   "display_name": "Python 3",
   "language": "python",
   "name": "python3"
  },
  "language_info": {
   "codemirror_mode": {
    "name": "ipython",
    "version": 3
   },
   "file_extension": ".py",
   "mimetype": "text/x-python",
   "name": "python",
   "nbconvert_exporter": "python",
   "pygments_lexer": "ipython3",
   "version": "3.8.8"
  },
  "toc": {
   "base_numbering": 1,
   "nav_menu": {},
   "number_sections": true,
   "sideBar": true,
   "skip_h1_title": false,
   "title_cell": "Table of Contents",
   "title_sidebar": "Contents",
   "toc_cell": true,
   "toc_position": {},
   "toc_section_display": true,
   "toc_window_display": false
  }
 },
 "nbformat": 4,
 "nbformat_minor": 5
}
