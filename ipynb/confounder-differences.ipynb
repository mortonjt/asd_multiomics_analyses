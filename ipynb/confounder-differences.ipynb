{
 "cells": [
  {
   "cell_type": "markdown",
   "id": "2a56a7b3",
   "metadata": {
    "toc": true
   },
   "source": [
    "<h1>Table of Contents<span class=\"tocSkip\"></span></h1>\n",
    "<div class=\"toc\"><ul class=\"toc-item\"></ul></div>"
   ]
  },
  {
   "cell_type": "markdown",
   "id": "c99f2806",
   "metadata": {},
   "source": [
    "This notebook looks at the age / sex differences within cohorts."
   ]
  },
  {
   "cell_type": "code",
   "execution_count": 1,
   "id": "54c89b31",
   "metadata": {},
   "outputs": [],
   "source": [
    "# This block is just for importing the necessary libraries.  \n",
    "import os\n",
    "import pickle\n",
    "from collections import defaultdict\n",
    "\n",
    "# Numerical libraries\n",
    "import pandas as pd\n",
    "import numpy as np\n",
    "import numpy.ma as ma\n",
    "\n",
    "import biom\n",
    "import arviz as az\n",
    "from scipy.spatial.distance import euclidean\n",
    "from gneiss.balances import sparse_balance_basis\n",
    "\n",
    "from statsmodels.discrete.conditional_models import ConditionalLogit\n",
    "from patsy import dmatrix\n",
    "from sklearn.preprocessing import LabelEncoder\n",
    "from sklearn.model_selection import KFold\n",
    "from sklearn.ensemble import RandomForestClassifier\n",
    "from sklearn.svm import SVC\n",
    "from sklearn.metrics import confusion_matrix\n",
    "from sklearn.metrics import classification_report\n",
    "\n",
    "# Plotting libraries\n",
    "import matplotlib.pyplot as plt\n",
    "import matplotlib\n",
    "import matplotlib.patches as mpatches\n",
    "import seaborn as sns\n",
    "from matplotlib_venn import venn2, venn3\n",
    "# custom utility and plotting functions\n",
    "from util import (extract_differentials, select_features, \n",
    "                  get_genomic_data, collapse_transcripts, \n",
    "                  aggregate_pathways,\n",
    "                  ranking, btest, log_pvalue, read_kegg_dict,\n",
    "                  ilr_transform_differentials,\n",
    "                  rename_clades, create_projection,\n",
    "                  match_all_differentials)\n",
    "from logit import conditional_logistic_regression, clogit_predict\n",
    "from plot import (rankplot, networkplot, vectorplot)\n",
    "import random\n",
    "import warnings\n",
    "warnings.simplefilter('ignore')\n",
    "\n",
    "# directory paths\n",
    "amp_directory = '../sfari/data/sra/Combined'\n",
    "wgs_directory = '../sfari/data/sra_shotgun/Combined'\n",
    "rna_directory = '../sfari/data/recount3'\n",
    "kang_directory = '../sfari/data/sra/Kang2017'\n",
    "sepp_directory = '../sfari/data/sra/Kang2017/deblur/sepp'\n",
    "berding_directory = '../sfari/data/sra/Berding2020'\n",
    "\n",
    "results_dir = '../results'\n",
    "kegg_dir = f'{results_dir}/kegg'\n",
    "hsa_dir = f'{results_dir}/hsa_kegg'\n",
    "np.random.seed(0)\n",
    "random.seed(0)\n",
    "%matplotlib inline\n",
    "\n",
    "pd.options.display.max_rows = 100 "
   ]
  },
  {
   "cell_type": "code",
   "execution_count": 2,
   "id": "34b53473",
   "metadata": {},
   "outputs": [],
   "source": [
    "# load biom tables\n",
    "amp_biom = biom.load_table(f'{kang_directory}/age_sex_match_week0_ogu.biom')\n",
    "wgs_biom = biom.load_table(f'{wgs_directory}/ogus_table.biom')\n",
    "amp_table = amp_biom.to_dataframe().T\n",
    "wgs_table = wgs_biom.to_dataframe().T\n",
    "\n",
    "# load metadata tables\n",
    "amp_md_orig = pd.read_table(f'{kang_directory}/combined_sample_metadata_0.txt', index_col=0)\n",
    "wgs_md_orig = pd.read_table(f'{wgs_directory}/sample_metadata.txt', index_col=0)"
   ]
  },
  {
   "cell_type": "code",
   "execution_count": 3,
   "id": "5acbc1f8",
   "metadata": {},
   "outputs": [
    {
     "data": {
      "text/plain": [
       "<AxesSubplot:xlabel='Age', ylabel='Count'>"
      ]
     },
     "execution_count": 3,
     "metadata": {},
     "output_type": "execute_result"
    },
    {
     "data": {
      "image/png": "[encoded data removed]",
      "text/plain": [
       "<Figure size 432x288 with 1 Axes>"
      ]
     },
     "metadata": {
      "needs_background": "light"
     },
     "output_type": "display_data"
    }
   ],
   "source": [
    "cols = ['Match_IDs', 'Age']\n",
    "amp_md = amp_md_orig.sort_values(['Match_IDs', 'Age'])\n",
    "age_diffs = amp_md[cols].groupby('Match_IDs').diff()['Age']\n",
    "age_diffs = age_diffs.dropna()\n",
    "sns.histplot(age_diffs)"
   ]
  },
  {
   "cell_type": "code",
   "execution_count": 4,
   "id": "b4022772",
   "metadata": {},
   "outputs": [
    {
     "data": {
      "text/plain": [
       "<AxesSubplot:xlabel='Age', ylabel='Count'>"
      ]
     },
     "execution_count": 4,
     "metadata": {},
     "output_type": "execute_result"
    },
    {
     "data": {
      "image/png": "[encoded data removed]",
      "text/plain": [
       "<Figure size 432x288 with 1 Axes>"
      ]
     },
     "metadata": {
      "needs_background": "light"
     },
     "output_type": "display_data"
    }
   ],
   "source": [
    "cols = ['Match_IDs', 'Age']\n",
    "wgs_md = wgs_md_orig.sort_values(['Match_IDs', 'Age'])\n",
    "age_diffs = wgs_md[cols].groupby('Match_IDs').diff()['Age']\n",
    "age_diffs = age_diffs.dropna()\n",
    "sns.histplot(age_diffs)"
   ]
  },
  {
   "cell_type": "code",
   "execution_count": 15,
   "id": "cac8e930",
   "metadata": {},
   "outputs": [
    {
     "data": {
      "text/plain": [
       "True     356\n",
       "False     21\n",
       "dtype: int64"
      ]
     },
     "execution_count": 15,
     "metadata": {},
     "output_type": "execute_result"
    }
   ],
   "source": [
    "cols = ['Match_IDs', 'Sex']\n",
    "amp_md = amp_md_orig.sort_values(['Match_IDs', 'Sex'])\n",
    "f = lambda x: x.iloc[0]['Sex'] == x.iloc[1]['Sex']\n",
    "sex_diffs = amp_md[cols].groupby('Match_IDs').apply(f)\n",
    "sex_diffs.value_counts()"
   ]
  },
  {
   "cell_type": "code",
   "execution_count": 14,
   "id": "da46edbf",
   "metadata": {},
   "outputs": [
    {
     "data": {
      "text/plain": [
       "True     76\n",
       "False     7\n",
       "dtype: int64"
      ]
     },
     "execution_count": 14,
     "metadata": {},
     "output_type": "execute_result"
    }
   ],
   "source": [
    "cols = ['Match_IDs', 'Sex']\n",
    "wgs_md = wgs_md_orig.sort_values(['Match_IDs', 'Sex'])\n",
    "f = lambda x: x.iloc[0]['Sex'] == x.iloc[1]['Sex']\n",
    "sex_diffs = wgs_md[cols].groupby('Match_IDs').apply(f)\n",
    "sex_diffs.value_counts()"
   ]
  }
 ],
 "metadata": {
  "kernelspec": {
   "display_name": "Python 3",
   "language": "python",
   "name": "python3"
  },
  "language_info": {
   "codemirror_mode": {
    "name": "ipython",
    "version": 3
   },
   "file_extension": ".py",
   "mimetype": "text/x-python",
   "name": "python",
   "nbconvert_exporter": "python",
   "pygments_lexer": "ipython3",
   "version": "3.8.8"
  },
  "toc": {
   "base_numbering": 1,
   "nav_menu": {},
   "number_sections": true,
   "sideBar": true,
   "skip_h1_title": false,
   "title_cell": "Table of Contents",
   "title_sidebar": "Contents",
   "toc_cell": true,
   "toc_position": {},
   "toc_section_display": true,
   "toc_window_display": false
  }
 },
 "nbformat": 4,
 "nbformat_minor": 5
}
