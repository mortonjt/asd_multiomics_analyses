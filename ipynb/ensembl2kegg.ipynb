{
 "cells": [
  {
   "cell_type": "markdown",
   "id": "861be393",
   "metadata": {
    "toc": true
   },
   "source": [
    "<h1>Table of Contents<span class=\"tocSkip\"></span></h1>\n",
    "<div class=\"toc\"><ul class=\"toc-item\"><li><span><a href=\"#Obtain-Ensembl-IDs\" data-toc-modified-id=\"Obtain-Ensembl-IDs-1\"><span class=\"toc-item-num\">1&nbsp;&nbsp;</span>Obtain Ensembl IDs</a></span></li><li><span><a href=\"#Read-in-Ensembl-to-Uniprot-mapping-on-perform-conversion\" data-toc-modified-id=\"Read-in-Ensembl-to-Uniprot-mapping-on-perform-conversion-2\"><span class=\"toc-item-num\">2&nbsp;&nbsp;</span>Read in Ensembl to Uniprot mapping on perform conversion</a></span></li><li><span><a href=\"#Read-in-Uniref-to-KEGG-mapping\" data-toc-modified-id=\"Read-in-Uniref-to-KEGG-mapping-3\"><span class=\"toc-item-num\">3&nbsp;&nbsp;</span>Read in Uniref to KEGG mapping</a></span></li><li><span><a href=\"#Perform-Ensembl-to-KEGG-conversion\" data-toc-modified-id=\"Perform-Ensembl-to-KEGG-conversion-4\"><span class=\"toc-item-num\">4&nbsp;&nbsp;</span>Perform Ensembl to KEGG conversion</a></span></li></ul></div>"
   ]
  },
  {
   "cell_type": "code",
   "execution_count": 1,
   "id": "b74c0743",
   "metadata": {},
   "outputs": [
    {
     "name": "stdout",
     "output_type": "stream",
     "text": [
      "/mnt/home/jmorton/miniconda3/envs/qiime2-2021.4/bin/python\r\n"
     ]
    }
   ],
   "source": [
    "!which python"
   ]
  },
  {
   "cell_type": "code",
   "execution_count": 13,
   "id": "b5adea2c",
   "metadata": {},
   "outputs": [],
   "source": [
    "from Bio import SeqIO\n",
    "import skbio\n",
    "import pandas as pd"
   ]
  },
  {
   "cell_type": "code",
   "execution_count": 20,
   "id": "b5aae9bc",
   "metadata": {},
   "outputs": [],
   "source": [
    "# from woltka\n",
    "# https://github.com/qiyunzhu/woltka/blob/master/woltka/file.py\n",
    "from os import listdir\n",
    "from os.path import basename, dirname, splitext, isfile, join\n",
    "from shutil import which\n",
    "from subprocess import Popen, PIPE\n",
    "import gzip\n",
    "import bz2\n",
    "import lzma\n",
    "\n",
    "\n",
    "zipfmts = {'.gz':   'gzip', '.gzip':   'gzip',\n",
    "           '.bz2': 'bzip2', '.bzip2': 'bzip2',\n",
    "           '.xz':     'xz', '.lz':       'xz', '.lzma': 'xz'}\n",
    "ziplibs = {'gzip': gzip, 'bzip2': bz2, 'xz': lzma}\n",
    "\n",
    "\n",
    "def openzip(fp, mode='rt'):\n",
    "    \"\"\"Open a regular or compressed file by matching filename extension to\n",
    "    proper library.\n",
    "    Parameters\n",
    "    ----------\n",
    "    fp : str\n",
    "        Input filepath.\n",
    "    mode : str, optional\n",
    "        Python file mode. Default: \"rt\" (read as text).\n",
    "    Returns\n",
    "    -------\n",
    "    file handle\n",
    "        Text stream ready to be read.\n",
    "    Notes\n",
    "    -----\n",
    "    This is a simple and universal solution which uses Python's built-in\n",
    "    compression modules. It supports reading and writing. However it is not as\n",
    "    fast as `readzip` in reading compressed files.\n",
    "    See Also\n",
    "    --------\n",
    "    readzip\n",
    "    \"\"\"\n",
    "    ext = splitext(fp)[1]\n",
    "    zipper = getattr(ziplibs[zipfmts[ext]], 'open') if ext in zipfmts else open\n",
    "    return zipper(fp, mode)"
   ]
  },
  {
   "cell_type": "markdown",
   "id": "94663fd9",
   "metadata": {},
   "source": [
    "# Obtain Ensembl IDs"
   ]
  },
  {
   "cell_type": "code",
   "execution_count": 34,
   "id": "2c9840ee",
   "metadata": {},
   "outputs": [],
   "source": [
    "fname = '/mnt/home/jmorton/ceph/sfari/data/recount3/ensembl_ids.txt'\n",
    "ensembl_ids = pd.read_table(fname, header=None).values.ravel()\n",
    "ensembl_ids = list(map(lambda x: x.split('.')[0], ensembl_ids))"
   ]
  },
  {
   "cell_type": "markdown",
   "id": "e7829ab6",
   "metadata": {},
   "source": [
    "# Read in Ensembl to Uniprot mapping on perform conversion"
   ]
  },
  {
   "cell_type": "code",
   "execution_count": 45,
   "id": "d5c43713",
   "metadata": {},
   "outputs": [],
   "source": [
    "ensembl2uniprot = pd.read_table('/mnt/home/jmorton/databases/ensembl/Homo_sapiens.GRCh38.104.uniprot.tsv')\n",
    "ensembl2uniprot = ensembl2uniprot.set_index('gene_stable_id')"
   ]
  },
  {
   "cell_type": "code",
   "execution_count": 47,
   "id": "87725e24",
   "metadata": {},
   "outputs": [],
   "source": [
    "# only look at ensembl ids in uniprot\n",
    "ensembl_ids = list(set(ensembl_ids) & set(ensembl2uniprot.index))"
   ]
  },
  {
   "cell_type": "code",
   "execution_count": 49,
   "id": "d495099d",
   "metadata": {},
   "outputs": [],
   "source": [
    "ensembl2uniprot = ensembl2uniprot.loc[ensembl_ids].reset_index()"
   ]
  },
  {
   "cell_type": "code",
   "execution_count": 50,
   "id": "6aab2432",
   "metadata": {},
   "outputs": [
    {
     "data": {
      "text/html": [
       "<div>\n",
       "<style scoped>\n",
       "    .dataframe tbody tr th:only-of-type {\n",
       "        vertical-align: middle;\n",
       "    }\n",
       "\n",
       "    .dataframe tbody tr th {\n",
       "        vertical-align: top;\n",
       "    }\n",
       "\n",
       "    .dataframe thead th {\n",
       "        text-align: right;\n",
       "    }\n",
       "</style>\n",
       "<table border=\"1\" class=\"dataframe\">\n",
       "  <thead>\n",
       "    <tr style=\"text-align: right;\">\n",
       "      <th></th>\n",
       "      <th>gene_stable_id</th>\n",
       "      <th>transcript_stable_id</th>\n",
       "      <th>protein_stable_id</th>\n",
       "      <th>xref</th>\n",
       "      <th>db_name</th>\n",
       "      <th>info_type</th>\n",
       "      <th>source_identity</th>\n",
       "      <th>xref_identity</th>\n",
       "      <th>linkage_type</th>\n",
       "    </tr>\n",
       "  </thead>\n",
       "  <tbody>\n",
       "    <tr>\n",
       "      <th>0</th>\n",
       "      <td>ENSG00000088888</td>\n",
       "      <td>ENST00000416600</td>\n",
       "      <td>ENSP00000413749</td>\n",
       "      <td>Q7Z434</td>\n",
       "      <td>Uniprot/SWISSPROT</td>\n",
       "      <td>DIRECT</td>\n",
       "      <td>-</td>\n",
       "      <td>-</td>\n",
       "      <td>-</td>\n",
       "    </tr>\n",
       "    <tr>\n",
       "      <th>1</th>\n",
       "      <td>ENSG00000088888</td>\n",
       "      <td>ENST00000416600</td>\n",
       "      <td>ENSP00000413749</td>\n",
       "      <td>Q7Z434-4</td>\n",
       "      <td>Uniprot_isoform</td>\n",
       "      <td>DIRECT</td>\n",
       "      <td>-</td>\n",
       "      <td>-</td>\n",
       "      <td>-</td>\n",
       "    </tr>\n",
       "    <tr>\n",
       "      <th>2</th>\n",
       "      <td>ENSG00000088888</td>\n",
       "      <td>ENST00000428216</td>\n",
       "      <td>ENSP00000401980</td>\n",
       "      <td>Q7Z434</td>\n",
       "      <td>Uniprot/SWISSPROT</td>\n",
       "      <td>DIRECT</td>\n",
       "      <td>100</td>\n",
       "      <td>100</td>\n",
       "      <td>-</td>\n",
       "    </tr>\n",
       "    <tr>\n",
       "      <th>3</th>\n",
       "      <td>ENSG00000088888</td>\n",
       "      <td>ENST00000428216</td>\n",
       "      <td>ENSP00000401980</td>\n",
       "      <td>Q7Z434-1</td>\n",
       "      <td>Uniprot_isoform</td>\n",
       "      <td>DIRECT</td>\n",
       "      <td>-</td>\n",
       "      <td>-</td>\n",
       "      <td>-</td>\n",
       "    </tr>\n",
       "    <tr>\n",
       "      <th>4</th>\n",
       "      <td>ENSG00000151929</td>\n",
       "      <td>ENST00000369085</td>\n",
       "      <td>ENSP00000358081</td>\n",
       "      <td>O95817</td>\n",
       "      <td>Uniprot/SWISSPROT</td>\n",
       "      <td>DIRECT</td>\n",
       "      <td>100</td>\n",
       "      <td>100</td>\n",
       "      <td>-</td>\n",
       "    </tr>\n",
       "    <tr>\n",
       "      <th>...</th>\n",
       "      <td>...</td>\n",
       "      <td>...</td>\n",
       "      <td>...</td>\n",
       "      <td>...</td>\n",
       "      <td>...</td>\n",
       "      <td>...</td>\n",
       "      <td>...</td>\n",
       "      <td>...</td>\n",
       "      <td>...</td>\n",
       "    </tr>\n",
       "    <tr>\n",
       "      <th>129776</th>\n",
       "      <td>ENSG00000167900</td>\n",
       "      <td>ENST00000301634</td>\n",
       "      <td>ENSP00000301634</td>\n",
       "      <td>A0A384MDV9</td>\n",
       "      <td>Uniprot/SPTREMBL</td>\n",
       "      <td>SEQUENCE_MATCH</td>\n",
       "      <td>100</td>\n",
       "      <td>100</td>\n",
       "      <td>-</td>\n",
       "    </tr>\n",
       "    <tr>\n",
       "      <th>129777</th>\n",
       "      <td>ENSG00000167900</td>\n",
       "      <td>ENST00000588734</td>\n",
       "      <td>ENSP00000468425</td>\n",
       "      <td>K7ERV3</td>\n",
       "      <td>Uniprot/SPTREMBL</td>\n",
       "      <td>DIRECT</td>\n",
       "      <td>100</td>\n",
       "      <td>100</td>\n",
       "      <td>-</td>\n",
       "    </tr>\n",
       "    <tr>\n",
       "      <th>129778</th>\n",
       "      <td>ENSG00000167900</td>\n",
       "      <td>ENST00000590862</td>\n",
       "      <td>ENSP00000468556</td>\n",
       "      <td>K7ES52</td>\n",
       "      <td>Uniprot/SPTREMBL</td>\n",
       "      <td>DIRECT</td>\n",
       "      <td>100</td>\n",
       "      <td>100</td>\n",
       "      <td>-</td>\n",
       "    </tr>\n",
       "    <tr>\n",
       "      <th>129779</th>\n",
       "      <td>ENSG00000167900</td>\n",
       "      <td>ENST00000590430</td>\n",
       "      <td>ENSP00000467121</td>\n",
       "      <td>K7ENW5</td>\n",
       "      <td>Uniprot/SPTREMBL</td>\n",
       "      <td>DIRECT</td>\n",
       "      <td>100</td>\n",
       "      <td>100</td>\n",
       "      <td>-</td>\n",
       "    </tr>\n",
       "    <tr>\n",
       "      <th>129780</th>\n",
       "      <td>ENSG00000167900</td>\n",
       "      <td>ENST00000586613</td>\n",
       "      <td>ENSP00000468278</td>\n",
       "      <td>K7ERJ1</td>\n",
       "      <td>Uniprot/SPTREMBL</td>\n",
       "      <td>DIRECT</td>\n",
       "      <td>100</td>\n",
       "      <td>100</td>\n",
       "      <td>-</td>\n",
       "    </tr>\n",
       "  </tbody>\n",
       "</table>\n",
       "<p>129781 rows × 9 columns</p>\n",
       "</div>"
      ],
      "text/plain": [
       "         gene_stable_id transcript_stable_id protein_stable_id        xref  \\\n",
       "0       ENSG00000088888      ENST00000416600   ENSP00000413749      Q7Z434   \n",
       "1       ENSG00000088888      ENST00000416600   ENSP00000413749    Q7Z434-4   \n",
       "2       ENSG00000088888      ENST00000428216   ENSP00000401980      Q7Z434   \n",
       "3       ENSG00000088888      ENST00000428216   ENSP00000401980    Q7Z434-1   \n",
       "4       ENSG00000151929      ENST00000369085   ENSP00000358081      O95817   \n",
       "...                 ...                  ...               ...         ...   \n",
       "129776  ENSG00000167900      ENST00000301634   ENSP00000301634  A0A384MDV9   \n",
       "129777  ENSG00000167900      ENST00000588734   ENSP00000468425      K7ERV3   \n",
       "129778  ENSG00000167900      ENST00000590862   ENSP00000468556      K7ES52   \n",
       "129779  ENSG00000167900      ENST00000590430   ENSP00000467121      K7ENW5   \n",
       "129780  ENSG00000167900      ENST00000586613   ENSP00000468278      K7ERJ1   \n",
       "\n",
       "                  db_name       info_type source_identity xref_identity  \\\n",
       "0       Uniprot/SWISSPROT          DIRECT               -             -   \n",
       "1         Uniprot_isoform          DIRECT               -             -   \n",
       "2       Uniprot/SWISSPROT          DIRECT             100           100   \n",
       "3         Uniprot_isoform          DIRECT               -             -   \n",
       "4       Uniprot/SWISSPROT          DIRECT             100           100   \n",
       "...                   ...             ...             ...           ...   \n",
       "129776   Uniprot/SPTREMBL  SEQUENCE_MATCH             100           100   \n",
       "129777   Uniprot/SPTREMBL          DIRECT             100           100   \n",
       "129778   Uniprot/SPTREMBL          DIRECT             100           100   \n",
       "129779   Uniprot/SPTREMBL          DIRECT             100           100   \n",
       "129780   Uniprot/SPTREMBL          DIRECT             100           100   \n",
       "\n",
       "       linkage_type  \n",
       "0                 -  \n",
       "1                 -  \n",
       "2                 -  \n",
       "3                 -  \n",
       "4                 -  \n",
       "...             ...  \n",
       "129776            -  \n",
       "129777            -  \n",
       "129778            -  \n",
       "129779            -  \n",
       "129780            -  \n",
       "\n",
       "[129781 rows x 9 columns]"
      ]
     },
     "execution_count": 50,
     "metadata": {},
     "output_type": "execute_result"
    }
   ],
   "source": [
    "ensembl2uniprot"
   ]
  },
  {
   "cell_type": "code",
   "execution_count": 28,
   "id": "08395107",
   "metadata": {},
   "outputs": [
    {
     "name": "stdout",
     "output_type": "stream",
     "text": [
      "age_sex_matched_posterior  filter_genes.py\ttable.biom.qza\r\n",
      "diff_abs.sh\t\t   qiime_diff_abs.sh\ttable_filtered.biom\r\n",
      "diff_abs.sh~\t\t   sample_metadata.txt\r\n",
      "ensembl_ids.txt\t\t   table.biom\r\n"
     ]
    }
   ],
   "source": [
    "!ls /mnt/home/jmorton/ceph/sfari/data/recount3/ensembl_ids.txt"
   ]
  },
  {
   "cell_type": "code",
   "execution_count": 31,
   "id": "0a4b1b08",
   "metadata": {},
   "outputs": [],
   "source": [
    "from Bio import SeqIO\n",
    "fname = '/mnt/home/jmorton/ceph/seq-databases/swissprot/uniprot_sprot.dat'\n",
    "gen = SeqIO.parse(fname, format='swiss')"
   ]
  },
  {
   "cell_type": "code",
   "execution_count": 32,
   "id": "fadaf388",
   "metadata": {},
   "outputs": [],
   "source": [
    "def kegg_uniprot_f(y):\n",
    "    kegg_toks = list(filter(lambda x: 'KEGG' in x, y.dbxrefs))\n",
    "    swiss_toks = list(filter(lambda x: 'Swiss' in x, y.dbxrefs))\n",
    "    kegg_toks = list(map(lambda x: x.split('KEGG:')[-1], kegg_toks))\n",
    "    swiss_toks = list(map(lambda x: x.split(':')[-1], swiss_toks))\n",
    "\n",
    "    res = []\n",
    "    for w in swiss_toks:\n",
    "        for k in kegg_toks:\n",
    "            res.append((w, k))\n",
    "    return res"
   ]
  },
  {
   "cell_type": "code",
   "execution_count": 33,
   "id": "e708a1a3",
   "metadata": {},
   "outputs": [],
   "source": [
    "ku = map(kegg_uniprot_f, gen)\n",
    "ku = sum(ku, [])"
   ]
  },
  {
   "cell_type": "code",
   "execution_count": 34,
   "id": "a9bb2777",
   "metadata": {},
   "outputs": [],
   "source": [
    "import pandas as pd\n",
    "ku = pd.DataFrame(ku)"
   ]
  },
  {
   "cell_type": "code",
   "execution_count": 35,
   "id": "b48eee4a",
   "metadata": {},
   "outputs": [],
   "source": [
    "ku.to_csv('../results/ensembl')"
   ]
  },
  {
   "cell_type": "markdown",
   "id": "cbdb89c8",
   "metadata": {},
   "source": [
    "# Read in Uniref to KEGG mapping"
   ]
  },
  {
   "cell_type": "code",
   "execution_count": 73,
   "id": "b9a9461b",
   "metadata": {},
   "outputs": [],
   "source": [
    "import os, xml.etree.ElementTree as ET\n",
    "fname = '/mnt/home/jmorton/ceph/seq-databases/swissprot/uniprot_sprot.xml'\n",
    "tree = ET.parse(fname)\n",
    "root = tree.getroot()\n",
    "children = root.getchildren()\n",
    "\n",
    "def get_uniref_kegg(x):\n",
    "    if x.find('{http://uniprot.org/uniprot}accession') is None:\n",
    "        return []\n",
    "    uniref = x.find('{http://uniprot.org/uniprot}accession').text\n",
    "    kos = []\n",
    "    for y in x.getchildren():\n",
    "        lookup = dict(y.items())\n",
    "        if 'type' in lookup and 'KEGG' in lookup['type']:\n",
    "            kos.append((uniref, lookup['id']))\n",
    "    return kos\n",
    "\n",
    "uniref2ko = list(map(get_uniref_kegg, children))\n",
    "\n",
    "keggfile = '/mnt/home/jmorton/ceph/seq-databases/swissprot/uniprot2kegg.csv'\n",
    "uniref2ko = sum(uniref2ko, [])\n",
    "df = pd.DataFrame(uniref2ko)\n",
    "df.to_csv(keggfile, header=None, index=False, sep='\\t')"
   ]
  },
  {
   "cell_type": "code",
   "execution_count": 178,
   "id": "e3651384",
   "metadata": {},
   "outputs": [],
   "source": [
    "uniref2ko = df\n",
    "uniref2ko.columns = ['Uniref', 'KO']"
   ]
  },
  {
   "cell_type": "raw",
   "id": "417eaad4",
   "metadata": {},
   "source": [
    "# Note that woltka appears to only work for microbial proteins\n",
    "fname = '/mnt/home/jmorton/databases/wol/function/kegg/ko.map.xz'\n",
    "handle = openzip(fname, mode='rt')\n",
    "from collections import defaultdict\n",
    "unirefs = list()\n",
    "for line in handle:\n",
    "    toks = line.rstrip().split('\\t')\n",
    "    for i in range(1, len(toks)):\n",
    "        unirefs.append((toks[0], toks[i]))\n",
    "uniref2ko = pd.DataFrame(unirefs, columns=['Uniref', 'KO'])"
   ]
  },
  {
   "cell_type": "markdown",
   "id": "e373d3be",
   "metadata": {},
   "source": [
    "# Perform Ensembl to KEGG conversion"
   ]
  },
  {
   "cell_type": "code",
   "execution_count": 180,
   "id": "476dcbef",
   "metadata": {},
   "outputs": [],
   "source": [
    "ensembl2ko = pd.merge(ensembl2uniprot, uniref2ko, left_on='xref', right_on='Uniref')"
   ]
  },
  {
   "cell_type": "code",
   "execution_count": 182,
   "id": "eedbac91",
   "metadata": {},
   "outputs": [],
   "source": [
    "fname = '/mnt/home/jmorton/ceph/sfari/data/recount3/ensembl2kegg.txt'\n",
    "ensembl2ko.to_csv(fname, sep='\\t')"
   ]
  }
 ],
 "metadata": {
  "kernelspec": {
   "display_name": "Python 3",
   "language": "python",
   "name": "python3"
  },
  "language_info": {
   "codemirror_mode": {
    "name": "ipython",
    "version": 3
   },
   "file_extension": ".py",
   "mimetype": "text/x-python",
   "name": "python",
   "nbconvert_exporter": "python",
   "pygments_lexer": "ipython3",
   "version": "3.8.8"
  },
  "toc": {
   "base_numbering": 1,
   "nav_menu": {},
   "number_sections": true,
   "sideBar": true,
   "skip_h1_title": false,
   "title_cell": "Table of Contents",
   "title_sidebar": "Contents",
   "toc_cell": true,
   "toc_position": {},
   "toc_section_display": true,
   "toc_window_display": false
  }
 },
 "nbformat": 4,
 "nbformat_minor": 5
}
