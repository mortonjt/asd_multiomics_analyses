{
 "cells": [
  {
   "cell_type": "markdown",
   "id": "61f516c7",
   "metadata": {
    "toc": true
   },
   "source": [
    "<h1>Table of Contents<span class=\"tocSkip\"></span></h1>\n",
    "<div class=\"toc\"><ul class=\"toc-item\"></ul></div>"
   ]
  },
  {
   "cell_type": "code",
   "execution_count": 1,
   "id": "7da34b89",
   "metadata": {},
   "outputs": [],
   "source": [
    "# This block is just for importing the necessary libraries.  \n",
    "import os\n",
    "from collections import defaultdict\n",
    "# Numerical libraries\n",
    "import pandas as pd\n",
    "import numpy as np\n",
    "import biom\n",
    "import arviz as az\n",
    "from scipy.spatial.distance import euclidean\n",
    "# Plotting libraries\n",
    "import matplotlib.pyplot as plt\n",
    "import matplotlib\n",
    "import matplotlib.patches as mpatches\n",
    "import seaborn as sns\n",
    "from matplotlib_venn import venn2, venn3\n",
    "# custom utility and plotting functions\n",
    "from util import (extract_differentials, select_features, \n",
    "                  get_genomic_data, collapse_transcripts, \n",
    "                  aggregate_pathways,\n",
    "                  ranking, btest, log_pvalue, read_kegg_dict,\n",
    "                  ilr_transform_differentials,\n",
    "                  rename_clades, create_projection,\n",
    "                  match_all_differentials)\n",
    "from plot import (rankplot, networkplot, vectorplot)\n",
    "import random\n",
    "from scipy.sparse import coo_matrix  \n",
    "from biom import load_table\n",
    "\n",
    "# directory paths\n",
    "amp_directory = '../sfari/data/sra/Combined'\n",
    "wgs_directory = '../sfari/data/sra_shotgun/Combined'\n",
    "rna_directory = '../sfari/data/recount3'\n",
    "kang_directory = '../sfari/data/sra/Kang2017'\n",
    "sepp_directory = '../sfari/data/sra/Kang2017/deblur/sepp'\n",
    "results_dir = '../results'\n",
    "kegg_dir = f'{results_dir}/kegg'\n",
    "hsa_dir = f'{results_dir}/hsa_kegg'\n",
    "np.random.seed(0)\n",
    "random.seed(0)\n",
    "%matplotlib inline"
   ]
  },
  {
   "cell_type": "code",
   "execution_count": 2,
   "id": "e2e695db",
   "metadata": {},
   "outputs": [],
   "source": [
    "filename = f'{wgs_directory}/table_func.biom'\n",
    "func_table = load_table(filename)\n",
    "\n",
    "func_ids = func_table.ids(axis='observation')\n",
    "func_df = pd.DataFrame(list(map(lambda x: x.split('|'), func_ids)))                                                   \n",
    "\n",
    "# convert to sparse matrix for convenience                                                                            \n",
    "func_df.columns = ['OGU', 'KEGG']                                                                                     \n",
    "func_df['count'] = 1    \n",
    "\n",
    "ogus = list(set(func_df['OGU']))  \n",
    "ogus.sort()\n",
    "ogu_lookup = pd.Series(np.arange(0, len(ogus)), ogus)                                                            \n",
    "keggs = list(set(func_df['KEGG']))    \n",
    "keggs.sort()\n",
    "kegg_lookup = pd.Series(np.arange(0, len(keggs)), keggs)                                                          \n",
    "func_df['OGU_id'] = func_df['OGU'].apply(lambda x: ogu_lookup.loc[x]).astype(np.int64)                                    \n",
    "func_df['KEGG_id'] = func_df['KEGG'].apply(lambda x: kegg_lookup.loc[x]).astype(np.int64)                                 \n",
    "c, i, j = func_df['count'].values, func_df['OGU_id'].values, func_df['KEGG_id'].values                                \n",
    "data = coo_matrix((c, (i, j)))                                                                                        \n",
    "ko_ogu = pd.DataFrame(data.todense(), index=ogus, columns=keggs)    "
   ]
  },
  {
   "cell_type": "code",
   "execution_count": 4,
   "id": "12d91893",
   "metadata": {},
   "outputs": [
    {
     "name": "stdout",
     "output_type": "stream",
     "text": [
      "            OGU    KEGG  count  OGU_id  KEGG_id\n",
      "0       1000562  K02793      1       0     1589\n",
      "1       1000562  K02867      1       0     1641\n",
      "2       1000562  K02871      1       0     1643\n",
      "3       1000562  K02874      1       0     1644\n",
      "4       1000562  K02881      1       0     1650\n",
      "...         ...     ...    ...     ...      ...\n",
      "271180   999892  K03665      1    3432     2137\n",
      "271181   999892  K05991      1    3432     2684\n",
      "271182   999892  K07106      1    3432     3126\n",
      "271183   999892  K20370      1    3432     5874\n",
      "271184   999892  K21949      1    3432     6115\n",
      "\n",
      "[271185 rows x 5 columns]\n"
     ]
    }
   ],
   "source": [
    "print(func_df)"
   ]
  },
  {
   "cell_type": "raw",
   "id": "f9f184b2",
   "metadata": {},
   "source": [
    "            OGU    KEGG  count  OGU_id  KEGG_id\n",
    "0       1000562  K02793      1       0     1589\n",
    "1       1000562  K02867      1       0     1641\n",
    "2       1000562  K02871      1       0     1643\n",
    "3       1000562  K02874      1       0     1644\n",
    "4       1000562  K02881      1       0     1650\n",
    "...         ...     ...    ...     ...      ...\n",
    "271180   999892  K03665      1    3432     2137\n",
    "271181   999892  K05991      1    3432     2684\n",
    "271182   999892  K07106      1    3432     3126\n",
    "271183   999892  K20370      1    3432     5874\n",
    "271184   999892  K21949      1    3432     6115"
   ]
  }
 ],
 "metadata": {
  "kernelspec": {
   "display_name": "Python 3",
   "language": "python",
   "name": "python3"
  },
  "language_info": {
   "codemirror_mode": {
    "name": "ipython",
    "version": 3
   },
   "file_extension": ".py",
   "mimetype": "text/x-python",
   "name": "python",
   "nbconvert_exporter": "python",
   "pygments_lexer": "ipython3",
   "version": "3.8.8"
  },
  "toc": {
   "base_numbering": 1,
   "nav_menu": {},
   "number_sections": true,
   "sideBar": true,
   "skip_h1_title": false,
   "title_cell": "Table of Contents",
   "title_sidebar": "Contents",
   "toc_cell": true,
   "toc_position": {},
   "toc_section_display": true,
   "toc_window_display": false
  }
 },
 "nbformat": 4,
 "nbformat_minor": 5
}
