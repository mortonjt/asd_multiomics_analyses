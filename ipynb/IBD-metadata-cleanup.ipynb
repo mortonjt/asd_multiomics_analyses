{
 "cells": [
  {
   "cell_type": "markdown",
   "id": "c81f0733",
   "metadata": {
    "toc": true
   },
   "source": [
    "<h1>Table of Contents<span class=\"tocSkip\"></span></h1>\n",
    "<div class=\"toc\"><ul class=\"toc-item\"><li><span><a href=\"#Amplicon\" data-toc-modified-id=\"Amplicon-1\"><span class=\"toc-item-num\">1&nbsp;&nbsp;</span>Amplicon</a></span><ul class=\"toc-item\"><li><span><a href=\"#Price\" data-toc-modified-id=\"Price-1.1\"><span class=\"toc-item-num\">1.1&nbsp;&nbsp;</span>Price</a></span></li><li><span><a href=\"#Vazquez-Baeza\" data-toc-modified-id=\"Vazquez-Baeza-1.2\"><span class=\"toc-item-num\">1.2&nbsp;&nbsp;</span>Vazquez Baeza</a></span></li><li><span><a href=\"#Liu-2016\" data-toc-modified-id=\"Liu-2016-1.3\"><span class=\"toc-item-num\">1.3&nbsp;&nbsp;</span>Liu 2016</a></span></li><li><span><a href=\"#Combine-datasets\" data-toc-modified-id=\"Combine-datasets-1.4\"><span class=\"toc-item-num\">1.4&nbsp;&nbsp;</span>Combine datasets</a></span></li></ul></li><li><span><a href=\"#Shotgun\" data-toc-modified-id=\"Shotgun-2\"><span class=\"toc-item-num\">2&nbsp;&nbsp;</span>Shotgun</a></span><ul class=\"toc-item\"><li><span><a href=\"#Price2019\" data-toc-modified-id=\"Price2019-2.1\"><span class=\"toc-item-num\">2.1&nbsp;&nbsp;</span>Price2019</a></span></li></ul></li></ul></div>"
   ]
  },
  {
   "cell_type": "code",
   "execution_count": 1,
   "id": "db912d15",
   "metadata": {},
   "outputs": [],
   "source": [
    "import pandas as pd\n",
    "import biom\n",
    "import numpy as np\n",
    "from q2_matchmaker._matching import _matchmaker\n",
    "\n",
    "from scipy.spatial.distance import pdist, squareform\n",
    "from scipy.optimize import linear_sum_assignment\n",
    "import pandas as pd\n",
    "\n",
    "\n",
    "def _standardize(x):\n",
    "    return (x - x.min()) / (x.max() - x.min())\n",
    "\n",
    "\n",
    "def _matchmaker(metadata, status, match_columns, types):\n",
    "    \"\"\" Computes matching ids.\n",
    "    \n",
    "    Parameters\n",
    "    ----------\n",
    "    metadata : pd.DataFrame\n",
    "        Sample metadata\n",
    "    status : str\n",
    "        Column for specifying case-control status\n",
    "    match_columns : list of str\n",
    "        List of metadata categories\n",
    "    types : list of bool\n",
    "        Specifies if it is categorical or not.\n",
    "        True for categorical, False for continuous\n",
    "    Returns\n",
    "    -------\n",
    "    pd.Series : List of matching ids\n",
    "    \"\"\"\n",
    "    md = metadata.sort_values(by=status)\n",
    "    dummies = []\n",
    "    for col, cat in zip(match_columns, types):\n",
    "        if cat:\n",
    "            df = pd.get_dummies(md[col])\n",
    "            dummies.append(df)\n",
    "        else:\n",
    "            df = pd.DataFrame(_standardize(md[col]))\n",
    "            dummies.append(df)\n",
    "    dm = sum(map(lambda x: squareform(pdist(x)) ** 2, dummies))\n",
    "    i = (md[status].values == md[status].values[0]).sum()\n",
    "    x, y = linear_sum_assignment(dm[:i, i:])\n",
    "    y = y + i\n",
    "    md.loc[md.index[x], 'matching_id'] = x\n",
    "    md.loc[md.index[y], 'matching_id'] = x\n",
    "    return md['matching_id']"
   ]
  },
  {
   "cell_type": "markdown",
   "id": "c8bc1077",
   "metadata": {},
   "source": [
    "# Amplicon"
   ]
  },
  {
   "cell_type": "code",
   "execution_count": 2,
   "id": "189758b6",
   "metadata": {},
   "outputs": [],
   "source": [
    "DIR='../sfari/data/sra_ibd_amplicon'"
   ]
  },
  {
   "cell_type": "markdown",
   "id": "19c34273",
   "metadata": {},
   "source": [
    "## Price \n",
    "\n",
    "Let's split up CD and UC into separate categories"
   ]
  },
  {
   "cell_type": "code",
   "execution_count": 3,
   "id": "df414c16",
   "metadata": {},
   "outputs": [],
   "source": [
    "md = pd.read_csv(f'{DIR}/Lloyd_Price2019/SraRunTable.txt')\n",
    "\n",
    "def ibd_f(x):\n",
    "    if x == 'nonIBD':\n",
    "        return 'Control'\n",
    "    return x\n",
    "md['Status'] = md['Host_disease'].apply(ibd_f)\n",
    "\n",
    "# no age information for the controls ...\n",
    "confounders = ['host_sex']\n",
    "# UC\n",
    "uc_md = md.loc[md['Host_disease'] != 'CD']\n",
    "uc_md = uc_md.dropna(subset=confounders)\n",
    "uc_md = uc_md.groupby('host_subject_id').first()\n",
    "uc_md['Match_IDs'] = _matchmaker(uc_md, status='Host_disease', \n",
    "                                 match_columns=confounders, \n",
    "                                 types=[True])\n",
    "uc_md = uc_md.dropna(subset=['Match_IDs'])\n",
    "uc_md['Match_IDs'] = uc_md['Match_IDs'].apply(lambda x: f'Price_UC_2019_{int(x)}')\n",
    "uc_md = uc_md.set_index('Run')\n",
    "uc_md['Cohort'] = 'Lloyd_Price2019'\n",
    "\n",
    "# CD\n",
    "cd_md = md.loc[md['Host_disease'] != 'UC']\n",
    "cd_md = cd_md.dropna(subset=confounders)\n",
    "cd_md = cd_md.groupby('host_subject_id').first()\n",
    "cd_md['Match_IDs'] = _matchmaker(cd_md, status='Host_disease', \n",
    "                                 match_columns=confounders, \n",
    "                                 types=[True])\n",
    "cd_md = cd_md.dropna(subset=['Match_IDs'])\n",
    "cd_md['Match_IDs'] = cd_md['Match_IDs'].apply(lambda x: f'Price_CD_2019_{int(x)}')\n",
    "cd_md = cd_md.set_index('Run')\n",
    "cd_md['Cohort'] = 'Lloyd_Price2019'\n",
    "cd_md['Status'] = cd_md['Host_disease']\n",
    "uc_md['Status'] = uc_md['Host_disease']\n",
    "\n",
    "cd_md.to_csv(f'{DIR}/Lloyd_Price2019/sample_metadata_cd.txt', sep='\\t')\n",
    "uc_md.to_csv(f'{DIR}/Lloyd_Price2019/sample_metadata_uc.txt', sep='\\t')"
   ]
  },
  {
   "cell_type": "markdown",
   "id": "b7d94510",
   "metadata": {},
   "source": [
    "## Vazquez Baeza"
   ]
  },
  {
   "cell_type": "code",
   "execution_count": 4,
   "id": "e8b7b021",
   "metadata": {},
   "outputs": [],
   "source": [
    "md = pd.read_csv(f'{DIR}/Vazquez_Baeza2017/SraRunTable.txt')\n",
    "def ibd_f(x):\n",
    "    if x == 'Crohns':\n",
    "        return 'CD'\n",
    "    return x\n",
    "md['Status'] = md['ibd'].apply(ibd_f)\n",
    "\n",
    "confounders = ['sex']\n",
    "cd_md2 = md.dropna(subset=confounders)\n",
    "cd_md2 = cd_md2.groupby('host_subject_id').first()\n",
    "cd_md2['Match_IDs'] = _matchmaker(cd_md2, status='ibd', \n",
    "                                  match_columns=confounders, \n",
    "                                  types=[True])\n",
    "cd_md2 = cd_md2.dropna(subset=['Match_IDs'])\n",
    "cd_md2['Match_IDs'] = cd_md2['Match_IDs'].apply(lambda x: f'Vazquez_Baeza2017_{int(x)}')\n",
    "cd_md2 = cd_md2.set_index('Run')\n",
    "cd_md2['Cohort'] = 'Vazquez_Baeza2017'\n",
    "\n",
    "cd_md2.to_csv(f'{DIR}/Vazquez_Baeza2017/sample_metadata_cd.txt', sep='\\t')"
   ]
  },
  {
   "cell_type": "markdown",
   "id": "cde828bb",
   "metadata": {},
   "source": [
    "## Liu 2016"
   ]
  },
  {
   "cell_type": "code",
   "execution_count": 5,
   "id": "02ad14ac",
   "metadata": {},
   "outputs": [],
   "source": [
    "md = pd.read_csv(f'{DIR}/Liu2016/SraRunTable.txt', sep='\\t')\n",
    "def ibd_f(x):\n",
    "    if 'Crohns' in x:\n",
    "        return 'CD'\n",
    "    if x == 'Not IBD':\n",
    "        return 'Control'\n",
    "md['Status'] = md['diagnosis'].apply(ibd_f)\n",
    "\n",
    "confounders = ['Host_Sex']\n",
    "cd_md3 = md.dropna(subset=confounders)\n",
    "cd_md3 = cd_md3.groupby('SUBJECT').first()\n",
    "cd_md3['Match_IDs'] = _matchmaker(cd_md3, status='diagnosis', \n",
    "                                  match_columns=confounders, \n",
    "                                  types=[True])\n",
    "cd_md3 = cd_md3.dropna(subset=['Match_IDs'])\n",
    "cd_md3['Match_IDs'] = cd_md3['Match_IDs'].apply(lambda x: f'Liu2016_{int(x)}')\n",
    "cd_md3 = cd_md3.set_index('Run')\n",
    "cd_md3['Cohort'] = 'Liu2016'\n",
    "\n",
    "cd_md3.to_csv(f'{DIR}/Liu2016/sample_metadata_cd.txt', sep='\\t')"
   ]
  },
  {
   "cell_type": "code",
   "execution_count": 6,
   "id": "5ad0c409",
   "metadata": {},
   "outputs": [
    {
     "data": {
      "text/plain": [
       "Crohn's disease    36\n",
       "Not IBD            36\n",
       "Name: diagnosis, dtype: int64"
      ]
     },
     "execution_count": 6,
     "metadata": {},
     "output_type": "execute_result"
    }
   ],
   "source": [
    "cd_md3['diagnosis'].value_counts()"
   ]
  },
  {
   "cell_type": "markdown",
   "id": "471a54e4",
   "metadata": {},
   "source": [
    "## Combine datasets"
   ]
  },
  {
   "cell_type": "code",
   "execution_count": 7,
   "id": "61b56517",
   "metadata": {},
   "outputs": [],
   "source": [
    "combined_md = pd.concat((cd_md, cd_md2, cd_md3), axis=0)\n",
    "\n",
    "price_biom = biom.load_table(f'{DIR}/Lloyd_Price2019/bioms/all.biom')\n",
    "vazquez_biom = biom.load_table(f'{DIR}/Vazquez_Baeza2017/bioms/all.biom')\n",
    "liu_biom = biom.load_table(f'{DIR}/Liu2016/bioms/all.biom')\n",
    "\n",
    "all_biom = price_biom.merge(vazquez_biom).merge(liu_biom)\n",
    "all_biom, combined_md = all_biom.align_to_dataframe(combined_md)\n",
    "\n",
    "from biom.util import biom_open\n",
    "combined_md.to_csv(f'{DIR}/Combined/combined_metadata.txt', sep='\\t')\n",
    "with biom_open(f'{DIR}/Combined/combined.biom', 'w') as f:\n",
    "    all_biom.to_hdf5(f, 'combined')"
   ]
  },
  {
   "cell_type": "markdown",
   "id": "63beb176",
   "metadata": {},
   "source": [
    "# Shotgun"
   ]
  },
  {
   "cell_type": "code",
   "execution_count": 208,
   "id": "338aa13b",
   "metadata": {},
   "outputs": [],
   "source": [
    "DIR='../sfari/data/sra_ibd_shotgun'"
   ]
  },
  {
   "cell_type": "markdown",
   "id": "e479ec88",
   "metadata": {},
   "source": [
    "## Price2019"
   ]
  },
  {
   "cell_type": "code",
   "execution_count": 209,
   "id": "a824493d",
   "metadata": {},
   "outputs": [],
   "source": [
    "md = pd.read_csv(f'{DIR}/Lloyd_Price2019/SraRunTable(6).txt')\n",
    "md['Host_disease'] = md['Host_disease'].fillna('Control')\n",
    "all_biom = biom.load_table(f'{DIR}/Lloyd_Price2019/bioms/ogus.biom')\n",
    "all_biom, md = all_biom.align_to_dataframe(md.set_index('Run'))\n",
    "md = md.reset_index()\n",
    "status = 'Host_disease'\n",
    "def ibd_f(x):\n",
    "    if x == 'nonIBD':\n",
    "        return 'Control'\n",
    "    if 'Crohn' in x or x == 'CD':\n",
    "        return 'CD'\n",
    "    elif 'colitis' in x or x == 'UC':\n",
    "        return 'UC'\n",
    "    return x\n",
    "md = md.dropna(subset=[status])\n",
    "md['Status'] = md[status].apply(ibd_f)\n",
    "status = 'Status'"
   ]
  },
  {
   "cell_type": "raw",
   "id": "93b8b920",
   "metadata": {},
   "source": [
    "# no age information for the controls ...\n",
    "confounders = ['host_sex']\n",
    "# UC\n",
    "uc_md = md.loc[md[status] != 'CD']\n",
    "uc_md = uc_md.dropna(subset=confounders)\n",
    "uc_md = uc_md.groupby('host_subject_id').first()\n",
    "uc_md['Match_IDs'] = _matchmaker(uc_md, status=status, \n",
    "                                 match_columns=confounders, \n",
    "                                 types=[True])\n",
    "uc_md = uc_md.dropna(subset=['Match_IDs'])\n",
    "uc_md['Match_IDs'] = uc_md['Match_IDs'].apply(lambda x: f'Price_UC_2019_{int(x)}')\n",
    "uc_md = uc_md.set_index('Run')\n",
    "uc_md['Cohort'] = 'Lloyd_Price2019'\n",
    "uc_md.to_csv(f'{DIR}/Lloyd_Price2019/sample_metadata_uc.txt', sep='\\t')"
   ]
  },
  {
   "cell_type": "code",
   "execution_count": 210,
   "id": "d492c15d",
   "metadata": {},
   "outputs": [],
   "source": [
    "# CD\n",
    "cd_md = md.loc[md[status] != 'UC']\n",
    "cd_md = cd_md.dropna(subset=confounders)\n",
    "cd_md = cd_md.groupby('host_subject_id').first()\n",
    "cd_md['Match_IDs'] = _matchmaker(cd_md, status=status, \n",
    "                                 match_columns=confounders, \n",
    "                                 types=[True])\n",
    "cd_md = cd_md.dropna(subset=['Match_IDs'])\n",
    "cd_md['Match_IDs'] = cd_md['Match_IDs'].apply(lambda x: f'Price_CD_2019_{int(x)}')\n",
    "cd_md = cd_md.set_index('Run')\n",
    "cd_md['Cohort'] = 'Lloyd_Price2019'\n",
    "cd_md.to_csv(f'{DIR}/Lloyd_Price2019/sample_metadata_cd.txt', sep='\\t')"
   ]
  },
  {
   "cell_type": "code",
   "execution_count": 211,
   "id": "8c6be886",
   "metadata": {},
   "outputs": [],
   "source": [
    "combined_md = cd_md\n",
    "\n",
    "combined_md = combined_md.groupby('Match_IDs').filter(lambda x: len(x) == 2)\n",
    "all_biom, combined_md = all_biom.align_to_dataframe(combined_md)"
   ]
  },
  {
   "cell_type": "code",
   "execution_count": 212,
   "id": "e28f9c06",
   "metadata": {},
   "outputs": [],
   "source": [
    "from biom.util import biom_open\n",
    "combined_md.to_csv(f'{DIR}/Combined/combined_metadata.txt', sep='\\t')\n",
    "with biom_open(f'{DIR}/Combined/combined.biom', 'w') as f:\n",
    "    all_biom.to_hdf5(f, 'combined')"
   ]
  },
  {
   "cell_type": "code",
   "execution_count": 213,
   "id": "cad13806",
   "metadata": {},
   "outputs": [
    {
     "data": {
      "text/plain": [
       "CD         598\n",
       "UC         375\n",
       "Control    365\n",
       "Name: Status, dtype: int64"
      ]
     },
     "execution_count": 213,
     "metadata": {},
     "output_type": "execute_result"
    }
   ],
   "source": [
    "md[status].value_counts()"
   ]
  },
  {
   "cell_type": "code",
   "execution_count": 214,
   "id": "426cc06e",
   "metadata": {},
   "outputs": [
    {
     "data": {
      "text/plain": [
       "((52, 42), (5795, 52))"
      ]
     },
     "execution_count": 214,
     "metadata": {},
     "output_type": "execute_result"
    }
   ],
   "source": [
    "combined_md.shape, all_biom.shape"
   ]
  },
  {
   "cell_type": "code",
   "execution_count": null,
   "id": "616295ec",
   "metadata": {},
   "outputs": [],
   "source": []
  }
 ],
 "metadata": {
  "kernelspec": {
   "display_name": "Python 3",
   "language": "python",
   "name": "python3"
  },
  "language_info": {
   "codemirror_mode": {
    "name": "ipython",
    "version": 3
   },
   "file_extension": ".py",
   "mimetype": "text/x-python",
   "name": "python",
   "nbconvert_exporter": "python",
   "pygments_lexer": "ipython3",
   "version": "3.8.8"
  },
  "toc": {
   "base_numbering": 1,
   "nav_menu": {},
   "number_sections": true,
   "sideBar": true,
   "skip_h1_title": false,
   "title_cell": "Table of Contents",
   "title_sidebar": "Contents",
   "toc_cell": true,
   "toc_position": {},
   "toc_section_display": true,
   "toc_window_display": false
  }
 },
 "nbformat": 4,
 "nbformat_minor": 5
}
