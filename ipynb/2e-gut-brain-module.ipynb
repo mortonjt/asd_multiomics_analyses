{
 "cells": [
  {
   "cell_type": "markdown",
   "id": "45d7c5a0",
   "metadata": {
    "toc": true
   },
   "source": [
    "<h1>Table of Contents<span class=\"tocSkip\"></span></h1>\n",
    "<div class=\"toc\"><ul class=\"toc-item\"></ul></div>"
   ]
  },
  {
   "cell_type": "code",
   "execution_count": 1,
   "id": "bbfb29e4",
   "metadata": {},
   "outputs": [],
   "source": [
    "import re\n",
    "import pandas as pd"
   ]
  },
  {
   "cell_type": "code",
   "execution_count": 2,
   "id": "1e4a294b",
   "metadata": {},
   "outputs": [],
   "source": [
    "pattern = re.compile(r'K[0-d]+')\n",
    "content = open('../sfari/data/41564_2018_337_MOESM3_ESM.txt').read()\n",
    "gbm_keggs = pattern.findall(content)"
   ]
  },
  {
   "cell_type": "code",
   "execution_count": 4,
   "id": "0a194e5d",
   "metadata": {},
   "outputs": [],
   "source": [
    "dirname = '../results/supplemental_tables'\n",
    "md = pd.read_csv(f'{dirname}/Table_S11.csv', index_col=0)\n",
    "microbe_keggs = md['KO'].unique()"
   ]
  },
  {
   "cell_type": "code",
   "execution_count": 5,
   "id": "6cee540a",
   "metadata": {},
   "outputs": [
    {
     "data": {
      "text/plain": [
       "(3, 208)"
      ]
     },
     "execution_count": 5,
     "metadata": {},
     "output_type": "execute_result"
    }
   ],
   "source": [
    "len(set(gbm_keggs) & set(microbe_keggs)), len(gbm_keggs)"
   ]
  },
  {
   "cell_type": "code",
   "execution_count": 6,
   "id": "af96691c",
   "metadata": {},
   "outputs": [],
   "source": [
    "common_keggs = list(set(gbm_keggs) & set(microbe_keggs))"
   ]
  },
  {
   "cell_type": "code",
   "execution_count": 7,
   "id": "f2f69ffc",
   "metadata": {},
   "outputs": [],
   "source": [
    "idx = md.apply(lambda x: x['KO'] in common_keggs, axis=1)\n",
    "submd = md.loc[idx]"
   ]
  },
  {
   "cell_type": "code",
   "execution_count": 8,
   "id": "a4a3665c",
   "metadata": {},
   "outputs": [],
   "source": [
    "del submd['Compound']"
   ]
  },
  {
   "cell_type": "code",
   "execution_count": 9,
   "id": "1264780f",
   "metadata": {},
   "outputs": [],
   "source": [
    "submd = submd.drop_duplicates()\n",
    "submd.to_csv('../results/supplemental_tables/Table_S13.csv', sep='\\t')"
   ]
  },
  {
   "cell_type": "code",
   "execution_count": null,
   "id": "792d6f11",
   "metadata": {},
   "outputs": [],
   "source": []
  },
  {
   "cell_type": "code",
   "execution_count": null,
   "id": "a0871dc6",
   "metadata": {},
   "outputs": [],
   "source": []
  },
  {
   "cell_type": "code",
   "execution_count": null,
   "id": "4f49a0f1",
   "metadata": {},
   "outputs": [],
   "source": []
  },
  {
   "cell_type": "code",
   "execution_count": null,
   "id": "eff1aa1d",
   "metadata": {},
   "outputs": [],
   "source": []
  }
 ],
 "metadata": {
  "kernelspec": {
   "display_name": "Python 3",
   "language": "python",
   "name": "python3"
  },
  "language_info": {
   "codemirror_mode": {
    "name": "ipython",
    "version": 3
   },
   "file_extension": ".py",
   "mimetype": "text/x-python",
   "name": "python",
   "nbconvert_exporter": "python",
   "pygments_lexer": "ipython3",
   "version": "3.8.8"
  },
  "toc": {
   "base_numbering": 1,
   "nav_menu": {},
   "number_sections": true,
   "sideBar": true,
   "skip_h1_title": false,
   "title_cell": "Table of Contents",
   "title_sidebar": "Contents",
   "toc_cell": true,
   "toc_position": {},
   "toc_section_display": true,
   "toc_window_display": false
  }
 },
 "nbformat": 4,
 "nbformat_minor": 5
}
