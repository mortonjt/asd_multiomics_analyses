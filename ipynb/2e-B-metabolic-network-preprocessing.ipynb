{
 "cells": [
  {
   "cell_type": "markdown",
   "id": "23664628",
   "metadata": {},
   "source": [
    "This assumes that the pathway-preprocessing notebook has already been run"
   ]
  },
  {
   "cell_type": "markdown",
   "id": "41344d36",
   "metadata": {
    "toc": true
   },
   "source": [
    "<h1>Table of Contents<span class=\"tocSkip\"></span></h1>\n",
    "<div class=\"toc\"><ul class=\"toc-item\"><li><span><a href=\"#Create-edge-lists\" data-toc-modified-id=\"Create-edge-lists-1\"><span class=\"toc-item-num\">1&nbsp;&nbsp;</span>Create edge lists</a></span><ul class=\"toc-item\"><li><span><a href=\"#WGS\" data-toc-modified-id=\"WGS-1.1\"><span class=\"toc-item-num\">1.1&nbsp;&nbsp;</span>WGS</a></span></li><li><span><a href=\"#16S\" data-toc-modified-id=\"16S-1.2\"><span class=\"toc-item-num\">1.2&nbsp;&nbsp;</span>16S</a></span></li></ul></li><li><span><a href=\"#RNAseq\" data-toc-modified-id=\"RNAseq-2\"><span class=\"toc-item-num\">2&nbsp;&nbsp;</span>RNAseq</a></span></li></ul></div>"
   ]
  },
  {
   "cell_type": "code",
   "execution_count": 1,
   "id": "92e069e5",
   "metadata": {},
   "outputs": [],
   "source": [
    "import pandas as pd\n",
    "import numpy as np\n",
    "import matplotlib.pyplot as plt\n",
    "from itertools import combinations"
   ]
  },
  {
   "cell_type": "code",
   "execution_count": 2,
   "id": "52c0685c",
   "metadata": {},
   "outputs": [],
   "source": [
    "import dask\n",
    "import dask.dataframe as dd\n",
    "from dask.distributed import Client, progress\n",
    "%matplotlib inline\n",
    "\n",
    "#client = Client(memory_limit='500GB')\n",
    "client = Client(threads_per_worker=2, n_workers=64, memory_limit=\"500GB\")"
   ]
  },
  {
   "cell_type": "code",
   "execution_count": 3,
   "id": "46d420aa",
   "metadata": {},
   "outputs": [],
   "source": [
    "rna_compounds = pd.read_csv('../results/RNA_compounds.csv', index_col=0)\n",
    "wgs_compounds = pd.read_csv('../results/WGS_compounds.csv', index_col=0)\n",
    "#amp_compounds = pd.read_csv('../results/16S_compounds.csv', index_col=0)"
   ]
  },
  {
   "cell_type": "code",
   "execution_count": 4,
   "id": "54acdbf5",
   "metadata": {},
   "outputs": [],
   "source": [
    "def edge_f(df):\n",
    "    compounds = df['Compound'].values\n",
    "    #p = df['-log(pvalue)']\n",
    "    edges = set(list(combinations(compounds, 2)))\n",
    "    #for i in range(len(compounds)):\n",
    "    #    for j in range(i):\n",
    "    #        edges.append((compounds[i], compounds[j]))\n",
    "    return edges"
   ]
  },
  {
   "cell_type": "markdown",
   "id": "6ed2047c",
   "metadata": {},
   "source": [
    "# Create edge lists"
   ]
  },
  {
   "cell_type": "markdown",
   "id": "e4ce7c54",
   "metadata": {},
   "source": [
    "## WGS"
   ]
  },
  {
   "cell_type": "code",
   "execution_count": null,
   "id": "c9251d55",
   "metadata": {},
   "outputs": [
    {
     "name": "stderr",
     "output_type": "stream",
     "text": [
      "<ipython-input-5-8e1b498766d1>:4: UserWarning: `meta` is not specified, inferred from partial data. Please provide `meta` if the result is unexpected.\n",
      "  Before: .apply(func)\n",
      "  After:  .apply(func, meta={'x': 'f8', 'y': 'f8'}) for dataframe result\n",
      "  or:     .apply(func, meta=('x', 'f8'))            for series result\n",
      "  wgs_futures = wgs_compounds_dd.groupby('Pathway').apply(edge_f)\n"
     ]
    }
   ],
   "source": [
    "wgs_compounds = pd.read_csv('../results/WGS_compounds.csv', index_col=0)\n",
    "wgs_compounds = wgs_compounds[['Pathway', 'Compound', '-log(pvalue)']]\n",
    "wgs_compounds_dd = dd.from_pandas(wgs_compounds, npartitions=10000)\n",
    "wgs_futures = wgs_compounds_dd.groupby('Pathway').apply(edge_f)\n",
    "wgs_compound_edges = wgs_futures.compute()\n",
    "wgs_list = set()\n",
    "for i in range(len(wgs_compound_edges)):\n",
    "    if len(wgs_compound_edges.values[i]) > 0:\n",
    "        wgs_list |= wgs_compound_edges.values[i]\n",
    "wgs_edges = pd.DataFrame(list(wgs_list))\n",
    "wgs_edges.columns = ['src', 'dest']\n",
    "wgs_edges.to_parquet('../results/wgs_compound_edges.parquet')"
   ]
  },
  {
   "cell_type": "markdown",
   "id": "dcbf8e89",
   "metadata": {},
   "source": [
    "## 16S "
   ]
  },
  {
   "cell_type": "raw",
   "id": "fec77e59",
   "metadata": {},
   "source": [
    "amp_compounds = pd.read_csv('../results/16S_compounds.csv', index_col=0)\n",
    "amp_compounds = amp_compounds[['Pathway', 'Compound', '-log(pvalue)']]\n",
    "amp_compounds_dd = dd.from_pandas(amp_compounds, npartitions=10000)\n",
    "amp_futures = amp_compounds_dd.groupby('Pathway').apply(edge_f)\n",
    "amp_compound_edges = amp_futures.compute()\n",
    "\n",
    "amp_list = set()\n",
    "for i in range(len(amp_compound_edges)):\n",
    "    if len(amp_compound_edges.values[i]) > 0:\n",
    "        amp_list |= amp_compound_edges.values[i]\n",
    "                \n",
    "amp_edges = pd.DataFrame(list(amp_list))\n",
    "amp_edges.columns = ['src', 'dest']\n",
    "\n",
    "amp_edges.to_parquet('../results/amp_compound_edges.parquet')"
   ]
  },
  {
   "cell_type": "markdown",
   "id": "abb4c74e",
   "metadata": {},
   "source": [
    "# RNAseq"
   ]
  },
  {
   "cell_type": "code",
   "execution_count": null,
   "id": "18671f44",
   "metadata": {},
   "outputs": [],
   "source": [
    "rna_compounds = pd.read_csv('../results/RNA_compounds.csv', index_col=0)\n",
    "rna_compounds = rna_compounds[['Pathway', 'Compound', '-log(pvalue)']]\n",
    "rna_compounds_dd = dd.from_pandas(rna_compounds, npartitions=10000)\n",
    "rna_futures = rna_compounds_dd.groupby('Pathway').apply(edge_f)\n",
    "rna_compound_edges = rna_futures.compute()\n",
    "\n",
    "rna_list = set()\n",
    "for i in range(len(rna_compound_edges)):\n",
    "    if len(rna_compound_edges.values[i]) > 0:\n",
    "        rna_list |= rna_compound_edges.values[i]\n",
    "        \n",
    "rna_edges = pd.DataFrame(list(rna_list))\n",
    "rna_edges.columns = ['src', 'dest']\n",
    "rna_edges.to_parquet('../results/rna_compound_edges.parquet')"
   ]
  },
  {
   "cell_type": "code",
   "execution_count": null,
   "id": "35cabdc5",
   "metadata": {},
   "outputs": [],
   "source": [
    "client.close()"
   ]
  },
  {
   "cell_type": "code",
   "execution_count": null,
   "id": "51d8cd5c",
   "metadata": {},
   "outputs": [],
   "source": []
  }
 ],
 "metadata": {
  "kernelspec": {
   "display_name": "Python 3",
   "language": "python",
   "name": "python3"
  },
  "language_info": {
   "codemirror_mode": {
    "name": "ipython",
    "version": 3
   },
   "file_extension": ".py",
   "mimetype": "text/x-python",
   "name": "python",
   "nbconvert_exporter": "python",
   "pygments_lexer": "ipython3",
   "version": "3.8.12"
  },
  "toc": {
   "base_numbering": 1,
   "nav_menu": {},
   "number_sections": true,
   "sideBar": true,
   "skip_h1_title": false,
   "title_cell": "Table of Contents",
   "title_sidebar": "Contents",
   "toc_cell": true,
   "toc_position": {},
   "toc_section_display": true,
   "toc_window_display": false
  }
 },
 "nbformat": 4,
 "nbformat_minor": 5
}
