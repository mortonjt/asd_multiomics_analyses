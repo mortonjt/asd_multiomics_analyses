{
 "cells": [
  {
   "cell_type": "markdown",
   "id": "58614048",
   "metadata": {
    "toc": true
   },
   "source": [
    "<h1>Table of Contents<span class=\"tocSkip\"></span></h1>\n",
    "<div class=\"toc\"><ul class=\"toc-item\"></ul></div>"
   ]
  },
  {
   "cell_type": "code",
   "execution_count": 1,
   "id": "aa07c4c6",
   "metadata": {},
   "outputs": [],
   "source": [
    "import pandas as pd\n",
    "kang_dir = '../sfari/data/sra/Kang2017'\n",
    "md = pd.read_table(f'{kang_dir}/SraRunTable.txt', index_col=0, sep=',')"
   ]
  },
  {
   "cell_type": "raw",
   "id": "a6c40d59",
   "metadata": {},
   "source": [
    "md = pd.read_table(f'{kang_dir}/sample_metadata.txt', index_col=0)\n",
    "md = pd.read_excel(f'{kang_dir}/41598_2019_42183_MOESM2_ESM.xlsx')\n",
    "md = pd.read_excel(f'{kang_dir}/41598_2019_42183_MOESM3_ESM.xlsx', skiprows=2)"
   ]
  },
  {
   "cell_type": "code",
   "execution_count": 4,
   "id": "442f5692",
   "metadata": {},
   "outputs": [],
   "source": [
    "submd = md[['GROUP', 'weeks-since-experiment-start', 'cars']].dropna()"
   ]
  },
  {
   "cell_type": "code",
   "execution_count": 5,
   "id": "976dde06",
   "metadata": {},
   "outputs": [
    {
     "data": {
      "text/plain": [
       "0.0     35\n",
       "10.0    32\n",
       "18.0    32\n",
       "Name: weeks-since-experiment-start, dtype: int64"
      ]
     },
     "execution_count": 5,
     "metadata": {},
     "output_type": "execute_result"
    }
   ],
   "source": [
    "submd['weeks-since-experiment-start'].value_counts()"
   ]
  },
  {
   "cell_type": "code",
   "execution_count": null,
   "id": "d732d8d8",
   "metadata": {},
   "outputs": [],
   "source": []
  }
 ],
 "metadata": {
  "kernelspec": {
   "display_name": "Python 3",
   "language": "python",
   "name": "python3"
  },
  "language_info": {
   "codemirror_mode": {
    "name": "ipython",
    "version": 3
   },
   "file_extension": ".py",
   "mimetype": "text/x-python",
   "name": "python",
   "nbconvert_exporter": "python",
   "pygments_lexer": "ipython3",
   "version": "3.8.8"
  },
  "toc": {
   "base_numbering": 1,
   "nav_menu": {},
   "number_sections": true,
   "sideBar": true,
   "skip_h1_title": false,
   "title_cell": "Table of Contents",
   "title_sidebar": "Contents",
   "toc_cell": true,
   "toc_position": {},
   "toc_section_display": true,
   "toc_window_display": false
  }
 },
 "nbformat": 4,
 "nbformat_minor": 5
}
