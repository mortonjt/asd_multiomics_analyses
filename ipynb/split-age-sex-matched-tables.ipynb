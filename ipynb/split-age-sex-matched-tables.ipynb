{
 "cells": [
  {
   "cell_type": "markdown",
   "id": "e484d41f",
   "metadata": {
    "toc": true
   },
   "source": [
    "<h1>Table of Contents<span class=\"tocSkip\"></span></h1>\n",
    "<div class=\"toc\"><ul class=\"toc-item\"></ul></div>"
   ]
  },
  {
   "cell_type": "code",
   "execution_count": 40,
   "id": "da9cdde5",
   "metadata": {},
   "outputs": [],
   "source": [
    "import os\n",
    "import biom\n",
    "from biom.util import biom_open\n",
    "import pandas as pd"
   ]
  },
  {
   "cell_type": "code",
   "execution_count": 41,
   "id": "72336705",
   "metadata": {},
   "outputs": [],
   "source": [
    "data_dir = '../sfari/data/sra/Kang2017'\n",
    "table_fname = f'{data_dir}/age_sex_match_week0_ogu.biom'\n",
    "md_fname = f'{data_dir}/combined_sample_metadata_0.txt'\n",
    "table = biom.load_table(table_fname)\n",
    "metadata = pd.read_table(md_fname, index_col=0)\n",
    "table_df = table.to_dataframe().T"
   ]
  },
  {
   "cell_type": "code",
   "execution_count": 42,
   "id": "fdf4409b",
   "metadata": {},
   "outputs": [],
   "source": [
    "output_dir = '../sfari/data/sra'\n",
    "for name, submd in metadata.groupby('Cohort'):\n",
    "    subtable = table_df.loc[submd.index]\n",
    "    with biom_open(f'{output_dir}/{name}/deblur/ogus.biom', 'w') as f:\n",
    "        st = biom.Table(subtable.T.values, list(subtable.columns), list(subtable.index))\n",
    "        st.to_hdf5(f, 'example')"
   ]
  }
 ],
 "metadata": {
  "kernelspec": {
   "display_name": "Python 3",
   "language": "python",
   "name": "python3"
  },
  "language_info": {
   "codemirror_mode": {
    "name": "ipython",
    "version": 3
   },
   "file_extension": ".py",
   "mimetype": "text/x-python",
   "name": "python",
   "nbconvert_exporter": "python",
   "pygments_lexer": "ipython3",
   "version": "3.8.8"
  },
  "toc": {
   "base_numbering": 1,
   "nav_menu": {},
   "number_sections": true,
   "sideBar": true,
   "skip_h1_title": false,
   "title_cell": "Table of Contents",
   "title_sidebar": "Contents",
   "toc_cell": true,
   "toc_position": {},
   "toc_section_display": true,
   "toc_window_display": false
  }
 },
 "nbformat": 4,
 "nbformat_minor": 5
}
