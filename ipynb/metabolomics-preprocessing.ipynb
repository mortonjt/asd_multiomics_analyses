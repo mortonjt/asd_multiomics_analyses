{
 "cells": [
  {
   "cell_type": "markdown",
   "id": "4cdd834d",
   "metadata": {
    "toc": true
   },
   "source": [
    "<h1>Table of Contents<span class=\"tocSkip\"></span></h1>\n",
    "<div class=\"toc\"><ul class=\"toc-item\"><li><span><a href=\"#Noto-2014\" data-toc-modified-id=\"Noto-2014-1\"><span class=\"toc-item-num\">1&nbsp;&nbsp;</span>Noto 2014</a></span></li><li><span><a href=\"#Needham-2020\" data-toc-modified-id=\"Needham-2020-2\"><span class=\"toc-item-num\">2&nbsp;&nbsp;</span>Needham 2020</a></span></li><li><span><a href=\"#Kuwabara-2013\" data-toc-modified-id=\"Kuwabara-2013-3\"><span class=\"toc-item-num\">3&nbsp;&nbsp;</span>Kuwabara 2013</a></span></li><li><span><a href=\"#Noto-2014\" data-toc-modified-id=\"Noto-2014-4\"><span class=\"toc-item-num\">4&nbsp;&nbsp;</span>Noto 2014</a></span></li><li><span><a href=\"#West-2014\" data-toc-modified-id=\"West-2014-5\"><span class=\"toc-item-num\">5&nbsp;&nbsp;</span>West 2014</a></span></li><li><span><a href=\"#Kang-2018\" data-toc-modified-id=\"Kang-2018-6\"><span class=\"toc-item-num\">6&nbsp;&nbsp;</span>Kang 2018</a></span></li></ul></div>"
   ]
  },
  {
   "cell_type": "code",
   "execution_count": 75,
   "id": "09242f45",
   "metadata": {},
   "outputs": [],
   "source": [
    "import os\n",
    "import qiime2\n",
    "import pandas as pd\n",
    "import numpy as np\n",
    "import matplotlib.pyplot as plt\n",
    "from q2_matchmaker._matching import _matchmaker\n",
    "from biom.util import biom_open\n",
    "import biom\n",
    "%matplotlib inline\n",
    "data_dir = '~/ceph/sfari/data/metabolomics'\n",
    "\n",
    "def save_qiime2_metadata(filename, df, types : dict = None):\n",
    "    df_ = df.copy()\n",
    "    df_.index.name = 'sampleid'\n",
    "    if types is not None:\n",
    "        df_ = df_.astype(types)\n",
    "    md = qiime2.Metadata(df_)\n",
    "    md.save(filename)"
   ]
  },
  {
   "cell_type": "markdown",
   "id": "d3e62034",
   "metadata": {},
   "source": [
    "# Noto 2014"
   ]
  },
  {
   "cell_type": "code",
   "execution_count": 105,
   "id": "4b99fc58",
   "metadata": {},
   "outputs": [
    {
     "name": "stderr",
     "output_type": "stream",
     "text": [
      "/mnt/home/jmorton/miniconda3/envs/qiime2-2021.4/lib/python3.8/site-packages/openpyxl/worksheet/_reader.py:312: UserWarning: Unknown extension is not supported and will be removed\n",
      "  warn(msg)\n"
     ]
    }
   ],
   "source": [
    "res_dir = '../sfari/data/metabolomics/Noto2014'\n",
    "noto_urine = pd.read_excel(os.path.join(res_dir, 'Controlli vs ASD_Mussap_2020.xlsx'))\n",
    "noto_md = pd.read_excel(os.path.join(res_dir, 'METADATA_mussap_2020.xlsx'))\n",
    "noto_md = noto_md.dropna(subset=['AGE', 'GENDER'])\n",
    "noto_urine = noto_urine.set_index('NAME')\n",
    "noto_urine_ms = noto_urine.iloc[:, 1:].fillna(0)\n",
    "noto_urine_md = noto_md.set_index('collection code')\n",
    "\n",
    "def assign_f(x):\n",
    "    if 'ASD' in x:\n",
    "        return 'ASD'\n",
    "    else:\n",
    "        return 'Control'\n",
    "noto_urine_ms, noto_urine_md = noto_urine_ms.align(noto_urine_md, join='inner', axis=0)\n",
    "noto_urine_md['Status'] = noto_urine_md['GROUP'].apply(assign_f)\n",
    "\n",
    "noto_urine_md['Match_IDs'] = _matchmaker(\n",
    "    noto_urine_md, 'Status', ['AGE', 'GENDER'], types=[False, True])\n",
    "noto_urine_md = noto_urine_md.dropna(subset=['Match_IDs'])\n",
    "noto_urine_md['Match_IDs'] = noto_urine_md['Match_IDs'].astype(np.int64)\n",
    "noto_urine_ms, noto_urine_md = noto_urine_ms.align(noto_urine_md, join='inner', axis=0)\n",
    "\n",
    "def rename_f(x):\n",
    "    return x.replace('#', 'NOTO')\n",
    "noto_urine_md.index = list(map(rename_f, noto_urine_md.index))\n",
    "noto_urine_ms.index = list(map(rename_f, noto_urine_ms.index))\n",
    "\n",
    "save_qiime2_metadata(f'{res_dir}/urine_sample_metadata.txt',\n",
    "                     noto_urine_md[['Status', 'Match_IDs']], types={'Match_IDs': 'str'})\n",
    "with biom_open(f'{res_dir}/urine.biom', 'w') as f:\n",
    "    table = biom.Table(noto_urine_ms.values.T, noto_urine_ms.columns, noto_urine_ms.index)\n",
    "    table.to_hdf5(f, 'urine')"
   ]
  },
  {
   "cell_type": "markdown",
   "id": "e3751f29",
   "metadata": {},
   "source": [
    "# Needham 2020\n",
    "\n",
    "Relevant paper \n",
    "https://www.biologicalpsychiatryjournal.com/article/S0006-3223(20)31985-5/fulltext"
   ]
  },
  {
   "cell_type": "code",
   "execution_count": 98,
   "id": "f7bd7377",
   "metadata": {},
   "outputs": [],
   "source": [
    "res_dir = '../sfari/data/metabolomics/Needham2020'\n",
    "needham = os.path.join(data_dir, 'Needham2020', 'mmc2.xlsx')\n",
    "# parse out plasma metabolites\n",
    "needham_plasma = pd.read_excel(needham, sheet_name = 'Table S2. OrigScale HumPlas')\n",
    "#needham_plasma = pd.read_excel(needham, sheet_name = 'Table S3. ScaledImpData HumPlas')\n",
    "needham_plasma_md = needham_plasma.iloc[:25, 11:].T\n",
    "needham_plasma_md = needham_plasma.iloc[:25, 11:].T\n",
    "needham_plasma_md.columns = needham_plasma.iloc[:25, 10].values\n",
    "needham_plasma_md = needham_plasma_md.iloc[:-1]\n",
    "needham_plasma_ms = needham_plasma.iloc[25:, 11:]\n",
    "needham_plasma_ms.index = needham_plasma.iloc[:, 0].dropna().values[1:]\n",
    "needham_plasma_ms = needham_plasma_ms.iloc[:, :-1]\n",
    "needham_plasma_ms = needham_plasma_ms.fillna(0)\n",
    "plasma_metabolite_md = needham_plasma.iloc[25:, :11]\n",
    "plasma_metabolite_md.columns = needham_plasma.iloc[24, :11].values\n",
    "# wtf excel ...\n",
    "needham_plasma_md = needham_plasma_md.rename(columns={'                                      Group HMDB': 'Group HMDB'})\n",
    "\n",
    "def group_f(x):\n",
    "    if x == 'ASD Yes':\n",
    "        return 'ASD'\n",
    "    else:\n",
    "        return 'Control'\n",
    "needham_plasma_md['Status'] = needham_plasma_md['Group HMDB'].apply(group_f)\n",
    "\n",
    "\n",
    "needham_plasma_md['AGE'] = needham_plasma_md['AGE'].replace('ND', np.nan)\n",
    "needham_plasma_md = needham_plasma_md.dropna(subset=['AGE'])\n",
    "needham_plasma_md['Match_IDs'] = _matchmaker(\n",
    "    needham_plasma_md, 'Status', ['AGE', 'GENDER'], types=[False, True])\n",
    "needham_plasma_md = needham_plasma_md.dropna(subset=['Match_IDs'])\n",
    "needham_plasma_md['Match_IDs'] = needham_plasma_md['Match_IDs'].astype(np.int64)\n",
    "needham_plasma_ms = needham_plasma_ms[needham_plasma_md.index]\n",
    "plasma_metabolite_md.to_csv(os.path.join(data_dir, 'Needham2020', 'plasma_metabolite_metadata.txt'), sep='\\t')\n",
    "save_qiime2_metadata(f'{res_dir}/plasma_sample_metadata.txt',\n",
    "                     needham_plasma_md[['Status', 'Match_IDs']], types={'Match_IDs': 'str'})\n",
    "with biom_open(f'{res_dir}/plasma.biom', 'w') as f:\n",
    "    table = biom.Table(needham_plasma_ms.values, needham_plasma_ms.index, needham_plasma_ms.columns)\n",
    "    table.to_hdf5(f, 'plasma')"
   ]
  },
  {
   "cell_type": "code",
   "execution_count": 3,
   "id": "df60528f",
   "metadata": {},
   "outputs": [
    {
     "name": "stdout",
     "output_type": "stream",
     "text": [
      "mu 19429836.67734174 sigma 396457334.7573488\n"
     ]
    }
   ],
   "source": [
    "mu = needham_plasma_ms.values.mean()\n",
    "sigma = needham_plasma_ms.values.std()\n",
    "print('mu', mu, 'sigma', sigma)"
   ]
  },
  {
   "cell_type": "code",
   "execution_count": 4,
   "id": "0b63dce9",
   "metadata": {},
   "outputs": [
    {
     "data": {
      "text/plain": [
       "((1611, 80), (80, 27), (1611, 80))"
      ]
     },
     "execution_count": 4,
     "metadata": {},
     "output_type": "execute_result"
    }
   ],
   "source": [
    "needham_plasma_ms.shape, needham_plasma_md.shape, table.shape"
   ]
  },
  {
   "cell_type": "code",
   "execution_count": 101,
   "id": "a81ab8de",
   "metadata": {},
   "outputs": [],
   "source": [
    "# parse out fecal metabolites\n",
    "needham_fecal = pd.read_excel(needham, sheet_name = 'Table S5. OrigScale HumFec')\n",
    "#needham_fecal = pd.read_excel(needham, sheet_name = 'Table S6. ScaledImpData HumFec')\n",
    "needham_fecal_md = needham_fecal.iloc[:17, 11:].T\n",
    "needham_fecal_md = needham_fecal.iloc[:17, 11:].T\n",
    "needham_fecal_md.columns = needham_fecal.iloc[:17, 10].values\n",
    "needham_fecal_md = needham_fecal_md.iloc[:-1]\n",
    "needham_fecal_ms = needham_fecal.iloc[17:, 11:]\n",
    "needham_fecal_ms.index = needham_fecal.iloc[:, 0].dropna().values[1:]\n",
    "needham_fecal_ms = needham_fecal_ms.iloc[:, :-1]\n",
    "needham_fecal_ms = needham_fecal_ms.fillna(0)\n",
    "needham_fecal_md = needham_fecal_md.rename(\n",
    "    columns={'                                      Group HMDB': 'Group HMDB'})\n",
    "fecal_metabolite_md = needham_fecal.iloc[17:, :11]\n",
    "fecal_metabolite_md.columns = needham_fecal.iloc[16, :11].values\n",
    "needham_fecal_md['Status'] = needham_fecal_md['Group HMDB'].apply(group_f)\n",
    "needham_fecal_md['AGE'] = needham_fecal_md['AGE'].replace('.', np.nan)\n",
    "needham_fecal_md = needham_fecal_md.dropna(subset=['AGE'])\n",
    "needham_fecal_md['Match_IDs'] = _matchmaker(\n",
    "    needham_fecal_md, 'Status', ['AGE', 'GENDER'], types=[False, True])\n",
    "needham_fecal_md = needham_fecal_md.dropna(subset=['Match_IDs'])\n",
    "needham_fecal_md['Match_IDs'] = needham_fecal_md['Match_IDs'].astype(np.int64)\n",
    "needham_fecal_ms = needham_fecal_ms[needham_fecal_md.index]\n",
    "needham_fecal_md.to_csv(os.path.join(data_dir, 'Needham2020', 'fecal_sample_metadata.txt'), sep='\\t')\n",
    "fecal_metabolite_md.to_csv(os.path.join(data_dir, 'Needham2020', 'fecal_metabolite_metadata.txt'), sep='\\t')\n",
    "save_qiime2_metadata(f'{res_dir}/fecal_sample_metadata.txt',\n",
    "                     needham_fecal_md[['Status', 'Match_IDs']], types={'Match_IDs': 'str'})\n",
    "with biom_open('../sfari/data/metabolomics/Needham2020/fecal.biom', 'w') as f:\n",
    "    table = biom.Table(needham_fecal_ms.values, needham_fecal_ms.index, needham_fecal_ms.columns)\n",
    "    table.to_hdf5(f, 'fecal')"
   ]
  },
  {
   "cell_type": "code",
   "execution_count": 6,
   "id": "8cd2e8fb",
   "metadata": {},
   "outputs": [
    {
     "data": {
      "text/plain": [
       "((814, 44), (44, 19))"
      ]
     },
     "execution_count": 6,
     "metadata": {},
     "output_type": "execute_result"
    }
   ],
   "source": [
    "needham_fecal_ms.shape, needham_fecal_md.shape"
   ]
  },
  {
   "cell_type": "code",
   "execution_count": 7,
   "id": "78467b13",
   "metadata": {},
   "outputs": [
    {
     "name": "stdout",
     "output_type": "stream",
     "text": [
      "mu 46429195.47040479 sigma 397690723.927873\n"
     ]
    }
   ],
   "source": [
    "mu = needham_fecal_ms.values.mean()\n",
    "sigma = needham_fecal_ms.values.std()\n",
    "print('mu', mu, 'sigma', sigma)"
   ]
  },
  {
   "cell_type": "markdown",
   "id": "23f72829",
   "metadata": {},
   "source": [
    "# Kuwabara 2013\n",
    "\n",
    "Relevant paper\n",
    "https://pubmed.ncbi.nlm.nih.gov/24058493/"
   ]
  },
  {
   "cell_type": "code",
   "execution_count": 8,
   "id": "075fdf50",
   "metadata": {},
   "outputs": [],
   "source": [
    "res_dir = '../sfari/data/metabolomics/Kuwabara2013'\n",
    "kuwabara = os.path.join(data_dir, 'Kuwabara2013', 'metabolomics_absolute_age.xlsx')\n",
    "kuwabara = pd.read_excel(kuwabara)\n",
    "kuwabara_md = kuwabara.iloc[1:3].T.dropna().set_index(1)\n",
    "def status_f(x):\n",
    "    # not sure what CT-493 is ...\n",
    "    if 'ASO' in x:\n",
    "        return 'ASD'\n",
    "    else:\n",
    "        return 'Control'\n",
    "kuwabara_md['Status'] = list(map(status_f, kuwabara_md.index))\n",
    "kuwabara_md = kuwabara_md.rename(columns={2: 'age'})\n",
    "kuwabara_md.index.name = 'sampleid'\n",
    "kuwabara_ms = kuwabara.iloc[3:, 5:]\n",
    "kuwabara_ms.index = kuwabara['KEGG ID'].dropna().values\n",
    "kuwabara_ms = kuwabara_ms.replace('N.D.', 0)\n",
    "kuwabara_ms = kuwabara_ms.T.dropna().T  # remove nan columns\n",
    "kuwabara_ms.columns = kuwabara_md.index\n",
    "kuwabara_md['age'] = kuwabara_md['age'].astype(np.float64)"
   ]
  },
  {
   "cell_type": "code",
   "execution_count": 9,
   "id": "11619ab1",
   "metadata": {},
   "outputs": [
    {
     "data": {
      "text/plain": [
       "((112, 20), (20, 2))"
      ]
     },
     "execution_count": 9,
     "metadata": {},
     "output_type": "execute_result"
    }
   ],
   "source": [
    "kuwabara_ms.shape, kuwabara_md.shape"
   ]
  },
  {
   "cell_type": "code",
   "execution_count": 10,
   "id": "9619d4e0",
   "metadata": {},
   "outputs": [],
   "source": [
    "kuwabara_md['Match_IDs'] = _matchmaker(\n",
    "    kuwabara_md, 'Status', ['age'], types=[False])\n",
    "kuwabara_md = kuwabara_md.dropna(subset=['Match_IDs'])\n",
    "kuwabara_md['Match_IDs'] = kuwabara_md['Match_IDs'].astype(np.int64)\n",
    "kuwabara_ms = kuwabara_ms[kuwabara_md.index]\n",
    "#kuwabara_md.to_csv(os.path.join(data_dir, 'Kuwabara2013', 'plasma_sample_metadata.txt'), sep='\\t')\n",
    "save_qiime2_metadata(f'{res_dir}/plasma_sample_metadata.txt',\n",
    "                     kuwabara_md[['Status', 'Match_IDs']], types={'Match_IDs': 'str'})\n",
    "with biom_open('../sfari/data/metabolomics/Kuwabara2013/plasma.biom', 'w') as f:\n",
    "    table = biom.Table(kuwabara_ms.values, kuwabara_ms.index, kuwabara_ms.columns)\n",
    "    table.to_hdf5(f, 'plasma')"
   ]
  },
  {
   "cell_type": "code",
   "execution_count": 11,
   "id": "e0bf76fa",
   "metadata": {},
   "outputs": [
    {
     "data": {
      "text/plain": [
       "((112, 20), (20, 3))"
      ]
     },
     "execution_count": 11,
     "metadata": {},
     "output_type": "execute_result"
    }
   ],
   "source": [
    "kuwabara_ms.shape, kuwabara_md.shape"
   ]
  },
  {
   "cell_type": "code",
   "execution_count": 12,
   "id": "fbcddfd3",
   "metadata": {},
   "outputs": [
    {
     "name": "stdout",
     "output_type": "stream",
     "text": [
      "-0.7 3.653004851412662\n"
     ]
    }
   ],
   "source": [
    "age_diffs = kuwabara_md[['age', 'Match_IDs']].groupby('Match_IDs').diff().dropna()\n",
    "print(age_diffs.mean().values[0], age_diffs.std().values[0])"
   ]
  },
  {
   "cell_type": "code",
   "execution_count": 13,
   "id": "f7f88b94",
   "metadata": {},
   "outputs": [
    {
     "name": "stdout",
     "output_type": "stream",
     "text": [
      "mu 44.45148566083439 sigma 190.01866864545033\n"
     ]
    }
   ],
   "source": [
    "mu = kuwabara_ms.values.mean()\n",
    "sigma = kuwabara_ms.values.std()\n",
    "print('mu', mu, 'sigma', sigma)"
   ]
  },
  {
   "cell_type": "markdown",
   "id": "7761e86a",
   "metadata": {},
   "source": [
    "# Noto 2014"
   ]
  },
  {
   "cell_type": "code",
   "execution_count": 14,
   "id": "de4935b9",
   "metadata": {},
   "outputs": [
    {
     "name": "stderr",
     "output_type": "stream",
     "text": [
      "/mnt/home/jmorton/miniconda3/envs/catvae/lib/python3.8/site-packages/openpyxl/worksheet/_reader.py:312: UserWarning: Unknown extension is not supported and will be removed\n",
      "  warn(msg)\n"
     ]
    }
   ],
   "source": [
    "# missing age / sex information\n",
    "noto = os.path.join(data_dir, 'Noto2014', 'Controlli vs ASD_Mussap_2020.xlsx')\n",
    "noto = pd.read_excel(noto)"
   ]
  },
  {
   "cell_type": "markdown",
   "id": "c34231e9",
   "metadata": {},
   "source": [
    "# West 2014"
   ]
  },
  {
   "cell_type": "code",
   "execution_count": 15,
   "id": "4c8cb9b0",
   "metadata": {},
   "outputs": [],
   "source": [
    "# it looks like they only have mass and retention time unfortunately\n",
    "west = os.path.join(data_dir, 'West2014', 'pone.0112445.s005.xlsx')\n",
    "west = pd.read_excel(west)"
   ]
  },
  {
   "cell_type": "markdown",
   "id": "5ba44a46",
   "metadata": {},
   "source": [
    "# Kang 2018"
   ]
  },
  {
   "cell_type": "code",
   "execution_count": 16,
   "id": "dc364f18",
   "metadata": {},
   "outputs": [],
   "source": [
    "data_dir = '~/ceph/sfari/data/metabolomics'\n",
    "res_dir = '../sfari/data/metabolomics/Kang2018'\n",
    "kang = os.path.join(data_dir, 'Kang2018', 'Kangetal2018.xlsx')\n",
    "kang_md = pd.read_excel(kang, sheet_name='Metadatabase', skiprows=1).set_index('Sample ID').T\n",
    "kang_md = kang_md.dropna(subset=['age', 'Group'])\n",
    "kang_md['Status'] = kang_md['Group']\n",
    "\n",
    "kang = os.path.join(data_dir, 'Kang2018', 'Kangetal2018.xlsx')\n",
    "kang_ms = pd.read_excel(kang, sheet_name='metabolites', skiprows=1)\n",
    "kang_ms = kang_ms.set_index('Sample ID')\n",
    "kang_ms = kang_ms.dropna()\n",
    "idx = kang_ms.sum(axis=1) > 0\n",
    "kang_ms = kang_ms.loc[idx]\n",
    "kang_ms = kang_ms[kang_md.index]"
   ]
  },
  {
   "cell_type": "code",
   "execution_count": 17,
   "id": "2222bc83",
   "metadata": {},
   "outputs": [
    {
     "data": {
      "text/plain": [
       "((59, 44), (44, 28))"
      ]
     },
     "execution_count": 17,
     "metadata": {},
     "output_type": "execute_result"
    }
   ],
   "source": [
    "kang_ms.shape, kang_md.shape"
   ]
  },
  {
   "cell_type": "code",
   "execution_count": 18,
   "id": "66053c09",
   "metadata": {},
   "outputs": [],
   "source": [
    "kang_md['Match_IDs'] = _matchmaker(\n",
    "    kang_md, 'Status', ['age', 'Gender'], types=[False, True])\n",
    "kang_md = kang_md.dropna(subset=['Match_IDs'])\n",
    "kang_md['Match_IDs'] = kang_md['Match_IDs'].astype(np.int64)\n",
    "kang_ms = kang_ms[kang_md.index]\n",
    "#kang_md.to_csv(os.path.join(data_dir, 'Kang2018', 'fecal_metabolite_metadata.txt'), sep='\\t')\n",
    "save_qiime2_metadata(f'{res_dir}/fecal_sample_metadata.txt',\n",
    "                     kang_md[['Status', 'Match_IDs']], types={'Match_IDs': 'str'})\n",
    "with biom_open('../sfari/data/metabolomics/Kang2018/fecal.biom', 'w') as f:\n",
    "    table = biom.Table(kang_ms.values, kang_ms.index, kang_ms.columns)\n",
    "    table.to_hdf5(f, 'fecal')"
   ]
  },
  {
   "cell_type": "code",
   "execution_count": 19,
   "id": "26d86d50",
   "metadata": {},
   "outputs": [
    {
     "name": "stdout",
     "output_type": "stream",
     "text": [
      "mu 7.941069833522684 sigma 27.74041650248653\n"
     ]
    }
   ],
   "source": [
    "mu = kang_ms.values.mean()\n",
    "sigma = kang_ms.values.std()\n",
    "print('mu', mu, 'sigma', sigma)"
   ]
  },
  {
   "cell_type": "code",
   "execution_count": 20,
   "id": "45b65852",
   "metadata": {},
   "outputs": [
    {
     "data": {
      "text/plain": [
       "((59, 42), (42, 29))"
      ]
     },
     "execution_count": 20,
     "metadata": {},
     "output_type": "execute_result"
    }
   ],
   "source": [
    "kang_ms.shape, kang_md.shape"
   ]
  },
  {
   "cell_type": "code",
   "execution_count": null,
   "id": "edd00e02",
   "metadata": {},
   "outputs": [],
   "source": []
  }
 ],
 "metadata": {
  "kernelspec": {
   "display_name": "Python 3",
   "language": "python",
   "name": "python3"
  },
  "language_info": {
   "codemirror_mode": {
    "name": "ipython",
    "version": 3
   },
   "file_extension": ".py",
   "mimetype": "text/x-python",
   "name": "python",
   "nbconvert_exporter": "python",
   "pygments_lexer": "ipython3",
   "version": "3.8.8"
  },
  "toc": {
   "base_numbering": 1,
   "nav_menu": {},
   "number_sections": true,
   "sideBar": true,
   "skip_h1_title": false,
   "title_cell": "Table of Contents",
   "title_sidebar": "Contents",
   "toc_cell": true,
   "toc_position": {},
   "toc_section_display": true,
   "toc_window_display": false
  }
 },
 "nbformat": 4,
 "nbformat_minor": 5
}
