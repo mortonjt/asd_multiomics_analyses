{
 "cells": [
  {
   "cell_type": "markdown",
   "id": "a64c45e3",
   "metadata": {
    "toc": true
   },
   "source": [
    "<h1>Table of Contents<span class=\"tocSkip\"></span></h1>\n",
    "<div class=\"toc\"><ul class=\"toc-item\"><li><span><a href=\"#Summarize-results\" data-toc-modified-id=\"Summarize-results-1\"><span class=\"toc-item-num\">1&nbsp;&nbsp;</span>Summarize results</a></span></li><li><span><a href=\"#Reload-figures-here\" data-toc-modified-id=\"Reload-figures-here-2\"><span class=\"toc-item-num\">2&nbsp;&nbsp;</span>Reload figures here</a></span></li><li><span><a href=\"#Reload-results-to-plot-results\" data-toc-modified-id=\"Reload-results-to-plot-results-3\"><span class=\"toc-item-num\">3&nbsp;&nbsp;</span>Reload results to plot results</a></span></li></ul></div>"
   ]
  },
  {
   "cell_type": "markdown",
   "id": "1751b07a",
   "metadata": {},
   "source": [
    "Here, we will construct put together some classification benchmarks for conditional logistic regression, random forests and SVMs using the results from the cross-validation."
   ]
  },
  {
   "cell_type": "code",
   "execution_count": 1,
   "id": "aa5f5d59",
   "metadata": {},
   "outputs": [],
   "source": [
    "# This block is just for importing the necessary libraries.  \n",
    "import os\n",
    "import pickle\n",
    "from collections import defaultdict\n",
    "\n",
    "# Numerical libraries\n",
    "import pandas as pd\n",
    "import numpy as np\n",
    "import numpy.ma as ma\n",
    "\n",
    "import biom\n",
    "import arviz as az\n",
    "from scipy.spatial.distance import euclidean\n",
    "from gneiss.balances import sparse_balance_basis\n",
    "\n",
    "from statsmodels.discrete.conditional_models import ConditionalLogit\n",
    "from patsy import dmatrix\n",
    "from sklearn.preprocessing import LabelEncoder\n",
    "from sklearn.model_selection import KFold\n",
    "from sklearn.ensemble import RandomForestClassifier\n",
    "from sklearn.svm import SVC\n",
    "from sklearn.metrics import confusion_matrix\n",
    "from sklearn.metrics import classification_report\n",
    "\n",
    "# Plotting libraries\n",
    "import matplotlib.pyplot as plt\n",
    "import matplotlib\n",
    "import matplotlib.patches as mpatches\n",
    "import seaborn as sns\n",
    "from matplotlib_venn import venn2, venn3\n",
    "# custom utility and plotting functions\n",
    "from util import (extract_differentials, select_features, \n",
    "                  get_genomic_data, collapse_transcripts, \n",
    "                  aggregate_pathways,\n",
    "                  ranking, btest, log_pvalue, read_kegg_dict,\n",
    "                  ilr_transform_differentials,\n",
    "                  rename_clades, create_projection,\n",
    "                  match_all_differentials)\n",
    "from logit import conditional_logistic_regression, clogit_predict\n",
    "from plot import (rankplot, networkplot, vectorplot)\n",
    "import random\n",
    "import warnings\n",
    "warnings.simplefilter('ignore')\n",
    "\n",
    "# directory paths\n",
    "amp_directory = '../sfari/data/sra/Combined'\n",
    "wgs_directory = '../sfari/data/sra_shotgun/Combined'\n",
    "rna_directory = '../sfari/data/recount3'\n",
    "kang_directory = '../sfari/data/sra/Kang2017'\n",
    "sepp_directory = '../sfari/data/sra/Kang2017/deblur/sepp'\n",
    "berding_directory = '../sfari/data/sra/Berding2020'\n",
    "\n",
    "results_dir = '../results'\n",
    "kegg_dir = f'{results_dir}/kegg'\n",
    "hsa_dir = f'{results_dir}/hsa_kegg'\n",
    "np.random.seed(0)\n",
    "random.seed(0)\n",
    "%matplotlib inline\n",
    "\n",
    "pd.options.display.max_rows = 100 "
   ]
  },
  {
   "cell_type": "markdown",
   "id": "10b11cfc",
   "metadata": {},
   "source": [
    "Cross-validation parameters"
   ]
  },
  {
   "cell_type": "code",
   "execution_count": 2,
   "id": "8c7c0e13",
   "metadata": {},
   "outputs": [],
   "source": [
    "cv_params = pd.DataFrame(\n",
    "    [\n",
    "        ('SVM', '16S', 'C', 10 ** -0.39766725031781125),\n",
    "        ('SVM', '16S', 'Gamma', 10 ** -2.8760981556423375),\n",
    "        ('RandomForest', '16S', 'max_features', 0.373582833227288),\n",
    "        ('RandomForest', '16S', 'min_samples_split', 14),\n",
    "        ('RandomForest', '16S', 'n_estimators', 97),\n",
    "        ('CLogit', '16S', 'L1_wt', np.exp(-3.2846856813934586) / (1 + np.exp(-3.2846856813934586))),\n",
    "        ('CLogit', '16S', 'alpha', np.exp(-19.567528379050646) / (1 + np.exp(-19.567528379050646))),\n",
    "\n",
    "        ('SVM', 'WGS', 'C', 10 ** -2.7696090036324983),\n",
    "        ('SVM', 'WGS', 'Gamma', 10 ** -2.376736745339439),\n",
    "        ('RandomForest', 'WGS', 'max_features', 0.4897508493946866),\n",
    "        ('RandomForest', 'WGS', 'min_samples_split', 17),\n",
    "        ('RandomForest', 'WGS', 'n_estimators', 230),\n",
    "        ('CLogit', 'WGS', 'L1_wt', np.exp(-13.244950338123328) / (1 + np.exp(-13.244950338123328))),\n",
    "        ('CLogit', 'WGS', 'alpha', np.exp(-10.214109609730592) / (1 + np.exp(-10.214109609730592))),\n",
    "    ], columns=['method', 'data_type', 'variable_name', 'value']\n",
    ")\n",
    "\n",
    "cv_params = cv_params.set_index(['method', 'data_type', 'variable_name'])['value'].to_dict()"
   ]
  },
  {
   "cell_type": "markdown",
   "id": "44c6b129",
   "metadata": {},
   "source": [
    "Pull out data tables"
   ]
  },
  {
   "cell_type": "code",
   "execution_count": 3,
   "id": "1d87b41c",
   "metadata": {},
   "outputs": [],
   "source": [
    "# load biom tables\n",
    "amp_biom = biom.load_table(f'{kang_directory}/age_sex_match_week0_ogu.biom')\n",
    "wgs_biom = biom.load_table(f'{wgs_directory}/ogus_table.biom')\n",
    "amp_table = amp_biom.to_dataframe().T\n",
    "wgs_table = wgs_biom.to_dataframe().T\n",
    "\n",
    "# load metadata tables\n",
    "amp_md = pd.read_table(f'{kang_directory}/combined_sample_metadata_0.txt', index_col=0)\n",
    "wgs_md = pd.read_table(f'{wgs_directory}/sample_metadata.txt', index_col=0)\n",
    "\n",
    "amp_md = amp_md.sort_values(['Status', 'Match_IDs'])\n",
    "wgs_md = wgs_md.sort_values(['Status', 'Match_IDs'])\n",
    "\n",
    "amp_table = amp_table.loc[amp_md.index]\n",
    "wgs_table = wgs_table.loc[wgs_md.index]\n",
    "\n",
    "# load taxonomy\n",
    "taxonomy = pd.read_table('~/databases/wol/taxonomy/ranks.tsv', index_col=0)\n",
    "taxid = pd.read_table('~/databases/wol/taxonomy/taxid.map', header=None, dtype=str)\n",
    "taxid.columns = ['GOTU', 'genome']\n",
    "mapping = pd.merge(taxid, taxonomy, left_on='GOTU', right_index=True)\n",
    "mapping = mapping.set_index('genome')\n",
    "\n",
    "# load differentials\n",
    "posterior_name = 'age_sex_matched_posterior'\n",
    "amp_fname = f'{kang_directory}/week0_ogu/differentials-v8.nc'\n",
    "wgs_fname = f'{wgs_directory}/{posterior_name}/ogus_differentials-v5.nc'\n",
    "amp_diffs = extract_differentials(amp_fname)\n",
    "wgs_diffs = extract_differentials(wgs_fname)\n",
    "\n",
    "# Compute statistical tests for each data layer\n",
    "# Here, we will only focus on the top 10% of the features\n",
    "amp_stats = ranking(amp_diffs, reference_percentile=50, log_probs=True)\n",
    "wgs_stats = ranking(wgs_diffs, reference_percentile=50) \n",
    "\n",
    "sort_col = 'mean'\n",
    "\n",
    "# collapse table by genus\n",
    "cols = ['kingdom' ,'phylum', 'class', 'order', 'family', 'genus']\n",
    "genus_lineage = mapping.apply(lambda x: ';'.join(map(str, x[cols])), axis=1)\n",
    "\n",
    "amp_genera = pd.merge(amp_table.T, pd.DataFrame({'genus': genus_lineage}), \n",
    "                      left_index=True, right_index=True).groupby('genus').sum()\n",
    "\n",
    "wgs_genera = pd.merge(wgs_table.T, pd.DataFrame({'genus': genus_lineage}), \n",
    "                      left_index=True, right_index=True).groupby('genus').sum()\n",
    "\n",
    "# clr transform\n",
    "amp_gclr = np.log(amp_genera + 1).T - np.log(amp_genera + 1).T.mean(axis=1).values.reshape(-1, 1)\n",
    "wgs_gclr = np.log(wgs_genera + 1).T - np.log(wgs_genera + 1).T.mean(axis=1).values.reshape(-1, 1)\n",
    "\n",
    "# train / test split\n",
    "amp_state = np.random.RandomState(0)\n",
    "cohorts = amp_md['Cohort'].unique()\n",
    "matches = amp_state.permutation(amp_md['Match_IDs'].unique())\n",
    "amp_train = matches[len(matches) // 4:]\n",
    "amp_test = matches[:len(matches) // 4]\n",
    "\n",
    "wgs_state = np.random.RandomState(0)\n",
    "cohorts = wgs_md['Cohort'].unique()\n",
    "matches = wgs_state.permutation(wgs_md['Match_IDs'].unique())\n",
    "wgs_train = matches[len(matches) // 4:]\n",
    "wgs_test = matches[:len(matches) // 4]"
   ]
  },
  {
   "cell_type": "markdown",
   "id": "aa2a8358",
   "metadata": {},
   "source": [
    "Train classifiers\n",
    "\n",
    "Amplicon classifiers"
   ]
  },
  {
   "cell_type": "code",
   "execution_count": 4,
   "id": "0595e3a7",
   "metadata": {},
   "outputs": [
    {
     "data": {
      "text/plain": [
       "\"\\ntrain_p, test_p, amp_clogit = conditional_logistic_regression(\\n    amp_gclr, amp_md, 'Match_IDs', 'Status',\\n    train_idx, test_idx, \\n    alpha=cv_params[('CLogit', '16S', 'alpha')], \\n    L1_wt=cv_params[('CLogit', '16S', 'L1_wt')])\\namp_clogit_train_pred, amp_clogit_test_pred = np.round(train_p), np.round(test_p)\\namp_clogit_params = amp_clogit.params\\n\""
      ]
     },
     "execution_count": 4,
     "metadata": {},
     "output_type": "execute_result"
    }
   ],
   "source": [
    "train_idx = amp_md['Match_IDs'].apply(lambda x: x in amp_train)\n",
    "test_idx = amp_md['Match_IDs'].apply(lambda x: x in amp_test)\n",
    "amp_svm = SVC(\n",
    "    C=cv_params[('SVM', '16S', 'C')], \n",
    "    gamma=cv_params[('SVM', '16S', 'Gamma')], random_state=2\n",
    ").fit(X=amp_gclr.loc[train_idx].values, y=amp_md.loc[train_idx, 'Status'].values)\n",
    "amp_svm_train_pred = amp_svm.predict(X=amp_gclr.loc[train_idx].values)\n",
    "amp_svm_test_pred = amp_svm.predict(X=amp_gclr.loc[test_idx].values)\n",
    "\n",
    "amp_rf = RandomForestClassifier(\n",
    "    max_features=cv_params[('RandomForest', '16S', 'max_features')], \n",
    "    min_samples_split=int(cv_params[('RandomForest', '16S', 'min_samples_split')]), \n",
    "    n_estimators=int(cv_params[('RandomForest', '16S', 'n_estimators')]), \n",
    "    random_state=2\n",
    ").fit(X=amp_gclr.loc[train_idx].values, y=amp_md.loc[train_idx, 'Status'].values)\n",
    "amp_rf_train_pred = amp_rf.predict(X=amp_gclr.loc[train_idx].values)\n",
    "amp_rf_test_pred = amp_rf.predict(X=amp_gclr.loc[test_idx].values)\n",
    "\"\"\"\n",
    "train_p, test_p, amp_clogit = conditional_logistic_regression(\n",
    "    amp_gclr, amp_md, 'Match_IDs', 'Status',\n",
    "    train_idx, test_idx, \n",
    "    alpha=cv_params[('CLogit', '16S', 'alpha')], \n",
    "    L1_wt=cv_params[('CLogit', '16S', 'L1_wt')])\n",
    "amp_clogit_train_pred, amp_clogit_test_pred = np.round(train_p), np.round(test_p)\n",
    "amp_clogit_params = amp_clogit.params\n",
    "\"\"\""
   ]
  },
  {
   "cell_type": "raw",
   "id": "ae1691de",
   "metadata": {},
   "source": [
    "with open('../results/classifiers/amplicon-svm.pickle', 'wb') as handle:\n",
    "    pickle.dump(amp_svm, handle, protocol=pickle.HIGHEST_PROTOCOL)\n",
    "with open('../results/classifiers/amplicon-random-forests.pickle', 'wb') as handle:\n",
    "    pickle.dump(amp_rf, handle, protocol=pickle.HIGHEST_PROTOCOL)\n",
    "amp_clogit.params.to_csv('../results/classifiers/amplicon-conditional-logit.csv')"
   ]
  },
  {
   "cell_type": "markdown",
   "id": "e599b2bc",
   "metadata": {},
   "source": [
    "WGS classifiers"
   ]
  },
  {
   "cell_type": "code",
   "execution_count": 5,
   "id": "a0a3288d",
   "metadata": {},
   "outputs": [
    {
     "data": {
      "text/plain": [
       "\"\\ntrain_p, test_p, wgs_clogit = conditional_logistic_regression(\\n    wgs_gclr, wgs_md, 'Match_IDs', 'Status',\\n    train_idx, test_idx, \\n    alpha=cv_params[('CLogit', 'WGS', 'alpha')], \\n    L1_wt=cv_params[('CLogit', 'WGS', 'L1_wt')])\\nwgs_clogit_train_pred, wgs_clogit_test_pred = np.round(train_p), np.round(test_p)\\nwgs_clogit_params = wgs_clogit.params\\n\""
      ]
     },
     "execution_count": 5,
     "metadata": {},
     "output_type": "execute_result"
    }
   ],
   "source": [
    "train_idx = wgs_md['Match_IDs'].apply(lambda x: x in wgs_train)\n",
    "test_idx = wgs_md['Match_IDs'].apply(lambda x: x in wgs_test)\n",
    "wgs_svm = SVC(\n",
    "    C=cv_params[('SVM', 'WGS', 'C')], \n",
    "    gamma=cv_params[('SVM', 'WGS', 'Gamma')], random_state=2\n",
    ").fit(X=wgs_gclr.loc[train_idx].values, y=wgs_md.loc[train_idx, 'Status'].values)\n",
    "wgs_svm_train_pred = wgs_svm.predict(X=wgs_gclr.loc[train_idx].values)\n",
    "wgs_svm_test_pred = wgs_svm.predict(X=wgs_gclr.loc[test_idx].values)\n",
    "\n",
    "wgs_rf = RandomForestClassifier(\n",
    "    max_features=cv_params[('RandomForest', 'WGS', 'max_features')], \n",
    "    min_samples_split=int(cv_params[('RandomForest', 'WGS', 'min_samples_split')]), \n",
    "    n_estimators=int(cv_params[('RandomForest', 'WGS', 'n_estimators')]), \n",
    "    random_state=2\n",
    ").fit(X=wgs_gclr.loc[train_idx].values, y=wgs_md.loc[train_idx, 'Status'].values)\n",
    "wgs_rf_train_pred = wgs_rf.predict(X=wgs_gclr.loc[train_idx].values)\n",
    "wgs_rf_test_pred = wgs_rf.predict(X=wgs_gclr.loc[test_idx].values)\n",
    "\"\"\"\n",
    "train_p, test_p, wgs_clogit = conditional_logistic_regression(\n",
    "    wgs_gclr, wgs_md, 'Match_IDs', 'Status',\n",
    "    train_idx, test_idx, \n",
    "    alpha=cv_params[('CLogit', 'WGS', 'alpha')], \n",
    "    L1_wt=cv_params[('CLogit', 'WGS', 'L1_wt')])\n",
    "wgs_clogit_train_pred, wgs_clogit_test_pred = np.round(train_p), np.round(test_p)\n",
    "wgs_clogit_params = wgs_clogit.params\n",
    "\"\"\""
   ]
  },
  {
   "cell_type": "raw",
   "id": "162d107a",
   "metadata": {},
   "source": [
    "import pickle\n",
    "with open('../results/classifiers/wgs-svm.pickle', 'wb') as handle:\n",
    "    pickle.dump(wgs_svm, handle, protocol=pickle.HIGHEST_PROTOCOL)\n",
    "with open('../results/classifiers/wgs-random-forests.pickle', 'wb') as handle:\n",
    "    pickle.dump(wgs_rf, handle, protocol=pickle.HIGHEST_PROTOCOL)\n",
    "wgs_clogit.params.to_csv('../results/classifiers/wgs-conditional-logit.csv')"
   ]
  },
  {
   "cell_type": "markdown",
   "id": "81293442",
   "metadata": {},
   "source": [
    "Load classifiers and results"
   ]
  },
  {
   "cell_type": "code",
   "execution_count": 6,
   "id": "21b29418",
   "metadata": {},
   "outputs": [],
   "source": [
    "amp_clogit_params = pd.read_csv('../results/classifiers/amplicon-conditional-logit.csv', index_col=0)\n",
    "wgs_clogit_params = pd.read_csv('../results/classifiers/wgs-conditional-logit.csv', index_col=0)"
   ]
  },
  {
   "cell_type": "markdown",
   "id": "a34b3548",
   "metadata": {},
   "source": [
    "# Summarize results\n",
    "\n",
    "We will break down the cross-validation accuracy into (1) training accuracy and (2) testing accuracy across each of the cohorts."
   ]
  },
  {
   "cell_type": "code",
   "execution_count": 7,
   "id": "52a6b299",
   "metadata": {},
   "outputs": [],
   "source": [
    "def per_cohort_summary(metadata, y_pred, outcome_col, cohort_col, method, datatype, split):\n",
    "    summaries = {}\n",
    "    for cohort_name, md in metadata.groupby(cohort_col):\n",
    "        y_true = md[outcome_col]\n",
    "        tn, fp, fn, tp = confusion_matrix(y_true, y_pred.loc[md.index]).ravel()\n",
    "        tpr = tp / (tp + fn)\n",
    "        tnr = tn / (tn + fp)\n",
    "        acc = (tp + tn) / (tp + tn + fp + fn)\n",
    "        summaries[cohort_name] = {'specificity': tpr, 'sensitivity': tnr, \n",
    "                                  'accuracy': acc}\n",
    "    summaries = pd.DataFrame(summaries).T\n",
    "    summaries['Method'] = method\n",
    "    summaries['DataType'] = datatype\n",
    "    summaries['Split'] = split\n",
    "    return summaries\n",
    "\n",
    "def overall_summary(md, y_pred, outcome_col):\n",
    "    y_true = md[outcome_col]\n",
    "    tn, fp, fn, tp = confusion_matrix(y_true, y_pred).ravel()\n",
    "    tpr = tp / (tp + fn)\n",
    "    tnr = tn / (tn + fp)\n",
    "    acc = (tp + tn) / (tp + tn + fp + fn)\n",
    "    return {'specificity': tpr, 'sensitivity': tnr, \n",
    "            'accuracy': acc}"
   ]
  },
  {
   "cell_type": "code",
   "execution_count": 8,
   "id": "1b860bbd",
   "metadata": {},
   "outputs": [],
   "source": [
    "cv_results = {}\n",
    "\n",
    "# amplicon results\n",
    "train_idx = amp_md['Match_IDs'].apply(lambda x: x in amp_train)\n",
    "test_idx = amp_md['Match_IDs'].apply(lambda x: x in amp_test)\n",
    "\n",
    "cv_results[('SVM', '16S', 'train')] = overall_summary(\n",
    "    amp_md.loc[train_idx], amp_svm_train_pred, 'Status')\n",
    "cv_results[('SVM', '16S', 'test')] = overall_summary(\n",
    "    amp_md.loc[test_idx], amp_svm_test_pred, 'Status')\n",
    "\n",
    "cv_results[('RandomForest', '16S', 'train')] = overall_summary(\n",
    "    amp_md.loc[train_idx], amp_rf_train_pred, 'Status')\n",
    "cv_results[('RandomForest', '16S', 'test')] = overall_summary(\n",
    "    amp_md.loc[test_idx], amp_rf_test_pred, 'Status')\n",
    "\n",
    "# shotgun results\n",
    "train_idx = wgs_md['Match_IDs'].apply(lambda x: x in wgs_train)\n",
    "test_idx = wgs_md['Match_IDs'].apply(lambda x: x in wgs_test)\n",
    "\n",
    "cv_results[('SVM', 'WGS', 'train')] = overall_summary(\n",
    "    wgs_md.loc[train_idx], wgs_svm_train_pred, 'Status')\n",
    "cv_results[('SVM', 'WGS', 'test')] = overall_summary(\n",
    "    wgs_md.loc[test_idx], wgs_svm_test_pred, 'Status')\n",
    "\n",
    "cv_results[('RandomForest', 'WGS', 'train')] = overall_summary(\n",
    "    wgs_md.loc[train_idx], wgs_rf_train_pred, 'Status')\n",
    "cv_results[('RandomForest', 'WGS', 'test')] = overall_summary(\n",
    "    wgs_md.loc[test_idx], wgs_rf_test_pred, 'Status')"
   ]
  },
  {
   "cell_type": "markdown",
   "id": "bfb07375",
   "metadata": {},
   "source": [
    "Per cohort summaries"
   ]
  },
  {
   "cell_type": "code",
   "execution_count": 9,
   "id": "b13118a2",
   "metadata": {},
   "outputs": [],
   "source": [
    "cv_cohort_amp_results = {}\n",
    "\n",
    "# amplicon results\n",
    "train_idx = amp_md['Match_IDs'].apply(lambda x: x in amp_train)\n",
    "test_idx = amp_md['Match_IDs'].apply(lambda x: x in amp_test)\n",
    "\n",
    "cv_cohort_amp_results = pd.concat((\n",
    "    per_cohort_summary(\n",
    "        amp_md.loc[train_idx], pd.Series(amp_svm_train_pred, index=amp_md.loc[train_idx].index), \n",
    "        'Status', 'Cohort', 'SVM', '16S', 'train'),\n",
    "    per_cohort_summary(\n",
    "        amp_md.loc[test_idx], pd.Series(amp_svm_test_pred, index=amp_md.loc[test_idx].index), \n",
    "        'Status', 'Cohort', 'SVM', '16S', 'test'),    \n",
    "    per_cohort_summary(\n",
    "        amp_md.loc[train_idx], pd.Series(amp_rf_train_pred, index=amp_md.loc[train_idx].index), \n",
    "        'Status', 'Cohort', 'RandomForest', '16S', 'train'),\n",
    "    per_cohort_summary(\n",
    "        amp_md.loc[test_idx], pd.Series(amp_rf_test_pred, index=amp_md.loc[test_idx].index), \n",
    "        'Status', 'Cohort', 'RandomForest', '16S', 'test')\n",
    "))\n",
    "\n",
    "\n",
    "train_idx = wgs_md['Match_IDs'].apply(lambda x: x in wgs_train)\n",
    "test_idx = wgs_md['Match_IDs'].apply(lambda x: x in wgs_test)\n",
    "cv_cohort_wgs_results = pd.concat((\n",
    "    per_cohort_summary(\n",
    "        wgs_md.loc[train_idx], pd.Series(wgs_svm_train_pred, index=wgs_md.loc[train_idx].index), \n",
    "        'Status', 'Cohort', 'SVM', 'WGS', 'train'),\n",
    "    per_cohort_summary(\n",
    "        wgs_md.loc[test_idx], pd.Series(wgs_svm_test_pred, index=wgs_md.loc[test_idx].index), \n",
    "        'Status', 'Cohort', 'SVM', 'WGS', 'test'),    \n",
    "    per_cohort_summary(\n",
    "        wgs_md.loc[train_idx], pd.Series(wgs_rf_train_pred, index=wgs_md.loc[train_idx].index), \n",
    "        'Status', 'Cohort', 'RandomForest', 'WGS', 'train'),\n",
    "    per_cohort_summary(\n",
    "        wgs_md.loc[test_idx], pd.Series(wgs_rf_test_pred, index=wgs_md.loc[test_idx].index), \n",
    "        'Status', 'Cohort', 'RandomForest', 'WGS', 'test')\n",
    "))"
   ]
  },
  {
   "cell_type": "code",
   "execution_count": 10,
   "id": "0567eab0",
   "metadata": {},
   "outputs": [],
   "source": [
    "cv_results = pd.DataFrame(cv_results).T.reset_index()\n",
    "cv_results = cv_results.rename(columns={'level_0': 'Method', 'level_1': 'DataType', 'level_2': 'Split'})\n",
    "cv_results.index = ['Overall'] * len(cv_results)\n",
    "cv_all_results = pd.concat((cv_results, cv_cohort_amp_results, cv_cohort_wgs_results))\n",
    "cv_all_results = cv_all_results.reset_index().rename(columns={'index': 'Cohort'})\n",
    "cv_all_results.to_csv('../results/classifiers/cv_results.csv')"
   ]
  },
  {
   "cell_type": "markdown",
   "id": "9b62b122",
   "metadata": {},
   "source": [
    "# Reload figures here"
   ]
  },
  {
   "cell_type": "code",
   "execution_count": 11,
   "id": "e025112a",
   "metadata": {},
   "outputs": [],
   "source": [
    "cv_all_results = pd.read_csv('../results/classifiers/cv_results.csv', index_col=0)"
   ]
  },
  {
   "cell_type": "markdown",
   "id": "950d68d1",
   "metadata": {},
   "source": [
    "Summaries for conditional logit"
   ]
  },
  {
   "cell_type": "code",
   "execution_count": 13,
   "id": "988314f3",
   "metadata": {},
   "outputs": [
    {
     "data": {
      "text/plain": [
       "<seaborn.axisgrid.FacetGrid at 0x15554b060a00>"
      ]
     },
     "execution_count": 13,
     "metadata": {},
     "output_type": "execute_result"
    },
    {
     "data": {
      "image/png": "[encoded data removed]",
      "text/plain": [
       "<Figure size 779.375x720 with 4 Axes>"
      ]
     },
     "metadata": {
      "needs_background": "light"
     },
     "output_type": "display_data"
    }
   ],
   "source": [
    "sns.factorplot(data=cv_all_results, y='Cohort', x='accuracy', \n",
    "               hue='Split', row='Method', col='DataType', kind='bar', orient='h')"
   ]
  },
  {
   "cell_type": "code",
   "execution_count": 14,
   "id": "ef97139b",
   "metadata": {},
   "outputs": [],
   "source": [
    "def control_pairing(md, cohort, split, match_columns, types):\n",
    "    mds = []\n",
    "    for name, md in md.groupby([cohort, split]):\n",
    "        k = 0\n",
    "        cohort_name, split_name = name\n",
    "        md['Control_pair'] = None\n",
    "        observed = set()\n",
    "        for i in range(len(md)):\n",
    "            for j in range(i):\n",
    "                if ((md.iloc[i]['Sex'] == md.iloc[j]['Sex'] or md.iloc[i]['Sex'] == \"Unknown\") \n",
    "                    and np.abs(md.iloc[i]['Age'] - md.iloc[j]['Age']) <= 2):\n",
    "                    if i not in observed and j not in observed:\n",
    "                        md.loc[md.index[i], 'Control_pair'] = f'{cohort_name}_{k}'\n",
    "                        md.loc[md.index[j], 'Control_pair'] = f'{cohort_name}_{k}'\n",
    "                        k += 1\n",
    "                        observed.add(i)\n",
    "                        observed.add(j)                               \n",
    "        mds.append(md)\n",
    "    return pd.concat(mds)\n",
    "\n",
    "\n",
    "def clogit_predict(X, beta, groups):\n",
    "    \"\"\" Assumes that groups is ordered. \"\"\"\n",
    "    cats = np.unique(groups)\n",
    "    pred = []\n",
    "    for c in cats:\n",
    "        idx = [groups == c]\n",
    "        X_ = X[idx]\n",
    "        p = np.exp(X_[0] @ beta) / (np.exp(X_[0] @ beta) + np.exp(X_[1] @ beta))\n",
    "        pred.append(p)\n",
    "    pred = pd.Series(np.ravel(pred), index=cats)\n",
    "    return pred\n",
    "\n",
    "\n",
    "def clogit_summary(table, md, params, outcome, case_control_matching, control_matching):\n",
    "    # Looks at ASD vs Control\n",
    "    md = md.sort_values([case_control_matching, outcome])\n",
    "    y_cc_pred = clogit_predict(table.loc[md.index].values, params.values, md[case_control_matching].values)\n",
    "    # Looks at Control vs Control\n",
    "    md = md.sort_values([control_matching, outcome])\n",
    "    md = md.dropna(subset=[control_matching, outcome])\n",
    "    md = md.groupby(control_matching).filter(lambda x: len(x) == 2)\n",
    "    y_c_pred = clogit_predict(table.loc[md.index].values, params.values, md[control_matching].values)\n",
    "    # Compute confusion matrix\n",
    "    y_pred = np.hstack((np.round(y_cc_pred.values.ravel()), np.round(y_c_pred.values.ravel())))\n",
    "    y_true = np.hstack((np.ones(len(y_cc_pred)), np.zeros(len(y_c_pred))))\n",
    "    tn, fp, fn, tp = confusion_matrix(y_true, y_pred).ravel()\n",
    "    tpr = tp / (tp + fn)\n",
    "    tnr = tn / (tn + fp)\n",
    "    acc = (tp + tn) / (tp + tn + fp + fn)\n",
    "    return {'specificity': tpr, 'sensitivity': tnr, \n",
    "            'accuracy': acc}\n",
    "\n",
    "def clogit_per_cohort_summary(table, metadata, params, outcome,\n",
    "                              case_control_matching, control_matching, cohort,\n",
    "                              method, datatype, split):\n",
    "    summaries = {}\n",
    "    for cohort_name, md in metadata.groupby(cohort):\n",
    "        summaries[cohort_name] = clogit_summary(table.loc[md.index], md, params, outcome, \n",
    "                                                case_control_matching, control_matching)\n",
    "    summaries = pd.DataFrame(summaries).T\n",
    "    summaries['Method'] = method\n",
    "    summaries['DataType'] = datatype\n",
    "    summaries['Split'] = split\n",
    "    return summaries"
   ]
  },
  {
   "cell_type": "markdown",
   "id": "c05c6ae3",
   "metadata": {},
   "source": [
    "Obtain cross-validated conditional logistic regression for 16S"
   ]
  },
  {
   "cell_type": "code",
   "execution_count": 15,
   "id": "4b274d1e",
   "metadata": {},
   "outputs": [],
   "source": [
    "def split_f(x):\n",
    "    if x in amp_train:\n",
    "        return 'Train'\n",
    "    return 'Test'\n",
    "\n",
    "amp_md['Split'] = amp_md['Match_IDs'].apply(split_f)\n",
    "amp_md2 = control_pairing(amp_md, 'Cohort', 'Split', ['Age', 'Sex'], [False, True])\n",
    "train_idx = amp_md2['Match_IDs'].apply(lambda x: x in amp_train)\n",
    "test_idx = amp_md2['Match_IDs'].apply(lambda x: x in amp_test)\n",
    "\n",
    "clogit_cv_results = {}\n",
    "\n",
    "clogit_cv_results[('ConditionalLogistic', '16S', 'train')] = clogit_summary(\n",
    "    amp_gclr.loc[train_idx], \n",
    "    amp_md2.loc[train_idx], \n",
    "    amp_clogit_params, 'Status', \n",
    "    case_control_matching='Match_IDs', \n",
    "    control_matching='Control_pair')\n",
    "\n",
    "clogit_cv_train_amp_cohorts = clogit_per_cohort_summary(\n",
    "    amp_gclr.loc[train_idx], \n",
    "    amp_md2.loc[train_idx], \n",
    "    amp_clogit_params, 'Status', \n",
    "    case_control_matching='Match_IDs', \n",
    "    control_matching='Control_pair', \n",
    "    cohort='Cohort',\n",
    "    method='ConditionalLogistic', \n",
    "    datatype='16S',\n",
    "    split='train')\n",
    "\n",
    "clogit_cv_results[('ConditionalLogistic', '16S', 'test')] = clogit_summary(\n",
    "    amp_gclr.loc[test_idx], \n",
    "    amp_md2.loc[test_idx], \n",
    "    amp_clogit_params, 'Status', \n",
    "    case_control_matching='Match_IDs', \n",
    "    control_matching='Control_pair')\n",
    "\n",
    "clogit_cv_test_amp_cohorts = clogit_per_cohort_summary(\n",
    "    amp_gclr.loc[test_idx], \n",
    "    amp_md2.loc[test_idx], \n",
    "    amp_clogit_params, 'Status', \n",
    "    case_control_matching='Match_IDs', \n",
    "    control_matching='Control_pair', \n",
    "    cohort='Cohort',\n",
    "    method='ConditionalLogistic', \n",
    "    datatype='16S',\n",
    "    split='test')"
   ]
  },
  {
   "cell_type": "markdown",
   "id": "f604eae0",
   "metadata": {},
   "source": [
    "Obtain cross-validated conditional logistic regression for 16S"
   ]
  },
  {
   "cell_type": "code",
   "execution_count": 16,
   "id": "97440d82",
   "metadata": {},
   "outputs": [],
   "source": [
    "def split_f(x):\n",
    "    if x in wgs_train:\n",
    "        return 'Train'\n",
    "    return 'Test'\n",
    "wgs_md['Split'] = wgs_md['Match_IDs'].apply(split_f)\n",
    "wgs_md2 = control_pairing(wgs_md, 'Cohort', 'Split', ['Age', 'Sex'], [False, True])\n",
    "\n",
    "train_idx = wgs_md2['Match_IDs'].apply(lambda x: x in wgs_train)\n",
    "test_idx = wgs_md2['Match_IDs'].apply(lambda x: x in wgs_test)\n",
    "\n",
    "clogit_cv_results[('ConditionalLogistic', 'WGS', 'train')] = clogit_summary(\n",
    "    wgs_gclr.loc[train_idx], \n",
    "    wgs_md2.loc[train_idx], \n",
    "    wgs_clogit_params, 'Status', \n",
    "    case_control_matching='Match_IDs', \n",
    "    control_matching='Control_pair')\n",
    "\n",
    "clogit_cv_train_wgs_cohorts = clogit_per_cohort_summary(\n",
    "    wgs_gclr.loc[train_idx], \n",
    "    wgs_md2.loc[train_idx], \n",
    "    wgs_clogit_params, 'Status', \n",
    "    case_control_matching='Match_IDs', \n",
    "    control_matching='Control_pair', \n",
    "    cohort='Cohort',\n",
    "    method='ConditionalLogistic', \n",
    "    datatype='WGS',\n",
    "    split='train')\n",
    "\n",
    "clogit_cv_results[('ConditionalLogistic', 'WGS', 'test')] = clogit_summary(\n",
    "    wgs_gclr.loc[test_idx], \n",
    "    wgs_md2.loc[test_idx], \n",
    "    wgs_clogit_params, 'Status', \n",
    "    case_control_matching='Match_IDs', \n",
    "    control_matching='Control_pair')\n",
    "\n",
    "clogit_cv_test_wgs_cohorts = clogit_per_cohort_summary(\n",
    "    wgs_gclr.loc[test_idx], \n",
    "    wgs_md2.loc[test_idx], \n",
    "    wgs_clogit_params, 'Status', \n",
    "    case_control_matching='Match_IDs', \n",
    "    control_matching='Control_pair', \n",
    "    cohort='Cohort',\n",
    "    method='ConditionalLogistic', \n",
    "    datatype='WGS',\n",
    "    split='test')"
   ]
  },
  {
   "cell_type": "code",
   "execution_count": 17,
   "id": "db912e64",
   "metadata": {},
   "outputs": [],
   "source": [
    "cv_all_results = pd.read_csv('../results/classifiers/cv_results.csv', index_col=0)\n",
    "\n",
    "clogit_cv_results = pd.DataFrame(clogit_cv_results).T.reset_index()\n",
    "clogit_cv_results = clogit_cv_results.rename(columns={'level_0': 'Method', 'level_1': 'DataType', 'level_2': 'Split'})\n",
    "clogit_cv_results.index = ['Overall'] * len(clogit_cv_results)\n",
    "\n",
    "clogit_cv_all_results = pd.concat((\n",
    "    clogit_cv_results, \n",
    "    clogit_cv_train_amp_cohorts,\n",
    "    clogit_cv_test_amp_cohorts,    \n",
    "    clogit_cv_train_wgs_cohorts,\n",
    "    clogit_cv_test_wgs_cohorts,\n",
    "))\n",
    "clogit_cv_all_results = clogit_cv_all_results.reset_index().rename(columns={'index': 'Cohort'})\n",
    "\n",
    "cv_all_results = pd.concat((clogit_cv_all_results, cv_all_results))\n",
    "cv_all_results.to_csv('../results/classifiers/cv_results.csv')"
   ]
  },
  {
   "cell_type": "markdown",
   "id": "8df184b9",
   "metadata": {},
   "source": [
    "# Reload results to plot results"
   ]
  },
  {
   "cell_type": "code",
   "execution_count": 67,
   "id": "4b08e192",
   "metadata": {},
   "outputs": [],
   "source": [
    "cv_all_results = pd.read_csv('../results/classifiers/cv_results.csv', index_col=0)"
   ]
  },
  {
   "cell_type": "markdown",
   "id": "7e67755b",
   "metadata": {},
   "source": [
    "Sort entries"
   ]
  },
  {
   "cell_type": "code",
   "execution_count": 68,
   "id": "bf33c6b4",
   "metadata": {},
   "outputs": [],
   "source": [
    "cv_all_results['Dataset'] = cv_all_results.apply(lambda x: x['Cohort'] + f\" ({x['DataType']})\", axis=1)\n",
    "\n",
    "ordering = ['Berding2020 (16S)', 'Chen2020 (16S)', 'Zou2020 (16S)',\n",
    "            'Dan2020 (16S)', 'Fouquier2021 (16S)', 'Kang2017 (16S)',\n",
    "            'Zurita2019 (16S)', 'Fasano2020 (16S)', 'Overall (16S)',\n",
    "            'Averina2020 (WGS)', 'Dan2020 (WGS)',\n",
    "            'Wang2020 (WGS)', 'Overall (WGS)']\n",
    "\n",
    "ordering = pd.DataFrame({'Ordering': np.arange(len(ordering))}, index=ordering)\n",
    "\n",
    "cv_all_results = pd.merge(cv_all_results, ordering, left_on='Dataset', right_index=True)\n",
    "cv_all_results = cv_all_results.sort_values('Ordering')"
   ]
  },
  {
   "cell_type": "code",
   "execution_count": 69,
   "id": "ced0798e",
   "metadata": {},
   "outputs": [
    {
     "data": {
      "text/plain": [
       "<seaborn.axisgrid.FacetGrid at 0x15544145b700>"
      ]
     },
     "execution_count": 69,
     "metadata": {},
     "output_type": "execute_result"
    },
    {
     "data": {
      "image/png": "[encoded data removed]",
      "text/plain": [
       "<Figure size 490.75x720 with 2 Axes>"
      ]
     },
     "metadata": {
      "needs_background": "light"
     },
     "output_type": "display_data"
    }
   ],
   "source": [
    "sns.factorplot(data=cv_all_results, y='Dataset', x='accuracy', \n",
    "               hue='Method', row='Split', kind='bar', orient='h')"
   ]
  },
  {
   "cell_type": "markdown",
   "id": "2aab12d9",
   "metadata": {},
   "source": [
    "Aggregate cohort specifics"
   ]
  },
  {
   "cell_type": "code",
   "execution_count": 70,
   "id": "c6d10850",
   "metadata": {},
   "outputs": [],
   "source": [
    "amp_md['Dataset'] = amp_md.apply(lambda x: x['Cohort'] + f\" (16S)\", axis=1)\n",
    "wgs_md['Dataset'] = wgs_md.apply(lambda x: x['Cohort'] + f\" (WGS)\", axis=1)\n",
    "\n",
    "age_stats = pd.DataFrame({'mean_age': pd.concat((amp_md.groupby('Dataset')['Age'].mean(), \n",
    "                                     wgs_md.groupby('Dataset')['Age'].mean())),\n",
    "                          'std_age': pd.concat((amp_md.groupby('Dataset')['Age'].std(), \n",
    "                                                wgs_md.groupby('Dataset')['Age'].std()))})\n",
    "overall_age = pd.DataFrame({\n",
    "    'mean_age': [amp_md['Age'].mean(), wgs_md['Age'].mean()],\n",
    "    'std_age': [amp_md['Age'].std(), wgs_md['Age'].std()]\n",
    "}, index=['Overall (16S)', 'Overall (WGS)'])\n",
    "age_stats = pd.concat((age_stats, overall_age))\n",
    "age_stats = pd.merge(age_stats, ordering, left_index=True, right_index=True)\n",
    "age_stats = age_stats.sort_values('Ordering', ascending=False)"
   ]
  },
  {
   "cell_type": "code",
   "execution_count": 71,
   "id": "bb1370f6",
   "metadata": {},
   "outputs": [],
   "source": [
    "def mf_ratio(x, unknown=True):\n",
    "    mf = x['Sex'].value_counts()\n",
    "    if 'Unknown' in mf.index and unknown:\n",
    "        return 0\n",
    "    else:\n",
    "        return mf['male'] / mf['female']\n",
    "sex_stats = pd.DataFrame({\n",
    "    'mf_ratio': pd.concat((amp_md.groupby('Dataset').apply(mf_ratio), \n",
    "                           wgs_md.groupby('Dataset').apply(mf_ratio)))\n",
    "})\n",
    "overall_sex = pd.DataFrame({\n",
    "    'mf_ratio': [mf_ratio(amp_md, unknown=False), mf_ratio(wgs_md, unknown=False)],\n",
    "}, index=['Overall (16S)', 'Overall (WGS)'])\n",
    "sex_stats = pd.concat((sex_stats, overall_sex))\n",
    "\n",
    "sex_stats = pd.merge(sex_stats, ordering, left_index=True, right_index=True)\n",
    "sex_stats = sex_stats.sort_values('Ordering', ascending=False)"
   ]
  },
  {
   "cell_type": "code",
   "execution_count": 72,
   "id": "b5a421b6",
   "metadata": {},
   "outputs": [],
   "source": [
    "size_stats = pd.DataFrame({'sample_size': pd.concat((amp_md.groupby('Dataset').count()['Cohort'], \n",
    "                                                     wgs_md.groupby('Dataset').count()['Cohort']))})\n",
    "overall_size = pd.DataFrame({\n",
    "    'sample_size': [len(amp_md), len(wgs_md)],\n",
    "}, index=['Overall (16S)', 'Overall (WGS)'])\n",
    "size_stats = pd.concat((size_stats, overall_size))\n",
    "size_stats = pd.merge(size_stats, ordering, left_index=True, right_index=True)\n",
    "size_stats = size_stats.sort_values('Ordering', ascending=False)"
   ]
  },
  {
   "cell_type": "code",
   "execution_count": 73,
   "id": "8becf1a2",
   "metadata": {},
   "outputs": [
    {
     "data": {
      "image/png": "[encoded data removed]",
      "text/plain": [
       "<Figure size 1080x504 with 4 Axes>"
      ]
     },
     "metadata": {},
     "output_type": "display_data"
    }
   ],
   "source": [
    "with plt.style.context('dark_background'):\n",
    "\n",
    "    fig, ax = plt.subplots(1, 4, figsize=(15, 7))\n",
    "    sns.set(font_scale=1.2)  # crazy big\n",
    "    sns.barplot(data=cv_all_results.loc[cv_all_results['Split'] == 'test'],\n",
    "                y='Dataset', x='accuracy', hue='Method', ax=ax[0])\n",
    "    sns.barplot(data=cv_all_results.loc[cv_all_results['Split'] == 'test'],\n",
    "                y='Dataset', x='specificity', hue='Method', ax=ax[1])\n",
    "    sns.barplot(data=cv_all_results.loc[cv_all_results['Split'] == 'test'],\n",
    "                y='Dataset', x='sensitivity', hue='Method', ax=ax[2])\n",
    "\n",
    "    ax[3].errorbar(y=np.arange(len(age_stats)), x=age_stats['mean_age'], \n",
    "                   xerr=age_stats['std_age'], fmt='o', color='w', ls='none', \n",
    "                   elinewidth=3, markersize=8)\n",
    "    ax[3].set_xlabel('Age (years)')\n",
    "    ax[3].set_yticklabels([])\n",
    "\n",
    "    #ax[4].scatter(y=np.arange(len(size_stats)), x=size_stats['sample_size'])\n",
    "    #ax[4].set_xlabel('Sample size')\n",
    "    #ax[4].set_yticklabels([])\n",
    "\n",
    "    ax[0].legend_ = None\n",
    "    ax[1].legend_ = None\n",
    "    ax[2].legend_ = None\n",
    "\n",
    "    ax[1].set_yticks([])\n",
    "    ax[1].set_ylabel('')\n",
    "    ax[2].set_yticks([])\n",
    "    ax[2].set_ylabel('')\n",
    "\n",
    "    ax[0].set_xlabel('Accuracy')\n",
    "    ax[1].set_xlabel('Specificity')\n",
    "    ax[2].set_xlabel('Sensitivity')\n",
    "\n",
    "    ax[0].set_xlim([0.4, 1.1])\n",
    "    ax[1].set_xlim([0.4, 1.1])\n",
    "    ax[2].set_xlim([0.4, 1.1])\n",
    "    \n",
    "    for a in ax:\n",
    "        a.yaxis.grid(False)\n",
    "        a.xaxis.grid(False) \n",
    "\n",
    "    plt.tight_layout()"
   ]
  },
  {
   "cell_type": "markdown",
   "id": "1c6d64ab",
   "metadata": {},
   "source": [
    "Only look at random forests and superimpose stats like primer type"
   ]
  },
  {
   "cell_type": "code",
   "execution_count": 85,
   "id": "2a408e8f",
   "metadata": {},
   "outputs": [],
   "source": [
    "rf_results = cv_all_results.loc[cv_all_results['Method'] == 'RandomForest']\n",
    "\n",
    "primer_type = pd.DataFrame({'primer_type': pd.Series({\n",
    "    'Berding2020 (16S)': 'V34',\n",
    "    'Dan2020 (16S)': 'V4',\n",
    "    'Zou2020 (16S)': 'V34',\n",
    "    'Fouquier2021 (16S)': 'V4',\n",
    "    'Zurita2019 (16S)': 'V4',\n",
    "    'Kang2017 (16S)': 'V4',\n",
    "    'Chen2020 (16S)': 'V34',\n",
    "    'Fasano2020 (16S)': 'V45',\n",
    "    'Averina2020 (WGS)': 'WGS',\n",
    "    'Wang2020 (WGS)': 'WGS',\n",
    "    'Dan2020 (WGS)': 'WGS' \n",
    "})})\n",
    "rf_results = pd.merge(rf_results, primer_type, left_on='Dataset', right_index=True, how='outer')\n",
    "rf_results = pd.merge(rf_results, size_stats['sample_size'], left_on='Dataset', right_index=True)\n",
    "rf_results = pd.merge(rf_results, age_stats[['mean_age', 'std_age']], left_on='Dataset', right_index=True)\n",
    "rf_results = pd.merge(rf_results, sex_stats['mf_ratio'], left_on='Dataset', right_index=True)"
   ]
  },
  {
   "cell_type": "code",
   "execution_count": 86,
   "id": "471e6164",
   "metadata": {},
   "outputs": [],
   "source": [
    "def palette_f(x):\n",
    "    if 'Overall' in x:\n",
    "        return '#A9A9A9'\n",
    "    else:\n",
    "        return palette[primer_type.loc[x, 'primer_type']]\n",
    "cp = sns.color_palette('pastel')\n",
    "palette={ x:list(cp)[i] for i, x in enumerate(rf_results.primer_type.unique())}\n",
    "dataset_palette = {x: palette_f(x) for x in rf_results['Dataset'].unique()}"
   ]
  },
  {
   "cell_type": "code",
   "execution_count": 90,
   "id": "435a006d",
   "metadata": {},
   "outputs": [
    {
     "data": {
      "image/png": "[encoded data removed]",
      "text/plain": [
       "<Figure size 1296x432 with 4 Axes>"
      ]
     },
     "metadata": {
      "needs_background": "light"
     },
     "output_type": "display_data"
    }
   ],
   "source": [
    "#with plt.style.context('dark_background'):\n",
    "fs = 26\n",
    "ls = 22\n",
    "\n",
    "# Fix Wang et al typo\n",
    "def rename_f(x):\n",
    "    if x == 'Wang2020 (WGS)': \n",
    "        return 'Wang2019 (WGS)'\n",
    "    return x\n",
    "rf_results['Dataset'] = rf_results['Dataset'].apply(rename_f)\n",
    "dataset_palette['Wang2019 (WGS)'] = dataset_palette['Wang2020 (WGS)']\n",
    "\n",
    "fig, ax = plt.subplots(1, 4, figsize=(18, 6))\n",
    "sns.barplot(data=rf_results.loc[rf_results['Split'] == 'test'],\n",
    "            y='Dataset', x='accuracy', ax=ax[0], palette=dataset_palette)\n",
    "sns.barplot(data=rf_results, \n",
    "            y='Dataset', x='sample_size', ax=ax[1], palette=dataset_palette)\n",
    "sns.barplot(data=rf_results,\n",
    "            y='Dataset', x='mf_ratio', ax=ax[2], palette=dataset_palette)\n",
    "\"\"\"\n",
    "ax[3].errorbar(y=np.arange(len(age_stats)), x=age_stats['mean_age'], \n",
    "               xerr=age_stats['std_age'], fmt='o', \n",
    "               #color='w',\n",
    "               markerfacecolor=list(pd.Series(dataset_palette).values),\n",
    "               ls='none', \n",
    "               elinewidth=3, markersize=8)\n",
    "\"\"\"\n",
    "ax[3].barh(np.arange(len(age_stats)), age_stats['mean_age'].values,\n",
    "           height=0.8, xerr=age_stats['std_age'].values,\n",
    "           #color='w',\n",
    "           color=list(pd.Series(dataset_palette).values[::-1]),\n",
    "           error_kw=dict(ecolor='k', lw=2, capsize=5, capthick=2))\n",
    "\n",
    "ax[3].set_ylim([-0.5, len(age_stats)-0.5])\n",
    "ax[3].set_xlabel('Age (years)')\n",
    "\n",
    "for i in range(1, len(ax)):\n",
    "    ax[i].set_yticks([])\n",
    "    ax[i].set_ylabel('')\n",
    "\n",
    "ax[0].tick_params(labelsize=ls, axis='y')\n",
    "ax[0].set_ylabel('Dataset', fontsize=fs)\n",
    "ax[0].set_xlabel('Accuracy', fontsize=fs)\n",
    "ax[1].set_xlabel('Sample size', fontsize=fs)\n",
    "ax[2].set_xlabel('Male:Female ratio', fontsize=fs)\n",
    "ax[3].set_xlabel('Age (years)', fontsize=fs)\n",
    "ax[0].set_xlim([0.4, 1.05])\n",
    "for a in ax:\n",
    "    a.yaxis.grid(False)\n",
    "    a.xaxis.grid(True) \n",
    "    a.tick_params(labelsize=ls, axis='x')\n",
    "\n",
    "plt.tight_layout()"
   ]
  },
  {
   "cell_type": "code",
   "execution_count": 77,
   "id": "68b8a5bc",
   "metadata": {},
   "outputs": [
    {
     "data": {
      "text/html": [
       "<div>\n",
       "<style scoped>\n",
       "    .dataframe tbody tr th:only-of-type {\n",
       "        vertical-align: middle;\n",
       "    }\n",
       "\n",
       "    .dataframe tbody tr th {\n",
       "        vertical-align: top;\n",
       "    }\n",
       "\n",
       "    .dataframe thead th {\n",
       "        text-align: right;\n",
       "    }\n",
       "</style>\n",
       "<table border=\"1\" class=\"dataframe\">\n",
       "  <thead>\n",
       "    <tr style=\"text-align: right;\">\n",
       "      <th></th>\n",
       "      <th>mean_age</th>\n",
       "      <th>std_age</th>\n",
       "      <th>Ordering</th>\n",
       "    </tr>\n",
       "  </thead>\n",
       "  <tbody>\n",
       "    <tr>\n",
       "      <th>Overall (WGS)</th>\n",
       "      <td>4.002309</td>\n",
       "      <td>1.815740</td>\n",
       "      <td>12</td>\n",
       "    </tr>\n",
       "    <tr>\n",
       "      <th>Wang2020 (WGS)</th>\n",
       "      <td>3.645161</td>\n",
       "      <td>1.391977</td>\n",
       "      <td>11</td>\n",
       "    </tr>\n",
       "    <tr>\n",
       "      <th>Dan2020 (WGS)</th>\n",
       "      <td>4.966667</td>\n",
       "      <td>2.138958</td>\n",
       "      <td>10</td>\n",
       "    </tr>\n",
       "    <tr>\n",
       "      <th>Averina2020 (WGS)</th>\n",
       "      <td>3.190530</td>\n",
       "      <td>1.211962</td>\n",
       "      <td>9</td>\n",
       "    </tr>\n",
       "    <tr>\n",
       "      <th>Overall (16S)</th>\n",
       "      <td>5.760055</td>\n",
       "      <td>2.679134</td>\n",
       "      <td>8</td>\n",
       "    </tr>\n",
       "    <tr>\n",
       "      <th>Fasano2020 (16S)</th>\n",
       "      <td>4.865897</td>\n",
       "      <td>1.032880</td>\n",
       "      <td>7</td>\n",
       "    </tr>\n",
       "    <tr>\n",
       "      <th>Zurita2019 (16S)</th>\n",
       "      <td>8.613636</td>\n",
       "      <td>2.432492</td>\n",
       "      <td>6</td>\n",
       "    </tr>\n",
       "    <tr>\n",
       "      <th>Kang2017 (16S)</th>\n",
       "      <td>11.100595</td>\n",
       "      <td>2.595586</td>\n",
       "      <td>5</td>\n",
       "    </tr>\n",
       "    <tr>\n",
       "      <th>Fouquier2021 (16S)</th>\n",
       "      <td>6.573529</td>\n",
       "      <td>2.214715</td>\n",
       "      <td>4</td>\n",
       "    </tr>\n",
       "    <tr>\n",
       "      <th>Dan2020 (16S)</th>\n",
       "      <td>5.075540</td>\n",
       "      <td>1.924020</td>\n",
       "      <td>3</td>\n",
       "    </tr>\n",
       "    <tr>\n",
       "      <th>Zou2020 (16S)</th>\n",
       "      <td>4.312821</td>\n",
       "      <td>0.925309</td>\n",
       "      <td>2</td>\n",
       "    </tr>\n",
       "    <tr>\n",
       "      <th>Chen2020 (16S)</th>\n",
       "      <td>4.235106</td>\n",
       "      <td>0.810245</td>\n",
       "      <td>1</td>\n",
       "    </tr>\n",
       "    <tr>\n",
       "      <th>Berding2020 (16S)</th>\n",
       "      <td>4.886364</td>\n",
       "      <td>1.631320</td>\n",
       "      <td>0</td>\n",
       "    </tr>\n",
       "  </tbody>\n",
       "</table>\n",
       "</div>"
      ],
      "text/plain": [
       "                     mean_age   std_age  Ordering\n",
       "Overall (WGS)        4.002309  1.815740        12\n",
       "Wang2020 (WGS)       3.645161  1.391977        11\n",
       "Dan2020 (WGS)        4.966667  2.138958        10\n",
       "Averina2020 (WGS)    3.190530  1.211962         9\n",
       "Overall (16S)        5.760055  2.679134         8\n",
       "Fasano2020 (16S)     4.865897  1.032880         7\n",
       "Zurita2019 (16S)     8.613636  2.432492         6\n",
       "Kang2017 (16S)      11.100595  2.595586         5\n",
       "Fouquier2021 (16S)   6.573529  2.214715         4\n",
       "Dan2020 (16S)        5.075540  1.924020         3\n",
       "Zou2020 (16S)        4.312821  0.925309         2\n",
       "Chen2020 (16S)       4.235106  0.810245         1\n",
       "Berding2020 (16S)    4.886364  1.631320         0"
      ]
     },
     "execution_count": 77,
     "metadata": {},
     "output_type": "execute_result"
    }
   ],
   "source": [
    "age_stats"
   ]
  },
  {
   "cell_type": "code",
   "execution_count": 36,
   "id": "3d31208a",
   "metadata": {},
   "outputs": [
    {
     "data": {
      "text/plain": [
       "3.329894705280398e-166"
      ]
     },
     "execution_count": 36,
     "metadata": {},
     "output_type": "execute_result"
    }
   ],
   "source": [
    "from statsmodels.stats.proportion import binom_test\n",
    "\n",
    "n = np.sum(amp_md['Sex'].value_counts().values[:2])\n",
    "m = amp_md['Sex'].value_counts().values[0]\n",
    "\n",
    "binom_test(m, n, prop=1/3, alternative='two-sided')"
   ]
  },
  {
   "cell_type": "code",
   "execution_count": 37,
   "id": "b12ff47a",
   "metadata": {},
   "outputs": [
    {
     "data": {
      "text/plain": [
       "1.3218389860025705e-31"
      ]
     },
     "execution_count": 37,
     "metadata": {},
     "output_type": "execute_result"
    }
   ],
   "source": [
    "n = np.sum(wgs_md['Sex'].value_counts().values[:2])\n",
    "m = wgs_md['Sex'].value_counts().values[0]\n",
    "\n",
    "binom_test(m, n, prop=1/3, alternative='two-sided')"
   ]
  },
  {
   "cell_type": "code",
   "execution_count": 38,
   "id": "9c483d7d",
   "metadata": {},
   "outputs": [
    {
     "data": {
      "text/plain": [
       "male       571\n",
       "female     105\n",
       "Unknown     78\n",
       "Name: Sex, dtype: int64"
      ]
     },
     "execution_count": 38,
     "metadata": {},
     "output_type": "execute_result"
    }
   ],
   "source": [
    "amp_md['Sex'].value_counts()"
   ]
  }
 ],
 "metadata": {
  "kernelspec": {
   "display_name": "Python 3",
   "language": "python",
   "name": "python3"
  },
  "language_info": {
   "codemirror_mode": {
    "name": "ipython",
    "version": 3
   },
   "file_extension": ".py",
   "mimetype": "text/x-python",
   "name": "python",
   "nbconvert_exporter": "python",
   "pygments_lexer": "ipython3",
   "version": "3.8.8"
  },
  "toc": {
   "base_numbering": 1,
   "nav_menu": {},
   "number_sections": true,
   "sideBar": true,
   "skip_h1_title": false,
   "title_cell": "Table of Contents",
   "title_sidebar": "Contents",
   "toc_cell": true,
   "toc_position": {},
   "toc_section_display": true,
   "toc_window_display": false
  }
 },
 "nbformat": 4,
 "nbformat_minor": 5
}
