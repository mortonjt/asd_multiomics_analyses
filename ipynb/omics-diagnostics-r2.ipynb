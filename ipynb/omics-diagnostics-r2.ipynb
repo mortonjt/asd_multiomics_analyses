{
 "cells": [
  {
   "cell_type": "markdown",
   "id": "a900de7e",
   "metadata": {},
   "source": [
    "The only purpose of this notebook is to compute Rsquared values"
   ]
  },
  {
   "cell_type": "markdown",
   "id": "74929311",
   "metadata": {
    "toc": true
   },
   "source": [
    "<h1>Table of Contents<span class=\"tocSkip\"></span></h1>\n",
    "<div class=\"toc\"><ul class=\"toc-item\"><li><span><a href=\"#Datasets\" data-toc-modified-id=\"Datasets-1\"><span class=\"toc-item-num\">1&nbsp;&nbsp;</span>Datasets</a></span><ul class=\"toc-item\"><li><span><a href=\"#16S-amplicon-datasets\" data-toc-modified-id=\"16S-amplicon-datasets-1.1\"><span class=\"toc-item-num\">1.1&nbsp;&nbsp;</span>16S amplicon datasets</a></span></li></ul></li><li><span><a href=\"#Bioinformatics-pipeline\" data-toc-modified-id=\"Bioinformatics-pipeline-2\"><span class=\"toc-item-num\">2&nbsp;&nbsp;</span>Bioinformatics pipeline</a></span></li><li><span><a href=\"#Differential-Ranking-approach\" data-toc-modified-id=\"Differential-Ranking-approach-3\"><span class=\"toc-item-num\">3&nbsp;&nbsp;</span>Differential Ranking approach</a></span></li></ul></div>"
   ]
  },
  {
   "cell_type": "code",
   "execution_count": 1,
   "id": "766d7f57",
   "metadata": {},
   "outputs": [],
   "source": [
    "# This block is just for importing the necessary libraries.  \n",
    "from collections import defaultdict\n",
    "# Numerical libraries\n",
    "import pandas as pd\n",
    "import numpy as np\n",
    "import biom\n",
    "import arviz as az\n",
    "from scipy.spatial.distance import euclidean\n",
    "# Plotting libraries\n",
    "import matplotlib.pyplot as plt\n",
    "import matplotlib\n",
    "import matplotlib.patches as mpatches\n",
    "import seaborn as sns\n",
    "from matplotlib_venn import venn2, venn3\n",
    "# custom utility and plotting functions\n",
    "from util import (extract_differentials, select_features, \n",
    "                  get_genomic_data, collapse_transcripts, \n",
    "                  aggregate_pathways,\n",
    "                  ranking, btest, log_pvalue, read_kegg_dict,\n",
    "                  ilr_transform_differentials,\n",
    "                  rename_clades, all_feature_ids, \n",
    "                  match_all_differentials,\n",
    "                  create_projection,\n",
    "                  project_data\n",
    "                 )\n",
    "from plot import rankplot, networkplot, barplot_annotate_brackets, vectorplot\n",
    "# directory paths\n",
    "amp_directory = '../sfari/data/sra/Combined'\n",
    "wgs_directory = '../sfari/data/sra_shotgun/Combined'\n",
    "vir_directory = '../sfari/data/sra_shotgun/Combined'\n",
    "rna_directory = '../sfari/data/recount3'\n",
    "kang_directory = '../sfari/data/sra/Kang2017'\n",
    "sepp_directory = '../sfari/data/sra/Kang2017/deblur/sepp-v2'\n",
    "\n",
    "kegg_dir = '../results/kegg'\n",
    "hsa_dir = '../results/hsa_kegg'\n",
    "\n",
    "%matplotlib inline"
   ]
  },
  {
   "cell_type": "code",
   "execution_count": 2,
   "id": "32ae4c6e",
   "metadata": {},
   "outputs": [
    {
     "data": {
      "text/html": [
       "<table style=\"border: 2px solid white;\">\n",
       "<tr>\n",
       "<td style=\"vertical-align: top; border: 0px solid white\">\n",
       "<h3 style=\"text-align: left;\">Client</h3>\n",
       "<ul style=\"text-align: left; list-style: none; margin: 0; padding: 0;\">\n",
       "  <li><b>Scheduler: </b>tcp://127.0.0.1:46247</li>\n",
       "  <li><b>Dashboard: </b><a href='http://127.0.0.1:8787/status' target='_blank'>http://127.0.0.1:8787/status</a></li>\n",
       "</ul>\n",
       "</td>\n",
       "<td style=\"vertical-align: top; border: 0px solid white\">\n",
       "<h3 style=\"text-align: left;\">Cluster</h3>\n",
       "<ul style=\"text-align: left; list-style:none; margin: 0; padding: 0;\">\n",
       "  <li><b>Workers: </b>16</li>\n",
       "  <li><b>Cores: </b>128</li>\n",
       "  <li><b>Memory: </b>0.98 TiB</li>\n",
       "</ul>\n",
       "</td>\n",
       "</tr>\n",
       "</table>"
      ],
      "text/plain": [
       "<Client: 'tcp://127.0.0.1:46247' processes=16 threads=128, memory=0.98 TiB>"
      ]
     },
     "execution_count": 2,
     "metadata": {},
     "output_type": "execute_result"
    }
   ],
   "source": [
    "from arviz.utils import Dask\n",
    "from dask.distributed import Client\n",
    "import dask\n",
    "Dask.enable_dask(dask_kwargs={\"dask\": \"parallelized\", \"output_dtypes\": [float]})\n",
    "\n",
    "client = Client()\n",
    "client"
   ]
  },
  {
   "cell_type": "code",
   "execution_count": 3,
   "id": "088de164",
   "metadata": {},
   "outputs": [],
   "source": [
    "# load 16S, whole genome shotgun and RNAseq data\n",
    "posterior_name = 'age_sex_matched_posterior'\n",
    "amp_fname = f'{amp_directory}/{posterior_name}/amp_differentials-v4.nc'\n",
    "wgs_fname = f'{wgs_directory}/{posterior_name}/ogus_differentials-v4.nc'\n",
    "rna_fname = f'{rna_directory}/{posterior_name}/rna_differentials-v4.nc'\n",
    "vir_fname = f'{wgs_directory}/{posterior_name}/viral_differentials-v4.nc'\n",
    "\n",
    "group_kwargs={'posterior':{'chunks': {'features': 100}}}\n",
    "    \n",
    "amp_posterior = az.from_netcdf(amp_fname, group_kwargs=group_kwargs) \n",
    "wgs_posterior = az.from_netcdf(wgs_fname, group_kwargs=group_kwargs) \n",
    "rna_posterior = az.from_netcdf(rna_fname, group_kwargs=group_kwargs) \n",
    "vir_posterior = az.from_netcdf(vir_fname, group_kwargs=group_kwargs) "
   ]
  },
  {
   "cell_type": "raw",
   "id": "1a8bd187",
   "metadata": {},
   "source": [
    "amp_summary = az.summary(amp_posterior, var_names=['diff'])\n",
    "wgs_summary = az.summary(wgs_posterior, var_names=['diff'])\n",
    "rna_summary = az.summary(rna_posterior, var_names=['diff'])\n",
    "vir_summary = az.summary(vir_posterior, var_names=['diff'])"
   ]
  },
  {
   "cell_type": "raw",
   "id": "41597936",
   "metadata": {},
   "source": [
    "with plt.style.context('dark_background'):\n",
    "\n",
    "    fig, ax = plt.subplots(1, 4, figsize=(12, 3))\n",
    "    sns.distplot(amp_summary['r_hat'], ax=ax[0])\n",
    "    sns.distplot(wgs_summary['r_hat'], ax=ax[1])\n",
    "    sns.distplot(rna_summary['r_hat'], ax=ax[2])\n",
    "    sns.distplot(vir_summary['r_hat'], ax=ax[3])    \n",
    "    ax[0].set_title('16S')\n",
    "    ax[1].set_title('WGS')\n",
    "    ax[2].set_title('RNAseq')\n",
    "    ax[3].set_title('Viral')\n",
    "    plt.tight_layout()"
   ]
  },
  {
   "cell_type": "code",
   "execution_count": 4,
   "id": "3f678786",
   "metadata": {},
   "outputs": [],
   "source": [
    "amp_data = f'{amp_directory}/age_sex_matched.biom'\n",
    "wgs_data = f'{wgs_directory}/ogus_table.biom'\n",
    "rna_data = f'{rna_directory}/table.biom'\n",
    "vir_data = f'{vir_directory}/viral_table.biom'\n",
    "\n",
    "amp_data = biom.load_table(amp_data)\n",
    "wgs_data = biom.load_table(wgs_data)\n",
    "rna_data = biom.load_table(rna_data)\n",
    "vir_data = biom.load_table(vir_data)"
   ]
  },
  {
   "cell_type": "markdown",
   "id": "b6be6efc",
   "metadata": {},
   "source": [
    "Compute baseline R2"
   ]
  },
  {
   "cell_type": "code",
   "execution_count": 5,
   "id": "e9254bcb",
   "metadata": {},
   "outputs": [
    {
     "name": "stdout",
     "output_type": "stream",
     "text": [
      "virome r2 -0.0022478813936464004\n",
      "amplicon r2 -0.004547557053765194\n",
      "whole genome r2 -0.004193836069174228\n",
      "rnaseq r2 -0.0024745415684750416\n"
     ]
    }
   ],
   "source": [
    "from sklearn.metrics import r2_score\n",
    "\n",
    "vir_raveled = vir_data.to_dataframe().values.ravel()\n",
    "vir_zeros = np.zeros(len(vir_raveled))\n",
    "print('virome r2', r2_score(vir_raveled, vir_zeros))\n",
    "\n",
    "amp_raveled = amp_data.to_dataframe().values.ravel()\n",
    "amp_zeros = np.zeros(len(amp_raveled))\n",
    "print('amplicon r2', r2_score(amp_raveled, amp_zeros))\n",
    "\n",
    "wgs_raveled = wgs_data.to_dataframe().values.ravel()\n",
    "wgs_zeros = np.zeros(len(wgs_raveled))\n",
    "print('whole genome r2', r2_score(wgs_raveled, wgs_zeros))\n",
    "\n",
    "rna_raveled = rna_data.to_dataframe().values.ravel()\n",
    "rna_zeros = np.zeros(len(rna_raveled))\n",
    "print('rnaseq r2', r2_score(rna_raveled, rna_zeros))"
   ]
  },
  {
   "cell_type": "markdown",
   "id": "a520a3ce",
   "metadata": {},
   "source": [
    "Compute R2"
   ]
  },
  {
   "cell_type": "code",
   "execution_count": 6,
   "id": "cad32712",
   "metadata": {},
   "outputs": [],
   "source": [
    "amp_pred = amp_posterior['posterior_predictive'].stack(sample=(\"chain\", \"draw\"))['y_predict']\n",
    "wgs_pred = wgs_posterior['posterior_predictive'].stack(sample=(\"chain\", \"draw\"))['y_predict']\n",
    "rna_pred = rna_posterior['posterior_predictive'].stack(sample=(\"chain\", \"draw\"))['y_predict']\n",
    "vir_pred = vir_posterior['posterior_predictive'].stack(sample=(\"chain\", \"draw\"))['y_predict']"
   ]
  },
  {
   "cell_type": "code",
   "execution_count": 7,
   "id": "6e91e0f4",
   "metadata": {},
   "outputs": [],
   "source": [
    "amp_pred = amp_pred.stack(feature=('features', 'samples'))\n",
    "wgs_pred = wgs_pred.stack(feature=('features', 'samples'))\n",
    "rna_pred = rna_pred.stack(feature=('features', 'samples'))\n",
    "vir_pred = vir_pred.stack(feature=('features', 'samples'))\n",
    "\n",
    "amp_pred = amp_pred.fillna(0)\n",
    "wgs_pred = wgs_pred.fillna(0)\n",
    "rna_pred = rna_pred.fillna(0)\n",
    "vir_pred = vir_pred.fillna(0)"
   ]
  },
  {
   "cell_type": "markdown",
   "id": "0e5f6eef",
   "metadata": {},
   "source": [
    "Match RNAseq dataset / predictions"
   ]
  },
  {
   "cell_type": "code",
   "execution_count": 8,
   "id": "f7684ef3",
   "metadata": {},
   "outputs": [
    {
     "data": {
      "text/plain": [
       "47992 x 98 <class 'biom.table.Table'> with 3500618 nonzero entries (74% dense)"
      ]
     },
     "execution_count": 8,
     "metadata": {},
     "output_type": "execute_result"
    }
   ],
   "source": [
    "rna_features = set(rna_posterior.posterior_predictive.features.values)\n",
    "filter_f = lambda v, i, m: i in rna_features\n",
    "rna_data.filter(filter_f, axis='observation')"
   ]
  },
  {
   "cell_type": "code",
   "execution_count": 9,
   "id": "293c6151",
   "metadata": {},
   "outputs": [],
   "source": [
    "import xarray as xr\n",
    "amp_obs = xr.DataArray(amp_data.matrix_data.todense()).chunk(chunks={'dim_0': 100})\n",
    "wgs_obs = xr.DataArray(wgs_data.matrix_data.todense()).chunk(chunks={'dim_0': 100})\n",
    "rna_obs = xr.DataArray(rna_data.matrix_data.todense()).chunk(chunks={'dim_0': 100})\n",
    "vir_obs = xr.DataArray(vir_data.matrix_data.todense()).chunk(chunks={'dim_0': 100})\n",
    "\n",
    "amp_obs = amp_obs.stack(feature=('dim_0', 'dim_1'))\n",
    "wgs_obs = wgs_obs.stack(feature=('dim_0', 'dim_1'))\n",
    "rna_obs = rna_obs.stack(feature=('dim_0', 'dim_1'))\n",
    "vir_obs = vir_obs.stack(feature=('dim_0', 'dim_1'))"
   ]
  },
  {
   "cell_type": "code",
   "execution_count": 10,
   "id": "582d65e1",
   "metadata": {},
   "outputs": [
    {
     "data": {
      "text/plain": [
       "r2        0.969386\n",
       "r2_std    0.142991\n",
       "dtype: float64"
      ]
     },
     "execution_count": 10,
     "metadata": {},
     "output_type": "execute_result"
    }
   ],
   "source": [
    "az.r2_score(vir_obs.values, vir_pred.values)"
   ]
  },
  {
   "cell_type": "code",
   "execution_count": 11,
   "id": "b5a05ad3",
   "metadata": {},
   "outputs": [
    {
     "data": {
      "text/plain": [
       "r2        0.923055\n",
       "r2_std    0.217568\n",
       "dtype: float64"
      ]
     },
     "execution_count": 11,
     "metadata": {},
     "output_type": "execute_result"
    }
   ],
   "source": [
    "az.r2_score(amp_obs.values, amp_pred.values)"
   ]
  },
  {
   "cell_type": "code",
   "execution_count": 12,
   "id": "4101858b",
   "metadata": {},
   "outputs": [
    {
     "data": {
      "text/plain": [
       "r2        0.986130\n",
       "r2_std    0.088631\n",
       "dtype: float64"
      ]
     },
     "execution_count": 12,
     "metadata": {},
     "output_type": "execute_result"
    }
   ],
   "source": [
    "az.r2_score(wgs_obs.values, wgs_pred.values)"
   ]
  },
  {
   "cell_type": "code",
   "execution_count": 13,
   "id": "02e18e7a",
   "metadata": {},
   "outputs": [
    {
     "data": {
      "text/plain": [
       "r2        0.992813\n",
       "r2_std    0.053691\n",
       "dtype: float64"
      ]
     },
     "execution_count": 13,
     "metadata": {},
     "output_type": "execute_result"
    }
   ],
   "source": [
    "az.r2_score(rna_obs.values, rna_pred.values)"
   ]
  },
  {
   "cell_type": "markdown",
   "id": "74c91f4c",
   "metadata": {},
   "source": [
    "# Datasets"
   ]
  },
  {
   "cell_type": "markdown",
   "id": "9c42545d",
   "metadata": {},
   "source": [
    "## 16S amplicon datasets\n",
    "\n",
    "- Zou2020\n",
    "- Chen2020\n",
    "- Fasano2020\n",
    "- Berding2020\n",
    "- Fouquier2021\n",
    "- Cao2021\n",
    "- Dan2020\n",
    "- Zurita2019"
   ]
  },
  {
   "cell_type": "code",
   "execution_count": null,
   "id": "d9085ff6",
   "metadata": {},
   "outputs": [],
   "source": [
    "client.close()"
   ]
  },
  {
   "cell_type": "markdown",
   "id": "5bab6747",
   "metadata": {},
   "source": [
    "# Bioinformatics pipeline"
   ]
  },
  {
   "cell_type": "code",
   "execution_count": null,
   "id": "e4cbd7bf",
   "metadata": {},
   "outputs": [],
   "source": []
  },
  {
   "cell_type": "markdown",
   "id": "abc6ef40",
   "metadata": {},
   "source": [
    "# Differential Ranking approach"
   ]
  },
  {
   "cell_type": "code",
   "execution_count": null,
   "id": "c8987e2d",
   "metadata": {},
   "outputs": [],
   "source": []
  }
 ],
 "metadata": {
  "kernelspec": {
   "display_name": "Python 3",
   "language": "python",
   "name": "python3"
  },
  "language_info": {
   "codemirror_mode": {
    "name": "ipython",
    "version": 3
   },
   "file_extension": ".py",
   "mimetype": "text/x-python",
   "name": "python",
   "nbconvert_exporter": "python",
   "pygments_lexer": "ipython3",
   "version": "3.8.8"
  },
  "toc": {
   "base_numbering": 1,
   "nav_menu": {},
   "number_sections": true,
   "sideBar": true,
   "skip_h1_title": false,
   "title_cell": "Table of Contents",
   "title_sidebar": "Contents",
   "toc_cell": true,
   "toc_position": {},
   "toc_section_display": true,
   "toc_window_display": false
  }
 },
 "nbformat": 4,
 "nbformat_minor": 5
}
