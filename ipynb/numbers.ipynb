{
 "cells": [
  {
   "cell_type": "markdown",
   "id": "9d11adc3",
   "metadata": {
    "toc": true
   },
   "source": [
    "<h1>Table of Contents<span class=\"tocSkip\"></span></h1>\n",
    "<div class=\"toc\"><ul class=\"toc-item\"></ul></div>"
   ]
  },
  {
   "cell_type": "code",
   "execution_count": 4,
   "id": "13dc1f67",
   "metadata": {},
   "outputs": [],
   "source": [
    "import pandas as pd\n",
    "import os\n",
    "data_dir = '~/ceph/sfari/data/metabolomics'"
   ]
  },
  {
   "cell_type": "code",
   "execution_count": 5,
   "id": "8e1a02b0",
   "metadata": {},
   "outputs": [],
   "source": [
    "amp_md = pd.read_table('../sfari/data/sra/Combined/age_sex_match_metadata.txt')\n",
    "wgs_md = pd.read_table('../sfari/data/sra_shotgun/Combined/sample_metadata.txt')\n",
    "rna_md = pd.read_table('../sfari/data/recount3/sample_metadata.txt')"
   ]
  },
  {
   "cell_type": "code",
   "execution_count": 6,
   "id": "593d3564",
   "metadata": {},
   "outputs": [],
   "source": [
    "noto_md = pd.read_table(\n",
    "    os.path.join(data_dir, 'Noto2014', 'urine_sample_metadata.txt'), \n",
    "    index_col=0, comment='#')\n",
    "needham_md1 = pd.read_table(\n",
    "    os.path.join(data_dir, 'Needham2020', 'plasma_sample_metadata.txt'), \n",
    "    index_col=0, comment='#')\n",
    "needham_md2 = pd.read_table(\n",
    "    os.path.join(data_dir, 'Needham2020', 'fecal_sample_metadata.txt'), \n",
    "    index_col=0, comment='#')\n",
    "kuwabara_md = pd.read_table(\n",
    "    os.path.join(data_dir, 'Kuwabara2013', 'plasma_sample_metadata.txt'), \n",
    "    index_col=0, comment='#')\n",
    "kang_md = pd.read_table(\n",
    "    os.path.join(data_dir, 'Kang2018', 'fecal_sample_metadata.txt'), \n",
    "    index_col=0, comment='#')"
   ]
  },
  {
   "cell_type": "code",
   "execution_count": 33,
   "id": "1a843afc",
   "metadata": {},
   "outputs": [
    {
     "name": "stdout",
     "output_type": "stream",
     "text": [
      "total 8.5M\r\n",
      "-rw-r--r-- 1 jmorton jmorton 266K Apr  2  2021 SraRunTable.txt\r\n",
      "drwxr-sr-x 2 jmorton jmorton 5.2G Apr  2  2021 fasta\r\n",
      "-rw-r--r-- 1 jmorton jmorton  172 Apr  2  2021 process_experiment.log\r\n",
      "-rw-r--r-- 1 jmorton jmorton 617K Apr  2  2021 deblur.log\r\n",
      "-r-------- 1 jmorton jmorton 287K Jun 15  2021 41598_2019_42183_MOESM2_ESM.xlsx\r\n",
      "-r-------- 1 jmorton jmorton  59K Jun 15  2021 41598_2019_42183_MOESM3_ESM.xlsx\r\n",
      "-rw-r--r-- 1 jmorton jmorton  47K Jun 15  2021 stool-metadata.txt\r\n",
      "-rw-rw-r-- 1 jmorton jmorton 6.9K Jun 17  2021 sample_metadata_matched.txt\r\n",
      "-rw-rw-r-- 1 jmorton jmorton 1.4M Jun 17  2021 age_sex_match_week18.biom\r\n",
      "-rw-rw-r-- 1 jmorton jmorton  51K Jun 17  2021 combined_sample_metadata_18.txt\r\n",
      "drwxrwsr-x 3 jmorton jmorton 9.5G Jun 18  2021 fmt\r\n",
      "-rw-rw-r-- 1 jmorton jmorton 1.6K Jun 18  2021 diff_fmt_abs.sh\r\n",
      "-rw-rw-r-- 1 jmorton jmorton 3.0K Jun 18  2021 asd_metadata.txt\r\n",
      "-rw-rw-r-- 1 jmorton jmorton  59K Jul 23 19:25 Kang_et_al_2019_metadata.xlsx\r\n",
      "drwxrwsr-x 3 jmorton jmorton 6.5G Aug 12 23:58 fmt10_100\r\n",
      "drwxrwsr-x 3 jmorton jmorton 6.5G Aug 13 01:41 fmt18_100\r\n",
      "drwxrwsr-x 3 jmorton jmorton  35G Aug 13 18:37 week18\r\n",
      "-rw-rw-r-- 1 jmorton jmorton 171K Oct  7 17:01 donor.biom\r\n",
      "-rw-rw-r-- 1 jmorton jmorton 1.3K Oct  7 17:01 donor_metadata.txt\r\n",
      "-rw-rw-r-- 1 jmorton jmorton  52K Oct  7 17:01 donor_ogu.biom\r\n",
      "-rw-rw-r-- 1 jmorton jmorton  51K Oct  7 17:01 combined_sample_metadata_0.txt\r\n",
      "-rw-rw-r-- 1 jmorton jmorton 1.4M Oct  7 17:01 age_sex_match_week0.biom\r\n",
      "-rw-rw-r-- 1 jmorton jmorton 1.1M Oct  7 17:03 age_sex_match_week0_ogu.biom\r\n",
      "-rw-rw-r-- 1 jmorton jmorton 557K Oct  7 17:03 week0_week10.biom\r\n",
      "-rw-rw-r-- 1 jmorton jmorton  87K Oct  7 17:03 week0_week10_ogu.biom\r\n",
      "-rw-rw-r-- 1 jmorton jmorton 3.4K Oct  7 17:03 asd_metadata_w10.txt\r\n",
      "-rw-rw-r-- 1 jmorton jmorton 557K Oct  7 17:03 week0_week18.biom\r\n",
      "-rw-rw-r-- 1 jmorton jmorton  84K Oct  7 17:03 week0_week18_ogu.biom\r\n",
      "-rw-rw-r-- 1 jmorton jmorton 3.4K Oct  7 17:03 asd_metadata_w18.txt\r\n",
      "-rw-rw-r-- 1 jmorton jmorton 549K Oct  7 17:03 week0_week100.biom\r\n",
      "-rw-rw-r-- 1 jmorton jmorton 3.0K Oct  7 17:03 asd_metadata_w100.txt\r\n",
      "-rw-rw-r-- 1 jmorton jmorton 551K Oct  7 17:03 week10_week100.biom\r\n",
      "-rw-rw-r-- 1 jmorton jmorton  82K Oct  7 17:03 week0_week100_ogu.biom\r\n",
      "-rw-rw-r-- 1 jmorton jmorton 3.1K Oct  7 17:03 asd_metadata_w_10w100.txt\r\n",
      "-rw-rw-r-- 1 jmorton jmorton 551K Oct  7 17:03 week18_week100.biom\r\n",
      "-rw-rw-r-- 1 jmorton jmorton  82K Oct  7 17:03 week18_week100_ogu.biom\r\n",
      "-rw-rw-r-- 1 jmorton jmorton 3.1K Oct  7 17:03 asd_metadata_w_18w100.txt\r\n",
      "drwxrwsr-x 3 jmorton jmorton  11G Oct  7 23:56 fmt18\r\n",
      "drwxrwsr-x 3 jmorton jmorton  11G Oct  8 00:29 fmt10\r\n",
      "drwxrwsr-x 3 jmorton jmorton 893M Oct  8 00:57 donor\r\n",
      "drwxrwsr-x 3 jmorton jmorton 127G Oct  8 16:01 week0\r\n",
      "drwxrwsr-x 3 jmorton jmorton 8.5G Oct 23 13:38 fmt100\r\n",
      "-rw-rw-r-- 1 jmorton jmorton   35 Oct 24 23:46 cleanup.sh\r\n",
      "drwxrwsr-x 3 jmorton jmorton  12G Oct 28 23:27 week0_ogu\r\n",
      "drwxrwsr-x 3 jmorton jmorton 585M Oct 28 23:53 fmt10_ogu\r\n",
      "drwxrwsr-x 3 jmorton jmorton 585M Oct 29 00:11 fmt18_ogu\r\n",
      "drwxrwsr-x 3 jmorton jmorton 353M Oct 29 00:17 fmt100_ogu\r\n",
      "drwxrwsr-x 3 jmorton jmorton 130M Oct 29 00:19 donor_ogu\r\n",
      "-rw-rw-r-- 1 jmorton jmorton 5.3K Oct 29 00:28 diff_abs.sh\r\n",
      "-rw-r--r-- 1 jmorton jmorton  38K Nov 23 13:27 sample_metadata.txt\r\n",
      "drwxr-sr-x 6 jmorton jmorton 300M Nov 24 01:16 deblur\r\n"
     ]
    }
   ],
   "source": [
    "../sfari/data/sra"
   ]
  },
  {
   "cell_type": "code",
   "execution_count": 34,
   "id": "c312acb9",
   "metadata": {},
   "outputs": [],
   "source": [
    "fmt_md = pd.read_table('../sfari/data/sra/Kang2017/sample_metadata_matched.txt')"
   ]
  },
  {
   "cell_type": "code",
   "execution_count": 38,
   "id": "ee525b2a",
   "metadata": {},
   "outputs": [
    {
     "data": {
      "text/plain": [
       "28"
      ]
     },
     "execution_count": 38,
     "metadata": {},
     "output_type": "execute_result"
    }
   ],
   "source": [
    "len(fmt_md.Match_IDs.value_counts())"
   ]
  },
  {
   "cell_type": "code",
   "execution_count": 41,
   "id": "801d932a",
   "metadata": {},
   "outputs": [
    {
     "name": "stdout",
     "output_type": "stream",
     "text": [
      "total 6.0G\r\n",
      "-rw-rw-r-- 1 jmorton jmorton  45K Apr 14  2021 SraRunTable.txt\r\n",
      "-rw-rw-r-- 1 jmorton jmorton  11K Apr 14  2021 sample_metadata_matched.txt\r\n",
      "-rw-rw-r-- 1 jmorton jmorton 3.7K Apr 14  2021 metadata_parse.py~\r\n",
      "-rw-rw-r-- 1 jmorton jmorton 3.7K Apr 14  2021 metadata_parse.py\r\n",
      "-rw-rw-r-- 1 jmorton jmorton 9.4K May  1  2021 matched_metadata.qza\r\n",
      "drwxrwsr-x 2 jmorton jmorton  10K May  1  2021 matched_metadata\r\n",
      "-rw-rw-r-- 1 jmorton jmorton  11K May 26  2021 sample_metadata_JM.txt\r\n",
      "-rw-rw-r-- 1 jmorton jmorton 1.3K Jun 23  2021 diff_abs.sh~\r\n",
      "-rw-rw-r-- 1 jmorton jmorton 1.4K Jun 23  2021 diff_abs.sh\r\n",
      "drwxrwsr-x 2 jmorton jmorton 6.1G Jun 23  2021 intermediate\r\n",
      "-rw-rw-r-- 1 jmorton jmorton 6.0G Jun 23  2021 age_sex_matched_posterior.nc\r\n",
      "drwxrwsr-x 3 jmorton jmorton 187M Oct 21 19:10 deblur\r\n",
      "drwxrwsr-x 4 jmorton jmorton 8.0M Oct 21 19:17 diet\r\n",
      "-rw-rw-r-- 1 jmorton jmorton  11K Nov 23 13:27 sample_metadata.txt\r\n"
     ]
    }
   ],
   "source": [
    "!ls -lhrt ../sfari/data/sra/Berding2020"
   ]
  },
  {
   "cell_type": "code",
   "execution_count": 49,
   "id": "b2aa94be",
   "metadata": {},
   "outputs": [
    {
     "data": {
      "text/plain": [
       "26"
      ]
     },
     "execution_count": 49,
     "metadata": {},
     "output_type": "execute_result"
    }
   ],
   "source": [
    "diet_md = pd.read_table('../sfari/data/sra/Berding2020/sample_metadata.txt')\n",
    "diet_md.Status.value_counts()[0]"
   ]
  },
  {
   "cell_type": "code",
   "execution_count": 48,
   "id": "a2e54e67",
   "metadata": {},
   "outputs": [
    {
     "data": {
      "text/plain": [
       "(484, 13)"
      ]
     },
     "execution_count": 48,
     "metadata": {},
     "output_type": "execute_result"
    }
   ],
   "source": [
    "diet_md.shape"
   ]
  },
  {
   "cell_type": "code",
   "execution_count": 29,
   "id": "7f23d59a",
   "metadata": {},
   "outputs": [],
   "source": [
    "zurita_md = pd.read_table('../sfari/data/sra/Zurita2019/sample_metadata.txt')"
   ]
  },
  {
   "cell_type": "code",
   "execution_count": 31,
   "id": "63a34707",
   "metadata": {},
   "outputs": [
    {
     "data": {
      "text/plain": [
       "ASD        22\n",
       "Control    22\n",
       "Name: Status, dtype: int64"
      ]
     },
     "execution_count": 31,
     "metadata": {},
     "output_type": "execute_result"
    }
   ],
   "source": [
    "zurita_md.Status.value_counts()"
   ]
  },
  {
   "cell_type": "code",
   "execution_count": 7,
   "id": "5e64d27d",
   "metadata": {},
   "outputs": [],
   "source": [
    "pd.options.display.max_rows = 999"
   ]
  },
  {
   "cell_type": "code",
   "execution_count": 8,
   "id": "69dcb965",
   "metadata": {},
   "outputs": [
    {
     "data": {
      "text/plain": [
       "ASD        346\n",
       "Control    346\n",
       "Name: Status, dtype: int64"
      ]
     },
     "execution_count": 8,
     "metadata": {},
     "output_type": "execute_result"
    }
   ],
   "source": [
    "amp_md.Status.value_counts()"
   ]
  },
  {
   "cell_type": "code",
   "execution_count": 9,
   "id": "d9003774",
   "metadata": {},
   "outputs": [
    {
     "data": {
      "text/plain": [
       "ASD        83\n",
       "Control    83\n",
       "Name: Status, dtype: int64"
      ]
     },
     "execution_count": 9,
     "metadata": {},
     "output_type": "execute_result"
    }
   ],
   "source": [
    "wgs_md.Status.value_counts()"
   ]
  },
  {
   "cell_type": "code",
   "execution_count": 10,
   "id": "a14d0c65",
   "metadata": {},
   "outputs": [
    {
     "data": {
      "text/plain": [
       "ASD        49\n",
       "Control    49\n",
       "Name: Status, dtype: int64"
      ]
     },
     "execution_count": 10,
     "metadata": {},
     "output_type": "execute_result"
    }
   ],
   "source": [
    "rna_md.Status.value_counts()"
   ]
  },
  {
   "cell_type": "code",
   "execution_count": 12,
   "id": "1b1dbf72",
   "metadata": {},
   "outputs": [
    {
     "data": {
      "text/plain": [
       "ASD        26\n",
       "Control    26\n",
       "Name: Status, dtype: int64"
      ]
     },
     "execution_count": 12,
     "metadata": {},
     "output_type": "execute_result"
    }
   ],
   "source": [
    "noto_md.Status.value_counts()"
   ]
  },
  {
   "cell_type": "code",
   "execution_count": 13,
   "id": "8ec950bb",
   "metadata": {},
   "outputs": [
    {
     "data": {
      "text/plain": [
       "ASD        40\n",
       "Control    40\n",
       "Name: Status, dtype: int64"
      ]
     },
     "execution_count": 13,
     "metadata": {},
     "output_type": "execute_result"
    }
   ],
   "source": [
    "needham_md1.Status.value_counts()"
   ]
  },
  {
   "cell_type": "code",
   "execution_count": 14,
   "id": "4557c154",
   "metadata": {},
   "outputs": [
    {
     "data": {
      "text/plain": [
       "ASD        22\n",
       "Control    22\n",
       "Name: Status, dtype: int64"
      ]
     },
     "execution_count": 14,
     "metadata": {},
     "output_type": "execute_result"
    }
   ],
   "source": [
    "needham_md2.Status.value_counts()"
   ]
  },
  {
   "cell_type": "code",
   "execution_count": 15,
   "id": "425fc677",
   "metadata": {},
   "outputs": [
    {
     "data": {
      "text/plain": [
       "ASD        10\n",
       "Control    10\n",
       "Name: Status, dtype: int64"
      ]
     },
     "execution_count": 15,
     "metadata": {},
     "output_type": "execute_result"
    }
   ],
   "source": [
    "kuwabara_md.Status.value_counts()"
   ]
  },
  {
   "cell_type": "code",
   "execution_count": 16,
   "id": "5530c862",
   "metadata": {},
   "outputs": [
    {
     "data": {
      "text/plain": [
       "Autistic        21\n",
       "Neurotypical    21\n",
       "Name: Status, dtype: int64"
      ]
     },
     "execution_count": 16,
     "metadata": {},
     "output_type": "execute_result"
    }
   ],
   "source": [
    "kang_md.Status.value_counts()"
   ]
  },
  {
   "cell_type": "code",
   "execution_count": 18,
   "id": "391d5276",
   "metadata": {},
   "outputs": [
    {
     "data": {
      "text/plain": [
       "119"
      ]
     },
     "execution_count": 18,
     "metadata": {},
     "output_type": "execute_result"
    }
   ],
   "source": [
    "noto_md.Status.value_counts()[0] + needham_md1.Status.value_counts()[0] + needham_md2.Status.value_counts()[0] + kuwabara_md.Status.value_counts()[0] + kang_md.Status.value_counts()[0]"
   ]
  },
  {
   "cell_type": "code",
   "execution_count": 25,
   "id": "acb7c37c",
   "metadata": {},
   "outputs": [
    {
     "data": {
      "text/plain": [
       "597"
      ]
     },
     "execution_count": 25,
     "metadata": {},
     "output_type": "execute_result"
    }
   ],
   "source": [
    "119 + 49 + 83 + 346"
   ]
  },
  {
   "cell_type": "code",
   "execution_count": null,
   "id": "2152586f",
   "metadata": {},
   "outputs": [],
   "source": []
  }
 ],
 "metadata": {
  "kernelspec": {
   "display_name": "Python 3",
   "language": "python",
   "name": "python3"
  },
  "language_info": {
   "codemirror_mode": {
    "name": "ipython",
    "version": 3
   },
   "file_extension": ".py",
   "mimetype": "text/x-python",
   "name": "python",
   "nbconvert_exporter": "python",
   "pygments_lexer": "ipython3",
   "version": "3.8.8"
  },
  "toc": {
   "base_numbering": 1,
   "nav_menu": {},
   "number_sections": true,
   "sideBar": true,
   "skip_h1_title": false,
   "title_cell": "Table of Contents",
   "title_sidebar": "Contents",
   "toc_cell": true,
   "toc_position": {},
   "toc_section_display": true,
   "toc_window_display": false
  }
 },
 "nbformat": 4,
 "nbformat_minor": 5
}
