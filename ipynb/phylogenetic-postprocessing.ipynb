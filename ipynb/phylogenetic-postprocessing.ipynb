{
 "cells": [
  {
   "cell_type": "markdown",
   "id": "40434e3a",
   "metadata": {
    "toc": true
   },
   "source": [
    "<h1>Table of Contents<span class=\"tocSkip\"></span></h1>\n",
    "<div class=\"toc\"><ul class=\"toc-item\"><li><span><a href=\"#Phylogenetic-heatmap\" data-toc-modified-id=\"Phylogenetic-heatmap-1\"><span class=\"toc-item-num\">1&nbsp;&nbsp;</span>Phylogenetic heatmap</a></span></li><li><span><a href=\"#ILR-transform\" data-toc-modified-id=\"ILR-transform-2\"><span class=\"toc-item-num\">2&nbsp;&nbsp;</span>ILR transform</a></span></li></ul></div>"
   ]
  },
  {
   "cell_type": "code",
   "execution_count": 1,
   "id": "97591d83",
   "metadata": {},
   "outputs": [],
   "source": [
    "# This block is just for importing the necessary libraries.  \n",
    "import os\n",
    "from collections import defaultdict\n",
    "# Numerical libraries\n",
    "import pandas as pd\n",
    "import numpy as np\n",
    "import biom\n",
    "import arviz as az\n",
    "from scipy.spatial.distance import euclidean\n",
    "from gneiss.balances import sparse_balance_basis\n",
    "# Plotting libraries\n",
    "import matplotlib.pyplot as plt\n",
    "import matplotlib\n",
    "import matplotlib.patches as mpatches\n",
    "import seaborn as sns\n",
    "from matplotlib_venn import venn2, venn3\n",
    "# custom utility and plotting functions\n",
    "from util import (extract_differentials, select_features, \n",
    "                  get_genomic_data, collapse_transcripts, \n",
    "                  aggregate_pathways,\n",
    "                  ranking, btest, log_pvalue, read_kegg_dict,\n",
    "                  ilr_transform_differentials,\n",
    "                  rename_clades, create_projection,\n",
    "                  match_all_differentials,\n",
    "                  match_all_differentials_and_tree)\n",
    "from plot import (rankplot, networkplot, vectorplot)\n",
    "import random\n",
    "\n",
    "# directory paths\n",
    "amp_directory = '../sfari/data/sra/Combined'\n",
    "wgs_directory = '../sfari/data/sra_shotgun/Combined'\n",
    "rna_directory = '../sfari/data/recount3'\n",
    "kang_directory = '../sfari/data/sra/Kang2017'\n",
    "sepp_directory = '../sfari/data/sra/Kang2017/deblur/sepp-v2'\n",
    "results_dir = '../results'\n",
    "kegg_dir = f'{results_dir}/kegg'\n",
    "hsa_dir = f'{results_dir}/hsa_kegg'\n",
    "np.random.seed(0)\n",
    "random.seed(0)\n",
    "%matplotlib inline"
   ]
  },
  {
   "cell_type": "code",
   "execution_count": 2,
   "id": "a5f0f154",
   "metadata": {},
   "outputs": [],
   "source": [
    "# load 16S, whole genome shotgun and RNAseq data\n",
    "posterior_name = 'age_sex_matched_posterior'\n",
    "#amp_fname = f'{amp_directory}/{posterior_name}/amp_differentials-v4.nc'\n",
    "amp_fname = f'{kang_directory}/week0_ogu/differentials-v8.nc'\n",
    "wgs_fname = f'{wgs_directory}/{posterior_name}/ogus_differentials-v5.nc'\n",
    "rna_fname = f'{rna_directory}/{posterior_name}/rna_differentials-v4.nc'\n",
    "vir_fname = f'{wgs_directory}/{posterior_name}/viral_differentials-v5.nc'\n",
    "\n",
    "amp_diffs = extract_differentials(amp_fname)\n",
    "wgs_diffs = extract_differentials(wgs_fname)\n",
    "rna_diffs = extract_differentials(rna_fname)\n",
    "vir_diffs = extract_differentials(vir_fname)\n",
    "\n",
    "# Compute statistical tests for each data layer\n",
    "# Here, we will only focus on the top 10% of the features\n",
    "amp_stats = ranking(amp_diffs, reference_percentile=90)\n",
    "wgs_stats = ranking(wgs_diffs, reference_percentile=90)\n",
    "rna_stats = ranking(rna_diffs, reference_percentile=90)\n",
    "vir_stats = ranking(vir_diffs, reference_percentile=90)"
   ]
  },
  {
   "cell_type": "markdown",
   "id": "e90814df",
   "metadata": {},
   "source": [
    "Load taxonomy"
   ]
  },
  {
   "cell_type": "code",
   "execution_count": 3,
   "id": "f93497b9",
   "metadata": {},
   "outputs": [],
   "source": [
    "taxonomy = pd.read_table('~/databases/wol/taxonomy/ranks.tsv', index_col=0)\n",
    "taxid = pd.read_table('~/databases/wol/taxonomy/taxid.map', header=None, dtype=str)\n",
    "taxid.columns = ['GOTU', 'genome']\n",
    "mapping = pd.merge(taxid, taxonomy, left_on='GOTU', right_index=True)\n",
    "mapping = mapping.set_index('genome')"
   ]
  },
  {
   "cell_type": "markdown",
   "id": "bba31f52",
   "metadata": {},
   "source": [
    "Combine 16S, SMS and viral host information into a single readout"
   ]
  },
  {
   "cell_type": "code",
   "execution_count": 4,
   "id": "c207aa2c",
   "metadata": {},
   "outputs": [
    {
     "name": "stderr",
     "output_type": "stream",
     "text": [
      "<ipython-input-4-a3c49e5e57b2>:3: DeprecationWarning: `np.str` is a deprecated alias for the builtin `str`. To silence this warning, use `str` by itself. Doing this will not modify any behavior and is safe. If you specifically wanted the numpy scalar type, use `np.str_` here.\n",
      "Deprecated in NumPy 1.20; for more details and guidance: https://numpy.org/devdocs/release/1.20.0-notes.html#deprecations\n",
      "  viral_hosts = set(all_edges['microbe'].unique().astype(np.str))\n"
     ]
    }
   ],
   "source": [
    "otu_md = pd.DataFrame({'16S': amp_stats['mean'], 'SMS': wgs_stats['mean']})\n",
    "all_edges = pd.read_table('../results/interaction_metadata.txt', index_col=0)\n",
    "viral_hosts = set(all_edges['microbe'].unique().astype(np.str))\n",
    "otu_md['viral_host'] = list(map(lambda x: str(x) in viral_hosts, otu_md.index))\n",
    "otu_md['viral_host'] = otu_md['viral_host'].astype(np.int64)\n",
    "otu_md['16S'] = otu_md['16S'].fillna(0)\n",
    "otu_md['SMS'] = otu_md['SMS'].fillna(0)\n",
    "\n",
    "# integrate taxonomy information\n",
    "otu_md = pd.merge(otu_md, mapping, left_index=True, right_index=True, how='left')\n",
    "otu_md = otu_md.reset_index().set_index('GOTU')\n",
    "\n",
    "# fill in the nans\n",
    "otu_md = otu_md.fillna('Other')\n",
    "\n",
    "# scale 16S and SMS data\n",
    "def scale_f(x):\n",
    "    if x <= -4:\n",
    "        return -4\n",
    "    if x >= 4: \n",
    "        return 4\n",
    "    else:\n",
    "        return np.round(x)\n",
    "otu_md['16S'] = otu_md['16S'].apply(scale_f).astype(np.int64)\n",
    "otu_md['SMS'] = otu_md['SMS'].apply(scale_f).astype(np.int64)"
   ]
  },
  {
   "cell_type": "code",
   "execution_count": 5,
   "id": "dc2dcd13",
   "metadata": {},
   "outputs": [],
   "source": [
    "def new_phylum(x):\n",
    "    if x in {'Firmicutes', 'Proteobacteria', 'Bacteroidetes', 'Actinobacteria'}:\n",
    "        return x\n",
    "    return 'Other'\n",
    "otu_md['phylum'] = otu_md['phylum'].apply(new_phylum)"
   ]
  },
  {
   "cell_type": "code",
   "execution_count": 6,
   "id": "462dcb21",
   "metadata": {},
   "outputs": [],
   "source": [
    "from skbio import TreeNode\n",
    "tree_fname = '/mnt/home/jmorton/databases/wol/trees/tree.nwk'\n",
    "tree = TreeNode.read(tree_fname)\n",
    "\n",
    "# take intersection over tree tips and metadata file\n",
    "tids = {n.name for n in tree.tips()}\n",
    "tids = tids & set(otu_md.index)\n",
    "otu_md = otu_md.loc[tids]\n",
    "tree = tree.shear(otu_md.index)"
   ]
  },
  {
   "cell_type": "code",
   "execution_count": 7,
   "id": "7b8db9f7",
   "metadata": {},
   "outputs": [],
   "source": [
    "res_dir = '../results/phylogenetic'\n",
    "otu_md.index.name = 'featureid'\n",
    "tree.write(f'{res_dir}/tree.nwk')\n",
    "otu_md.to_csv(f'{res_dir}/otu_metadata.txt', sep='\\t')"
   ]
  },
  {
   "cell_type": "markdown",
   "id": "26e5b4ed",
   "metadata": {},
   "source": [
    "# Phylogenetic heatmap"
   ]
  },
  {
   "cell_type": "raw",
   "id": "4faab9b0",
   "metadata": {},
   "source": [
    "import numpy as np\n",
    "import matplotlib.pyplot as plt\n",
    "import matplotlib.patches as patches\n",
    "import pandas as pd\n",
    "from gneiss.plot._dendrogram import SquareDendrogram\n",
    "from gneiss.plot._heatmap import _tree_coordinates\n",
    "\n",
    "from gneiss.util import match_tips, NUMERATOR, DENOMINATOR\n",
    "import warnings\n",
    "\n",
    "\n",
    "def _plot_dendrogram(ax_dendrogram, n_features, edges, **kwargs):\n",
    "    \"\"\" Plots the actual dendrogram.\n",
    "    Parameters\n",
    "    ----------\n",
    "    ax_dendrogram : matplotlib axes object\n",
    "        Contains the matplotlib axes in which the dendrogram will be plotted.\n",
    "    edges : pd.DataFrame\n",
    "        (x,y) coordinates for edges in the heatmap.\n",
    "    \"\"\"\n",
    "    offset = 0.5\n",
    "    for i in range(len(edges.index)):\n",
    "        row = edges.iloc[i]\n",
    "        ax_dendrogram.plot([row.x0, row.x1],\n",
    "                           [row.y0 - offset, row.y1 - offset],\n",
    "                           '-k', **kwargs)\n",
    "    ax_dendrogram.set_ylim([-offset, n_features - offset])\n",
    "    ax_dendrogram.set_yticks([])\n",
    "    ax_dendrogram.set_xticks([])\n",
    "    ax_dendrogram.axis('off')\n",
    "\n",
    "    \n",
    "def plot_tree(tree, ax, **kwargs):\n",
    "    \"\"\" Creates heatmap plotting object\n",
    "    \n",
    "    Parameters\n",
    "    ----------\n",
    "    tree: skbio.TreeNode\n",
    "        Tree representing the feature hierarchy.\n",
    "    ax : matplotlib.Axes\n",
    "        Matplotlib axes object\n",
    "    **kwargs\n",
    "        Additional arguments to be passed into the plot function\n",
    "\n",
    "    Returns\n",
    "    -------\n",
    "    matplotlib.pyplot.figure\n",
    "        Matplotlib figure object\n",
    "    \"\"\"\n",
    "    dendrogram_width=5\n",
    "    n_features = len(list(tree.tips()))\n",
    "    # get edges from tree\n",
    "    t = SquareDendrogram.from_tree(tree)\n",
    "    t = _tree_coordinates(t)\n",
    "    pts = t.coords(width=dendrogram_width, height=n_features)\n",
    "    edges = pts[['child0', 'child1']]\n",
    "    edges = edges.dropna(subset=['child0', 'child1'])\n",
    "    edges = edges.unstack()\n",
    "    edges = pd.DataFrame({'src_node': edges.index.get_level_values(1),\n",
    "                          'dest_node': edges.values})\n",
    "\n",
    "    edge_list = []\n",
    "    for i in edges.index:\n",
    "        src = edges.loc[i, 'src_node']\n",
    "        dest = edges.loc[i, 'dest_node']\n",
    "        sx, sy = pts.loc[src].x, pts.loc[src].y\n",
    "        dx, dy = pts.loc[dest].x, pts.loc[dest].y\n",
    "\n",
    "        edge_list.append(\n",
    "            {'x0': sx, 'y0': sy, 'x1': sx, 'y1': dy}\n",
    "        )\n",
    "        edge_list.append(\n",
    "            {'x0': sx, 'y0': dy, 'x1': dx, 'y1': dy}\n",
    "        )\n",
    "    edge_list = pd.DataFrame(edge_list)\n",
    "    _plot_dendrogram(ax, n_features, edge_list, **kwargs)"
   ]
  },
  {
   "cell_type": "raw",
   "id": "e12db2be",
   "metadata": {},
   "source": [
    "fig, ax = plt.subplots(figsize=(5, 10))\n",
    "plot_tree(tree, ax, linewidth=1)"
   ]
  },
  {
   "cell_type": "markdown",
   "id": "f981cae5",
   "metadata": {},
   "source": [
    "# ILR transform"
   ]
  },
  {
   "cell_type": "raw",
   "id": "11081b25",
   "metadata": {},
   "source": [
    "# Perform ILR transform\n",
    "import qiime2\n",
    "from skbio import TreeNode\n",
    "tree_fname = f'{sepp_directory}/tree/tree.nwk'\n",
    "#tree = qiime2.Artifact.load(tree_fname).view(TreeNode)\n",
    "tree = TreeNode.read(tree_fname)\n",
    "tree = rename_clades(tree)\n",
    "args = (kang0_diffs, kang_0_10_diffs, kang_0_18_diffs, kang_0_100_diffs, donor_diffs)\n",
    "args = list(match_all_differentials_and_tree(tree, *args))\n",
    "\n",
    "subtree = tree.shear(args[0].index)\n",
    "res = list(ilr_transform_differentials(subtree, *args))\n",
    "(kang_0_cc_ilr, kang_10_0_ilr, kang_18_0_ilr, kang_100_0_ilr, kang_donor_0_ilr) = res\n",
    "\n",
    "# Compute projection using PCA\n",
    "#X = np.hstack((kang_donor_ilr, \n",
    "#               kang_0_cc_ilr, \n",
    "#               kang_0_10_ilr, \n",
    "#               kang_0_18_ilr,\n",
    "#               kang_0_100_ilr))\n",
    "#V, prop_explained = create_projection(X.T, k=2)"
   ]
  }
 ],
 "metadata": {
  "kernelspec": {
   "display_name": "Python 3",
   "language": "python",
   "name": "python3"
  },
  "language_info": {
   "codemirror_mode": {
    "name": "ipython",
    "version": 3
   },
   "file_extension": ".py",
   "mimetype": "text/x-python",
   "name": "python",
   "nbconvert_exporter": "python",
   "pygments_lexer": "ipython3",
   "version": "3.8.8"
  },
  "toc": {
   "base_numbering": 1,
   "nav_menu": {},
   "number_sections": true,
   "sideBar": true,
   "skip_h1_title": false,
   "title_cell": "Table of Contents",
   "title_sidebar": "Contents",
   "toc_cell": true,
   "toc_position": {},
   "toc_section_display": true,
   "toc_window_display": false
  }
 },
 "nbformat": 4,
 "nbformat_minor": 5
}
