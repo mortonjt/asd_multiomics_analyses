{
 "cells": [
  {
   "cell_type": "markdown",
   "id": "9c4e4700",
   "metadata": {
    "toc": true
   },
   "source": [
    "<h1>Table of Contents<span class=\"tocSkip\"></span></h1>\n",
    "<div class=\"toc\"><ul class=\"toc-item\"><li><span><a href=\"#Pathway-analysis\" data-toc-modified-id=\"Pathway-analysis-1\"><span class=\"toc-item-num\">1&nbsp;&nbsp;</span>Pathway analysis</a></span></li><li><span><a href=\"#Pathway-aggregation\" data-toc-modified-id=\"Pathway-aggregation-2\"><span class=\"toc-item-num\">2&nbsp;&nbsp;</span>Pathway aggregation</a></span></li><li><span><a href=\"#Retrieve-pathways-and-compounds\" data-toc-modified-id=\"Retrieve-pathways-and-compounds-3\"><span class=\"toc-item-num\">3&nbsp;&nbsp;</span>Retrieve pathways and compounds</a></span></li></ul></div>"
   ]
  },
  {
   "cell_type": "code",
   "execution_count": 1,
   "id": "a6dff46e",
   "metadata": {},
   "outputs": [],
   "source": [
    "import pandas as pd\n",
    "import numpy as np\n",
    "import biom\n",
    "import arviz as az\n",
    "from collections import defaultdict\n",
    "import matplotlib.pyplot as plt\n",
    "import matplotlib\n",
    "from scipy.spatial.distance import euclidean\n",
    "import seaborn as sns\n",
    "\n",
    "from util import extract_differentials, ranking, btest, read_kegg_dict\n",
    "\n",
    "%matplotlib inline"
   ]
  },
  {
   "cell_type": "code",
   "execution_count": 2,
   "id": "69318eab",
   "metadata": {},
   "outputs": [],
   "source": [
    "fname = '../sfari/data/sra/Combined/age_sex_matched_posterior/differential_posterior.nc'\n",
    "differentials = extract_differentials(fname)\n",
    "lr = ranking(differentials)"
   ]
  },
  {
   "cell_type": "markdown",
   "id": "90856ea6",
   "metadata": {},
   "source": [
    "Plot the results"
   ]
  },
  {
   "cell_type": "code",
   "execution_count": null,
   "id": "ad193ba3",
   "metadata": {},
   "outputs": [],
   "source": [
    "genes = defaultdict()\n",
    "plt.style.use('dark_background')\n",
    "lr = lr.sort_values('effect_size')\n",
    "threshold = 1e-3 / len(lr)\n",
    "cond = np.logical_and(lr['pvalue'] < threshold, lr['effect_size'] > 0)\n",
    "genes[name] = lr.loc[cond]  # top ASD microbes\n",
    "genes[name] = genes[name].sort_values('effect_size')\n",
    "idx = np.arange(len(lr))\n",
    "lr = lr.sort_values('mean')\n",
    "cmap = matplotlib.cm.get_cmap('seismic')\n",
    "# norm = matplotlib.colors.Normalize(vmin=min(lr['prob_lr']), vmax=max(lr['prob_lr']))\n",
    "norm = matplotlib.colors.TwoSlopeNorm(\n",
    "    vmin=min(lr['prob_lr']), vcenter=0., vmax=max(lr['prob_lr']))\n",
    "lr['index'] = idx\n",
    "plt.fill_between(lr['index'], lr['5%'], lr['95%'], fc='b')\n",
    "idx = np.logical_and(lr['prob_lr'] > 0, lr['effect_size'] > 0)\n",
    "i = np.logical_and(lr['pvalue'] < threshold, idx)\n",
    "plt.fill_between(lr.loc[i, 'index'], lr.loc[i, '5%'], lr.loc[i, '95%'], fc='r')\n",
    "plt.plot(lr['index'], lr['mean'], c='c')\n",
    "plt.xlabel('Taxa', fontsize=18)\n",
    "plt.xticks([])\n",
    "plt.title(name, fontsize=18)\n",
    "plt.ylabel('log(ASD/Control) + K', labelpad=90, rotation=0, fontsize=14)\n",
    "#plt.colorbar(cbar)\n",
    "plt.show()\n",
    "plt.tight_layout()"
   ]
  },
  {
   "cell_type": "code",
   "execution_count": null,
   "id": "d7ebff49",
   "metadata": {},
   "outputs": [],
   "source": [
    "from q2_matchmaker._stats import hotelling_ttest, spherical_test\n",
    "spherical_test(x.values.T)"
   ]
  },
  {
   "cell_type": "markdown",
   "id": "2c4a70e1",
   "metadata": {},
   "source": [
    "# Pathway analysis"
   ]
  },
  {
   "cell_type": "code",
   "execution_count": null,
   "id": "ec38dd89",
   "metadata": {},
   "outputs": [],
   "source": [
    "rrna_lr = lr\n",
    "idx1 = rrna_lr['pvalue'] < 0.001 / len(rrna_lr)\n",
    "idx2 = np.logical_and(rrna_lr['prob_lr'] > 0, rrna_lr['effect_size'] > 0)\n",
    "idx3 = np.logical_and(rrna_lr['prob_lr'] < 0, rrna_lr['effect_size'] < 0)\n",
    "rrna_asd = rrna_lr.loc[np.logical_and(idx1, idx2)]\n",
    "rrna_con = rrna_lr.loc[np.logical_and(idx1, idx3)]"
   ]
  },
  {
   "cell_type": "code",
   "execution_count": null,
   "id": "a5f7bc74",
   "metadata": {},
   "outputs": [],
   "source": [
    "ko16S = pd.read_table('../sfari/data/sra/Combined/picrust2_out_pipeline/KO_predicted.tsv', index_col=0)\n",
    "\n",
    "kegg_con_16S, kegg_asd_16S = btest(\n",
    "    ko16S.reindex(rrna_asd.index).dropna(), \n",
    "    ko16S.reindex(rrna_con.index).dropna())    \n",
    "kegg_asd_16S = kegg_asd_16S.reset_index()\n",
    "kegg_asd_16S.columns = ['KEGG', 'pvalue']\n",
    "kegg_asd_16S['-log(pvalue)'] = -np.log(kegg_asd_16S['pvalue'] + 1e-200)"
   ]
  },
  {
   "cell_type": "code",
   "execution_count": null,
   "id": "b6a9c2a0",
   "metadata": {},
   "outputs": [],
   "source": [
    "threshold = (0.001 / len(kegg_asd_16S))\n",
    "kegg_asd_16S = kegg_asd_16S.loc[kegg_asd_16S['pvalue'] < threshold]"
   ]
  },
  {
   "cell_type": "code",
   "execution_count": null,
   "id": "585a36a4",
   "metadata": {},
   "outputs": [],
   "source": [
    "kegg_asd_16S"
   ]
  },
  {
   "cell_type": "code",
   "execution_count": null,
   "id": "d62d1575",
   "metadata": {},
   "outputs": [],
   "source": [
    "kegg_asd_16S.to_csv('../results/16S_KEGG.csv')"
   ]
  },
  {
   "cell_type": "markdown",
   "id": "2bc5366f",
   "metadata": {},
   "source": [
    "# Pathway aggregation"
   ]
  },
  {
   "cell_type": "code",
   "execution_count": null,
   "id": "0c1eeb2a",
   "metadata": {},
   "outputs": [],
   "source": [
    "kegg_dir = '../results/kegg'\n",
    "pwy2kegg = read_kegg_dict(f'{kegg_dir}/pathway-to-ko.txt', \n",
    "                          ['Pathway', 'KO'])\n",
    "\n",
    "pwy_name = pd.read_table(f'{kegg_dir}/pathway_name.txt', header=None)\n",
    "pwy_name.columns = ['Pathway', 'Name']\n",
    "pwy2kegg = pd.merge(pwy2kegg, pwy_name, left_on='Pathway', right_on='Pathway')\n",
    "\n",
    "lookup = {d: i for i, d in enumerate(pwy2kegg['Name'].value_counts().index)}\n",
    "pwy2kegg['ID'] = pwy2kegg['Name'].apply(lambda x: lookup[x])"
   ]
  },
  {
   "cell_type": "code",
   "execution_count": null,
   "id": "ac27f1cc",
   "metadata": {},
   "outputs": [],
   "source": [
    "sig_16S = kegg_asd_16S\n",
    "sig_16S = pd.merge(pwy2kegg, sig_16S, left_on='KO', right_on='KEGG').drop_duplicates()\n",
    "pwy2kegg = pwy2kegg.set_index('Pathway')"
   ]
  },
  {
   "cell_type": "code",
   "execution_count": null,
   "id": "9abd53a1",
   "metadata": {},
   "outputs": [],
   "source": [
    "sig_16S['Name'].value_counts()"
   ]
  },
  {
   "cell_type": "code",
   "execution_count": null,
   "id": "8e795d61",
   "metadata": {},
   "outputs": [],
   "source": [
    "from gneiss.sort import mean_niche_estimator\n",
    "n = 30\n",
    "sig_16S_ = pd.pivot(sig_16S, index='Pathway', columns='KO', values='-log(pvalue)').fillna(0)\n",
    "# focus on most representative pathways\n",
    "p2k = pwy2kegg.loc[sig_16S_.index]\n",
    "pnames = sig_16S['Name'].value_counts().head(n).index\n",
    "pwys = sig_16S['Pathway'].value_counts().head(n).index\n",
    "sig_16S_ = sig_16S_.loc[pwys]\n",
    "sig_16S_.index = pnames\n",
    "# Filter one-off genes\n",
    "sig_16S_ = sig_16S_.loc[:, sig_16S_.sum(axis=0) > 3]\n",
    "\n",
    "# Make it look more pretty\n",
    "pwy2name = sig_16S[['Name', 'ID']].set_index('Name').drop_duplicates()\n",
    "kegg_order = mean_niche_estimator(sig_16S_, pwy2name.loc[sig_16S_.index, 'ID'])\n",
    "kegg_order = kegg_order.dropna()\n",
    "kegg_order = kegg_order.sort_values()\n",
    "sig_16S_ = sig_16S_.loc[:, kegg_order.index]\n",
    "\n",
    "fig, ax = plt.subplots(figsize=(10, 10))\n",
    "sns.heatmap(sig_16S_, ax=ax)\n",
    "\n",
    "#_ = plt.yticks(np.arange(len(sig_16S_.index)), pnames)\n",
    "plt.xticks([])\n",
    "plt.xlabel('KEGG IDs', fontsize=14)\n",
    "plt.title('16S pathways', fontsize=18)"
   ]
  },
  {
   "cell_type": "markdown",
   "id": "11331f3d",
   "metadata": {},
   "source": [
    "# Retrieve pathways and compounds"
   ]
  },
  {
   "cell_type": "code",
   "execution_count": null,
   "id": "50013d17",
   "metadata": {},
   "outputs": [],
   "source": [
    "pwy2compound = read_kegg_dict(f'{kegg_dir}/pathway-to-compound.txt', \n",
    "                              ['Pathway', 'Compound'])\n",
    "sig_16S = pd.merge(sig_16S, pwy2compound, left_on='Pathway', right_on='Pathway')\n",
    "sig_16S.to_csv('../results/16S_compounds.csv')"
   ]
  },
  {
   "cell_type": "code",
   "execution_count": null,
   "id": "3af3d5d9",
   "metadata": {},
   "outputs": [],
   "source": [
    "sig_16S.shape"
   ]
  },
  {
   "cell_type": "code",
   "execution_count": null,
   "id": "4bfbda77",
   "metadata": {},
   "outputs": [],
   "source": []
  }
 ],
 "metadata": {
  "kernelspec": {
   "display_name": "Python 3",
   "language": "python",
   "name": "python3"
  },
  "language_info": {
   "codemirror_mode": {
    "name": "ipython",
    "version": 3
   },
   "file_extension": ".py",
   "mimetype": "text/x-python",
   "name": "python",
   "nbconvert_exporter": "python",
   "pygments_lexer": "ipython3",
   "version": "3.8.8"
  },
  "toc": {
   "base_numbering": 1,
   "nav_menu": {},
   "number_sections": true,
   "sideBar": true,
   "skip_h1_title": false,
   "title_cell": "Table of Contents",
   "title_sidebar": "Contents",
   "toc_cell": true,
   "toc_position": {},
   "toc_section_display": true,
   "toc_window_display": false
  }
 },
 "nbformat": 4,
 "nbformat_minor": 5
}
