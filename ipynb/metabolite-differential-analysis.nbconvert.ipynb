{
 "cells": [
  {
   "cell_type": "markdown",
   "id": "cccb8ec3",
   "metadata": {},
   "source": [
    "Here, we will merely perform a paired t-test / wilcoxon test to test the differences between the age-sex matched subjects."
   ]
  },
  {
   "cell_type": "markdown",
   "id": "903ba9df",
   "metadata": {
    "toc": true
   },
   "source": [
    "<h1>Table of Contents<span class=\"tocSkip\"></span></h1>\n",
    "<div class=\"toc\"><ul class=\"toc-item\"><li><span><a href=\"#Perform-standard-paired-statistical-analysis-on-the-metabolomics-datasets.\" data-toc-modified-id=\"Perform-standard-paired-statistical-analysis-on-the-metabolomics-datasets.-1\"><span class=\"toc-item-num\">1&nbsp;&nbsp;</span>Perform standard paired statistical analysis on the metabolomics datasets.</a></span><ul class=\"toc-item\"><li><span><a href=\"#Needham\" data-toc-modified-id=\"Needham-1.1\"><span class=\"toc-item-num\">1.1&nbsp;&nbsp;</span>Needham</a></span></li><li><span><a href=\"#Kuwabara\" data-toc-modified-id=\"Kuwabara-1.2\"><span class=\"toc-item-num\">1.2&nbsp;&nbsp;</span>Kuwabara</a></span></li><li><span><a href=\"#Kang-2020\" data-toc-modified-id=\"Kang-2020-1.3\"><span class=\"toc-item-num\">1.3&nbsp;&nbsp;</span>Kang 2020</a></span></li></ul></li><li><span><a href=\"#Compare-against-metabolic-network-from-cross-sectional-cohort.\" data-toc-modified-id=\"Compare-against-metabolic-network-from-cross-sectional-cohort.-2\"><span class=\"toc-item-num\">2&nbsp;&nbsp;</span>Compare against metabolic network from cross-sectional cohort.</a></span></li></ul></div>"
   ]
  },
  {
   "cell_type": "code",
   "execution_count": 1,
   "id": "a8bab4d9",
   "metadata": {
    "execution": {
     "iopub.execute_input": "2021-08-14T19:49:48.720356Z",
     "iopub.status.busy": "2021-08-14T19:49:48.715221Z",
     "iopub.status.idle": "2021-08-14T19:49:49.736030Z",
     "shell.execute_reply": "2021-08-14T19:49:49.735737Z"
    }
   },
   "outputs": [],
   "source": [
    "import os\n",
    "import biom\n",
    "import requests\n",
    "import numpy as np\n",
    "import pandas as pd\n",
    "import matplotlib.pyplot as plt\n",
    "from statsmodels.stats.multitest import multipletests\n",
    "from scipy.stats import wilcoxon, ttest_rel, mannwhitneyu, ttest_ind\n",
    "from matplotlib_venn import venn2, venn3\n",
    "import seaborn as sns\n",
    "%matplotlib inline\n",
    "\n",
    "\n",
    "def standard_test(data, group, reference=None, func=mannwhitneyu, mean_norm=False):\n",
    "    \"\"\" Performs standard statistical test\"\"\"\n",
    "    if mean_norm:\n",
    "        med = data.mean(axis=1)\n",
    "        data = data / data.mean(axis=1).values.reshape(-1, 1)\n",
    "    if reference is None:\n",
    "        reference = group.values[0]\n",
    "    # extract groups\n",
    "    groups = (group == reference)\n",
    "    groupA, groupB = data.loc[groups], data.loc[~groups]\n",
    "    def _func(feature_id):\n",
    "        if np.allclose(groupA[feature_id].values, groupB[feature_id].values):\n",
    "            return 1\n",
    "        else:\n",
    "            _, p = func(groupA[feature_id].values, groupB[feature_id].values)\n",
    "        return p\n",
    "    pvalues = list(map(_func, data.columns))\n",
    "    corrected_pvals = multipletests(pvalues, method='fdr_bh')[1]\n",
    "    return pd.DataFrame({'pvalues': pvalues, 'corrected_pvalues': corrected_pvals}, \n",
    "                         index=data.columns)    \n",
    "    \n",
    "def paired_test(data, matchings, group, reference=None, func=wilcoxon, mean_norm=False):\n",
    "    \"\"\" Performs paired testing\n",
    "    \n",
    "    Parameters\n",
    "    ----------\n",
    "    data : pd.DataFrame\n",
    "        Table of counts (samples x features)\n",
    "    matchings : pd.Series\n",
    "        Matching assignments\n",
    "    group : pd.Series\n",
    "        Treatment assignments\n",
    "    func : callable\n",
    "        The paired statistical test to perform. The paired test\n",
    "        must return a statistic and a pvalue\n",
    "    median_norm : bool\n",
    "        If specified, this will rescale the data around the median\n",
    "    \"\"\"\n",
    "    if mean_norm:\n",
    "        med = data.mean(axis=1)\n",
    "        data = data / data.mean(axis=1).values.reshape(-1, 1)\n",
    "        \n",
    "    if reference is None:\n",
    "        reference = group.values[0]\n",
    "    # extract groups\n",
    "    groups = (group == reference)\n",
    "    groupA, groupB = data.loc[groups], data.loc[~groups]\n",
    "    # pull out matchings and sort them\n",
    "    matchingA = matchings.loc[groupA.index].sort_values()\n",
    "    matchingB = matchings.loc[groupB.index].sort_values()\n",
    "    # order groups by their match id\n",
    "    groupA = groupA.loc[matchingA.index]\n",
    "    groupB = groupB.loc[matchingB.index]\n",
    "    # perform paired test\n",
    "    def _paired_func(feature_id):\n",
    "        if np.allclose(groupA[feature_id].values, groupB[feature_id].values):\n",
    "            return 1\n",
    "        else:\n",
    "            _, p = func(groupA[feature_id].values, groupB[feature_id].values)\n",
    "        return p\n",
    "    pvalues = list(map(_paired_func, data.columns))\n",
    "    corrected_pvals = multipletests(pvalues, method='fdr_bh')[1]\n",
    "    return pd.DataFrame({'pvalues': pvalues, 'corrected_pvalues': corrected_pvals}, \n",
    "                         index=data.columns)\n",
    "\n",
    "\n",
    "def fetch_keggs_from_names(pvalues, column = 'pvalues', alpha=0.05):\n",
    "    url = r'http://cts.fiehnlab.ucdavis.edu/service/convert/Chemical Name/KEGG/%s'\n",
    "    pairs = []\n",
    "    for i, n in enumerate(pvalues.index):\n",
    "        u = url % n\n",
    "        if pvalues.loc[n, column] > alpha: continue\n",
    "        try:\n",
    "            response = requests.get(u)\n",
    "            d = response.json()\n",
    "            for k in d[0]['result']:\n",
    "                pairs.append((n, k))\n",
    "        except:\n",
    "            continue\n",
    "    return pairs\n",
    "    \n",
    "data_dir = '~/ceph/sfari/data/metabolomics'"
   ]
  },
  {
   "cell_type": "markdown",
   "id": "bea0182d",
   "metadata": {},
   "source": [
    "# Perform standard paired statistical analysis on the metabolomics datasets."
   ]
  },
  {
   "cell_type": "code",
   "execution_count": 2,
   "id": "c8267c8e",
   "metadata": {
    "execution": {
     "iopub.execute_input": "2021-08-14T19:49:49.739191Z",
     "iopub.status.busy": "2021-08-14T19:49:49.738905Z",
     "iopub.status.idle": "2021-08-14T19:49:49.858756Z",
     "shell.execute_reply": "2021-08-14T19:49:49.859013Z"
    }
   },
   "outputs": [
    {
     "data": {
      "text/html": [
       "<div>\n",
       "<style scoped>\n",
       "    .dataframe tbody tr th:only-of-type {\n",
       "        vertical-align: middle;\n",
       "    }\n",
       "\n",
       "    .dataframe tbody tr th {\n",
       "        vertical-align: top;\n",
       "    }\n",
       "\n",
       "    .dataframe thead th {\n",
       "        text-align: right;\n",
       "    }\n",
       "</style>\n",
       "<table border=\"1\" class=\"dataframe\">\n",
       "  <thead>\n",
       "    <tr style=\"text-align: right;\">\n",
       "      <th></th>\n",
       "      <th>pvalues</th>\n",
       "      <th>corrected_pvalues</th>\n",
       "    </tr>\n",
       "  </thead>\n",
       "  <tbody>\n",
       "    <tr>\n",
       "      <th>Tryptophan</th>\n",
       "      <td>0.000697</td>\n",
       "      <td>0.060677</td>\n",
       "    </tr>\n",
       "    <tr>\n",
       "      <th>Cystine</th>\n",
       "      <td>0.001567</td>\n",
       "      <td>0.060677</td>\n",
       "    </tr>\n",
       "    <tr>\n",
       "      <th>Leucine</th>\n",
       "      <td>0.001863</td>\n",
       "      <td>0.060677</td>\n",
       "    </tr>\n",
       "    <tr>\n",
       "      <th>Quinic acid</th>\n",
       "      <td>0.002225</td>\n",
       "      <td>0.060677</td>\n",
       "    </tr>\n",
       "    <tr>\n",
       "      <th>3-Aminoisobutyric acid</th>\n",
       "      <td>0.002615</td>\n",
       "      <td>0.060677</td>\n",
       "    </tr>\n",
       "    <tr>\n",
       "      <th>Uric acid</th>\n",
       "      <td>0.006833</td>\n",
       "      <td>0.131781</td>\n",
       "    </tr>\n",
       "    <tr>\n",
       "      <th>Tyrosine</th>\n",
       "      <td>0.007952</td>\n",
       "      <td>0.131781</td>\n",
       "    </tr>\n",
       "    <tr>\n",
       "      <th>Succinic acid</th>\n",
       "      <td>0.012814</td>\n",
       "      <td>0.150270</td>\n",
       "    </tr>\n",
       "    <tr>\n",
       "      <th>1-Methylhistidine</th>\n",
       "      <td>0.013275</td>\n",
       "      <td>0.150270</td>\n",
       "    </tr>\n",
       "    <tr>\n",
       "      <th>3-Deoxy-2 4 5-trihydroxypentonic acid</th>\n",
       "      <td>0.014250</td>\n",
       "      <td>0.150270</td>\n",
       "    </tr>\n",
       "  </tbody>\n",
       "</table>\n",
       "</div>"
      ],
      "text/plain": [
       "                                        pvalues  corrected_pvalues\n",
       "Tryptophan                             0.000697           0.060677\n",
       "Cystine                                0.001567           0.060677\n",
       "Leucine                                0.001863           0.060677\n",
       "Quinic acid                            0.002225           0.060677\n",
       "3-Aminoisobutyric acid                 0.002615           0.060677\n",
       "Uric acid                              0.006833           0.131781\n",
       "Tyrosine                               0.007952           0.131781\n",
       "Succinic acid                          0.012814           0.150270\n",
       "1-Methylhistidine                      0.013275           0.150270\n",
       "3-Deoxy-2 4 5-trihydroxypentonic acid  0.014250           0.150270"
      ]
     },
     "execution_count": 1,
     "metadata": {},
     "output_type": "execute_result"
    }
   ],
   "source": [
    "noto_md = pd.read_table(\n",
    "    os.path.join(data_dir, 'Noto2014', 'urine_sample_metadata.txt'), \n",
    "    index_col=0, comment='#')\n",
    "noto_table = biom.load_table('../sfari/data/metabolomics/Noto2014/urine.biom')\n",
    "noto_table = noto_table.to_dataframe().T\n",
    "\n",
    "pvalues = paired_test(noto_table, \n",
    "                      noto_md['Match_IDs'], \n",
    "                      noto_md['Status'], reference='Control', \n",
    "                      func=wilcoxon)\n",
    "pvalues.sort_values('pvalues').head(10)"
   ]
  },
  {
   "cell_type": "code",
   "execution_count": 3,
   "id": "bc92ea65",
   "metadata": {
    "execution": {
     "iopub.execute_input": "2021-08-14T19:49:49.861321Z",
     "iopub.status.busy": "2021-08-14T19:49:49.861046Z",
     "iopub.status.idle": "2021-08-14T19:50:27.893179Z",
     "shell.execute_reply": "2021-08-14T19:50:27.893440Z"
    }
   },
   "outputs": [],
   "source": [
    "lookup = fetch_keggs_from_names(pvalues)"
   ]
  },
  {
   "cell_type": "code",
   "execution_count": 4,
   "id": "3be52729",
   "metadata": {
    "execution": {
     "iopub.execute_input": "2021-08-14T19:50:27.899931Z",
     "iopub.status.busy": "2021-08-14T19:50:27.899634Z",
     "iopub.status.idle": "2021-08-14T19:50:27.908538Z",
     "shell.execute_reply": "2021-08-14T19:50:27.908253Z"
    }
   },
   "outputs": [],
   "source": [
    "lookup = pd.DataFrame(lookup, columns=['Compound_Name', 'KEGG'])\n",
    "pvalues = pd.merge(pvalues, lookup, left_index=True, right_on='Compound_Name')\n",
    "pvalues = pvalues.loc[pvalues.pvalues < 0.05]\n",
    "pvalues.to_csv('../results/metabolomics/noto2014_urine_pvalues.csv')"
   ]
  },
  {
   "cell_type": "markdown",
   "id": "f800048e",
   "metadata": {},
   "source": [
    "## Needham"
   ]
  },
  {
   "cell_type": "code",
   "execution_count": 5,
   "id": "e5862719",
   "metadata": {
    "execution": {
     "iopub.execute_input": "2021-08-14T19:50:27.911488Z",
     "iopub.status.busy": "2021-08-14T19:50:27.911206Z",
     "iopub.status.idle": "2021-08-14T19:50:29.419175Z",
     "shell.execute_reply": "2021-08-14T19:50:29.419435Z"
    }
   },
   "outputs": [
    {
     "name": "stderr",
     "output_type": "stream",
     "text": [
      "/mnt/home/jmorton/miniconda3/envs/qiime2-2021.4/lib/python3.8/site-packages/scipy/stats/morestats.py:2981: UserWarning: Sample size too small for normal approximation.\n",
      "  warnings.warn(\"Sample size too small for normal approximation.\")\n"
     ]
    },
    {
     "data": {
      "text/html": [
       "<div>\n",
       "<style scoped>\n",
       "    .dataframe tbody tr th:only-of-type {\n",
       "        vertical-align: middle;\n",
       "    }\n",
       "\n",
       "    .dataframe tbody tr th {\n",
       "        vertical-align: top;\n",
       "    }\n",
       "\n",
       "    .dataframe thead th {\n",
       "        text-align: right;\n",
       "    }\n",
       "</style>\n",
       "<table border=\"1\" class=\"dataframe\">\n",
       "  <thead>\n",
       "    <tr style=\"text-align: right;\">\n",
       "      <th></th>\n",
       "      <th>pvalues</th>\n",
       "      <th>corrected_pvalues</th>\n",
       "    </tr>\n",
       "  </thead>\n",
       "  <tbody>\n",
       "    <tr>\n",
       "      <th>Total CE</th>\n",
       "      <td>0.000108</td>\n",
       "      <td>0.048648</td>\n",
       "    </tr>\n",
       "    <tr>\n",
       "      <th>DAG(16:1/18:1)</th>\n",
       "      <td>0.000108</td>\n",
       "      <td>0.048648</td>\n",
       "    </tr>\n",
       "    <tr>\n",
       "      <th>LPC(14:0)</th>\n",
       "      <td>0.000114</td>\n",
       "      <td>0.048648</td>\n",
       "    </tr>\n",
       "    <tr>\n",
       "      <th>DAG(16:1/18:0)</th>\n",
       "      <td>0.000121</td>\n",
       "      <td>0.048648</td>\n",
       "    </tr>\n",
       "    <tr>\n",
       "      <th>CE(18:1)</th>\n",
       "      <td>0.000186</td>\n",
       "      <td>0.048648</td>\n",
       "    </tr>\n",
       "    <tr>\n",
       "      <th>DAG(14:1/18:1)</th>\n",
       "      <td>0.000207</td>\n",
       "      <td>0.048648</td>\n",
       "    </tr>\n",
       "    <tr>\n",
       "      <th>CE(20:1)</th>\n",
       "      <td>0.000219</td>\n",
       "      <td>0.048648</td>\n",
       "    </tr>\n",
       "    <tr>\n",
       "      <th>CE(18:2)</th>\n",
       "      <td>0.000270</td>\n",
       "      <td>0.048648</td>\n",
       "    </tr>\n",
       "    <tr>\n",
       "      <th>DAG(14:0/18:1)</th>\n",
       "      <td>0.000284</td>\n",
       "      <td>0.048648</td>\n",
       "    </tr>\n",
       "    <tr>\n",
       "      <th>LPC(15:0)</th>\n",
       "      <td>0.000332</td>\n",
       "      <td>0.048648</td>\n",
       "    </tr>\n",
       "  </tbody>\n",
       "</table>\n",
       "</div>"
      ],
      "text/plain": [
       "                 pvalues  corrected_pvalues\n",
       "Total CE        0.000108           0.048648\n",
       "DAG(16:1/18:1)  0.000108           0.048648\n",
       "LPC(14:0)       0.000114           0.048648\n",
       "DAG(16:1/18:0)  0.000121           0.048648\n",
       "CE(18:1)        0.000186           0.048648\n",
       "DAG(14:1/18:1)  0.000207           0.048648\n",
       "CE(20:1)        0.000219           0.048648\n",
       "CE(18:2)        0.000270           0.048648\n",
       "DAG(14:0/18:1)  0.000284           0.048648\n",
       "LPC(15:0)       0.000332           0.048648"
      ]
     },
     "execution_count": 1,
     "metadata": {},
     "output_type": "execute_result"
    }
   ],
   "source": [
    "needham_md = pd.read_table(\n",
    "    os.path.join(data_dir, 'Needham2020', 'plasma_sample_metadata.txt'), \n",
    "    index_col=0, comment='#')\n",
    "needham_table = biom.load_table('../sfari/data/metabolomics/Needham2020/plasma.biom')\n",
    "needham_table = needham_table.to_dataframe().T\n",
    "plasma_metabolite_md = pd.read_table(\n",
    "    os.path.join(data_dir, 'Needham2020', 'plasma_metabolite_metadata.txt'), \n",
    "    index_col=0)\n",
    "\n",
    "pvalues = paired_test(needham_table, \n",
    "                      needham_md['Match_IDs'], \n",
    "                      needham_md['Status'], reference='Control', \n",
    "                      func=wilcoxon, mean_norm=True)\n",
    "pvalues.sort_values('pvalues').head(10)"
   ]
  },
  {
   "cell_type": "code",
   "execution_count": 6,
   "id": "78e73ffc",
   "metadata": {
    "execution": {
     "iopub.execute_input": "2021-08-14T19:50:29.422624Z",
     "iopub.status.busy": "2021-08-14T19:50:29.422025Z",
     "iopub.status.idle": "2021-08-14T19:50:29.430987Z",
     "shell.execute_reply": "2021-08-14T19:50:29.430689Z"
    }
   },
   "outputs": [],
   "source": [
    "plasma_metabolite_md = plasma_metabolite_md.set_index('BIOCHEMICAL')\n",
    "pvalues = pd.merge(pvalues, plasma_metabolite_md, left_index=True, right_index=True)\n",
    "pvalues = pvalues.dropna(subset=['KEGG'])\n",
    "pvalues = pvalues.loc[pvalues.pvalues < 0.05]\n",
    "pvalues.to_csv('../results/metabolomics/needham2020_plasma_pvalues.csv')"
   ]
  },
  {
   "cell_type": "code",
   "execution_count": 7,
   "id": "18a10f3e",
   "metadata": {
    "execution": {
     "iopub.execute_input": "2021-08-14T19:50:29.439897Z",
     "iopub.status.busy": "2021-08-14T19:50:29.439619Z",
     "iopub.status.idle": "2021-08-14T19:50:30.512315Z",
     "shell.execute_reply": "2021-08-14T19:50:30.512044Z"
    }
   },
   "outputs": [
    {
     "data": {
      "text/html": [
       "<div>\n",
       "<style scoped>\n",
       "    .dataframe tbody tr th:only-of-type {\n",
       "        vertical-align: middle;\n",
       "    }\n",
       "\n",
       "    .dataframe tbody tr th {\n",
       "        vertical-align: top;\n",
       "    }\n",
       "\n",
       "    .dataframe thead th {\n",
       "        text-align: right;\n",
       "    }\n",
       "</style>\n",
       "<table border=\"1\" class=\"dataframe\">\n",
       "  <thead>\n",
       "    <tr style=\"text-align: right;\">\n",
       "      <th></th>\n",
       "      <th>pvalues</th>\n",
       "      <th>corrected_pvalues</th>\n",
       "    </tr>\n",
       "  </thead>\n",
       "  <tbody>\n",
       "    <tr>\n",
       "      <th>DAG(16:1/18:1)</th>\n",
       "      <td>0.000005</td>\n",
       "      <td>0.007550</td>\n",
       "    </tr>\n",
       "    <tr>\n",
       "      <th>DAG(14:1/18:1)</th>\n",
       "      <td>0.000014</td>\n",
       "      <td>0.007793</td>\n",
       "    </tr>\n",
       "    <tr>\n",
       "      <th>CE(18:3)</th>\n",
       "      <td>0.000015</td>\n",
       "      <td>0.007793</td>\n",
       "    </tr>\n",
       "    <tr>\n",
       "      <th>LPC(17:0)</th>\n",
       "      <td>0.000024</td>\n",
       "      <td>0.008208</td>\n",
       "    </tr>\n",
       "    <tr>\n",
       "      <th>Total CE</th>\n",
       "      <td>0.000026</td>\n",
       "      <td>0.008208</td>\n",
       "    </tr>\n",
       "    <tr>\n",
       "      <th>TAG53:6-FA18:2</th>\n",
       "      <td>0.000031</td>\n",
       "      <td>0.008208</td>\n",
       "    </tr>\n",
       "    <tr>\n",
       "      <th>TAG44:0-FA18:0</th>\n",
       "      <td>0.000036</td>\n",
       "      <td>0.008208</td>\n",
       "    </tr>\n",
       "    <tr>\n",
       "      <th>LPC(20:3)</th>\n",
       "      <td>0.000042</td>\n",
       "      <td>0.008208</td>\n",
       "    </tr>\n",
       "    <tr>\n",
       "      <th>LPC(14:0)</th>\n",
       "      <td>0.000046</td>\n",
       "      <td>0.008208</td>\n",
       "    </tr>\n",
       "    <tr>\n",
       "      <th>LPC(18:3)</th>\n",
       "      <td>0.000071</td>\n",
       "      <td>0.011390</td>\n",
       "    </tr>\n",
       "  </tbody>\n",
       "</table>\n",
       "</div>"
      ],
      "text/plain": [
       "                 pvalues  corrected_pvalues\n",
       "DAG(16:1/18:1)  0.000005           0.007550\n",
       "DAG(14:1/18:1)  0.000014           0.007793\n",
       "CE(18:3)        0.000015           0.007793\n",
       "LPC(17:0)       0.000024           0.008208\n",
       "Total CE        0.000026           0.008208\n",
       "TAG53:6-FA18:2  0.000031           0.008208\n",
       "TAG44:0-FA18:0  0.000036           0.008208\n",
       "LPC(20:3)       0.000042           0.008208\n",
       "LPC(14:0)       0.000046           0.008208\n",
       "LPC(18:3)       0.000071           0.011390"
      ]
     },
     "execution_count": 1,
     "metadata": {},
     "output_type": "execute_result"
    }
   ],
   "source": [
    "pvalues = standard_test(needham_table, \n",
    "                        needham_md['Status'], reference='Control', \n",
    "                        func=mannwhitneyu, mean_norm=True)\n",
    "pvalues.sort_values('pvalues').head(10)"
   ]
  },
  {
   "cell_type": "code",
   "execution_count": 8,
   "id": "9aeef028",
   "metadata": {
    "execution": {
     "iopub.execute_input": "2021-08-14T19:50:30.516393Z",
     "iopub.status.busy": "2021-08-14T19:50:30.515629Z",
     "iopub.status.idle": "2021-08-14T19:50:31.196780Z",
     "shell.execute_reply": "2021-08-14T19:50:31.197031Z"
    }
   },
   "outputs": [
    {
     "name": "stderr",
     "output_type": "stream",
     "text": [
      "/mnt/home/jmorton/miniconda3/envs/qiime2-2021.4/lib/python3.8/site-packages/scipy/stats/morestats.py:2967: UserWarning: Exact p-value calculation does not work if there are ties. Switching to normal approximation.\n",
      "  warnings.warn(\"Exact p-value calculation does not work if there are \"\n",
      "/mnt/home/jmorton/miniconda3/envs/qiime2-2021.4/lib/python3.8/site-packages/scipy/stats/morestats.py:2981: UserWarning: Sample size too small for normal approximation.\n",
      "  warnings.warn(\"Sample size too small for normal approximation.\")\n"
     ]
    },
    {
     "data": {
      "text/html": [
       "<div>\n",
       "<style scoped>\n",
       "    .dataframe tbody tr th:only-of-type {\n",
       "        vertical-align: middle;\n",
       "    }\n",
       "\n",
       "    .dataframe tbody tr th {\n",
       "        vertical-align: top;\n",
       "    }\n",
       "\n",
       "    .dataframe thead th {\n",
       "        text-align: right;\n",
       "    }\n",
       "</style>\n",
       "<table border=\"1\" class=\"dataframe\">\n",
       "  <thead>\n",
       "    <tr style=\"text-align: right;\">\n",
       "      <th></th>\n",
       "      <th>pvalues</th>\n",
       "      <th>corrected_pvalues</th>\n",
       "    </tr>\n",
       "  </thead>\n",
       "  <tbody>\n",
       "    <tr>\n",
       "      <th>retinol (Vitamin A)</th>\n",
       "      <td>0.001021</td>\n",
       "      <td>0.831322</td>\n",
       "    </tr>\n",
       "    <tr>\n",
       "      <th>3-aminoisobutyrate</th>\n",
       "      <td>0.004286</td>\n",
       "      <td>0.971272</td>\n",
       "    </tr>\n",
       "    <tr>\n",
       "      <th>I-urobilinogen</th>\n",
       "      <td>0.005723</td>\n",
       "      <td>0.971272</td>\n",
       "    </tr>\n",
       "    <tr>\n",
       "      <th>aconitate [cis or trans]</th>\n",
       "      <td>0.007443</td>\n",
       "      <td>0.971272</td>\n",
       "    </tr>\n",
       "    <tr>\n",
       "      <th>uridine-2',3'-cyclic monophosphate</th>\n",
       "      <td>0.009882</td>\n",
       "      <td>0.971272</td>\n",
       "    </tr>\n",
       "    <tr>\n",
       "      <th>hydroxymethylpyrimidine</th>\n",
       "      <td>0.011473</td>\n",
       "      <td>0.971272</td>\n",
       "    </tr>\n",
       "    <tr>\n",
       "      <th>1-palmitoleoylglycerol (16:1)*</th>\n",
       "      <td>0.014095</td>\n",
       "      <td>0.971272</td>\n",
       "    </tr>\n",
       "    <tr>\n",
       "      <th>2,4-dihydroxyhydrocinnamate</th>\n",
       "      <td>0.020858</td>\n",
       "      <td>0.971272</td>\n",
       "    </tr>\n",
       "    <tr>\n",
       "      <th>nicotinamide</th>\n",
       "      <td>0.020858</td>\n",
       "      <td>0.971272</td>\n",
       "    </tr>\n",
       "    <tr>\n",
       "      <th>1-oleoyl-GPC (18:1)</th>\n",
       "      <td>0.022916</td>\n",
       "      <td>0.971272</td>\n",
       "    </tr>\n",
       "  </tbody>\n",
       "</table>\n",
       "</div>"
      ],
      "text/plain": [
       "                                     pvalues  corrected_pvalues\n",
       "retinol (Vitamin A)                 0.001021           0.831322\n",
       "3-aminoisobutyrate                  0.004286           0.971272\n",
       "I-urobilinogen                      0.005723           0.971272\n",
       "aconitate [cis or trans]            0.007443           0.971272\n",
       "uridine-2',3'-cyclic monophosphate  0.009882           0.971272\n",
       "hydroxymethylpyrimidine             0.011473           0.971272\n",
       "1-palmitoleoylglycerol (16:1)*      0.014095           0.971272\n",
       "2,4-dihydroxyhydrocinnamate         0.020858           0.971272\n",
       "nicotinamide                        0.020858           0.971272\n",
       "1-oleoyl-GPC (18:1)                 0.022916           0.971272"
      ]
     },
     "execution_count": 1,
     "metadata": {},
     "output_type": "execute_result"
    }
   ],
   "source": [
    "needham_md = pd.read_table(\n",
    "    os.path.join(data_dir, 'Needham2020', 'fecal_sample_metadata.txt'), \n",
    "    index_col=0, comment='#')\n",
    "needham_table = biom.load_table('../sfari/data/metabolomics/Needham2020/fecal.biom')\n",
    "needham_table = needham_table.to_dataframe().T\n",
    "fecal_metabolite_md = pd.read_table(\n",
    "    os.path.join(data_dir, 'Needham2020', 'fecal_metabolite_metadata.txt'), \n",
    "    index_col=0)\n",
    "\n",
    "pvalues = paired_test(needham_table, \n",
    "                      needham_md['Match_IDs'], \n",
    "                      needham_md['Status'], reference='Control', \n",
    "                      func=wilcoxon, mean_norm=True)\n",
    "pvalues.sort_values('pvalues').head(10)"
   ]
  },
  {
   "cell_type": "code",
   "execution_count": 9,
   "id": "d9dc04a4",
   "metadata": {
    "execution": {
     "iopub.execute_input": "2021-08-14T19:50:31.200878Z",
     "iopub.status.busy": "2021-08-14T19:50:31.199796Z",
     "iopub.status.idle": "2021-08-14T19:50:31.207759Z",
     "shell.execute_reply": "2021-08-14T19:50:31.207473Z"
    }
   },
   "outputs": [],
   "source": [
    "fecal_metabolite_md = fecal_metabolite_md.set_index('BIOCHEMICAL')\n",
    "pvalues = pd.merge(pvalues, fecal_metabolite_md, left_index=True, right_index=True)\n",
    "pvalues = pvalues.dropna(subset=['KEGG'])\n",
    "pvalues = pvalues.loc[pvalues.pvalues < 0.05]\n",
    "pvalues.to_csv('../results/metabolomics/needham2020_fecal_pvalues.csv')"
   ]
  },
  {
   "cell_type": "code",
   "execution_count": 10,
   "id": "949b36a4",
   "metadata": {
    "execution": {
     "iopub.execute_input": "2021-08-14T19:50:31.213363Z",
     "iopub.status.busy": "2021-08-14T19:50:31.212717Z",
     "iopub.status.idle": "2021-08-14T19:50:31.810747Z",
     "shell.execute_reply": "2021-08-14T19:50:31.810480Z"
    }
   },
   "outputs": [
    {
     "data": {
      "text/html": [
       "<div>\n",
       "<style scoped>\n",
       "    .dataframe tbody tr th:only-of-type {\n",
       "        vertical-align: middle;\n",
       "    }\n",
       "\n",
       "    .dataframe tbody tr th {\n",
       "        vertical-align: top;\n",
       "    }\n",
       "\n",
       "    .dataframe thead th {\n",
       "        text-align: right;\n",
       "    }\n",
       "</style>\n",
       "<table border=\"1\" class=\"dataframe\">\n",
       "  <thead>\n",
       "    <tr style=\"text-align: right;\">\n",
       "      <th></th>\n",
       "      <th>pvalues</th>\n",
       "      <th>corrected_pvalues</th>\n",
       "    </tr>\n",
       "  </thead>\n",
       "  <tbody>\n",
       "    <tr>\n",
       "      <th>retinol (Vitamin A)</th>\n",
       "      <td>0.000095</td>\n",
       "      <td>0.077478</td>\n",
       "    </tr>\n",
       "    <tr>\n",
       "      <th>1-methylurate</th>\n",
       "      <td>0.002173</td>\n",
       "      <td>0.479931</td>\n",
       "    </tr>\n",
       "    <tr>\n",
       "      <th>glutamyl-meso-diaminopimelate</th>\n",
       "      <td>0.002947</td>\n",
       "      <td>0.479931</td>\n",
       "    </tr>\n",
       "    <tr>\n",
       "      <th>1-oleoyl-GPC (18:1)</th>\n",
       "      <td>0.004742</td>\n",
       "      <td>0.479931</td>\n",
       "    </tr>\n",
       "    <tr>\n",
       "      <th>1-palmitoleoylglycerol (16:1)*</th>\n",
       "      <td>0.005076</td>\n",
       "      <td>0.479931</td>\n",
       "    </tr>\n",
       "    <tr>\n",
       "      <th>1-linoleoyl-GPE (18:2)*</th>\n",
       "      <td>0.005746</td>\n",
       "      <td>0.479931</td>\n",
       "    </tr>\n",
       "    <tr>\n",
       "      <th>hydroxymethylpyrimidine</th>\n",
       "      <td>0.006635</td>\n",
       "      <td>0.479931</td>\n",
       "    </tr>\n",
       "    <tr>\n",
       "      <th>alpha-tocotrienol</th>\n",
       "      <td>0.007086</td>\n",
       "      <td>0.479931</td>\n",
       "    </tr>\n",
       "    <tr>\n",
       "      <th>uridine-2',3'-cyclic monophosphate</th>\n",
       "      <td>0.007956</td>\n",
       "      <td>0.479931</td>\n",
       "    </tr>\n",
       "    <tr>\n",
       "      <th>aconitate [cis or trans]</th>\n",
       "      <td>0.008063</td>\n",
       "      <td>0.479931</td>\n",
       "    </tr>\n",
       "  </tbody>\n",
       "</table>\n",
       "</div>"
      ],
      "text/plain": [
       "                                     pvalues  corrected_pvalues\n",
       "retinol (Vitamin A)                 0.000095           0.077478\n",
       "1-methylurate                       0.002173           0.479931\n",
       "glutamyl-meso-diaminopimelate       0.002947           0.479931\n",
       "1-oleoyl-GPC (18:1)                 0.004742           0.479931\n",
       "1-palmitoleoylglycerol (16:1)*      0.005076           0.479931\n",
       "1-linoleoyl-GPE (18:2)*             0.005746           0.479931\n",
       "hydroxymethylpyrimidine             0.006635           0.479931\n",
       "alpha-tocotrienol                   0.007086           0.479931\n",
       "uridine-2',3'-cyclic monophosphate  0.007956           0.479931\n",
       "aconitate [cis or trans]            0.008063           0.479931"
      ]
     },
     "execution_count": 1,
     "metadata": {},
     "output_type": "execute_result"
    }
   ],
   "source": [
    "pvalues = standard_test(needham_table, \n",
    "                        needham_md['Status'], reference='Control', \n",
    "                        func=mannwhitneyu, mean_norm=True)\n",
    "pvalues.sort_values('pvalues').head(10)"
   ]
  },
  {
   "cell_type": "markdown",
   "id": "38c2d2c5",
   "metadata": {},
   "source": [
    "## Kuwabara"
   ]
  },
  {
   "cell_type": "code",
   "execution_count": 11,
   "id": "7ee542d6",
   "metadata": {
    "execution": {
     "iopub.execute_input": "2021-08-14T19:50:31.813968Z",
     "iopub.status.busy": "2021-08-14T19:50:31.813675Z",
     "iopub.status.idle": "2021-08-14T19:50:31.884712Z",
     "shell.execute_reply": "2021-08-14T19:50:31.884956Z"
    }
   },
   "outputs": [
    {
     "name": "stderr",
     "output_type": "stream",
     "text": [
      "/mnt/home/jmorton/miniconda3/envs/qiime2-2021.4/lib/python3.8/site-packages/scipy/stats/morestats.py:2967: UserWarning: Exact p-value calculation does not work if there are ties. Switching to normal approximation.\n",
      "  warnings.warn(\"Exact p-value calculation does not work if there are \"\n",
      "/mnt/home/jmorton/miniconda3/envs/qiime2-2021.4/lib/python3.8/site-packages/scipy/stats/morestats.py:2981: UserWarning: Sample size too small for normal approximation.\n",
      "  warnings.warn(\"Sample size too small for normal approximation.\")\n"
     ]
    },
    {
     "data": {
      "text/html": [
       "<div>\n",
       "<style scoped>\n",
       "    .dataframe tbody tr th:only-of-type {\n",
       "        vertical-align: middle;\n",
       "    }\n",
       "\n",
       "    .dataframe tbody tr th {\n",
       "        vertical-align: top;\n",
       "    }\n",
       "\n",
       "    .dataframe thead th {\n",
       "        text-align: right;\n",
       "    }\n",
       "</style>\n",
       "<table border=\"1\" class=\"dataframe\">\n",
       "  <thead>\n",
       "    <tr style=\"text-align: right;\">\n",
       "      <th></th>\n",
       "      <th>pvalues</th>\n",
       "      <th>corrected_pvalues</th>\n",
       "    </tr>\n",
       "  </thead>\n",
       "  <tbody>\n",
       "    <tr>\n",
       "      <th>C00334</th>\n",
       "      <td>0.001953</td>\n",
       "      <td>0.218750</td>\n",
       "    </tr>\n",
       "    <tr>\n",
       "      <th>C00022</th>\n",
       "      <td>0.013672</td>\n",
       "      <td>0.282912</td>\n",
       "    </tr>\n",
       "    <tr>\n",
       "      <th>C00186,C00256,C01432</th>\n",
       "      <td>0.005859</td>\n",
       "      <td>0.282912</td>\n",
       "    </tr>\n",
       "    <tr>\n",
       "      <th>C00049,C00402,C16433</th>\n",
       "      <td>0.009766</td>\n",
       "      <td>0.282912</td>\n",
       "    </tr>\n",
       "    <tr>\n",
       "      <th>C00327</th>\n",
       "      <td>0.013672</td>\n",
       "      <td>0.282912</td>\n",
       "    </tr>\n",
       "    <tr>\n",
       "      <th>C00008</th>\n",
       "      <td>0.015156</td>\n",
       "      <td>0.282912</td>\n",
       "    </tr>\n",
       "    <tr>\n",
       "      <th>C00025,C00217,C00302</th>\n",
       "      <td>0.037109</td>\n",
       "      <td>0.415625</td>\n",
       "    </tr>\n",
       "    <tr>\n",
       "      <th>C00093</th>\n",
       "      <td>0.037109</td>\n",
       "      <td>0.415625</td>\n",
       "    </tr>\n",
       "    <tr>\n",
       "      <th>C00065,C00716,C00740</th>\n",
       "      <td>0.037109</td>\n",
       "      <td>0.415625</td>\n",
       "    </tr>\n",
       "    <tr>\n",
       "      <th>C00062,C00792</th>\n",
       "      <td>0.037109</td>\n",
       "      <td>0.415625</td>\n",
       "    </tr>\n",
       "  </tbody>\n",
       "</table>\n",
       "</div>"
      ],
      "text/plain": [
       "                       pvalues  corrected_pvalues\n",
       "C00334                0.001953           0.218750\n",
       "C00022                0.013672           0.282912\n",
       "C00186,C00256,C01432  0.005859           0.282912\n",
       "C00049,C00402,C16433  0.009766           0.282912\n",
       "C00327                0.013672           0.282912\n",
       "C00008                0.015156           0.282912\n",
       "C00025,C00217,C00302  0.037109           0.415625\n",
       "C00093                0.037109           0.415625\n",
       "C00065,C00716,C00740  0.037109           0.415625\n",
       "C00062,C00792         0.037109           0.415625"
      ]
     },
     "execution_count": 1,
     "metadata": {},
     "output_type": "execute_result"
    }
   ],
   "source": [
    "kuwabara_md = pd.read_table(\n",
    "    os.path.join(data_dir, 'Kuwabara2013', 'plasma_sample_metadata.txt'), \n",
    "    index_col=0, comment='#')\n",
    "kuwabara_table = biom.load_table('../sfari/data/metabolomics/Kuwabara2013/plasma.biom')\n",
    "kuwabara_table = kuwabara_table.to_dataframe().T\n",
    "\n",
    "pvalues = paired_test(kuwabara_table, \n",
    "                      kuwabara_md['Match_IDs'], \n",
    "                      kuwabara_md['Status'], reference='Control', \n",
    "                      func=wilcoxon)\n",
    "pvalues.sort_values('corrected_pvalues').head(10)"
   ]
  },
  {
   "cell_type": "code",
   "execution_count": 12,
   "id": "3a5b169b",
   "metadata": {
    "execution": {
     "iopub.execute_input": "2021-08-14T19:50:31.890520Z",
     "iopub.status.busy": "2021-08-14T19:50:31.888741Z",
     "iopub.status.idle": "2021-08-14T19:50:31.894567Z",
     "shell.execute_reply": "2021-08-14T19:50:31.894281Z"
    }
   },
   "outputs": [],
   "source": [
    "pairs = []\n",
    "for i, x in enumerate(pvalues.index):\n",
    "    for k in x.split(','):\n",
    "        pairs.append((i, k))\n",
    "\n",
    "pairs = pd.DataFrame(pairs, columns=['idx', 'KEGG'])\n",
    "pvalues = pvalues.reset_index()\n",
    "pvalues = pd.merge(pvalues, pairs, left_index=True, right_on='idx')\n",
    "pvalues = pvalues[pvalues.pvalues < 0.05]\n",
    "pvalues.to_csv('../results/metabolomics/kuwabara2013_plasma_pvalues.csv')"
   ]
  },
  {
   "cell_type": "code",
   "execution_count": 13,
   "id": "2d3dc43d",
   "metadata": {
    "execution": {
     "iopub.execute_input": "2021-08-14T19:50:31.913523Z",
     "iopub.status.busy": "2021-08-14T19:50:31.913183Z",
     "iopub.status.idle": "2021-08-14T19:50:31.940071Z",
     "shell.execute_reply": "2021-08-14T19:50:31.939822Z"
    }
   },
   "outputs": [
    {
     "data": {
      "text/html": [
       "<div>\n",
       "<style scoped>\n",
       "    .dataframe tbody tr th:only-of-type {\n",
       "        vertical-align: middle;\n",
       "    }\n",
       "\n",
       "    .dataframe tbody tr th {\n",
       "        vertical-align: top;\n",
       "    }\n",
       "\n",
       "    .dataframe thead th {\n",
       "        text-align: right;\n",
       "    }\n",
       "</style>\n",
       "<table border=\"1\" class=\"dataframe\">\n",
       "  <thead>\n",
       "    <tr style=\"text-align: right;\">\n",
       "      <th></th>\n",
       "      <th>pvalues</th>\n",
       "      <th>corrected_pvalues</th>\n",
       "    </tr>\n",
       "  </thead>\n",
       "  <tbody>\n",
       "    <tr>\n",
       "      <th>C00049,C00402,C16433</th>\n",
       "      <td>0.000384</td>\n",
       "      <td>0.043038</td>\n",
       "    </tr>\n",
       "    <tr>\n",
       "      <th>C00327</th>\n",
       "      <td>0.002293</td>\n",
       "      <td>0.128419</td>\n",
       "    </tr>\n",
       "    <tr>\n",
       "      <th>C00186,C00256,C01432</th>\n",
       "      <td>0.003642</td>\n",
       "      <td>0.135978</td>\n",
       "    </tr>\n",
       "    <tr>\n",
       "      <th>C00008</th>\n",
       "      <td>0.006033</td>\n",
       "      <td>0.138060</td>\n",
       "    </tr>\n",
       "    <tr>\n",
       "      <th>C00022</th>\n",
       "      <td>0.007010</td>\n",
       "      <td>0.138060</td>\n",
       "    </tr>\n",
       "    <tr>\n",
       "      <th>C00334</th>\n",
       "      <td>0.008545</td>\n",
       "      <td>0.138060</td>\n",
       "    </tr>\n",
       "    <tr>\n",
       "      <th>C00025,C00217,C00302</th>\n",
       "      <td>0.008629</td>\n",
       "      <td>0.138060</td>\n",
       "    </tr>\n",
       "    <tr>\n",
       "      <th>C00062,C00792</th>\n",
       "      <td>0.010567</td>\n",
       "      <td>0.147937</td>\n",
       "    </tr>\n",
       "    <tr>\n",
       "      <th>C00002</th>\n",
       "      <td>0.017492</td>\n",
       "      <td>0.217673</td>\n",
       "    </tr>\n",
       "    <tr>\n",
       "      <th>C01601</th>\n",
       "      <td>0.060612</td>\n",
       "      <td>0.605080</td>\n",
       "    </tr>\n",
       "  </tbody>\n",
       "</table>\n",
       "</div>"
      ],
      "text/plain": [
       "                       pvalues  corrected_pvalues\n",
       "C00049,C00402,C16433  0.000384           0.043038\n",
       "C00327                0.002293           0.128419\n",
       "C00186,C00256,C01432  0.003642           0.135978\n",
       "C00008                0.006033           0.138060\n",
       "C00022                0.007010           0.138060\n",
       "C00334                0.008545           0.138060\n",
       "C00025,C00217,C00302  0.008629           0.138060\n",
       "C00062,C00792         0.010567           0.147937\n",
       "C00002                0.017492           0.217673\n",
       "C01601                0.060612           0.605080"
      ]
     },
     "execution_count": 1,
     "metadata": {},
     "output_type": "execute_result"
    }
   ],
   "source": [
    "pvalues = standard_test(kuwabara_table, \n",
    "                        kuwabara_md['Status'], reference='Control', \n",
    "                        func=mannwhitneyu)\n",
    "pvalues.sort_values('pvalues').head(10)"
   ]
  },
  {
   "cell_type": "markdown",
   "id": "8bdb269d",
   "metadata": {},
   "source": [
    "## Kang 2020\n",
    "\n",
    "Relevant paper https://pubmed.ncbi.nlm.nih.gov/33087514/"
   ]
  },
  {
   "cell_type": "code",
   "execution_count": 14,
   "id": "d0e5730b",
   "metadata": {
    "execution": {
     "iopub.execute_input": "2021-08-14T19:50:31.942527Z",
     "iopub.status.busy": "2021-08-14T19:50:31.942248Z",
     "iopub.status.idle": "2021-08-14T19:50:31.997075Z",
     "shell.execute_reply": "2021-08-14T19:50:31.997316Z"
    }
   },
   "outputs": [
    {
     "name": "stderr",
     "output_type": "stream",
     "text": [
      "/mnt/home/jmorton/miniconda3/envs/qiime2-2021.4/lib/python3.8/site-packages/scipy/stats/morestats.py:2967: UserWarning: Exact p-value calculation does not work if there are ties. Switching to normal approximation.\n",
      "  warnings.warn(\"Exact p-value calculation does not work if there are \"\n",
      "/mnt/home/jmorton/miniconda3/envs/qiime2-2021.4/lib/python3.8/site-packages/scipy/stats/morestats.py:2981: UserWarning: Sample size too small for normal approximation.\n",
      "  warnings.warn(\"Sample size too small for normal approximation.\")\n"
     ]
    },
    {
     "data": {
      "text/html": [
       "<div>\n",
       "<style scoped>\n",
       "    .dataframe tbody tr th:only-of-type {\n",
       "        vertical-align: middle;\n",
       "    }\n",
       "\n",
       "    .dataframe tbody tr th {\n",
       "        vertical-align: top;\n",
       "    }\n",
       "\n",
       "    .dataframe thead th {\n",
       "        text-align: right;\n",
       "    }\n",
       "</style>\n",
       "<table border=\"1\" class=\"dataframe\">\n",
       "  <thead>\n",
       "    <tr style=\"text-align: right;\">\n",
       "      <th></th>\n",
       "      <th>pvalues</th>\n",
       "      <th>corrected_pvalues</th>\n",
       "    </tr>\n",
       "  </thead>\n",
       "  <tbody>\n",
       "    <tr>\n",
       "      <th>Isopropanol</th>\n",
       "      <td>0.019473</td>\n",
       "      <td>0.780492</td>\n",
       "    </tr>\n",
       "    <tr>\n",
       "      <th>Isovalerate</th>\n",
       "      <td>0.045993</td>\n",
       "      <td>0.780492</td>\n",
       "    </tr>\n",
       "    <tr>\n",
       "      <th>p-Cresol</th>\n",
       "      <td>0.050192</td>\n",
       "      <td>0.780492</td>\n",
       "    </tr>\n",
       "    <tr>\n",
       "      <th>Formate</th>\n",
       "      <td>0.054693</td>\n",
       "      <td>0.780492</td>\n",
       "    </tr>\n",
       "    <tr>\n",
       "      <th>Fumarate</th>\n",
       "      <td>0.075980</td>\n",
       "      <td>0.780492</td>\n",
       "    </tr>\n",
       "    <tr>\n",
       "      <th>Phenylacetate</th>\n",
       "      <td>0.082195</td>\n",
       "      <td>0.780492</td>\n",
       "    </tr>\n",
       "    <tr>\n",
       "      <th>Taurine</th>\n",
       "      <td>0.092601</td>\n",
       "      <td>0.780492</td>\n",
       "    </tr>\n",
       "    <tr>\n",
       "      <th>Lactate</th>\n",
       "      <td>0.111058</td>\n",
       "      <td>0.819054</td>\n",
       "    </tr>\n",
       "    <tr>\n",
       "      <th>Isobutyrate</th>\n",
       "      <td>0.167807</td>\n",
       "      <td>0.891491</td>\n",
       "    </tr>\n",
       "    <tr>\n",
       "      <th>Caprate</th>\n",
       "      <td>0.228986</td>\n",
       "      <td>0.891491</td>\n",
       "    </tr>\n",
       "  </tbody>\n",
       "</table>\n",
       "</div>"
      ],
      "text/plain": [
       "                pvalues  corrected_pvalues\n",
       "Isopropanol    0.019473           0.780492\n",
       "Isovalerate    0.045993           0.780492\n",
       "p-Cresol       0.050192           0.780492\n",
       "Formate        0.054693           0.780492\n",
       "Fumarate       0.075980           0.780492\n",
       "Phenylacetate  0.082195           0.780492\n",
       "Taurine        0.092601           0.780492\n",
       "Lactate        0.111058           0.819054\n",
       "Isobutyrate    0.167807           0.891491\n",
       "Caprate        0.228986           0.891491"
      ]
     },
     "execution_count": 1,
     "metadata": {},
     "output_type": "execute_result"
    }
   ],
   "source": [
    "kang_md = pd.read_table(\n",
    "    os.path.join(data_dir, 'Kang2018', 'fecal_sample_metadata.txt'), \n",
    "    index_col=0, comment='#')\n",
    "kang_table = biom.load_table('../sfari/data/metabolomics/Kang2018/fecal.biom')\n",
    "kang_table = kang_table.to_dataframe().T\n",
    "\n",
    "pvalues = paired_test(kang_table, \n",
    "                      kang_md['Match_IDs'], \n",
    "                      kang_md['Status'], reference='Neurotypical', \n",
    "                      func=wilcoxon)\n",
    "pvalues.sort_values('pvalues').head(10)"
   ]
  },
  {
   "cell_type": "code",
   "execution_count": 15,
   "id": "48e43c0e",
   "metadata": {
    "execution": {
     "iopub.execute_input": "2021-08-14T19:50:32.000991Z",
     "iopub.status.busy": "2021-08-14T19:50:31.999523Z",
     "iopub.status.idle": "2021-08-14T19:50:36.790279Z",
     "shell.execute_reply": "2021-08-14T19:50:36.789978Z"
    }
   },
   "outputs": [],
   "source": [
    "lookup = fetch_keggs_from_names(pvalues)\n",
    "lookup = pd.DataFrame(lookup, columns=['Compound_Name', 'KEGG'])\n",
    "pvalues = pd.merge(pvalues, lookup, left_index=True, right_on='Compound_Name')\n",
    "pvalues.to_csv('../results/metabolomics/kang2018_fecal_pvalues.csv')"
   ]
  },
  {
   "cell_type": "code",
   "execution_count": 16,
   "id": "599cc76c",
   "metadata": {
    "execution": {
     "iopub.execute_input": "2021-08-14T19:50:36.804162Z",
     "iopub.status.busy": "2021-08-14T19:50:36.803861Z",
     "iopub.status.idle": "2021-08-14T19:50:36.826444Z",
     "shell.execute_reply": "2021-08-14T19:50:36.826192Z"
    }
   },
   "outputs": [
    {
     "data": {
      "text/html": [
       "<div>\n",
       "<style scoped>\n",
       "    .dataframe tbody tr th:only-of-type {\n",
       "        vertical-align: middle;\n",
       "    }\n",
       "\n",
       "    .dataframe tbody tr th {\n",
       "        vertical-align: top;\n",
       "    }\n",
       "\n",
       "    .dataframe thead th {\n",
       "        text-align: right;\n",
       "    }\n",
       "</style>\n",
       "<table border=\"1\" class=\"dataframe\">\n",
       "  <thead>\n",
       "    <tr style=\"text-align: right;\">\n",
       "      <th></th>\n",
       "      <th>pvalues</th>\n",
       "      <th>corrected_pvalues</th>\n",
       "    </tr>\n",
       "  </thead>\n",
       "  <tbody>\n",
       "    <tr>\n",
       "      <th>Isopropanol</th>\n",
       "      <td>0.000490</td>\n",
       "      <td>0.028922</td>\n",
       "    </tr>\n",
       "    <tr>\n",
       "      <th>Lactate</th>\n",
       "      <td>0.007529</td>\n",
       "      <td>0.222107</td>\n",
       "    </tr>\n",
       "    <tr>\n",
       "      <th>Formate</th>\n",
       "      <td>0.014315</td>\n",
       "      <td>0.255129</td>\n",
       "    </tr>\n",
       "    <tr>\n",
       "      <th>p-Cresol</th>\n",
       "      <td>0.017297</td>\n",
       "      <td>0.255129</td>\n",
       "    </tr>\n",
       "    <tr>\n",
       "      <th>Isovalerate</th>\n",
       "      <td>0.051012</td>\n",
       "      <td>0.362669</td>\n",
       "    </tr>\n",
       "    <tr>\n",
       "      <th>Fumarate</th>\n",
       "      <td>0.053702</td>\n",
       "      <td>0.362669</td>\n",
       "    </tr>\n",
       "    <tr>\n",
       "      <th>Glycerol</th>\n",
       "      <td>0.056505</td>\n",
       "      <td>0.362669</td>\n",
       "    </tr>\n",
       "    <tr>\n",
       "      <th>Trimethylamine</th>\n",
       "      <td>0.056505</td>\n",
       "      <td>0.362669</td>\n",
       "    </tr>\n",
       "    <tr>\n",
       "      <th>Phenylacetate</th>\n",
       "      <td>0.065605</td>\n",
       "      <td>0.362669</td>\n",
       "    </tr>\n",
       "    <tr>\n",
       "      <th>Isobutyrate</th>\n",
       "      <td>0.065605</td>\n",
       "      <td>0.362669</td>\n",
       "    </tr>\n",
       "  </tbody>\n",
       "</table>\n",
       "</div>"
      ],
      "text/plain": [
       "                 pvalues  corrected_pvalues\n",
       "Isopropanol     0.000490           0.028922\n",
       "Lactate         0.007529           0.222107\n",
       "Formate         0.014315           0.255129\n",
       "p-Cresol        0.017297           0.255129\n",
       "Isovalerate     0.051012           0.362669\n",
       "Fumarate        0.053702           0.362669\n",
       "Glycerol        0.056505           0.362669\n",
       "Trimethylamine  0.056505           0.362669\n",
       "Phenylacetate   0.065605           0.362669\n",
       "Isobutyrate     0.065605           0.362669"
      ]
     },
     "execution_count": 1,
     "metadata": {},
     "output_type": "execute_result"
    }
   ],
   "source": [
    "pvalues = standard_test(kang_table, \n",
    "                        kang_md['Status'], reference='Neurotypical', \n",
    "                        func=mannwhitneyu)\n",
    "pvalues.sort_values('pvalues').head(10)"
   ]
  },
  {
   "cell_type": "markdown",
   "id": "df7e6490",
   "metadata": {},
   "source": [
    "# Compare against metabolic network from cross-sectional cohort."
   ]
  },
  {
   "cell_type": "code",
   "execution_count": 17,
   "id": "a6a7a4f5",
   "metadata": {
    "execution": {
     "iopub.execute_input": "2021-08-14T19:50:36.830420Z",
     "iopub.status.busy": "2021-08-14T19:50:36.829888Z",
     "iopub.status.idle": "2021-08-14T19:50:37.392155Z",
     "shell.execute_reply": "2021-08-14T19:50:37.392410Z"
    }
   },
   "outputs": [],
   "source": [
    "new_pos = pd.read_csv('../results/connected_compound_positions.csv', index_col=0)\n",
    "rna_compounds = pd.read_csv('../results/RNA_compounds.csv', index_col=0)\n",
    "wgs_compounds = pd.read_csv('../results/WGS_compounds.csv', index_col=0)\n",
    "amp_compounds = pd.read_csv('../results/16S_compounds.csv', index_col=0)\n",
    "\n",
    "rna_logpvals = rna_compounds[['Compound', '-log(pvalue)']].groupby('Compound').mean()\n",
    "wgs_logpvals = wgs_compounds[['Compound', '-log(pvalue)']].groupby('Compound').mean()\n",
    "amp_logpvals = amp_compounds[['Compound', '-log(pvalue)']].groupby('Compound').mean()\n",
    "\n",
    "wgs_pos = pd.merge(new_pos, wgs_logpvals, left_index=True, right_index=True)\n",
    "amp_pos = pd.merge(new_pos, amp_logpvals, left_index=True, right_index=True)\n",
    "rna_pos = pd.merge(new_pos, rna_logpvals, left_index=True, right_index=True)\n",
    "\n",
    "all_pos = pd.concat((wgs_pos, amp_pos, rna_pos))\n",
    "all_pos = all_pos.reset_index()\n",
    "all_pos = all_pos.groupby('index').mean()"
   ]
  },
  {
   "cell_type": "code",
   "execution_count": 18,
   "id": "c5b2a257",
   "metadata": {
    "execution": {
     "iopub.execute_input": "2021-08-14T19:50:37.396499Z",
     "iopub.status.busy": "2021-08-14T19:50:37.396202Z",
     "iopub.status.idle": "2021-08-14T19:50:37.416621Z",
     "shell.execute_reply": "2021-08-14T19:50:37.416381Z"
    }
   },
   "outputs": [],
   "source": [
    "# load all differential abundance tests\n",
    "noto_pvalues = pd.read_csv('../results/metabolomics/noto2014_urine_pvalues.csv', index_col=0)\n",
    "kuwabara_pvalues = pd.read_csv('../results/metabolomics/kuwabara2013_plasma_pvalues.csv', index_col=0)\n",
    "kang_plasma_pvalues = pd.read_csv('../results/metabolomics/kang2018_fecal_pvalues.csv', index_col=0)\n",
    "nd_fecal_pvalues = pd.read_csv('../results/metabolomics/needham2020_fecal_pvalues.csv', index_col=0)\n",
    "nd_plasma_pvalues = pd.read_csv('../results/metabolomics/needham2020_plasma_pvalues.csv', index_col=0)\n",
    "\n",
    "noto_pvalues['dataset'] = 'Noto'\n",
    "kuwabara_pvalues['dataset'] = 'Kuwabara'\n",
    "nd_fecal_pvalues['dataset'] = 'Needham'\n",
    "nd_plasma_pvalues['dataset'] = 'Needham'\n",
    "kang_plasma_pvalues['dataset'] = 'Kang'\n",
    "\n",
    "noto_pvalues['sample_type'] = 'Urine'\n",
    "kuwabara_pvalues['sample_type'] = 'Plasma'\n",
    "nd_fecal_pvalues['sample_type'] = 'Fecal'\n",
    "nd_plasma_pvalues['sample_type'] = 'Plasma'\n",
    "kang_plasma_pvalues['sample_type'] = 'Fecal'\n",
    "\n",
    "all_pvalues = pd.concat((noto_pvalues, kuwabara_pvalues, \n",
    "                         nd_fecal_pvalues, nd_plasma_pvalues, \n",
    "                         kang_plasma_pvalues))\n",
    "all_pvalues = all_pvalues[['pvalues', 'corrected_pvalues', 'Compound_Name', \n",
    "                           'KEGG', 'dataset', 'sample_type']]"
   ]
  },
  {
   "cell_type": "code",
   "execution_count": 19,
   "id": "896137b5",
   "metadata": {
    "execution": {
     "iopub.execute_input": "2021-08-14T19:50:37.428314Z",
     "iopub.status.busy": "2021-08-14T19:50:37.419820Z",
     "iopub.status.idle": "2021-08-14T19:50:37.505178Z",
     "shell.execute_reply": "2021-08-14T19:50:37.505421Z"
    }
   },
   "outputs": [
    {
     "data": {
      "image/png": "[encoded data removed]",
      "text/plain": [
       "<Figure size 432x288 with 1 Axes>"
      ]
     },
     "metadata": {},
     "output_type": "display_data"
    }
   ],
   "source": [
    "with plt.style.context('dark_background'):\n",
    "    venn2([set(all_pos.index), set(all_pvalues['KEGG'])], ['Cross sectional', 'Metabolomics'])"
   ]
  },
  {
   "cell_type": "code",
   "execution_count": 20,
   "id": "a186c30a",
   "metadata": {
    "execution": {
     "iopub.execute_input": "2021-08-14T19:50:37.508686Z",
     "iopub.status.busy": "2021-08-14T19:50:37.508410Z",
     "iopub.status.idle": "2021-08-14T19:50:37.512862Z",
     "shell.execute_reply": "2021-08-14T19:50:37.512624Z"
    }
   },
   "outputs": [],
   "source": [
    "all_pos = pd.merge(all_pvalues, all_pos, left_on='KEGG', right_index=True, how='right')\n",
    "all_pos = all_pos.set_index('KEGG')"
   ]
  },
  {
   "cell_type": "code",
   "execution_count": 21,
   "id": "27b7f6b2",
   "metadata": {
    "execution": {
     "iopub.execute_input": "2021-08-14T19:50:37.517745Z",
     "iopub.status.busy": "2021-08-14T19:50:37.517466Z",
     "iopub.status.idle": "2021-08-14T19:50:37.520344Z",
     "shell.execute_reply": "2021-08-14T19:50:37.520064Z"
    }
   },
   "outputs": [],
   "source": [
    "def pvalue_f(x):\n",
    "    if pd.isnull(x):\n",
    "        return 'Cross-sectional'\n",
    "    if x < 0.05:\n",
    "        return 'FDR significant'\n",
    "    else:\n",
    "        return 'Reported'\n",
    "all_pos['Signficance'] = all_pos.corrected_pvalues.apply(pvalue_f)\n",
    "sub_pos = all_pos.dropna(subset=['sample_type'])"
   ]
  },
  {
   "cell_type": "code",
   "execution_count": 22,
   "id": "31112eab",
   "metadata": {
    "execution": {
     "iopub.execute_input": "2021-08-14T19:50:37.535048Z",
     "iopub.status.busy": "2021-08-14T19:50:37.534758Z",
     "iopub.status.idle": "2021-08-14T19:50:37.662032Z",
     "shell.execute_reply": "2021-08-14T19:50:37.662274Z"
    }
   },
   "outputs": [
    {
     "data": {
      "image/png": "[encoded data removed]",
      "text/plain": [
       "<Figure size 432x288 with 1 Axes>"
      ]
     },
     "metadata": {},
     "output_type": "display_data"
    }
   ],
   "source": [
    "with plt.style.context('dark_background'):\n",
    "    fig, ax = plt.subplots()\n",
    "    ax.scatter(all_pos['0'], all_pos['1'], s=1, c='gray')\n",
    "    sns.scatterplot(data=sub_pos, x='0', y='1', hue='sample_type',\n",
    "                    s=20, palette='tab10', ax=ax)\n",
    "    ax.set_xlim([-0.11, 0.15])\n",
    "    ax.set_ylim([-0.11, 0.15])\n",
    "    ax.set_xticks([])\n",
    "    ax.set_yticks([])\n",
    "    ax.set_xlabel('')\n",
    "    ax.set_ylabel('')    "
   ]
  },
  {
   "cell_type": "code",
   "execution_count": 23,
   "id": "ca8d158d",
   "metadata": {
    "execution": {
     "iopub.execute_input": "2021-08-14T19:50:37.676938Z",
     "iopub.status.busy": "2021-08-14T19:50:37.676662Z",
     "iopub.status.idle": "2021-08-14T19:50:37.857744Z",
     "shell.execute_reply": "2021-08-14T19:50:37.857999Z"
    }
   },
   "outputs": [
    {
     "data": {
      "image/png": "[encoded data removed]",
      "text/plain": [
       "<Figure size 432x288 with 1 Axes>"
      ]
     },
     "metadata": {},
     "output_type": "display_data"
    }
   ],
   "source": [
    "with plt.style.context('dark_background'):\n",
    "    fig, ax = plt.subplots()\n",
    "    ax.scatter(all_pos['0'], all_pos['1'], s=1, c='gray')\n",
    "    sns.scatterplot(data=sub_pos, x='0', y='1', hue='dataset',\n",
    "                    s=20, palette='tab10', ax=ax)\n",
    "    ax.set_xlim([-0.11, 0.15])\n",
    "    ax.set_ylim([-0.11, 0.15])\n",
    "    ax.set_xticks([])\n",
    "    ax.set_yticks([])\n",
    "    ax.set_xlabel('')\n",
    "    ax.set_ylabel('')    "
   ]
  },
  {
   "cell_type": "code",
   "execution_count": null,
   "id": "73ab3d34",
   "metadata": {},
   "outputs": [],
   "source": []
  }
 ],
 "metadata": {
  "kernelspec": {
   "display_name": "Python 3",
   "language": "python",
   "name": "python3"
  },
  "language_info": {
   "codemirror_mode": {
    "name": "ipython",
    "version": 3
   },
   "file_extension": ".py",
   "mimetype": "text/x-python",
   "name": "python",
   "nbconvert_exporter": "python",
   "pygments_lexer": "ipython3",
   "version": "3.8.8"
  },
  "toc": {
   "base_numbering": 1,
   "nav_menu": {},
   "number_sections": true,
   "sideBar": true,
   "skip_h1_title": false,
   "title_cell": "Table of Contents",
   "title_sidebar": "Contents",
   "toc_cell": true,
   "toc_position": {},
   "toc_section_display": true,
   "toc_window_display": false
  }
 },
 "nbformat": 4,
 "nbformat_minor": 5
}
