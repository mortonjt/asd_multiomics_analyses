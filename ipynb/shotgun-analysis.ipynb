{
 "cells": [
  {
   "cell_type": "markdown",
   "id": "efad0b87",
   "metadata": {
    "toc": true
   },
   "source": [
    "<h1>Table of Contents<span class=\"tocSkip\"></span></h1>\n",
    "<div class=\"toc\"><ul class=\"toc-item\"><li><span><a href=\"#Pathway-analysis\" data-toc-modified-id=\"Pathway-analysis-1\"><span class=\"toc-item-num\">1&nbsp;&nbsp;</span>Pathway analysis</a></span></li><li><span><a href=\"#Pathway-aggregation\" data-toc-modified-id=\"Pathway-aggregation-2\"><span class=\"toc-item-num\">2&nbsp;&nbsp;</span>Pathway aggregation</a></span></li><li><span><a href=\"#Retrieve-compounds-and-pathways\" data-toc-modified-id=\"Retrieve-compounds-and-pathways-3\"><span class=\"toc-item-num\">3&nbsp;&nbsp;</span>Retrieve compounds and pathways</a></span></li></ul></div>"
   ]
  },
  {
   "cell_type": "code",
   "execution_count": 1,
   "id": "d6995d19",
   "metadata": {},
   "outputs": [],
   "source": [
    "import pandas as pd\n",
    "import numpy as np\n",
    "import biom\n",
    "import arviz as az\n",
    "from collections import defaultdict\n",
    "import matplotlib.pyplot as plt\n",
    "import matplotlib\n",
    "from scipy.spatial.distance import euclidean\n",
    "import seaborn as sns\n",
    "\n",
    "from util import ranking, btest, read_kegg_dict\n",
    "%matplotlib inline"
   ]
  },
  {
   "cell_type": "code",
   "execution_count": 2,
   "id": "5d20c9cf",
   "metadata": {},
   "outputs": [],
   "source": [
    "fname = '../sfari/data/sra_shotgun/Combined/age_sex_matched_posterior/differential_posterior.nc'\n",
    "posterior = az.from_netcdf(fname)\n",
    "\n",
    "name = 'Shotgun_combined'\n",
    "x = posterior['posterior']['diff'].to_dataframe().reset_index().pivot(\n",
    "    index='features', columns=['chain', 'draw'], values='diff')\n",
    "\n",
    "lr = ranking(x)"
   ]
  },
  {
   "cell_type": "code",
   "execution_count": 14,
   "id": "73e839a3",
   "metadata": {},
   "outputs": [
    {
     "data": {
      "image/png": "[encoded data removed]",
      "text/plain": [
       "<Figure size 432x288 with 1 Axes>"
      ]
     },
     "metadata": {},
     "output_type": "display_data"
    },
    {
     "data": {
      "text/plain": [
       "<Figure size 432x288 with 0 Axes>"
      ]
     },
     "metadata": {},
     "output_type": "display_data"
    }
   ],
   "source": [
    "genes = defaultdict()\n",
    "plt.style.use('dark_background')\n",
    "lr = lr.sort_values('effect_size')\n",
    "threshold = 1e-3 / len(lr)\n",
    "cond = np.logical_and(lr['pvalue'] < threshold, lr['effect_size'] > 0)\n",
    "genes[name] = lr.loc[cond]  # top ASD microbes\n",
    "genes[name] = genes[name].sort_values('effect_size')\n",
    "idx = np.arange(len(lr))\n",
    "lr = lr.sort_values('mean')\n",
    "cmap = matplotlib.cm.get_cmap('seismic')\n",
    "# norm = matplotlib.colors.Normalize(vmin=min(lr['prob_lr']), vmax=max(lr['prob_lr']))\n",
    "norm = matplotlib.colors.TwoSlopeNorm(\n",
    "    vmin=min(lr['prob_lr']), vcenter=0., vmax=max(lr['prob_lr']))\n",
    "lr['index'] = idx\n",
    "plt.fill_between(lr['index'], lr['5%'], lr['95%'], fc='b')\n",
    "idx = np.logical_and(lr['prob_lr'] > 0, lr['effect_size'] > 0)\n",
    "i = np.logical_and(lr['pvalue'] < threshold, idx)\n",
    "plt.fill_between(lr.loc[i, 'index'], lr.loc[i, '5%'], lr.loc[i, '95%'], fc='r')\n",
    "plt.plot(lr['index'], lr['mean'], c='c')\n",
    "plt.xlabel('Taxa', fontsize=18)\n",
    "plt.xticks([])\n",
    "plt.title(name, fontsize=18)\n",
    "plt.ylabel('log(ASD/Control) + K', labelpad=90, rotation=0, fontsize=14)\n",
    "#plt.colorbar(cbar)\n",
    "plt.show()\n",
    "plt.tight_layout()"
   ]
  },
  {
   "cell_type": "code",
   "execution_count": 4,
   "id": "5080ff7c",
   "metadata": {},
   "outputs": [
    {
     "data": {
      "text/plain": [
       "(False, 41.73885485826829, 422.33191282733804)"
      ]
     },
     "execution_count": 4,
     "metadata": {},
     "output_type": "execute_result"
    }
   ],
   "source": [
    "from q2_matchmaker._stats import hotelling_ttest, spherical_test\n",
    "spherical_test(x.values.T)"
   ]
  },
  {
   "cell_type": "markdown",
   "id": "4048ebe5",
   "metadata": {},
   "source": [
    "# Pathway analysis"
   ]
  },
  {
   "cell_type": "code",
   "execution_count": 5,
   "id": "2cd6f80e",
   "metadata": {},
   "outputs": [],
   "source": [
    "idx1 = lr['pvalue'] < 0.001 / len(lr) # boniferroni correction\n",
    "idx2 = np.logical_and(lr['prob_lr'] > 0, lr['effect_size'] > 0)\n",
    "idx3 = np.logical_and(lr['prob_lr'] < 0, lr['effect_size'] < 0)\n",
    "\n",
    "shotgun_asd = lr.loc[np.logical_and(idx1, idx2)]\n",
    "shotgun_con = lr.loc[np.logical_and(idx1, idx3)]"
   ]
  },
  {
   "cell_type": "code",
   "execution_count": 6,
   "id": "fb623457",
   "metadata": {},
   "outputs": [],
   "source": [
    "from biom import load_table\n",
    "from scipy.sparse import coo_matrix\n",
    "\n",
    "func_table = load_table('../sfari/data/sra_shotgun/Combined/table_func.biom')\n",
    "\n",
    "func_ids = func_table.ids(axis='observation')\n",
    "func_df = pd.DataFrame(list(map(lambda x: x.split('|'), func_ids)))\n",
    "\n",
    "# convert to sparse matrix for convenience\n",
    "func_df.columns = ['OGU', 'KEGG']\n",
    "func_df['count'] = 1\n",
    "ogus = list(set(func_df['OGU']))\n",
    "ogu_lookup = dict(zip(list(set(ogus)), range(len(ogus))))\n",
    "keggs = list(set(func_df['KEGG']))\n",
    "kegg_lookup = dict(zip(list(set(keggs)), range(len(keggs))))\n",
    "func_df['OGU_id'] = func_df['OGU'].apply(lambda x: ogu_lookup[x]).astype(np.int64)\n",
    "func_df['KEGG_id'] = func_df['KEGG'].apply(lambda x: kegg_lookup[x]).astype(np.int64)\n",
    "c, i, j = func_df['count'].values, func_df['OGU_id'].values, func_df['KEGG_id'].values\n",
    "data = coo_matrix((c, (i, j)))\n",
    "\n",
    "ko_ogu = pd.DataFrame(data.todense(), index=ogus, columns=keggs)\n",
    "\n",
    "# apparently OGUs don't always overlap with the stratified output\n",
    "shotgun_asd_idx = set(ko_ogu.index) & set(shotgun_asd.index)\n",
    "shotgun_con_idx = set(ko_ogu.index) & set(shotgun_con.index)\n",
    "\n",
    "asd_microbes = ko_ogu.loc[shotgun_asd_idx].index\n",
    "con_microbes = ko_ogu.loc[shotgun_con_idx].index\n",
    "\n",
    "kegg_con_WGS, kegg_asd_WGS = btest(\n",
    "    ko_ogu.reindex(asd_microbes).dropna(), \n",
    "    ko_ogu.reindex(con_microbes).dropna())    \n",
    "\n",
    "kegg_asd_WGS = kegg_asd_WGS.reset_index()\n",
    "kegg_asd_WGS.columns = ['KEGG', 'pvalue']\n",
    "kegg_asd_WGS['-log(pvalue)'] = -np.log(kegg_asd_WGS['pvalue'] + 1e-200)"
   ]
  },
  {
   "cell_type": "code",
   "execution_count": 7,
   "id": "064fb82f",
   "metadata": {},
   "outputs": [],
   "source": [
    "threshold = (0.001 / len(kegg_asd_WGS))\n",
    "kegg_asd_WGS = kegg_asd_WGS.loc[kegg_asd_WGS['pvalue'] < threshold]"
   ]
  },
  {
   "cell_type": "code",
   "execution_count": 8,
   "id": "f78e3552",
   "metadata": {},
   "outputs": [],
   "source": [
    "kegg_asd_WGS.to_csv('../results/WGS_KEGG.csv')"
   ]
  },
  {
   "cell_type": "markdown",
   "id": "712c6f40",
   "metadata": {},
   "source": [
    "# Pathway aggregation"
   ]
  },
  {
   "cell_type": "code",
   "execution_count": 9,
   "id": "052ab648",
   "metadata": {},
   "outputs": [],
   "source": [
    "kegg_dir = '../results/kegg'\n",
    "\n",
    "pwy2kegg = read_kegg_dict(f'{kegg_dir}/pathway-to-ko.txt', \n",
    "                          ['Pathway', 'KO'])\n",
    "\n",
    "pwy_name = pd.read_table(f'{kegg_dir}/pathway_name.txt', header=None)\n",
    "pwy_name.columns = ['Pathway', 'Name']\n",
    "pwy2kegg = pd.merge(pwy2kegg, pwy_name, left_on='Pathway', right_on='Pathway')\n",
    "\n",
    "lookup = {d: i for i, d in enumerate(pwy2kegg['Name'].value_counts().index)}\n",
    "pwy2kegg['ID'] = pwy2kegg['Name'].apply(lambda x: lookup[x])"
   ]
  },
  {
   "cell_type": "code",
   "execution_count": 10,
   "id": "3239b332",
   "metadata": {},
   "outputs": [],
   "source": [
    "sig_WGS = kegg_asd_WGS\n",
    "sig_WGS = pd.merge(pwy2kegg, sig_WGS, left_on='KO', right_on='KEGG').drop_duplicates()\n",
    "pwy2kegg = pwy2kegg.set_index('Pathway')"
   ]
  },
  {
   "cell_type": "code",
   "execution_count": 11,
   "id": "0ba39c1a",
   "metadata": {},
   "outputs": [
    {
     "data": {
      "text/plain": [
       "ABC transporters               186\n",
       "Two-component system           158\n",
       "Purine metabolism               75\n",
       "Quorum sensing                  66\n",
       "Pyruvate metabolism             55\n",
       "                              ... \n",
       "IL-17 signaling pathway          1\n",
       "Prolactin signaling pathway      1\n",
       "Viral carcinogenesis             1\n",
       "Yersinia infection               1\n",
       "Mineral absorption               1\n",
       "Name: Name, Length: 230, dtype: int64"
      ]
     },
     "execution_count": 11,
     "metadata": {},
     "output_type": "execute_result"
    }
   ],
   "source": [
    "sig_WGS['Name'].value_counts()"
   ]
  },
  {
   "cell_type": "raw",
   "id": "4690b067",
   "metadata": {},
   "source": [
    "from gneiss.sort import mean_niche_estimator\n",
    "n = 30\n",
    "sig_WGS_ = pd.pivot(sig_WGS, index='Pathway', columns='KO', values='-log(pvalue)').fillna(0)\n",
    "# focus on most representative pathways\n",
    "p2k = pwy2kegg.loc[sig_WGS_.index]\n",
    "pnames = sig_WGS['Name'].value_counts().head(n).index\n",
    "pwys = sig_WGS['Pathway'].value_counts().head(n).index\n",
    "sig_WGS_ = sig_WGS_.loc[pwys]\n",
    "sig_WGS_.index = pnames\n",
    "# Filter one-off genes\n",
    "sig_WGS_ = sig_WGS_.loc[:, sig_WGS_.sum(axis=0) > 3]\n",
    "\n",
    "# Make it look more pretty\n",
    "pwy2name = sig_WGS[['Name', 'ID']].set_index('Name').drop_duplicates()\n",
    "kegg_order = mean_niche_estimator(sig_WGS_, pwy2name.loc[sig_WGS_.index, 'ID'])\n",
    "kegg_order = kegg_order.dropna()\n",
    "kegg_order = kegg_order.sort_values()\n",
    "sig_WGS_ = sig_WGS_.loc[:, kegg_order.index]\n",
    "\n",
    "fig, ax = plt.subplots(figsize=(10, 10))\n",
    "sns.heatmap(sig_WGS_, ax=ax)\n",
    "\n",
    "#_ = plt.yticks(np.arange(len(sig_WGS_.index)), pnames)\n",
    "plt.xticks([])\n",
    "plt.xlabel('KEGG IDs', fontsize=14)\n",
    "plt.title('WGS pathways', fontsize=18)"
   ]
  },
  {
   "cell_type": "markdown",
   "id": "a56ab926",
   "metadata": {},
   "source": [
    "# Retrieve compounds and pathways"
   ]
  },
  {
   "cell_type": "code",
   "execution_count": 12,
   "id": "a292ba12",
   "metadata": {},
   "outputs": [],
   "source": [
    "pwy2compound = read_kegg_dict(f'{kegg_dir}/pathway-to-compound.txt', \n",
    "                              ['Pathway', 'Compound'])\n",
    "sig_WGS = pd.merge(sig_WGS, pwy2compound, left_on='Pathway', right_on='Pathway')\n",
    "sig_WGS.to_csv('../results/WGS_compounds.csv')"
   ]
  },
  {
   "cell_type": "code",
   "execution_count": 13,
   "id": "8fd02dbc",
   "metadata": {},
   "outputs": [
    {
     "data": {
      "text/plain": [
       "(125916, 8)"
      ]
     },
     "execution_count": 13,
     "metadata": {},
     "output_type": "execute_result"
    }
   ],
   "source": [
    "sig_WGS.shape"
   ]
  },
  {
   "cell_type": "code",
   "execution_count": null,
   "id": "c374f61a",
   "metadata": {},
   "outputs": [],
   "source": []
  }
 ],
 "metadata": {
  "kernelspec": {
   "display_name": "Python 3",
   "language": "python",
   "name": "python3"
  },
  "language_info": {
   "codemirror_mode": {
    "name": "ipython",
    "version": 3
   },
   "file_extension": ".py",
   "mimetype": "text/x-python",
   "name": "python",
   "nbconvert_exporter": "python",
   "pygments_lexer": "ipython3",
   "version": "3.8.8"
  },
  "toc": {
   "base_numbering": 1,
   "nav_menu": {},
   "number_sections": true,
   "sideBar": true,
   "skip_h1_title": false,
   "title_cell": "Table of Contents",
   "title_sidebar": "Contents",
   "toc_cell": true,
   "toc_position": {},
   "toc_section_display": true,
   "toc_window_display": false
  }
 },
 "nbformat": 4,
 "nbformat_minor": 5
}
