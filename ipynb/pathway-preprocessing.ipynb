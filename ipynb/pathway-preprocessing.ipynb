{
 "cells": [
  {
   "cell_type": "markdown",
   "id": "4e0a5b05",
   "metadata": {},
   "source": [
    "This notebook is necessary for the metabolic network visualization"
   ]
  },
  {
   "cell_type": "markdown",
   "id": "8be509f0",
   "metadata": {
    "toc": true
   },
   "source": [
    "<h1>Table of Contents<span class=\"tocSkip\"></span></h1>\n",
    "<div class=\"toc\"><ul class=\"toc-item\"><li><span><a href=\"#Map-top-quantities-to-pathways\" data-toc-modified-id=\"Map-top-quantities-to-pathways-1\"><span class=\"toc-item-num\">1&nbsp;&nbsp;</span>Map top quantities to pathways</a></span><ul class=\"toc-item\"><li><span><a href=\"#16S-KEGGs\" data-toc-modified-id=\"16S-KEGGs-1.1\"><span class=\"toc-item-num\">1.1&nbsp;&nbsp;</span>16S KEGGs</a></span></li><li><span><a href=\"#Shotgun-KEGGs\" data-toc-modified-id=\"Shotgun-KEGGs-1.2\"><span class=\"toc-item-num\">1.2&nbsp;&nbsp;</span>Shotgun KEGGs</a></span></li><li><span><a href=\"#RNAseq-KEGGs\" data-toc-modified-id=\"RNAseq-KEGGs-1.3\"><span class=\"toc-item-num\">1.3&nbsp;&nbsp;</span>RNAseq KEGGs</a></span></li><li><span><a href=\"#Summarize-pathway-information\" data-toc-modified-id=\"Summarize-pathway-information-1.4\"><span class=\"toc-item-num\">1.4&nbsp;&nbsp;</span>Summarize pathway information</a></span></li></ul></li><li><span><a href=\"#Map-KEGGs-to-compounds\" data-toc-modified-id=\"Map-KEGGs-to-compounds-2\"><span class=\"toc-item-num\">2&nbsp;&nbsp;</span>Map KEGGs to compounds</a></span><ul class=\"toc-item\"><li><span><a href=\"#16S\" data-toc-modified-id=\"16S-2.1\"><span class=\"toc-item-num\">2.1&nbsp;&nbsp;</span>16S</a></span></li><li><span><a href=\"#WGS\" data-toc-modified-id=\"WGS-2.2\"><span class=\"toc-item-num\">2.2&nbsp;&nbsp;</span>WGS</a></span></li><li><span><a href=\"#RNAseq\" data-toc-modified-id=\"RNAseq-2.3\"><span class=\"toc-item-num\">2.3&nbsp;&nbsp;</span>RNAseq</a></span></li></ul></li></ul></div>"
   ]
  },
  {
   "cell_type": "code",
   "execution_count": 1,
   "id": "0dbd2bfb",
   "metadata": {},
   "outputs": [],
   "source": [
    "# This block is just for importing the necessary libraries.  \n",
    "import os\n",
    "from collections import defaultdict\n",
    "# Numerical libraries\n",
    "import pandas as pd\n",
    "import numpy as np\n",
    "import biom\n",
    "import arviz as az\n",
    "from scipy.spatial.distance import euclidean\n",
    "# Plotting libraries\n",
    "import matplotlib.pyplot as plt\n",
    "import matplotlib\n",
    "import matplotlib.patches as mpatches\n",
    "import seaborn as sns\n",
    "from matplotlib_venn import venn2, venn3\n",
    "# custom utility and plotting functions\n",
    "from util import (extract_differentials, select_features, \n",
    "                  get_genomic_data, collapse_transcripts, \n",
    "                  aggregate_pathways,\n",
    "                  ranking, btest, log_pvalue, read_kegg_dict,\n",
    "                  ilr_transform_differentials,\n",
    "                  rename_clades, create_projection,\n",
    "                  match_all_differentials)\n",
    "from plot import (rankplot, networkplot, vectorplot)\n",
    "import random\n",
    "\n",
    "# directory paths\n",
    "amp_directory = '../sfari/data/sra/Combined'\n",
    "wgs_directory = '../sfari/data/sra_shotgun/Combined'\n",
    "rna_directory = '../sfari/data/recount3'\n",
    "kang_directory = '../sfari/data/sra/Kang2017'\n",
    "sepp_directory = '../sfari/data/sra/Kang2017/deblur/sepp'\n",
    "results_dir = '../results'\n",
    "kegg_dir = f'{results_dir}/kegg'\n",
    "hsa_dir = f'{results_dir}/hsa_kegg'\n",
    "np.random.seed(0)\n",
    "random.seed(0)\n",
    "%matplotlib inline"
   ]
  },
  {
   "cell_type": "code",
   "execution_count": 2,
   "id": "a926cf8a",
   "metadata": {},
   "outputs": [],
   "source": [
    "# load 16S, whole genome shotgun and RNAseq data\n",
    "posterior_name = os.path.join('age_sex_matched_posterior',\n",
    "                              'differential_posterior.nc')\n",
    "amp_fname = f'{amp_directory}/{posterior_name}'\n",
    "wgs_fname = f'{wgs_directory}/{posterior_name}'\n",
    "rna_fname = f'{rna_directory}/{posterior_name}'\n",
    "amp_diffs = extract_differentials(amp_fname)\n",
    "wgs_diffs = extract_differentials(wgs_fname)\n",
    "rna_diffs = extract_differentials(rna_fname)\n",
    "\n",
    "# Compute statistical tests for each data layer\n",
    "# Here, we will only focus on the top 5% of the features\n",
    "amp_stats = ranking(amp_diffs, reference_percentile=95)\n",
    "wgs_stats = ranking(wgs_diffs, reference_percentile=95)\n",
    "rna_stats = ranking(rna_diffs, reference_percentile=95)"
   ]
  },
  {
   "cell_type": "markdown",
   "id": "32837181",
   "metadata": {},
   "source": [
    "# Map top quantities to pathways\n",
    "\n",
    "We will take the taxa and transcripts that passed the thresholds and map them to KEGGs\n",
    "1. For 16S, we will pull out Picrust annotations and use a binomial test to perform a comparative genomics analysis\n",
    "2. For shotgun, we will use the Woltka stratification and apply the same binomial test\n",
    "3. For RNAseq, we will map Ensembl ids to Uniprot and then KEGG"
   ]
  },
  {
   "cell_type": "markdown",
   "id": "4efc0c0a",
   "metadata": {},
   "source": [
    "## 16S KEGGs"
   ]
  },
  {
   "cell_type": "raw",
   "id": "234e3619",
   "metadata": {},
   "source": [
    "# Perform binomial test on 16S data to determine uniquely identifying genes\n",
    "amp_con, amp_asd = select_features(amp_stats, alpha=0.1)\n",
    "ko_amp = pd.read_table(f'{amp_directory}/picrust2_out_pipeline/KO_predicted.tsv', \n",
    "                       index_col=0)\n",
    "kegg_con_amp = ko_amp.align(amp_con, axis=0, join='inner')[0]\n",
    "kegg_asd_amp = ko_amp.align(amp_asd, axis=0, join='inner')[0]\n",
    "# apply binomial test.  Use BH correction to get per-gene pvalues\n",
    "kegg_con_amp, kegg_asd_amp = btest(kegg_con_amp, kegg_asd_amp)\n",
    "kegg_asd_amp = log_pvalue(kegg_asd_amp, alpha=0.1)\n",
    "\n",
    "sig_amp = aggregate_pathways(\n",
    "    pathway_name_file=f'{kegg_dir}/pathway_name.txt',\n",
    "    pathway_to_ko_file=f'{kegg_dir}/pathway-to-ko.txt',\n",
    "    features=kegg_asd_amp\n",
    ")"
   ]
  },
  {
   "cell_type": "markdown",
   "id": "89826f5d",
   "metadata": {},
   "source": [
    "## Shotgun KEGGs"
   ]
  },
  {
   "cell_type": "code",
   "execution_count": 58,
   "id": "38f71826",
   "metadata": {},
   "outputs": [],
   "source": [
    "# Perform binomial test on shotgun metagenomics data\n",
    "# Place hard threshold to select top ASD associated microbes\n",
    "# Obtain presence-absence tables of microbes and their \n",
    "# corresponding KEGG genes in the shotgun data\n",
    "wgs_con, wgs_asd = select_features(wgs_stats, alpha=0.1)\n",
    "ko_ogu = get_genomic_data(f'{wgs_directory}/table_func.biom')\n",
    "kegg_con_wgs = ko_ogu.align(wgs_con, axis=0, join='inner')[0]\n",
    "kegg_asd_wgs = ko_ogu.align(wgs_asd, axis=0, join='inner')[0]\n",
    "\n",
    "#kegg_con_wgs, kegg_asd_wgs = btest(kegg_con_wgs, kegg_asd_wgs)\n",
    "#kegg_asd_wgs = log_pvalue(kegg_asd_wgs, alpha=0.1)\n",
    "\n",
    "# apply binomial test.  Use BH correction to get per-gene pvalues\n",
    "res = btest(kegg_con_wgs, kegg_asd_wgs, return_proportions=True)\n",
    "res = log_pvalue(res.reset_index().rename(columns={'pval': 'pvalue', 'index': 'KEGG'}))\n",
    "res = res.query(\"side == 'groupA'\")\n",
    "\n",
    "sig_wgs = aggregate_pathways(\n",
    "    pathway_name_file=f'{kegg_dir}/pathway_name.txt',\n",
    "    pathway_to_ko_file=f'{kegg_dir}/pathway-to-ko.txt',\n",
    "    features=res\n",
    ")"
   ]
  },
  {
   "cell_type": "markdown",
   "id": "fb285ed5",
   "metadata": {},
   "source": [
    "## RNAseq KEGGs"
   ]
  },
  {
   "cell_type": "code",
   "execution_count": 24,
   "id": "d2bc7e2b",
   "metadata": {},
   "outputs": [],
   "source": [
    "# Visualize KEGG counts for RNAseq data \n",
    "rna_con, rna_asd = select_features(rna_stats)\n",
    "fname = f'{rna_directory}/ensembl2kegg.txt'\n",
    "ensembl2ko = pd.read_table(fname, index_col=0)\n",
    "ensembl2ko = ensembl2ko.set_index('gene_stable_id')\n",
    "rna_asd = collapse_transcripts(rna_asd)\n",
    "kegg_asd_rna = pd.merge(ensembl2ko, rna_asd, \n",
    "                        left_index=True, right_index=True)\n",
    "kegg_asd_rna = kegg_asd_rna[['KO', 'pvalue']]\n",
    "kegg_asd_rna = kegg_asd_rna.groupby('KO').mean()\n",
    "kegg_asd_rna = log_pvalue(kegg_asd_rna, alpha=0.1)\n",
    "split_func = lambda x: x.split(':')[-1]\n",
    "#kegg_asd_rna['HSA'] = kegg_asd_rna['KEGG']\n",
    "kegg_asd_rna['KEGG'] = kegg_asd_rna['KO'].apply(split_func)\n",
    "\n",
    "sig_rna = aggregate_pathways(\n",
    "    pathway_name_file=f'{hsa_dir}/pathway_name.txt',\n",
    "    pathway_to_ko_file=f'{hsa_dir}/ko-to-pathway.txt',\n",
    "    features=kegg_asd_rna,\n",
    "    columns=['HSA', 'Pathway']\n",
    ")\n",
    "\n",
    "sig_rna = sig_rna.query(\"side == 'groupA'\")"
   ]
  },
  {
   "cell_type": "code",
   "execution_count": 35,
   "id": "32086fe7",
   "metadata": {},
   "outputs": [
    {
     "data": {
      "text/plain": [
       "<matplotlib_venn._common.VennDiagram at 0x155404414430>"
      ]
     },
     "execution_count": 35,
     "metadata": {},
     "output_type": "execute_result"
    },
    {
     "data": {
      "image/png": "[encoded data removed]",
      "text/plain": [
       "<Figure size 432x288 with 1 Axes>"
      ]
     },
     "metadata": {},
     "output_type": "display_data"
    }
   ],
   "source": [
    "# Venn diagram to visualize overlap\n",
    "venn2([#set(kegg_asd_amp.index), \n",
    "       set(kegg_asd_wgs.index), \n",
    "       set(kegg_asd_rna.index)], \n",
    "      set_labels=['WGS', 'RNAseq'])"
   ]
  },
  {
   "cell_type": "markdown",
   "id": "0f9de350",
   "metadata": {},
   "source": [
    "## Summarize pathway information"
   ]
  },
  {
   "cell_type": "code",
   "execution_count": 51,
   "id": "af894e9b",
   "metadata": {},
   "outputs": [],
   "source": [
    "#df1 = pd.DataFrame(kegg_asd_amp, columns=['KEGG'])\n",
    "df2 = pd.DataFrame(kegg_asd_wgs, columns=['KEGG'])\n",
    "df3 = pd.DataFrame(kegg_asd_rna, columns=['KEGG'])\n",
    "#df1['TYPE'] = '16S'\n",
    "df2['TYPE'] = 'Shotgun'\n",
    "df3['TYPE'] = 'RNAseq'\n",
    "sig_keggs = pd.concat((df2, df3), axis=0)"
   ]
  },
  {
   "cell_type": "code",
   "execution_count": 52,
   "id": "8eb437ff",
   "metadata": {},
   "outputs": [],
   "source": [
    "sig_keggs = sig_keggs.rename(columns={'KEGG': '#KEGG'})\n",
    "sig_keggs.to_csv('../results/WGS_RNAseq_keggs.txt', sep='\\t', index=None)"
   ]
  },
  {
   "cell_type": "markdown",
   "id": "a9624c12",
   "metadata": {},
   "source": [
    "# Map KEGGs to compounds"
   ]
  },
  {
   "cell_type": "markdown",
   "id": "0d21b43d",
   "metadata": {},
   "source": [
    "## 16S"
   ]
  },
  {
   "cell_type": "raw",
   "id": "65693acb",
   "metadata": {},
   "source": [
    "kegg_dir = '../results/kegg'\n",
    "pwy2kegg = read_kegg_dict(f'{kegg_dir}/pathway-to-ko.txt', \n",
    "                          ['Pathway', 'KO'])\n",
    "\n",
    "pwy_name = pd.read_table(f'{kegg_dir}/pathway_name.txt', header=None)\n",
    "pwy_name.columns = ['Pathway', 'Name']\n",
    "pwy2kegg = pd.merge(pwy2kegg, pwy_name, left_on='Pathway', right_on='Pathway')\n",
    "\n",
    "lookup = {d: i for i, d in enumerate(pwy2kegg['Name'].value_counts().index)}\n",
    "pwy2kegg['ID'] = pwy2kegg['Name'].apply(lambda x: lookup[x])\n",
    "\n",
    "sig_16S = kegg_asd_amp\n",
    "sig_16S = pd.merge(pwy2kegg, sig_16S, left_on='KO', right_on='KEGG').drop_duplicates()\n",
    "pwy2kegg = pwy2kegg.set_index('Pathway')\n",
    "\n",
    "pwy2compound = read_kegg_dict(f'{kegg_dir}/pathway-to-compound.txt', \n",
    "                              ['Pathway', 'Compound'])\n",
    "sig_16S = pd.merge(sig_16S, pwy2compound, left_on='Pathway', right_on='Pathway')\n",
    "sig_16S.to_csv('../results/16S_compounds.csv')"
   ]
  },
  {
   "cell_type": "markdown",
   "id": "605cfd5d",
   "metadata": {},
   "source": [
    "## WGS"
   ]
  },
  {
   "cell_type": "code",
   "execution_count": 90,
   "id": "16f5dc53",
   "metadata": {},
   "outputs": [],
   "source": [
    "kegg_dir = '../results/kegg'\n",
    "\n",
    "pwy2kegg = read_kegg_dict(f'{kegg_dir}/pathway-to-ko.txt', \n",
    "                          ['Pathway', 'KO'])\n",
    "\n",
    "pwy_name = pd.read_table(f'{kegg_dir}/pathway_name.txt', header=None)\n",
    "pwy_name.columns = ['Pathway', 'Name']\n",
    "pwy2kegg = pd.merge(pwy2kegg, pwy_name, left_on='Pathway', right_on='Pathway')\n",
    "\n",
    "lookup = {d: i for i, d in enumerate(pwy2kegg['Name'].value_counts().index)}\n",
    "pwy2kegg['ID'] = pwy2kegg['Name'].apply(lambda x: lookup[x])\n",
    "\n",
    "#sig_WGS = pd.merge(pwy2kegg, sig_wgs, left_on='KO', right_on='KEGG').drop_duplicates()\n",
    "pwy2kegg = pwy2kegg.set_index('Pathway')\n",
    "\n",
    "pwy2compound = read_kegg_dict(f'{kegg_dir}/pathway-to-compound.txt', \n",
    "                              ['Pathway', 'Compound'])\n",
    "sig_WGS = pd.merge(sig_wgs, pwy2compound, left_on='Pathway', right_on='Pathway')\n",
    "sig_WGS.to_csv('../results/WGS_compounds.csv')"
   ]
  },
  {
   "cell_type": "markdown",
   "id": "912b9d31",
   "metadata": {},
   "source": [
    "## RNAseq"
   ]
  },
  {
   "cell_type": "code",
   "execution_count": 87,
   "id": "48e4a135",
   "metadata": {},
   "outputs": [],
   "source": [
    "hsa_dir = '../results/hsa_kegg'\n",
    "\n",
    "pwy2kegg = read_kegg_dict(f'{hsa_dir}/ko-to-pathway.txt', \n",
    "                          ['HSA', 'Pathway'])\n",
    "\n",
    "pwy_name = pd.read_table(f'{hsa_dir}/pathway_name.txt', header=None)\n",
    "pwy_name.columns = ['Pathway', 'Name']\n",
    "pwy2kegg = pd.merge(pwy2kegg, pwy_name, left_on='Pathway', right_on='Pathway')\n",
    "lookup = {d: i for i, d in enumerate(pwy2kegg['Name'].value_counts().index)}\n",
    "pwy2kegg['ID'] = pwy2kegg['Name'].apply(lambda x: lookup[x])\n",
    "pwy2kegg = pwy2kegg.set_index('Pathway')\n",
    "\n",
    "#sig_RNA = pd.merge(pwy2kegg, sig_rna, left_on='HSA', right_on='HSA').drop_duplicates()\n",
    " \n",
    "pwy2compound = read_kegg_dict(f'{hsa_dir}/pathway-to-compound.txt', \n",
    "                              ['Pathway', 'Compound'])\n",
    "sig_RNA = pd.merge(sig_rna, pwy2compound, left_on='Pathway', right_on='Pathway')\n",
    "sig_RNA.to_csv('../results/RNA_compounds.csv')"
   ]
  },
  {
   "cell_type": "code",
   "execution_count": 89,
   "id": "e3c94eeb",
   "metadata": {},
   "outputs": [],
   "source": [
    "sig_wgs.to_csv('../results/supplemental_tables/Table_S11.csv')\n",
    "sig_rna.to_csv('../results/supplemental_tables/Table_S12.csv')"
   ]
  },
  {
   "cell_type": "code",
   "execution_count": null,
   "id": "30ce183c",
   "metadata": {},
   "outputs": [],
   "source": []
  }
 ],
 "metadata": {
  "kernelspec": {
   "display_name": "Python 3",
   "language": "python",
   "name": "python3"
  },
  "language_info": {
   "codemirror_mode": {
    "name": "ipython",
    "version": 3
   },
   "file_extension": ".py",
   "mimetype": "text/x-python",
   "name": "python",
   "nbconvert_exporter": "python",
   "pygments_lexer": "ipython3",
   "version": "3.8.8"
  },
  "toc": {
   "base_numbering": 1,
   "nav_menu": {},
   "number_sections": true,
   "sideBar": true,
   "skip_h1_title": false,
   "title_cell": "Table of Contents",
   "title_sidebar": "Contents",
   "toc_cell": true,
   "toc_position": {},
   "toc_section_display": true,
   "toc_window_display": false
  }
 },
 "nbformat": 4,
 "nbformat_minor": 5
}
