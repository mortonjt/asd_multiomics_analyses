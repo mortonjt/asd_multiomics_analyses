{
 "cells": [
  {
   "cell_type": "markdown",
   "id": "427e06e1",
   "metadata": {
    "toc": true
   },
   "source": [
    "<h1>Table of Contents<span class=\"tocSkip\"></span></h1>\n",
    "<div class=\"toc\"><ul class=\"toc-item\"><li><span><a href=\"#Concat-metadata-together\" data-toc-modified-id=\"Concat-metadata-together-1\"><span class=\"toc-item-num\">1&nbsp;&nbsp;</span>Concat metadata together</a></span></li></ul></div>"
   ]
  },
  {
   "cell_type": "code",
   "execution_count": 1,
   "id": "23d25418",
   "metadata": {},
   "outputs": [],
   "source": [
    "import pandas as pd\n",
    "import numpy as np\n",
    "import biom\n",
    "from biom.util import biom_open\n",
    "import matplotlib.pyplot as plt\n",
    "from q2_matchmaker._matching import _matchmaker\n",
    "import seaborn as sns\n",
    "%matplotlib inline"
   ]
  },
  {
   "cell_type": "code",
   "execution_count": 2,
   "id": "7bc4c780",
   "metadata": {},
   "outputs": [],
   "source": [
    "table1 = biom.load_table('Averina2020/bioms/ogus_func.biom')\n",
    "table2 = biom.load_table('Dan2020/bioms/ogus_func.biom')\n",
    "table3 = biom.load_table('PTHS/bioms/ogus_func.biom')\n",
    "table4 = biom.load_table('Wang2021/bioms/ogus_func.biom')\n",
    "\n",
    "# remove the read number from the samples\n",
    "table1_ids = dict(zip(table1.ids(), list(map(lambda x: x.split('_')[0], table1.ids()))))\n",
    "table2_ids = dict(zip(table2.ids(), list(map(lambda x: x.split('_')[0], table2.ids()))))\n",
    "table3_ids = dict(zip(table3.ids(), list(map(lambda x: x.split('_')[0], table3.ids()))))\n",
    "table4_ids = dict(zip(table4.ids(), list(map(lambda x: x.split('_')[0], table4.ids()))))\n",
    "\n",
    "table1.update_ids(table1_ids)\n",
    "table2.update_ids(table2_ids)\n",
    "table3.update_ids(table3_ids)\n",
    "table4.update_ids(table4_ids)\n",
    "\n",
    "# save the updated bioms\n",
    "from biom.util import biom_open\n",
    "with biom_open('Averina2020/bioms/ogus_func-corrected.biom', 'w') as f:\n",
    "    table1.to_hdf5(f, 'corrected')\n",
    "with biom_open('Dan2020/bioms/ogus_func-corrected.biom', 'w') as f:\n",
    "    table2.to_hdf5(f, 'corrected')\n",
    "with biom_open('PTHS/bioms/ogus_func-corrected.biom', 'w') as f:\n",
    "    table3.to_hdf5(f, 'corrected')\n",
    "with biom_open('Wang2021/bioms/ogus_func-corrected.biom', 'w') as f:\n",
    "    table4.to_hdf5(f, 'corrected')    "
   ]
  },
  {
   "cell_type": "code",
   "execution_count": 3,
   "id": "84220dcc",
   "metadata": {},
   "outputs": [],
   "source": [
    "# merge all of the biom tables together\n",
    "#table = table1.merge(table2).merge(table3).merge(table4)\n",
    "table = table1.merge(table2).merge(table4)\n",
    "with biom_open('Combined/table_func.biom', 'w') as f:\n",
    "    table.to_hdf5(f, 'ogus')"
   ]
  },
  {
   "cell_type": "markdown",
   "id": "62f78831",
   "metadata": {},
   "source": [
    "Correcting taxa tables"
   ]
  },
  {
   "cell_type": "code",
   "execution_count": 4,
   "id": "a7f05204",
   "metadata": {},
   "outputs": [
    {
     "data": {
      "text/plain": [
       "6145 x 74 <class 'biom.table.Table'> with 180222 nonzero entries (39% dense)"
      ]
     },
     "execution_count": 4,
     "metadata": {},
     "output_type": "execute_result"
    }
   ],
   "source": [
    "table1 = biom.load_table('Averina2020/bioms/ogus.biom')\n",
    "table2 = biom.load_table('Dan2020/bioms/ogus.biom')\n",
    "table3 = biom.load_table('PTHS/bioms/ogus.biom')\n",
    "table4 = biom.load_table('Wang2021/bioms/ogus.biom')\n",
    "\n",
    "# remove the read number from the samples\n",
    "table1_ids = dict(zip(table1.ids(), list(map(lambda x: x.split('_')[0], table1.ids()))))\n",
    "table2_ids = dict(zip(table2.ids(), list(map(lambda x: x.split('_')[0], table2.ids()))))\n",
    "table3_ids = dict(zip(table3.ids(), list(map(lambda x: x.split('_')[0], table3.ids()))))\n",
    "table4_ids = dict(zip(table4.ids(), list(map(lambda x: x.split('_')[0], table4.ids()))))\n",
    "\n",
    "table1.update_ids(table1_ids)\n",
    "table2.update_ids(table2_ids)\n",
    "table3.update_ids(table3_ids)\n",
    "table4.update_ids(table4_ids)"
   ]
  },
  {
   "cell_type": "code",
   "execution_count": 5,
   "id": "6ca13885",
   "metadata": {},
   "outputs": [],
   "source": [
    "# save the updated bioms\n",
    "from biom.util import biom_open\n",
    "with biom_open('Averina2020/bioms/ogus-corrected.biom', 'w') as f:\n",
    "    table1.to_hdf5(f, 'corrected')\n",
    "with biom_open('Dan2020/bioms/ogus-corrected.biom', 'w') as f:\n",
    "    table2.to_hdf5(f, 'corrected')\n",
    "with biom_open('PTHS/bioms/ogus-corrected.biom', 'w') as f:\n",
    "    table3.to_hdf5(f, 'corrected')\n",
    "with biom_open('Wang2021/bioms/ogus-corrected.biom', 'w') as f:\n",
    "    table4.to_hdf5(f, 'corrected')    "
   ]
  },
  {
   "cell_type": "markdown",
   "id": "b4e9f1c9",
   "metadata": {},
   "source": [
    "Fixing metadata"
   ]
  },
  {
   "cell_type": "code",
   "execution_count": 6,
   "id": "4fa02519",
   "metadata": {},
   "outputs": [],
   "source": [
    "md1 = pd.read_table('Averina2020/sample_metadata.txt')"
   ]
  },
  {
   "cell_type": "code",
   "execution_count": 10,
   "id": "88309d46",
   "metadata": {},
   "outputs": [],
   "source": [
    "md1 = pd.read_table('Averina2020/sample_metadata.txt')\n",
    "md1['Cohort'] = 'Averina2020'\n",
    "md1['Age'] = md1['Age (weeks)'] / 12. # months not weeks"
   ]
  },
  {
   "cell_type": "code",
   "execution_count": 11,
   "id": "90ac1e37",
   "metadata": {},
   "outputs": [],
   "source": [
    "# Dan2020\n",
    "md2 = pd.read_table('Dan2020/sample_metadata_JM.txt')\n",
    "md2['Cohort'] = 'Dan2020'\n",
    "md2['Sex'] = md2['Gender'].apply(lambda x: x.lower())\n",
    "# md2['Status'] = md2['Status'].apply(lambda x: lookup[x])"
   ]
  },
  {
   "cell_type": "code",
   "execution_count": 12,
   "id": "4df37b5f",
   "metadata": {},
   "outputs": [
    {
     "name": "stderr",
     "output_type": "stream",
     "text": [
      "<ipython-input-12-ab3fd1978e98>:32: SettingWithCopyWarning: \n",
      "A value is trying to be set on a copy of a slice from a DataFrame.\n",
      "Try using .loc[row_indexer,col_indexer] = value instead\n",
      "\n",
      "See the caveats in the documentation: https://pandas.pydata.org/pandas-docs/stable/user_guide/indexing.html#returning-a-view-versus-a-copy\n",
      "  md3['Match_IDs'] = md3['Match_IDs'].apply(lambda x: f'PTHS_{int(x)}')\n"
     ]
    }
   ],
   "source": [
    "# PTHS dataset\n",
    "ebi = pd.read_table('PTHS/ebi_experiment_accessions_study_10317_prep_6771.tsv')\n",
    "sra = pd.read_table('PTHS/SraRunTable.txt', sep=',')\n",
    "mapping = pd.merge(sra, ebi, left_on='Experiment', right_on='experiment_accession')\n",
    "mapping = mapping[['sample_name', 'experiment_accession', 'Run']]\n",
    "\n",
    "# Read in PTHS specific data to get diagnosis\n",
    "md3 = pd.read_table('PTHS/pths_study_specific_metadata.tsv', dtype=str)\n",
    "md3 = md3.set_index('#SampleID')\n",
    "md3 = md3.rename(columns={'age_years': 'Age', 'sex': 'Sex'})\n",
    "md3 = md3.loc[md3['Age'] != 'Missing: Not provided']\n",
    "md3 = md3.loc[md3['Sex'] != 'unspecified']\n",
    "md3['Age'] = md3['Age'].astype(np.float64)\n",
    "lookup = {'is_affected': 'ASD', 'is_not_affected': 'Control'}\n",
    "md3['Status'] = md3['pths_status'].apply(lambda x: lookup[x])\n",
    "pths_samples = set(md3.index[md3['pths_status'] == 'is_affected'])\n",
    "\n",
    "# Read in AG data to get better matchins\n",
    "md = pd.read_table('PTHS/sample_information_from_prep_6771.tsv')\n",
    "md['Status'] = md.sample_id.apply(lambda x: 'ASD' if x in pths_samples else 'Control')\n",
    "md = md.set_index('sample_id')\n",
    "\n",
    "md = md.loc[md['age_corrected'] != 'Not applicable']\n",
    "md = md.loc[md['age_corrected'] != 'Unspecified']\n",
    "md = md.loc[md['sex'] != 'Not applicable']\n",
    "md = md.loc[md['sex'] != 'Unspecified']\n",
    "md['Age'] = md['age_corrected'].astype(np.float64)\n",
    "md['Sex'] = md['sex']\n",
    "\n",
    "md['Match_IDs'] = _matchmaker(md, 'Status', ['Age', 'Sex'], [False, True])\n",
    "md3 = md.dropna(subset=['Match_IDs'])\n",
    "md3['Match_IDs'] = md3['Match_IDs'].apply(lambda x: f'PTHS_{int(x)}')\n",
    "# map sample names to SRA names\n",
    "md3 = pd.merge(md3, mapping, right_on='sample_name', left_index=True)\n",
    "md3 = md3.set_index('Run')\n",
    "md3['Cohort'] = 'PTHS'\n",
    "\n",
    "md3.to_csv('PTHS/sample_metadata.txt', sep='\\t')"
   ]
  },
  {
   "cell_type": "code",
   "execution_count": 13,
   "id": "db8db89b",
   "metadata": {},
   "outputs": [],
   "source": [
    "# Wang2020\n",
    "lookup = {'TD': 'Control', 'ASD': 'ASD'}\n",
    "md4 = pd.read_table('Wang2021/sample_metadata.txt', comment='#')\n",
    "md4['Status'] = md4['Group'].apply(lambda x: lookup[x])\n",
    "md4['Cohort'] = 'Wang2020'\n",
    "#md4['Age'] = md4['Sex']\n",
    "lookup = {'M': 'male', 'F': 'female'}\n",
    "md4['Sex'] = md4['Sex'].apply(lambda x: lookup[x])\n",
    "md4['Match_IDs'] = _matchmaker(md4, 'Status', ['Age', 'Sex'], [False, True])\n",
    "md4 = md4.dropna(subset=['Match_IDs'])\n",
    "md4['Match_IDs'] = md4['Match_IDs'].apply(lambda x: f'Wang2020_{int(x)}')"
   ]
  },
  {
   "cell_type": "markdown",
   "id": "e65c23f1",
   "metadata": {},
   "source": [
    "# Concat metadata together"
   ]
  },
  {
   "cell_type": "code",
   "execution_count": 14,
   "id": "3f1fead1",
   "metadata": {},
   "outputs": [],
   "source": [
    "md1 = md1.set_index('Run')\n",
    "md2 = md2.set_index('Run')\n",
    "md4 = md4.set_index('sampleid')\n",
    "\n",
    "md1.index.name = 'sampleid'\n",
    "md2.index.name = 'sampleid'\n",
    "md3.index.name = 'sampleid'\n",
    "md4.index.name = 'sampleid'\n",
    "\n",
    "#sample_md = pd.concat((md1, md2, md3, md4), axis=0)\n",
    "sample_md = pd.concat((md1, md2, md4), axis=0)\n",
    "\n",
    "# add _1 to the end, since we forgot to before ...\n",
    "#sample_md.index = list(map(lambda x : f'{x}_1', sample_md.index))"
   ]
  },
  {
   "cell_type": "code",
   "execution_count": 15,
   "id": "d9a1926a",
   "metadata": {},
   "outputs": [
    {
     "data": {
      "text/plain": [
       "<AxesSubplot:xlabel='Cohort', ylabel='Age'>"
      ]
     },
     "execution_count": 15,
     "metadata": {},
     "output_type": "execute_result"
    },
    {
     "data": {
      "image/png": "[encoded data removed]",
      "text/plain": [
       "<Figure size 432x288 with 1 Axes>"
      ]
     },
     "metadata": {
      "needs_background": "light"
     },
     "output_type": "display_data"
    }
   ],
   "source": [
    "sns.boxplot(data=sample_md, x='Cohort', y='Age', hue='Sex')"
   ]
  },
  {
   "cell_type": "code",
   "execution_count": 16,
   "id": "153ac59d",
   "metadata": {},
   "outputs": [],
   "source": [
    "# merge all of the biom tables together\n",
    "#table = table1.merge(table2).merge(table3).merge(table4)\n",
    "table = table1.merge(table2).merge(table4)"
   ]
  },
  {
   "cell_type": "code",
   "execution_count": 17,
   "id": "832adf78",
   "metadata": {},
   "outputs": [],
   "source": [
    "def match_f(table, metadata):\n",
    "    filter_f = lambda v, i, m: i in metadata.index\n",
    "    t = table.filter(filter_f, axis='sample')\n",
    "    md = metadata.loc[table.ids()]\n",
    "    return t, md\n",
    "table, sample_md = match_f(table, sample_md)"
   ]
  },
  {
   "cell_type": "code",
   "execution_count": 18,
   "id": "a033c88f",
   "metadata": {},
   "outputs": [],
   "source": [
    "filter_f = lambda v, i, m : np.sum(v>0) > 10\n",
    "table = table.filter(filter_f, axis='observation')"
   ]
  },
  {
   "cell_type": "code",
   "execution_count": 19,
   "id": "0a3209cc",
   "metadata": {},
   "outputs": [
    {
     "name": "stdout",
     "output_type": "stream",
     "text": [
      "-5.925738068259232 1.9213061513708019\n"
     ]
    }
   ],
   "source": [
    "from skbio.stats.composition import closure\n",
    "mat = np.array(table.matrix_data.todense())\n",
    "pmat = closure(mat)\n",
    "logmat = np.ma.log(pmat)\n",
    "data = logmat.ravel()\n",
    "data = data[~data.mask]\n",
    "print(data.ravel().mean(), data.ravel().std())\n",
    "#sns.distplot(data)"
   ]
  },
  {
   "cell_type": "code",
   "execution_count": 20,
   "id": "a0d6e21c",
   "metadata": {},
   "outputs": [],
   "source": [
    "with biom_open('Combined/ogus_table.biom', 'w') as f:\n",
    "    table.to_hdf5(f, 'ogus')\n",
    "sample_md.to_csv('Combined/sample_metadata.txt', sep='\\t')"
   ]
  },
  {
   "cell_type": "code",
   "execution_count": 21,
   "id": "f621c98a",
   "metadata": {},
   "outputs": [],
   "source": [
    "asd_df = pd.Series(table.sum(axis='observation'), index=table.ids(axis='observation'))"
   ]
  },
  {
   "cell_type": "code",
   "execution_count": 22,
   "id": "27376c3d",
   "metadata": {},
   "outputs": [
    {
     "data": {
      "text/plain": [
       "count    4.410000e+03\n",
       "mean     2.130617e+06\n",
       "std      1.897200e+07\n",
       "min      1.300000e+01\n",
       "25%      1.720000e+02\n",
       "50%      1.587000e+03\n",
       "75%      3.753225e+04\n",
       "max      7.238253e+08\n",
       "dtype: float64"
      ]
     },
     "execution_count": 22,
     "metadata": {},
     "output_type": "execute_result"
    }
   ],
   "source": [
    "asd_df.describe()"
   ]
  },
  {
   "cell_type": "code",
   "execution_count": 23,
   "id": "b86f9b6a",
   "metadata": {},
   "outputs": [
    {
     "name": "stderr",
     "output_type": "stream",
     "text": [
      "/mnt/home/jmorton/miniconda3/envs/qiime2-2021.4/lib/python3.8/site-packages/seaborn/distributions.py:2557: FutureWarning: `distplot` is a deprecated function and will be removed in a future version. Please adapt your code to use either `displot` (a figure-level function with similar flexibility) or `histplot` (an axes-level function for histograms).\n",
      "  warnings.warn(msg, FutureWarning)\n"
     ]
    },
    {
     "data": {
      "text/plain": [
       "<AxesSubplot:ylabel='Density'>"
      ]
     },
     "execution_count": 23,
     "metadata": {},
     "output_type": "execute_result"
    },
    {
     "data": {
      "image/png": "[encoded data removed]",
      "text/plain": [
       "<Figure size 432x288 with 1 Axes>"
      ]
     },
     "metadata": {
      "needs_background": "light"
     },
     "output_type": "display_data"
    }
   ],
   "source": [
    "sns.distplot(np.log10(asd_df.values))"
   ]
  },
  {
   "cell_type": "code",
   "execution_count": 24,
   "id": "f435a365",
   "metadata": {},
   "outputs": [
    {
     "data": {
      "text/plain": [
       "count    4.410000e+03\n",
       "mean     2.130617e+06\n",
       "std      1.897200e+07\n",
       "min      1.300000e+01\n",
       "25%      1.720000e+02\n",
       "50%      1.587000e+03\n",
       "75%      3.753225e+04\n",
       "max      7.238253e+08\n",
       "dtype: float64"
      ]
     },
     "execution_count": 24,
     "metadata": {},
     "output_type": "execute_result"
    }
   ],
   "source": [
    "asd_df.describe()"
   ]
  },
  {
   "cell_type": "markdown",
   "id": "10fb0462",
   "metadata": {},
   "source": [
    "Load diabetes and IBD datasets as well"
   ]
  },
  {
   "cell_type": "code",
   "execution_count": 25,
   "id": "e266567b",
   "metadata": {},
   "outputs": [],
   "source": [
    "ibd_biom = biom.load_table('../sra_ibd_wgs/Combined/combined.biom')\n",
    "dia_biom = biom.load_table('/mnt/home/jmorton/research/SPARK-autism/sfari/data/diaimmune/table.biom')\n",
    "\n",
    "ibd_df = pd.Series(ibd_biom.sum(axis='observation'), index=ibd_biom.ids(axis='observation'))\n",
    "dia_df = pd.Series(dia_biom.sum(axis='observation'), index=dia_biom.ids(axis='observation'))"
   ]
  },
  {
   "cell_type": "code",
   "execution_count": 26,
   "id": "6041d27f",
   "metadata": {},
   "outputs": [
    {
     "name": "stderr",
     "output_type": "stream",
     "text": [
      "/mnt/home/jmorton/miniconda3/envs/qiime2-2021.4/lib/python3.8/site-packages/seaborn/distributions.py:2557: FutureWarning: `distplot` is a deprecated function and will be removed in a future version. Please adapt your code to use either `displot` (a figure-level function with similar flexibility) or `histplot` (an axes-level function for histograms).\n",
      "  warnings.warn(msg, FutureWarning)\n"
     ]
    },
    {
     "data": {
      "text/plain": [
       "<AxesSubplot:ylabel='Density'>"
      ]
     },
     "execution_count": 26,
     "metadata": {},
     "output_type": "execute_result"
    },
    {
     "data": {
      "image/png": "[encoded data removed]",
      "text/plain": [
       "<Figure size 432x288 with 1 Axes>"
      ]
     },
     "metadata": {
      "needs_background": "light"
     },
     "output_type": "display_data"
    }
   ],
   "source": [
    "sns.distplot(np.log10(ibd_df.values))"
   ]
  },
  {
   "cell_type": "code",
   "execution_count": 27,
   "id": "361d1346",
   "metadata": {},
   "outputs": [
    {
     "data": {
      "text/plain": [
       "count    5.795000e+03\n",
       "mean     1.718553e+05\n",
       "std      2.316669e+06\n",
       "min      1.000000e+00\n",
       "25%      6.000000e+00\n",
       "50%      5.200000e+01\n",
       "75%      6.355000e+02\n",
       "max      1.087263e+08\n",
       "dtype: float64"
      ]
     },
     "execution_count": 27,
     "metadata": {},
     "output_type": "execute_result"
    }
   ],
   "source": [
    "ibd_df.describe()"
   ]
  },
  {
   "cell_type": "code",
   "execution_count": 28,
   "id": "439c794d",
   "metadata": {},
   "outputs": [
    {
     "name": "stderr",
     "output_type": "stream",
     "text": [
      "/mnt/home/jmorton/miniconda3/envs/qiime2-2021.4/lib/python3.8/site-packages/seaborn/distributions.py:2557: FutureWarning: `distplot` is a deprecated function and will be removed in a future version. Please adapt your code to use either `displot` (a figure-level function with similar flexibility) or `histplot` (an axes-level function for histograms).\n",
      "  warnings.warn(msg, FutureWarning)\n"
     ]
    },
    {
     "data": {
      "text/plain": [
       "<AxesSubplot:ylabel='Density'>"
      ]
     },
     "execution_count": 28,
     "metadata": {},
     "output_type": "execute_result"
    },
    {
     "data": {
      "image/png": "[encoded data removed]",
      "text/plain": [
       "<Figure size 432x288 with 1 Axes>"
      ]
     },
     "metadata": {
      "needs_background": "light"
     },
     "output_type": "display_data"
    }
   ],
   "source": [
    "sns.distplot(np.log10(dia_df.values))"
   ]
  },
  {
   "cell_type": "code",
   "execution_count": 29,
   "id": "1c58688b",
   "metadata": {},
   "outputs": [
    {
     "data": {
      "text/plain": [
       "count    5.351000e+03\n",
       "mean     3.201365e+04\n",
       "std      3.992089e+05\n",
       "min      1.000000e+00\n",
       "25%      3.000000e+00\n",
       "50%      1.200000e+01\n",
       "75%      1.010000e+02\n",
       "max      1.348432e+07\n",
       "dtype: float64"
      ]
     },
     "execution_count": 29,
     "metadata": {},
     "output_type": "execute_result"
    }
   ],
   "source": [
    "dia_df.describe()"
   ]
  },
  {
   "cell_type": "code",
   "execution_count": 30,
   "id": "7ac341a1",
   "metadata": {},
   "outputs": [
    {
     "data": {
      "text/plain": [
       "Index(['1000562', '1000565', '1000569', '1002367', '1002804', '1003',\n",
       "       '1004149', '1004326', '100480', '1005057',\n",
       "       ...\n",
       "       '387092', '438753', '471853', '537971', '633149', '709032', '72293',\n",
       "       '754477', '76936', '92793'],\n",
       "      dtype='object', length=4410)"
      ]
     },
     "execution_count": 30,
     "metadata": {},
     "output_type": "execute_result"
    }
   ],
   "source": [
    "asd_df.index"
   ]
  },
  {
   "cell_type": "code",
   "execution_count": 31,
   "id": "c302d3a1",
   "metadata": {},
   "outputs": [],
   "source": [
    "## Fix IDs for diaimmune data\n",
    "taxonomy = pd.read_table('~/databases/wol/taxonomy/ranks.tsv', index_col=0)\n",
    "taxid = pd.read_table('~/databases/wol/taxonomy/taxid.map', header=None, dtype=str)\n",
    "taxid.columns = ['GOTU', 'genome']\n",
    "mapping = pd.merge(taxonomy, taxid, left_index=True, right_on='GOTU')\n",
    "lookup = mapping[['GOTU', 'genome']].set_index('GOTU')\n",
    "\n",
    "idx = np.array(list(map(lambda x: lookup.loc[x].values, dia_df.index))).ravel()\n",
    "dia_df.index = idx"
   ]
  },
  {
   "cell_type": "code",
   "execution_count": 32,
   "id": "fd1bd4a0",
   "metadata": {},
   "outputs": [],
   "source": [
    "idx = list(set(asd_df.index) | set(dia_df.index))\n",
    "df = ibd_df.reindex(index=idx).fillna(0)\n",
    "df.loc[asd_df.index] += asd_df\n",
    "df.loc[dia_df.index] += dia_df"
   ]
  },
  {
   "cell_type": "code",
   "execution_count": 33,
   "id": "7008110c",
   "metadata": {},
   "outputs": [
    {
     "name": "stderr",
     "output_type": "stream",
     "text": [
      "/mnt/home/jmorton/miniconda3/envs/qiime2-2021.4/lib/python3.8/site-packages/seaborn/distributions.py:2557: FutureWarning: `distplot` is a deprecated function and will be removed in a future version. Please adapt your code to use either `displot` (a figure-level function with similar flexibility) or `histplot` (an axes-level function for histograms).\n",
      "  warnings.warn(msg, FutureWarning)\n"
     ]
    },
    {
     "data": {
      "text/plain": [
       "Text(0.5, 0, 'log(total taxa counts)')"
      ]
     },
     "execution_count": 33,
     "metadata": {},
     "output_type": "execute_result"
    },
    {
     "data": {
      "image/png": "[encoded data removed]",
      "text/plain": [
       "<Figure size 432x288 with 1 Axes>"
      ]
     },
     "metadata": {
      "needs_background": "light"
     },
     "output_type": "display_data"
    }
   ],
   "source": [
    "sns.distplot(np.log10(df.values))\n",
    "plt.xlabel('log(total taxa counts)')"
   ]
  },
  {
   "cell_type": "code",
   "execution_count": 34,
   "id": "61237745",
   "metadata": {},
   "outputs": [
    {
     "data": {
      "text/plain": [
       "count    5.708000e+03\n",
       "mean     1.850352e+06\n",
       "std      1.929610e+07\n",
       "min      1.000000e+00\n",
       "25%      5.100000e+01\n",
       "50%      4.905000e+02\n",
       "75%      1.476425e+04\n",
       "max      8.460359e+08\n",
       "dtype: float64"
      ]
     },
     "execution_count": 34,
     "metadata": {},
     "output_type": "execute_result"
    }
   ],
   "source": [
    "df.describe()"
   ]
  },
  {
   "cell_type": "code",
   "execution_count": 35,
   "id": "897ef805",
   "metadata": {},
   "outputs": [],
   "source": [
    "df.to_csv('Combined/feature_counts.csv')"
   ]
  },
  {
   "cell_type": "code",
   "execution_count": 36,
   "id": "55ea26bd",
   "metadata": {},
   "outputs": [
    {
     "data": {
      "text/plain": [
       "398511      41.0\n",
       "306537      21.0\n",
       "243277       8.0\n",
       "160490     447.0\n",
       "242231      41.0\n",
       "           ...  \n",
       "484498       1.0\n",
       "477680       1.0\n",
       "1926284      5.0\n",
       "1926277     17.0\n",
       "1255658     20.0\n",
       "Length: 5351, dtype: float64"
      ]
     },
     "execution_count": 36,
     "metadata": {},
     "output_type": "execute_result"
    }
   ],
   "source": [
    "dia_df"
   ]
  },
  {
   "cell_type": "markdown",
   "id": "30a3680d",
   "metadata": {},
   "source": [
    "Let's fix the ids for the diaimmune data"
   ]
  },
  {
   "cell_type": "code",
   "execution_count": 37,
   "id": "51bdf35c",
   "metadata": {},
   "outputs": [],
   "source": [
    "l2 = lookup.reset_index().set_index('genome')\n",
    "l2 = l2[~l2.index.duplicated(keep='first')]\n",
    "l2 = l2.reset_index().set_index('GOTU')\n",
    "l2 = l2[~l2.index.duplicated(keep='first')]\n",
    "l2 = l2.loc[set(dia_biom.ids(axis='observation')) & set(list(l2.index))]\n",
    "\n",
    "l2 = l2.reset_index().set_index('GOTU')\n",
    "\n",
    "dia_biom.filter(l2.index, axis='observation')\n",
    "dia_biom.update_ids(l2['genome'].to_dict(), axis='observation', strict=False)\n",
    "\n",
    "with biom_open('/mnt/home/jmorton/research/SPARK-autism/sfari/data/diaimmune/table-corrected.biom', 'w') as f:\n",
    "    dia_biom.to_hdf5(f, 'WGS')"
   ]
  },
  {
   "cell_type": "code",
   "execution_count": 38,
   "id": "d58b3c08",
   "metadata": {},
   "outputs": [
    {
     "name": "stdout",
     "output_type": "stream",
     "text": [
      "106363_free.biom\t   cleanup.sh\r\n",
      "106364_per-gene.biom\t   diff_abs.sh\r\n",
      "106365_none.biom\t   formatted\r\n",
      "11882\t\t\t   intermediate\r\n",
      "12496\t\t\t   sample_information_from_prep_8810.tsv\r\n",
      "12496_20190524-184432.txt  sample_metadata.txt\r\n",
      "73074_otu_table.biom\t   table.biom\r\n",
      "74945_otu_table.biom\t   table-corrected.biom\r\n",
      "age_sex_matched_posterior\r\n"
     ]
    }
   ],
   "source": [
    "!ls /mnt/home/jmorton/research/SPARK-autism/sfari/data/diaimmune"
   ]
  },
  {
   "cell_type": "code",
   "execution_count": 39,
   "id": "fa4001d9",
   "metadata": {},
   "outputs": [
    {
     "data": {
      "text/html": [
       "<div>\n",
       "<style scoped>\n",
       "    .dataframe tbody tr th:only-of-type {\n",
       "        vertical-align: middle;\n",
       "    }\n",
       "\n",
       "    .dataframe tbody tr th {\n",
       "        vertical-align: top;\n",
       "    }\n",
       "\n",
       "    .dataframe thead th {\n",
       "        text-align: right;\n",
       "    }\n",
       "</style>\n",
       "<table border=\"1\" class=\"dataframe\">\n",
       "  <thead>\n",
       "    <tr style=\"text-align: right;\">\n",
       "      <th></th>\n",
       "      <th>genome</th>\n",
       "    </tr>\n",
       "    <tr>\n",
       "      <th>GOTU</th>\n",
       "      <th></th>\n",
       "    </tr>\n",
       "  </thead>\n",
       "  <tbody>\n",
       "    <tr>\n",
       "      <th>G000005825</th>\n",
       "      <td>398511</td>\n",
       "    </tr>\n",
       "    <tr>\n",
       "      <th>G000006175</th>\n",
       "      <td>456320</td>\n",
       "    </tr>\n",
       "    <tr>\n",
       "      <th>G000006605</th>\n",
       "      <td>306537</td>\n",
       "    </tr>\n",
       "    <tr>\n",
       "      <th>G000006725</th>\n",
       "      <td>160492</td>\n",
       "    </tr>\n",
       "    <tr>\n",
       "      <th>G000006745</th>\n",
       "      <td>243277</td>\n",
       "    </tr>\n",
       "    <tr>\n",
       "      <th>...</th>\n",
       "      <td>...</td>\n",
       "    </tr>\n",
       "    <tr>\n",
       "      <th>G900156675</th>\n",
       "      <td>484498</td>\n",
       "    </tr>\n",
       "    <tr>\n",
       "      <th>G900156765</th>\n",
       "      <td>477680</td>\n",
       "    </tr>\n",
       "    <tr>\n",
       "      <th>G900156885</th>\n",
       "      <td>1926284</td>\n",
       "    </tr>\n",
       "    <tr>\n",
       "      <th>G900156915</th>\n",
       "      <td>1926277</td>\n",
       "    </tr>\n",
       "    <tr>\n",
       "      <th>G900163845</th>\n",
       "      <td>1255658</td>\n",
       "    </tr>\n",
       "  </tbody>\n",
       "</table>\n",
       "<p>10575 rows × 1 columns</p>\n",
       "</div>"
      ],
      "text/plain": [
       "             genome\n",
       "GOTU               \n",
       "G000005825   398511\n",
       "G000006175   456320\n",
       "G000006605   306537\n",
       "G000006725   160492\n",
       "G000006745   243277\n",
       "...             ...\n",
       "G900156675   484498\n",
       "G900156765   477680\n",
       "G900156885  1926284\n",
       "G900156915  1926277\n",
       "G900163845  1255658\n",
       "\n",
       "[10575 rows x 1 columns]"
      ]
     },
     "execution_count": 39,
     "metadata": {},
     "output_type": "execute_result"
    }
   ],
   "source": [
    "lookup"
   ]
  },
  {
   "cell_type": "code",
   "execution_count": 40,
   "id": "ea3c9c7b",
   "metadata": {},
   "outputs": [
    {
     "data": {
      "text/plain": [
       "10575"
      ]
     },
     "execution_count": 40,
     "metadata": {},
     "output_type": "execute_result"
    }
   ],
   "source": [
    "len(set(lookup.index))"
   ]
  },
  {
   "cell_type": "code",
   "execution_count": 41,
   "id": "28bda0fb",
   "metadata": {},
   "outputs": [],
   "source": [
    "dia_biom.update_ids?"
   ]
  },
  {
   "cell_type": "code",
   "execution_count": null,
   "id": "9be7b2d6",
   "metadata": {},
   "outputs": [],
   "source": []
  }
 ],
 "metadata": {
  "kernelspec": {
   "display_name": "Python 3",
   "language": "python",
   "name": "python3"
  },
  "language_info": {
   "codemirror_mode": {
    "name": "ipython",
    "version": 3
   },
   "file_extension": ".py",
   "mimetype": "text/x-python",
   "name": "python",
   "nbconvert_exporter": "python",
   "pygments_lexer": "ipython3",
   "version": "3.8.8"
  },
  "toc": {
   "base_numbering": 1,
   "nav_menu": {},
   "number_sections": true,
   "sideBar": true,
   "skip_h1_title": false,
   "title_cell": "Table of Contents",
   "title_sidebar": "Contents",
   "toc_cell": true,
   "toc_position": {},
   "toc_section_display": true,
   "toc_window_display": false
  }
 },
 "nbformat": 4,
 "nbformat_minor": 5
}
