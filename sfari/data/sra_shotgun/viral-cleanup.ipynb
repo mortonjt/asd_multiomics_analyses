{
 "cells": [
  {
   "cell_type": "markdown",
   "id": "a60f1741",
   "metadata": {
    "toc": true
   },
   "source": [
    "<h1>Table of Contents<span class=\"tocSkip\"></span></h1>\n",
    "<div class=\"toc\"><ul class=\"toc-item\"></ul></div>"
   ]
  },
  {
   "cell_type": "code",
   "execution_count": 1,
   "id": "73398559",
   "metadata": {},
   "outputs": [],
   "source": [
    "import pandas as pd\n",
    "import numpy as np\n",
    "import biom\n",
    "from biom.util import biom_open\n",
    "import matplotlib.pyplot as plt\n",
    "from q2_matchmaker._matching import _matchmaker\n",
    "%matplotlib inline"
   ]
  },
  {
   "cell_type": "code",
   "execution_count": 2,
   "id": "d2468de1",
   "metadata": {},
   "outputs": [
    {
     "name": "stdout",
     "output_type": "stream",
     "text": [
      "ogus.biom\t     ogus_func-corrected.biom  species_func.biom\r\n",
      "ogus-corrected.biom  species.biom\t       virome.biom\r\n",
      "ogus_func.biom\t     species-corrected.biom\r\n"
     ]
    }
   ],
   "source": [
    "!ls Averina2020/bioms"
   ]
  },
  {
   "cell_type": "code",
   "execution_count": 3,
   "id": "8cfb5fb2",
   "metadata": {},
   "outputs": [],
   "source": [
    "table1 = biom.load_table('Averina2020/bioms/virome.biom')\n",
    "table2 = biom.load_table('Dan2020/bioms/virome.biom')\n",
    "table3 = biom.load_table('PTHS/bioms/virome.biom')\n",
    "table4 = biom.load_table('Wang2021/bioms/virome.biom')"
   ]
  },
  {
   "cell_type": "code",
   "execution_count": 4,
   "id": "a80c9c58",
   "metadata": {},
   "outputs": [],
   "source": [
    "md1 = pd.read_table('Averina2020/sample_metadata.txt')\n",
    "\n",
    "# Dan2020\n",
    "lookup = {'TD': 'Control', 'Autism': 'ASD'}\n",
    "md2 = pd.read_table('Dan2020/sample_metadata.txt')\n",
    "md2['Status'] = md2['Status'].apply(lambda x: lookup[x])\n",
    "\n",
    "# PTHS TODO need to fix metadata\n",
    "\n",
    "# Wang2020\n",
    "lookup = {'TD': 'Control', 'ASD': 'ASD'}\n",
    "md4 = pd.read_table('Wang2021/sample_metadata.txt', comment='#')\n",
    "md4['Status'] = md4['Group'].apply(lambda x: lookup[x])\n",
    "\n",
    "#md4['Age'] = md4['Sex']\n",
    "lookup = {'M': 'male', 'F': 'female'}\n",
    "md4['Sex'] = md4['Sex'].apply(lambda x: lookup[x])\n",
    "md4['Match_IDs'] = _matchmaker(md4, 'Status', ['Age', 'Sex'], [False, True])\n",
    "md4 = md4.dropna(subset=['Match_IDs'])\n",
    "md4['Match_IDs'] = md4['Match_IDs'].apply(lambda x: f'Wang2020_{int(x)}')"
   ]
  },
  {
   "cell_type": "code",
   "execution_count": 5,
   "id": "8308cdb6",
   "metadata": {},
   "outputs": [],
   "source": [
    "md1 = md1.set_index('Run')\n",
    "md2 = md2.set_index('SRA shotgun')\n",
    "md4 = md4.set_index('sampleid')\n",
    "\n",
    "md1.index.name = 'sampleid'\n",
    "md2.index.name = 'sampleid'\n",
    "md4.index.name = 'sampleid'\n",
    "\n",
    "sample_md = pd.concat((md1, md2, md4), axis=0)"
   ]
  },
  {
   "cell_type": "code",
   "execution_count": 6,
   "id": "be2a41e0",
   "metadata": {},
   "outputs": [],
   "source": [
    "# merge all of the biom tables together\n",
    "#table = table1.merge(table2).merge(table3).merge(table4)\n",
    "table = table1.merge(table2).merge(table4)"
   ]
  },
  {
   "cell_type": "code",
   "execution_count": 7,
   "id": "5e3cfd5a",
   "metadata": {},
   "outputs": [],
   "source": [
    "def match_f(table, metadata):\n",
    "    filter_f = lambda v, i, m: i in metadata.index\n",
    "    t = table.filter(filter_f, axis='sample')\n",
    "    md = metadata.loc[table.ids()]\n",
    "    return t, md\n",
    "table, sample_md = match_f(table, sample_md)"
   ]
  },
  {
   "cell_type": "code",
   "execution_count": 8,
   "id": "7979f00d",
   "metadata": {},
   "outputs": [],
   "source": [
    "with biom_open('Combined/viral_table.biom', 'w') as f:\n",
    "    table.to_hdf5(f, 'viruses')"
   ]
  },
  {
   "cell_type": "code",
   "execution_count": null,
   "id": "8e7e4c90",
   "metadata": {},
   "outputs": [],
   "source": []
  }
 ],
 "metadata": {
  "kernelspec": {
   "display_name": "Python 3",
   "language": "python",
   "name": "python3"
  },
  "language_info": {
   "codemirror_mode": {
    "name": "ipython",
    "version": 3
   },
   "file_extension": ".py",
   "mimetype": "text/x-python",
   "name": "python",
   "nbconvert_exporter": "python",
   "pygments_lexer": "ipython3",
   "version": "3.8.8"
  },
  "toc": {
   "base_numbering": 1,
   "nav_menu": {},
   "number_sections": true,
   "sideBar": true,
   "skip_h1_title": false,
   "title_cell": "Table of Contents",
   "title_sidebar": "Contents",
   "toc_cell": true,
   "toc_position": {},
   "toc_section_display": true,
   "toc_window_display": false
  }
 },
 "nbformat": 4,
 "nbformat_minor": 5
}
