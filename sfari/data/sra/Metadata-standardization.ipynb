{
 "cells": [
  {
   "cell_type": "markdown",
   "id": "f5a563c6",
   "metadata": {
    "toc": true
   },
   "source": [
    "<h1>Table of Contents<span class=\"tocSkip\"></span></h1>\n",
    "<div class=\"toc\"><ul class=\"toc-item\"><li><span><a href=\"#Merge-Age-/-Sex-tables-together\" data-toc-modified-id=\"Merge-Age-/-Sex-tables-together-1\"><span class=\"toc-item-num\">1&nbsp;&nbsp;</span>Merge Age / Sex tables together</a></span></li><li><span><a href=\"#Merge-Sibling-matched-tables\" data-toc-modified-id=\"Merge-Sibling-matched-tables-2\"><span class=\"toc-item-num\">2&nbsp;&nbsp;</span>Merge Sibling matched tables</a></span></li></ul></div>"
   ]
  },
  {
   "cell_type": "markdown",
   "id": "waiting-democracy",
   "metadata": {},
   "source": [
    "This notebook does a double check to make sure that all of the metadata has been standardized."
   ]
  },
  {
   "cell_type": "code",
   "execution_count": 1,
   "id": "formed-brand",
   "metadata": {},
   "outputs": [],
   "source": [
    "import glob\n",
    "import pandas as pd\n",
    "from gneiss.util import match\n",
    "import numpy as np\n",
    "\n",
    "# drop these studies, since they are lacking key data\n",
    "# Note that we are going to save Kang2017 for another analysis\n",
    "droplist = {'Liu2019', 'Liu2017', 'Pulikkan2018', 'Kang2017', 'Cao2021'} \n",
    "folders = glob.glob('*')\n",
    "folders = list(filter(lambda x: 'ipynb' not in x, folders))\n",
    "folders = list(filter(lambda x: 'Combined' not in x, folders))\n",
    "folders = list(filter(lambda x: 'Benchmarking' not in x, folders))\n",
    "folders = list(filter(lambda x: x not in droplist, folders))\n",
    "\n",
    "mds = list(map(lambda x: pd.read_table(f'{x}/sample_metadata.txt'), folders))\n",
    "for i in range(len(mds)):\n",
    "    mds[i] = mds[i].rename(columns={mds[i].columns[0]: 'sampleid'})\n",
    "    mds[i] = mds[i].set_index('sampleid')\n",
    "md_dict = dict(list(zip(folders, mds)))\n",
    "\n",
    "combined = pd.concat(mds, axis=0)\n",
    "cs = combined[['Age', 'Sex', 'Status', 'Control_Type', 'Cohort', 'Subjects_Location', 'Variable_Region', 'Match_IDs']]"
   ]
  },
  {
   "cell_type": "code",
   "execution_count": 2,
   "id": "collectible-vinyl",
   "metadata": {},
   "outputs": [
    {
     "name": "stdout",
     "output_type": "stream",
     "text": [
      "Fasano2020 V45 Age_Sex_Match ['ASD', 'Control']\n",
      "Chen2020 V34 Age_Sex_Match ['ASD', 'Control']\n",
      "Fouquier2021 V4 Age_Sex_Match ['ASD', 'Control']\n",
      "Son2015 V12 Sibling_Match ['ASD', 'Control']\n",
      "David2021 V4 Sibling_Match ['ASD', 'Control']\n",
      "Zurita2019 V4 Age_Sex_Match ['ASD', 'Control']\n",
      "Zou2020 V34 Age_Sex_Match ['ASD', 'Control']\n",
      "Dan2020 V4 Age_Sex_Match ['ASD', 'Control']\n",
      "Berding2020 V34 Age_Sex_Match ['ASD', 'Control']\n"
     ]
    }
   ],
   "source": [
    "for i, md in enumerate(mds):\n",
    "    print(md.Cohort[0], md.Variable_Region[0], md.Control_Type[0], sorted(list(md.Status.value_counts().index)))"
   ]
  },
  {
   "cell_type": "markdown",
   "id": "0e0f1bb9",
   "metadata": {},
   "source": [
    "# Merge Age / Sex tables together"
   ]
  },
  {
   "cell_type": "code",
   "execution_count": 3,
   "id": "59cf86ce",
   "metadata": {},
   "outputs": [],
   "source": [
    "from biom import load_table\n",
    "bioms = list(map(lambda x: load_table(f'{x}/deblur/all.biom'), folders))\n",
    "bioms = dict(list(zip(folders, bioms)))"
   ]
  },
  {
   "cell_type": "code",
   "execution_count": 4,
   "id": "exempt-aging",
   "metadata": {},
   "outputs": [
    {
     "name": "stdout",
     "output_type": "stream",
     "text": [
      "Fouquier2021 68\n",
      "Berding2020 52\n",
      "Zurita2019 44\n",
      "Dan2020 279\n",
      "Zou2020 78\n",
      "Chen2020 94\n",
      "Fasano2020 78\n"
     ]
    }
   ],
   "source": [
    "t = bioms['Chen2020']\n",
    "total = 0\n",
    "for f in list(set(folders) - set(['Son2015', 'David2021', 'Cao2021'])):\n",
    "    print(f, len(set(bioms[f].ids()) & set(md_dict[f].index)))\n",
    "    total += len(set(bioms[f].ids()) & set(md_dict[f].index))\n",
    "    if f != 'Chen2020':\n",
    "        t = t.merge(bioms[f])"
   ]
  },
  {
   "cell_type": "code",
   "execution_count": 5,
   "id": "31489366",
   "metadata": {},
   "outputs": [],
   "source": [
    "filter_f = lambda v, i, m: np.sum(v>0) > 10\n",
    "age_sex_biom = t.filter(filter_f, axis='observation')\n",
    "read_f = lambda v, i, m: np.sum(v) > 100\n",
    "age_sex_biom = age_sex_biom.filter(read_f, axis='sample')"
   ]
  },
  {
   "cell_type": "code",
   "execution_count": 6,
   "id": "b8d13967",
   "metadata": {},
   "outputs": [],
   "source": [
    "# drop singleton matches\n",
    "age_sex_biom, age_sex_md = match(age_sex_biom, cs)\n",
    "vc = age_sex_md['Match_IDs'].value_counts()\n",
    "drop_list = set(vc.loc[vc==2].index)\n",
    "idx = age_sex_md.Match_IDs.apply(lambda x: x in drop_list)\n",
    "age_sex_md = age_sex_md.loc[idx]\n",
    "age_sex_biom, age_sex_md = match(age_sex_biom, age_sex_md)"
   ]
  },
  {
   "cell_type": "code",
   "execution_count": 7,
   "id": "407f1ef3",
   "metadata": {},
   "outputs": [],
   "source": [
    "from biom.util import biom_open\n",
    "with biom_open('Combined/age_sex_matched.biom', 'w') as f:\n",
    "    age_sex_biom.to_hdf5(f, 'age_sex_matched')\n",
    "age_sex_md.to_csv('Combined/age_sex_match_metadata.txt', sep='\\t')"
   ]
  },
  {
   "cell_type": "code",
   "execution_count": 8,
   "id": "2188bf7b",
   "metadata": {},
   "outputs": [
    {
     "data": {
      "text/plain": [
       "(2655 x 692 <class 'biom.table.Table'> with 153983 nonzero entries (8% dense),\n",
       " (692, 8))"
      ]
     },
     "execution_count": 8,
     "metadata": {},
     "output_type": "execute_result"
    }
   ],
   "source": [
    "age_sex_biom, age_sex_md.shape"
   ]
  },
  {
   "cell_type": "markdown",
   "id": "5ab2e144",
   "metadata": {},
   "source": [
    "# Merge Sibling matched tables"
   ]
  },
  {
   "cell_type": "code",
   "execution_count": 9,
   "id": "5c1f3e85",
   "metadata": {},
   "outputs": [
    {
     "name": "stdout",
     "output_type": "stream",
     "text": [
      "Son2015 102\n",
      "David2021 136\n"
     ]
    }
   ],
   "source": [
    "t = bioms['Son2015']\n",
    "total = 0\n",
    "for f in ['Son2015', 'David2021']:\n",
    "    print(f, len(set(bioms[f].ids()) & set(md_dict[f].index)))\n",
    "    total += len(set(bioms[f].ids()) & set(md_dict[f].index))\n",
    "    if f != 'Son2015':\n",
    "        t = t.merge(bioms[f])"
   ]
  },
  {
   "cell_type": "code",
   "execution_count": 10,
   "id": "02cd3217",
   "metadata": {},
   "outputs": [],
   "source": [
    "filter_f = lambda v, i, m: np.sum(v>0) > 10\n",
    "sibling_biom = t.filter(filter_f, axis='observation')\n",
    "filter_f = lambda v, i, m: np.sum(v) > 100\n",
    "sibling_biom = sibling_biom.filter(filter_f, axis='sample')\n",
    "\n",
    "# drop singleton matches\n",
    "sibling_biom, sibling_md = match(sibling_biom, cs)\n",
    "vc = sibling_md['Match_IDs'].value_counts()\n",
    "drop_list = set(vc.loc[vc==2].index)\n",
    "idx = sibling_md.Match_IDs.apply(lambda x: x in drop_list)\n",
    "sibling_md = sibling_md.loc[idx]\n",
    "sibling_biom, sibling_md = match(sibling_biom, cs)"
   ]
  },
  {
   "cell_type": "code",
   "execution_count": 11,
   "id": "bc3eef66",
   "metadata": {},
   "outputs": [],
   "source": [
    "from biom.util import biom_open\n",
    "with biom_open('Combined/sibling_matched.biom', 'w') as f:\n",
    "    sibling_biom.to_hdf5(f, 'sibling_matched')\n",
    "sibling_md.to_csv('Combined/sibling_match_metadata.txt', sep='\\t')"
   ]
  },
  {
   "cell_type": "code",
   "execution_count": 12,
   "id": "9ececaa5",
   "metadata": {},
   "outputs": [
    {
     "data": {
      "text/plain": [
       "(1388 x 237 <class 'biom.table.Table'> with 46079 nonzero entries (14% dense),\n",
       " (237, 8))"
      ]
     },
     "execution_count": 12,
     "metadata": {},
     "output_type": "execute_result"
    }
   ],
   "source": [
    "sibling_biom, sibling_md.shape"
   ]
  },
  {
   "cell_type": "code",
   "execution_count": null,
   "id": "9a9a8eee",
   "metadata": {},
   "outputs": [],
   "source": []
  }
 ],
 "metadata": {
  "kernelspec": {
   "display_name": "Python 3",
   "language": "python",
   "name": "python3"
  },
  "language_info": {
   "codemirror_mode": {
    "name": "ipython",
    "version": 3
   },
   "file_extension": ".py",
   "mimetype": "text/x-python",
   "name": "python",
   "nbconvert_exporter": "python",
   "pygments_lexer": "ipython3",
   "version": "3.8.8"
  },
  "toc": {
   "base_numbering": 1,
   "nav_menu": {},
   "number_sections": true,
   "sideBar": true,
   "skip_h1_title": false,
   "title_cell": "Table of Contents",
   "title_sidebar": "Contents",
   "toc_cell": true,
   "toc_position": {},
   "toc_section_display": true,
   "toc_window_display": false
  }
 },
 "nbformat": 4,
 "nbformat_minor": 5
}
